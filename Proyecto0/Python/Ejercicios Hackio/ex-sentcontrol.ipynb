{
 "cells": [
  {
   "cell_type": "markdown",
   "metadata": {},
   "source": [
    "<div style=\"text-align: center;\">\n",
    "  <img src=\"https://github.com/Hack-io-Data/Imagenes/blob/main/01-LogosHackio/logo_celeste@4x.png?raw=true\" alt=\"logo hack(io)\" />\n",
    "</div>"
   ]
  },
  {
   "cell_type": "markdown",
   "metadata": {},
   "source": [
    "#### 1. Escribe un programa que determine si un número es par o impar.\n",
    "\n"
   ]
  },
  {
   "cell_type": "code",
   "execution_count": 3,
   "metadata": {},
   "outputs": [
    {
     "name": "stdout",
     "output_type": "stream",
     "text": [
      "El número es par\n"
     ]
    }
   ],
   "source": [
    "numero = int(input('Dame un número'))\n",
    "\n",
    "if numero % 2 == 0:\n",
    "    print('El número es par')\n",
    "else:\n",
    "    print('El número es impar')"
   ]
  },
  {
   "cell_type": "markdown",
   "metadata": {},
   "source": [
    "#### 2. Genera un programa que nos diga si es de noche, de día o tarde según la hora proporcionada por el usuario."
   ]
  },
  {
   "cell_type": "code",
   "execution_count": 8,
   "metadata": {},
   "outputs": [
    {
     "name": "stdout",
     "output_type": "stream",
     "text": [
      "Es de noche\n"
     ]
    }
   ],
   "source": [
    "hora = int(input('Dime la hora'))\n",
    "\n",
    "if 6 <= hora < 14:\n",
    "    print('Es de día')\n",
    "elif 14 < hora <= 20:\n",
    "    print('Es de tarde')\n",
    "elif 21 <= hora <= 23 or 0 <= hora < 6:\n",
    "    print('Es de noche')\n",
    "else:\n",
    "    print('No entiendo la hora')"
   ]
  },
  {
   "cell_type": "markdown",
   "metadata": {},
   "source": [
    "#### 3. Dado un nombre imprime un saludo personalizado."
   ]
  },
  {
   "cell_type": "code",
   "execution_count": 11,
   "metadata": {},
   "outputs": [
    {
     "name": "stdout",
     "output_type": "stream",
     "text": [
      "Hola Luis es un placer conocerte.\n"
     ]
    }
   ],
   "source": [
    "nombre = input('Cuál es tu nombre?')\n",
    "\n",
    "print('Hola', nombre, 'es un placer conocerte.')"
   ]
  },
  {
   "cell_type": "markdown",
   "metadata": {},
   "source": [
    "#### 4. Escribe un programa que determine qué calificación en texto tiene un alumno en base a su calificación numérica. Las reglas de calificación son: \n",
    "\n",
    "- 0 - 69 insuficiente\n",
    "\n",
    "- 70 - 79 bien\n",
    "\n",
    "- 80 - 89 muy bien\n",
    "\n",
    "- 90 - 100 excelente\n"
   ]
  },
  {
   "cell_type": "code",
   "execution_count": 12,
   "metadata": {},
   "outputs": [
    {
     "name": "stdout",
     "output_type": "stream",
     "text": [
      "Nota bien\n"
     ]
    }
   ],
   "source": [
    "calificación = int(input('Dime cuál ha sido tu calificación'))\n",
    "\n",
    "if 0 < calificación <= 69:\n",
    "    print('Nota insuficiente')\n",
    "elif 70 <= calificación <= 79:\n",
    "    print('Nota bien')\n",
    "elif 80 <= calificación <= 89:\n",
    "    print('Nota muy bien')\n",
    "elif 90 <= calificación <= 100:\n",
    "    print('Nota excelente')\n",
    "else:\n",
    "    print('No puedo calificarte')"
   ]
  },
  {
   "cell_type": "markdown",
   "metadata": {},
   "source": [
    "#### 5. Escribe un programa que imprima el día de la semana, dado un número del 1 al 7.\n"
   ]
  },
  {
   "cell_type": "code",
   "execution_count": 13,
   "metadata": {},
   "outputs": [
    {
     "name": "stdout",
     "output_type": "stream",
     "text": [
      "El día de hoy es: domingo\n"
     ]
    }
   ],
   "source": [
    "dia_semana = int(input('Dame un número del 1 al 7 y yo te digo el día de la semana'))\n",
    "\n",
    "días_semana = ['lunes', 'martes', 'miércoles', 'jueves', 'viernes', 'sábado', 'domingo']\n",
    "\n",
    "if 1 <= dia_semana <= 7:\n",
    "    print(f'El día de hoy es: {días_semana[dia_semana - 1]}')\n",
    "else:\n",
    "    print('No te puedo ayudar')"
   ]
  },
  {
   "cell_type": "markdown",
   "metadata": {},
   "source": [
    "#### 6. Escribe un programa que determine si un número es positivo, negativo o cero."
   ]
  },
  {
   "cell_type": "code",
   "execution_count": 17,
   "metadata": {},
   "outputs": [
    {
     "name": "stdout",
     "output_type": "stream",
     "text": [
      "El número es 0\n"
     ]
    }
   ],
   "source": [
    "number = int(input('Dame un número'))\n",
    "\n",
    "if number < 0:\n",
    "    print('Es un número negativo')\n",
    "elif number == 0:\n",
    "    print('El número es 0')\n",
    "else:\n",
    "    print('Es un número positivo')"
   ]
  },
  {
   "cell_type": "markdown",
   "metadata": {},
   "source": [
    "#### 7. Escribe un programa que determine si una persona puede conducir o no. La edad mínima para conducir es 18 años. \n"
   ]
  },
  {
   "cell_type": "code",
   "execution_count": 20,
   "metadata": {},
   "outputs": [
    {
     "name": "stdout",
     "output_type": "stream",
     "text": [
      "Puedes conducir\n"
     ]
    }
   ],
   "source": [
    "edad = int(input('¿Qué edad tienes?'))\n",
    "\n",
    "if edad >= 18:\n",
    "    print('Puedes conducir')\n",
    "else:\n",
    "    print('No puedes conducir')\n"
   ]
  },
  {
   "cell_type": "markdown",
   "metadata": {},
   "source": [
    "#### 8. Escribe un programa que determine si un estudiante aprobó o suspendió un examen."
   ]
  },
  {
   "cell_type": "code",
   "execution_count": 23,
   "metadata": {},
   "outputs": [
    {
     "name": "stdout",
     "output_type": "stream",
     "text": [
      "Has aprobado\n"
     ]
    }
   ],
   "source": [
    "nota = int(input('Si me das tu calificación, te puedo decir si has aprobado'))\n",
    "\n",
    "if 0 <= nota < 5:\n",
    "    print('Has suspendido el exámen')\n",
    "else:\n",
    "    print('Has aprobado')"
   ]
  },
  {
   "cell_type": "markdown",
   "metadata": {},
   "source": [
    "#### 9. Escribe un programa que determine si un número es múltiplo de 3 y 5.\n"
   ]
  },
  {
   "cell_type": "code",
   "execution_count": 26,
   "metadata": {},
   "outputs": [
    {
     "name": "stdout",
     "output_type": "stream",
     "text": [
      "El número 30 es múltiplo de 3 y 5\n"
     ]
    }
   ],
   "source": [
    "numero1 = int(input('Dame un número para confirmar si es múltiplo de 3 y 5'))\n",
    "\n",
    "if numero1 % 3 == 0 and numero1 % 5 == 0:\n",
    "    print(f'El número {numero1} es múltiplo de 3 y 5')\n",
    "else:\n",
    "    print(f'El número {numero1} no es múltiplo de 3 y 5')"
   ]
  },
  {
   "cell_type": "markdown",
   "metadata": {},
   "source": [
    "#### 10. Escribe un programa que determine si un número es par o impar.\n"
   ]
  },
  {
   "cell_type": "code",
   "execution_count": 9,
   "metadata": {},
   "outputs": [
    {
     "name": "stdout",
     "output_type": "stream",
     "text": [
      "El número es impar\n"
     ]
    }
   ],
   "source": [
    "numero = int(input('Dame un número'))\n",
    "\n",
    "if numero % 2 == 0:\n",
    "    print('El número es par')\n",
    "else:\n",
    "    print('El número es impar')"
   ]
  }
 ],
 "metadata": {
  "kernelspec": {
   "display_name": "hackio",
   "language": "python",
   "name": "python3"
  },
  "language_info": {
   "codemirror_mode": {
    "name": "ipython",
    "version": 3
   },
   "file_extension": ".py",
   "mimetype": "text/x-python",
   "name": "python",
   "nbconvert_exporter": "python",
   "pygments_lexer": "ipython3",
   "version": "3.11.9"
  }
 },
 "nbformat": 4,
 "nbformat_minor": 2
}
