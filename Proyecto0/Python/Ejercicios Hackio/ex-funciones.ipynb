{
 "cells": [
  {
   "cell_type": "markdown",
   "metadata": {},
   "source": [
    "\n",
    "<div style=\"text-align: center;\">\n",
    "  <img src=\"https://github.com/Hack-io-Data/Imagenes/blob/main/01-LogosHackio/logo_celeste@4x.png?raw=true\" alt=\"esquema\" />\n",
    "</div>"
   ]
  },
  {
   "cell_type": "markdown",
   "metadata": {},
   "source": [
    "#### 1. Escribe una función sin parámetros que imprima el siguiente mensaje \"¡Hola! Bienvenido.\"\n"
   ]
  },
  {
   "cell_type": "code",
   "execution_count": 5,
   "metadata": {},
   "outputs": [
    {
     "name": "stdout",
     "output_type": "stream",
     "text": [
      "¡Hola! Bienvenido\n"
     ]
    }
   ],
   "source": [
    "def saludar():\n",
    "    print('¡Hola! Bienvenido')\n",
    "\n",
    "saludar()"
   ]
  },
  {
   "cell_type": "markdown",
   "metadata": {},
   "source": [
    "#### 2. Escribe una función que reciba dos parámetros y devuelva la suma de ambos.\n"
   ]
  },
  {
   "cell_type": "code",
   "execution_count": 6,
   "metadata": {},
   "outputs": [
    {
     "name": "stdout",
     "output_type": "stream",
     "text": [
      "13\n"
     ]
    }
   ],
   "source": [
    "def sumar(num1,num2):\n",
    "    resultado = num1 + num2\n",
    "    print(resultado)\n",
    "\n",
    "sumar(5,8)"
   ]
  },
  {
   "cell_type": "markdown",
   "metadata": {},
   "source": [
    "#### 3. Escribe una función que reciba un número y devuelva True si es par, False si no lo es."
   ]
  },
  {
   "cell_type": "code",
   "execution_count": 7,
   "metadata": {},
   "outputs": [
    {
     "name": "stdout",
     "output_type": "stream",
     "text": [
      "True\n"
     ]
    }
   ],
   "source": [
    "def par_impar(num):\n",
    "    if num % 2 == 0:\n",
    "        print('True')\n",
    "    else:\n",
    "        print('Impar')\n",
    "\n",
    "par_impar(12)"
   ]
  },
  {
   "cell_type": "markdown",
   "metadata": {},
   "source": [
    "#### 4. Escribe un función que devuelva un saludo personalizado a una persona dado su nombre. \n"
   ]
  },
  {
   "cell_type": "code",
   "execution_count": 8,
   "metadata": {},
   "outputs": [
    {
     "name": "stdout",
     "output_type": "stream",
     "text": [
      "¡Hola! Bienvenido Nelsy\n"
     ]
    }
   ],
   "source": [
    "def saludar(nombre):\n",
    "    print(f'¡Hola! Bienvenido {nombre}')\n",
    "\n",
    "saludar('Nelsy')"
   ]
  },
  {
   "cell_type": "markdown",
   "metadata": {},
   "source": [
    "#### 5. Escribe una función que sume todos los números que reciba como argumento. La función debe recibir una cantidad variable de argumentos y devolver la suma de todos ellos."
   ]
  },
  {
   "cell_type": "code",
   "execution_count": 9,
   "metadata": {},
   "outputs": [
    {
     "data": {
      "text/plain": [
       "107"
      ]
     },
     "execution_count": 9,
     "metadata": {},
     "output_type": "execute_result"
    }
   ],
   "source": [
    "def suma(*args):\n",
    "    return sum(args)\n",
    "\n",
    "suma(5,10,15,22,55)"
   ]
  },
  {
   "cell_type": "markdown",
   "metadata": {},
   "source": [
    "#### 6. Escribe una función que cuente las letras de una palabra y devuelva un diccionario con la cantidad de veces que se repite cada letra \n"
   ]
  },
  {
   "cell_type": "code",
   "execution_count": 10,
   "metadata": {},
   "outputs": [
    {
     "data": {
      "text/plain": [
       "{'P': 1, 'y': 1, 't': 1, 'h': 1, 'o': 1, 'n': 1}"
      ]
     },
     "execution_count": 10,
     "metadata": {},
     "output_type": "execute_result"
    }
   ],
   "source": [
    "\n",
    "def contar_letras(palabra):\n",
    "    contador = {}\n",
    "\n",
    "    for i in palabra:\n",
    "        if i in contador:\n",
    "            contador[i] += 1\n",
    "        else:\n",
    "            contador[i] = 1\n",
    "\n",
    "    return contador\n",
    "\n",
    "contar_letras('Python')\n"
   ]
  },
  {
   "cell_type": "markdown",
   "metadata": {},
   "source": [
    "#### 7. Escribe un función recursiva para calcular el factorial de un número entero no negativo."
   ]
  },
  {
   "cell_type": "code",
   "execution_count": 4,
   "metadata": {},
   "outputs": [
    {
     "name": "stdout",
     "output_type": "stream",
     "text": [
      "720\n"
     ]
    }
   ],
   "source": [
    "def factorial(n):\n",
    "    if n == 0:\n",
    "        return 1\n",
    "    else:\n",
    "        return n * factorial(n - 1)\n",
    "\n",
    "print(factorial(6)) "
   ]
  },
  {
   "cell_type": "code",
   "execution_count": 5,
   "metadata": {},
   "outputs": [
    {
     "name": "stdout",
     "output_type": "stream",
     "text": [
      "El número no es válido\n"
     ]
    }
   ],
   "source": [
    "def factorial(n):\n",
    "    if n == 0:\n",
    "        return 1\n",
    "    elif n > 0:\n",
    "        return n * factorial(n - 1)\n",
    "    else:\n",
    "        return('El número no es válido')\n",
    "\n",
    "print(factorial(-66)) "
   ]
  },
  {
   "cell_type": "markdown",
   "metadata": {},
   "source": [
    "#### 8. Escribe una función que tome dos parámetros: `figura` (una cadena que puede ser `\"rectangulo\"`, `\"circulo\"` o `\"triangulo\"`) y `datos` (una tupla con los datos necesarios para calcular el área de la figura). "
   ]
  },
  {
   "cell_type": "code",
   "execution_count": 7,
   "metadata": {},
   "outputs": [
    {
     "name": "stdout",
     "output_type": "stream",
     "text": [
      "El área del rectángulo es: 50\n",
      "El área del círculo es: 153.94\n",
      "El área del triángulo es: 48.0\n"
     ]
    }
   ],
   "source": [
    "import math\n",
    "\n",
    "def calcular_area(figura, datos):\n",
    "    if figura == \"rectangulo\":\n",
    "        base, altura = datos\n",
    "        area = base * altura\n",
    "\n",
    "    elif figura == \"circulo\":\n",
    "        (radio,) = datos\n",
    "        area = math.pi * (radio ** 2)\n",
    "\n",
    "    elif figura == \"triangulo\":\n",
    "        base, altura = datos\n",
    "        area = (base * altura) / 2\n",
    "\n",
    "    else:\n",
    "        return \"Figura no válida\"\n",
    "\n",
    "    return area\n",
    "\n",
    "# Cálculo del área de un rectángulo\n",
    "area_rectangulo = calcular_area(\"rectangulo\", (5, 10))\n",
    "print(f\"El área del rectángulo es: {area_rectangulo}\")\n",
    "\n",
    "# Cálculo del área de un círculo\n",
    "area_circulo = calcular_area(\"circulo\", (7,))\n",
    "print(f\"El área del círculo es: {round(area_circulo,2)}\")\n",
    "\n",
    "# Cálculo del área de un triángulo\n",
    "area_triangulo = calcular_area(\"triangulo\", (8, 12))\n",
    "print(f\"El área del triángulo es: {area_triangulo}\")\n"
   ]
  },
  {
   "cell_type": "markdown",
   "metadata": {},
   "source": [
    "#### 9. Escribe una función que tome una lista de números como parámetro y devuelva el número más grande de la lista. No utilices la función `max()` de Python en tu solución."
   ]
  },
  {
   "cell_type": "code",
   "execution_count": 13,
   "metadata": {},
   "outputs": [
    {
     "data": {
      "text/plain": [
       "22"
      ]
     },
     "execution_count": 13,
     "metadata": {},
     "output_type": "execute_result"
    }
   ],
   "source": [
    "def mayor(*args):\n",
    "    lista_num = list(args)  # Convierte los argumentos en una lista\n",
    "    lista_num.sort()  # Ordena la lista de menor a mayor\n",
    "    return(lista_num[-1])  # Imprime el último elemento, que es el más grande\n",
    "\n",
    "mayor(7,9,1,4,6,8,10,22)"
   ]
  },
  {
   "cell_type": "markdown",
   "metadata": {},
   "source": [
    "#### 10. Escribe una función que tome una cadena como parámetro un texto y devuelva `True` si la cadena es un palíndromo (se lee igual de izquierda a derecha que de derecha a izquierda), y `False` en caso contrario. Ignora los espacios y considera mayúsculas y minúsculas de manera insensible.\n"
   ]
  },
  {
   "cell_type": "code",
   "execution_count": 14,
   "metadata": {},
   "outputs": [
    {
     "name": "stdout",
     "output_type": "stream",
     "text": [
      "True\n"
     ]
    }
   ],
   "source": [
    "def es_palindromo(cadena):\n",
    "\n",
    "    cadena_new = cadena.replace(' ','').lower()\n",
    "    if cadena_new == cadena_new[::-1]:\n",
    "        print(True)\n",
    "    else:\n",
    "        print(False)\n",
    "\n",
    "es_palindromo('somos o no somos')"
   ]
  },
  {
   "cell_type": "markdown",
   "metadata": {},
   "source": [
    "#### 11. Escribe una función que tome una cadena como parámetro y devuelva dos valores: la cantidad de vocales y la cantidad de consonantes presentes en la cadena. Ignora los espacios y considera mayúsculas y minúsculas de manera insensible.\n"
   ]
  },
  {
   "cell_type": "code",
   "execution_count": 8,
   "metadata": {},
   "outputs": [
    {
     "data": {
      "text/plain": [
       "(6, 6)"
      ]
     },
     "execution_count": 8,
     "metadata": {},
     "output_type": "execute_result"
    }
   ],
   "source": [
    "def conteo(texto):\n",
    "\n",
    "    contar_consonantes = 0\n",
    "    contar_vocales = 0\n",
    "\n",
    "# Iterar sobre cada carácter en la cadena\n",
    "    for i in texto:\n",
    "        i=i.lower()\n",
    "    # Comprobar si el carácter es una vocal\n",
    "        if i in \"aeiou\":\n",
    "            contar_vocales += 1\n",
    "        elif i.isalpha() and i not in 'aeiou':\n",
    "            contar_consonantes += 1\n",
    "    return contar_consonantes, contar_vocales\n",
    "\n",
    "conteo('mi mama me mima')"
   ]
  },
  {
   "cell_type": "code",
   "execution_count": null,
   "metadata": {},
   "outputs": [],
   "source": []
  }
 ],
 "metadata": {
  "kernelspec": {
   "display_name": "hackio",
   "language": "python",
   "name": "python3"
  },
  "language_info": {
   "codemirror_mode": {
    "name": "ipython",
    "version": 3
   },
   "file_extension": ".py",
   "mimetype": "text/x-python",
   "name": "python",
   "nbconvert_exporter": "python",
   "pygments_lexer": "ipython3",
   "version": "3.11.9"
  }
 },
 "nbformat": 4,
 "nbformat_minor": 2
}
