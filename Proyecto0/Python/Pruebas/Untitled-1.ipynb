{
 "cells": [
  {
   "cell_type": "code",
   "execution_count": 1,
   "metadata": {},
   "outputs": [],
   "source": [
    "lista_1 = [\"Claudia\", \"Miguel\", \"Laura\", \"Quique\", \"Ana\"]"
   ]
  },
  {
   "cell_type": "code",
   "execution_count": 2,
   "metadata": {},
   "outputs": [
    {
     "data": {
      "text/plain": [
       "'Quique'"
      ]
     },
     "execution_count": 2,
     "metadata": {},
     "output_type": "execute_result"
    }
   ],
   "source": [
    "lista_1[3]"
   ]
  },
  {
   "cell_type": "code",
   "execution_count": 4,
   "metadata": {},
   "outputs": [
    {
     "data": {
      "text/plain": [
       "'Laura'"
      ]
     },
     "execution_count": 4,
     "metadata": {},
     "output_type": "execute_result"
    }
   ],
   "source": [
    "lista_1[2]"
   ]
  },
  {
   "cell_type": "code",
   "execution_count": 7,
   "metadata": {},
   "outputs": [
    {
     "data": {
      "text/plain": [
       "[]"
      ]
     },
     "execution_count": 7,
     "metadata": {},
     "output_type": "execute_result"
    }
   ],
   "source": [
    "lista_1[3:1:2]"
   ]
  },
  {
   "cell_type": "code",
   "execution_count": 6,
   "metadata": {},
   "outputs": [
    {
     "data": {
      "text/plain": [
       "['Miguel', 'Quique']"
      ]
     },
     "execution_count": 6,
     "metadata": {},
     "output_type": "execute_result"
    }
   ],
   "source": [
    "lista_1[1:4:2]"
   ]
  },
  {
   "cell_type": "code",
   "execution_count": 13,
   "metadata": {},
   "outputs": [],
   "source": [
    "lista_2=  [\"Ana\", \"Victor\", \"Jeancha\", \"Canela\"]"
   ]
  },
  {
   "cell_type": "code",
   "execution_count": 10,
   "metadata": {},
   "outputs": [
    {
     "name": "stdout",
     "output_type": "stream",
     "text": [
      "Claudia\n",
      "Miguel\n",
      "Laura\n",
      "Quique\n",
      "Ana\n"
     ]
    }
   ],
   "source": [
    "for nombre in lista_1:\n",
    "    print(nombre)"
   ]
  },
  {
   "cell_type": "code",
   "execution_count": 14,
   "metadata": {},
   "outputs": [
    {
     "name": "stdout",
     "output_type": "stream",
     "text": [
      "Ana\n",
      "Victor\n",
      "Jeancha\n",
      "Canela\n"
     ]
    }
   ],
   "source": [
    "for apodo in lista_2:\n",
    "    print(apodo)"
   ]
  },
  {
   "cell_type": "code",
   "execution_count": 16,
   "metadata": {},
   "outputs": [
    {
     "name": "stdout",
     "output_type": "stream",
     "text": [
      "0 hace referencia a Ana\n",
      "1 hace referencia a Victor\n",
      "2 hace referencia a Jeancha\n",
      "3 hace referencia a Canela\n"
     ]
    }
   ],
   "source": [
    "for indice, apodo in enumerate(lista_2):\n",
    "    print(indice, \"hace referencia a\", apodo)"
   ]
  },
  {
   "cell_type": "code",
   "execution_count": 25,
   "metadata": {},
   "outputs": [
    {
     "name": "stdout",
     "output_type": "stream",
     "text": [
      "Puedes pasar\n"
     ]
    }
   ],
   "source": [
    "Edad = 21\n",
    "Nombre = \"Lola\"\n",
    "\n",
    "if edad >= 18 or  nombre == \"Marta\":\n",
    "    print(\"Puedes pasar\")\n",
    "elif edad >= 15 or nombre == \"Marta\":\n",
    "    print(\"Puedes entrar hasta las 12\")\n",
    "else:\n",
    "    print(\"No entras\")"
   ]
  },
  {
   "cell_type": "code",
   "execution_count": 1,
   "metadata": {},
   "outputs": [],
   "source": [
    "numeros_rafa = []\n",
    "terminar = False\n",
    "\n",
    "while not terminar:\n",
    "    numero = input(\"ingresa un numero del 0-10)\")\n",
    "\n",
    "    if numero not in numeros_rafa:\n",
    "        numeros_rafa.append(numero)\n",
    "    else:\n",
    "        terminar = True\n",
    "\n"
   ]
  },
  {
   "cell_type": "code",
   "execution_count": 26,
   "metadata": {},
   "outputs": [
    {
     "name": "stdout",
     "output_type": "stream",
     "text": [
      "No eres bienvenido\n"
     ]
    }
   ],
   "source": [
    "Edad = 15\n",
    "Nombre = \"Pepe\"\n",
    "\n",
    "if Edad >= 18:\n",
    "    print(\"Bienvenid@\")\n",
    "elif Edad >= 16 and Nombre == \"Alberto\":\n",
    "    print(\"Eres bienvenid@ hasta las 12\")\n",
    "else :\n",
    "    print(\"No eres bienvenido\")"
   ]
  },
  {
   "cell_type": "code",
   "execution_count": null,
   "metadata": {},
   "outputs": [],
   "source": [
    "### Aquí se hacen comentario ya que no se programa"
   ]
  }
 ],
 "metadata": {
  "kernelspec": {
   "display_name": "Python 3",
   "language": "python",
   "name": "python3"
  },
  "language_info": {
   "codemirror_mode": {
    "name": "ipython",
    "version": 3
   },
   "file_extension": ".py",
   "mimetype": "text/x-python",
   "name": "python",
   "nbconvert_exporter": "python",
   "pygments_lexer": "ipython3",
   "version": "3.11.9"
  }
 },
 "nbformat": 4,
 "nbformat_minor": 2
}
