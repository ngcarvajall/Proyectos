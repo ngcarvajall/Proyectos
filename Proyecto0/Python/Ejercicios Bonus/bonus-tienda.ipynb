{
 "cells": [
  {
   "cell_type": "markdown",
   "metadata": {},
   "source": [
    "<div style=\"text-align: center;\">\n",
    "  <img src=\"https://github.com/Hack-io-Data/Imagenes/blob/main/01-LogosHackio/logo_celeste@4x.png?raw=true\" alt=\"esquema\" />\n",
    "</div>\n"
   ]
  },
  {
   "cell_type": "markdown",
   "metadata": {},
   "source": [
    "En este ejercicio, se te pedirá que escribas un programa en Python que utilice condicionales para determinar el monto final de una compra en una tienda en línea, después de aplicar un descuento. El programa debe hacer lo siguiente:\n",
    "\n",
    "1. Solicita al usuario que ingrese el precio original de un artículo.\n",
    "\n",
    "2. Pregunta al usuario si tiene un cupón de descuento (respuesta sí o no).\n",
    "\n",
    "3. Si el usuario responde que sí, solicita que ingrese el valor del cupón de descuento.\n",
    "\n",
    "4. Aplica el descuento al precio original del artículo, siempre y cuando el valor del cupón sea válido (es decir, mayor a cero). Por ejemplo, descuento de 15€. \n",
    "\n",
    "5. Muestra el precio final de la compra, teniendo en cuenta el descuento aplicado o sin él. \n",
    "\n",
    "6. Recuerda utilizar estructuras de control de flujo como if, elif y else para llevar a cabo estas acciones en tu programa de Python."
   ]
  },
  {
   "cell_type": "code",
   "execution_count": 22,
   "metadata": {},
   "outputs": [
    {
     "name": "stdout",
     "output_type": "stream",
     "text": [
      "El precio final es: 20.0\n"
     ]
    }
   ],
   "source": [
    "precio = float(input('Dame el precio original del artículo'))\n",
    "\n",
    "cupon = input('Tienes algún descuento? (sí/no):').lower()\n",
    "\n",
    "\n",
    "if cupon == 'sí':\n",
    "    valor_cupon = float(input('Dame el valor del cupón'))\n",
    "\n",
    "    if valor_cupon > 0:\n",
    "        precio_final = precio - valor_cupon\n",
    "\n",
    "else:\n",
    "    precio_final = precio\n",
    "\n",
    "print('El precio final es:', precio_final)"
   ]
  },
  {
   "cell_type": "markdown",
   "metadata": {},
   "source": [
    "Modifica el programa anterior para que el usuario ingrese un porcentaje de descuento en lugar de un valor fijo (por ejemplo, 30%). Aplica el descuento en base al porcentaje ingresado."
   ]
  },
  {
   "cell_type": "code",
   "execution_count": 23,
   "metadata": {},
   "outputs": [
    {
     "name": "stdout",
     "output_type": "stream",
     "text": [
      "El precio final es: 20.0\n"
     ]
    }
   ],
   "source": [
    "precio = float(input('Dame el precio original del artículo'))\n",
    "\n",
    "cupon = input('Tienes algún descuento? (sí/no):').lower()\n",
    "\n",
    "\n",
    "if cupon == 'sí':\n",
    "    valor_cupon = float(input('Dame el porcentaje del cupón'))\n",
    "\n",
    "    if valor_cupon > 0:\n",
    "        valor_cupon = valor_cupon / 100\n",
    "        precio_porcentaje = precio * (1 - valor_cupon)\n",
    "\n",
    "else:\n",
    "    precio_porcentaje = precio\n",
    "\n",
    "print('El precio final es:', precio_porcentaje)"
   ]
  },
  {
   "cell_type": "markdown",
   "metadata": {},
   "source": [
    "Modifica el programa anterior agregando un límite al descuento, donde el descuento mínimo sea del 5% y el máximo del 50%. Si el usuario ingresa un porcentaje fuera de este rango, notifíquele y aplique el descuento mínimo o máximo según sea el caso."
   ]
  },
  {
   "cell_type": "code",
   "execution_count": 25,
   "metadata": {},
   "outputs": [
    {
     "name": "stdout",
     "output_type": "stream",
     "text": [
      "El descuento máximo a aplicar es 50%\n",
      "El precio final es: 25.0\n"
     ]
    }
   ],
   "source": [
    "precio = float(input('Dame el precio original del artículo'))\n",
    "\n",
    "cupon = input('Tienes algún descuento? (sí/no):').lower()\n",
    "\n",
    "\n",
    "if cupon == 'sí':\n",
    "    valor_cupon = float(input('Dame el porcentaje del cupón'))\n",
    "\n",
    "    if 5 <= valor_cupon <= 50:\n",
    "        valor_cupon = valor_cupon / 100\n",
    "        precio_porcentaje = precio * (1 - valor_cupon)\n",
    "\n",
    "    elif valor_cupon < 5:\n",
    "        print('El descuento mínimo a aplicar es 5%')\n",
    "        precio_porcentaje = precio * (1 - 0.05)\n",
    "\n",
    "    \n",
    "    elif valor_cupon > 50:\n",
    "        print('El descuento máximo a aplicar es 50%')\n",
    "        precio_porcentaje = precio * (1 - 0.50)\n",
    "\n",
    "else:\n",
    "    precio_porcentaje = precio\n",
    "\n",
    "print('El precio final es:', precio_porcentaje)"
   ]
  },
  {
   "cell_type": "markdown",
   "metadata": {},
   "source": [
    "Crea un programa nuevo que permita al usuario ingresar varios artículos, cada uno con su precio original y cupón de descuento. Aplica los descuentos correspondientes a cada producto y muestra el monto total final de la compra."
   ]
  },
  {
   "cell_type": "code",
   "execution_count": 26,
   "metadata": {},
   "outputs": [
    {
     "name": "stdout",
     "output_type": "stream",
     "text": [
      "El precio final es: 12.5\n"
     ]
    }
   ],
   "source": [
    "total = 0\n",
    "\n",
    "while True:\n",
    "    precio = float(input('Dame el precio original del artículo'))\n",
    "\n",
    "    cupon = input('¿Tienes algún descuento? (sí/no):').lower()\n",
    "\n",
    "    if cupon == 'sí':\n",
    "        valor_cupon = float(input('Dame el porcentaje del cupón'))\n",
    "\n",
    "        if 5 <= valor_cupon <= 50:\n",
    "            valor_cupon = valor_cupon / 100\n",
    "            precio_porcentaje = precio * (1 - valor_cupon)\n",
    "\n",
    "        elif valor_cupon < 5:\n",
    "            print('El descuento mínimo a aplicar es 5%')\n",
    "            precio_porcentaje = precio * (1 - 0.05)\n",
    "\n",
    "        elif valor_cupon > 50:\n",
    "            print('El descuento máximo a aplicar es 50%')\n",
    "            precio_porcentaje = precio * (1 - 0.50)\n",
    "\n",
    "    else:\n",
    "        precio_porcentaje = precio\n",
    "\n",
    "    total += precio_porcentaje\n",
    "\n",
    "    continua = input('¿Quieres añadir otro artículo?').lower()\n",
    "    if continua == 'no': \n",
    "        break\n",
    "    \n",
    "print('El precio final es:', total)"
   ]
  },
  {
   "cell_type": "markdown",
   "metadata": {},
   "source": [
    "Crea un nuevo programa que permita aplicar descuentos por categorías. En este caso, nuestra tienda aplicará descuentos en función de la categoría (por ejemplo, electrónica, ropa, juguetes). Pregunta al usuario a que categoría pertenece su producto y aplica el descuento correspondiente a la categoría. Debes solicitar al usuario que ingrese la categoría del articulo y el precio para aplicarle el descuento. "
   ]
  },
  {
   "cell_type": "code",
   "execution_count": 33,
   "metadata": {},
   "outputs": [
    {
     "name": "stdout",
     "output_type": "stream",
     "text": [
      "El precio final es: 62.5\n"
     ]
    }
   ],
   "source": [
    "total = 0\n",
    "categorías = {'electrónica': 0.10, 'ropa': 0.20, 'juguetes': 0.30}\n",
    "\n",
    "while True:\n",
    "    precio = float(input('Dame el precio original del artículo'))\n",
    "\n",
    "    cupon = input('¿Tienes algún descuento? (sí/no):').lower()\n",
    "\n",
    "    if cupon == 'sí':\n",
    "        valor_cupon = str(input('Dame la categoría del cupón')).lower()\n",
    "\n",
    "        if valor_cupon == 'electrónica':\n",
    "            descuento = categorías['electrónica']\n",
    "            precio_porcentaje = precio * (1 - descuento)\n",
    "\n",
    "        elif valor_cupon == 'ropa':\n",
    "            descuento = categorías['ropa']\n",
    "            precio_porcentaje = precio * (1 - descuento)\n",
    "\n",
    "        elif valor_cupon == 'juguetes':\n",
    "            descuento = categorías['juguetes']\n",
    "            precio_porcentaje = precio * (1 - descuento)\n",
    "\n",
    "    else:\n",
    "        precio_porcentaje = precio\n",
    "\n",
    "    total += precio_porcentaje\n",
    "\n",
    "    continua = input('¿Quieres añadir otro artículo?').lower()\n",
    "    if continua == 'no': \n",
    "        break\n",
    "    \n",
    "print('El precio final es:', total)"
   ]
  },
  {
   "cell_type": "markdown",
   "metadata": {},
   "source": [
    "Crea un nuevo programa que aplique descuentos automáticos en función de la fecha actual. Aplica un descuento del 10% en compras realizadas entre lunes y viernes o un descuento del 15% en compras realizadas durante los fines de semana."
   ]
  },
  {
   "cell_type": "code",
   "execution_count": 50,
   "metadata": {},
   "outputs": [
    {
     "name": "stdout",
     "output_type": "stream",
     "text": [
      "El precio final es: 90.0\n"
     ]
    }
   ],
   "source": [
    "total = 0\n",
    "dia_semana = {'lunes': 0.10, 'martes': 0.10, 'miércoles': 0.10, 'jueves': 0.10, 'viernes': 0.10, 'sábado': 0.15, 'domingo': 0.15}\n",
    "\n",
    "while True:\n",
    "    precio = float(input('Dame el precio original del artículo'))\n",
    "\n",
    "    valor_cupon = str(input('Qué día es hoy')).lower()\n",
    "\n",
    "    if valor_cupon == 'lunes' or valor_cupon == 'martes' or valor_cupon == 'miércoles' or valor_cupon == 'jueves' or valor_cupon == 'viernes':\n",
    "            descuento = dia_semana['lunes']\n",
    "            precio_porcentaje = precio * (1 - descuento)\n",
    "\n",
    "    elif valor_cupon == 'sábado':\n",
    "            descuento = dia_semana['sábado']\n",
    "            precio_porcentaje = precio * (1 - descuento)\n",
    "\n",
    "    else:\n",
    "        precio_porcentaje = precio\n",
    "\n",
    "    total += precio_porcentaje\n",
    "\n",
    "    continua = input('¿Quieres añadir otro artículo?').lower()\n",
    "    if continua == 'no': \n",
    "        break\n",
    "    \n",
    "print('El precio final es:', total)"
   ]
  },
  {
   "cell_type": "code",
   "execution_count": 36,
   "metadata": {},
   "outputs": [
    {
     "name": "stdout",
     "output_type": "stream",
     "text": [
      "El precio final es: 90.0\n"
     ]
    }
   ],
   "source": [
    "total = 0\n",
    "dia_semana = ['lunes', 'martes', 'miércoles', 'jueves', 'viernes']\n",
    "dia_fin_semana = ['sábado', 'domingo']\n",
    "\n",
    "while True:\n",
    "    precio = float(input('Dame el precio original del artículo'))\n",
    "\n",
    "    cupon = input('¿Tienes algún descuento? (sí/no):').lower()\n",
    "\n",
    "    if cupon == 'sí':\n",
    "        valor_cupon = str(input('Qué día es hoy')).lower()\n",
    "\n",
    "        if valor_cupon in dia_semana:\n",
    "            precio_porcentaje = precio * (1 - 0.10)\n",
    "\n",
    "        elif valor_cupon in dia_fin_semana:\n",
    "            precio_porcentaje = precio * (1 - 0.15)\n",
    "\n",
    "    else:\n",
    "        precio_porcentaje = precio\n",
    "\n",
    "    total += precio_porcentaje\n",
    "\n",
    "    continua = input('¿Quieres añadir otro artículo?').lower()\n",
    "    if continua == 'no': \n",
    "        break\n",
    "    \n",
    "print('El precio final es:', total)"
   ]
  },
  {
   "cell_type": "markdown",
   "metadata": {},
   "source": [
    "Crea un programa nuevo que implemente un sistema de membresía donde los usuarios registrados obtengan un descuento adicional del 5%. Solicita al usuario que ingrese su nombre de usuario y contraseña para verificar su membresía y aplique el descuento adicional si corresponde. \n",
    "\n",
    "📝 Nota: Para este ejercicio solo tendremos un usuario registrado. El usuario es `USUARIO` y la contraseña es  `USUARIO123`. \n"
   ]
  },
  {
   "cell_type": "code",
   "execution_count": 42,
   "metadata": {},
   "outputs": [
    {
     "name": "stdout",
     "output_type": "stream",
     "text": [
      "El precio final es: 85.5\n"
     ]
    }
   ],
   "source": [
    "total = 0\n",
    "dia_semana = ['lunes', 'martes', 'miércoles', 'jueves', 'viernes']\n",
    "dia_fin_semana = ['sábado', 'domingo']\n",
    "\n",
    "while True:\n",
    "    precio = float(input('Dame el precio original del artículo'))\n",
    "\n",
    "    cupon = input('¿Tienes algún descuento? (sí/no):').lower()\n",
    "    \n",
    "    if cupon == 'sí':\n",
    "        valor_cupon = str(input('Qué día es hoy')).lower()\n",
    "\n",
    "        if valor_cupon in dia_semana:\n",
    "            precio_porcentaje = precio * (1 - 0.10)\n",
    "\n",
    "        elif valor_cupon in dia_fin_semana:\n",
    "            precio_porcentaje = precio * (1 - 0.15)\n",
    "\n",
    "    else:\n",
    "        precio_porcentaje = precio\n",
    "\n",
    "    membresia = str(input('Si eres miembro, ingresa tu usuario:'))\n",
    "    contraseña = str(input('Ingresa tu contraseña:'))\n",
    "\n",
    "    if membresia == 'USUARIO' and contraseña == 'USUARIO123':\n",
    "        precio_porcentaje = precio_porcentaje * (1-0.05)\n",
    "    else:\n",
    "        print('Lo siento, no tienes descuento por membresía')\n",
    "\n",
    "\n",
    "    total += precio_porcentaje\n",
    "\n",
    "    continua = input('¿Quieres añadir otro artículo?').lower()\n",
    "    if continua == 'no': \n",
    "        break\n",
    "    \n",
    "print('El precio final es:', total)"
   ]
  },
  {
   "cell_type": "code",
   "execution_count": 52,
   "metadata": {},
   "outputs": [
    {
     "name": "stdout",
     "output_type": "stream",
     "text": [
      "El precio final es: 95.0\n"
     ]
    }
   ],
   "source": [
    "total = 0\n",
    "\n",
    "while True:\n",
    "    precio = float(input('Dame el precio original del artículo'))\n",
    "\n",
    "    membresia = str(input('Si eres miembro, ingresa tu usuario:'))\n",
    "    contraseña = str(input('Ingresa tu contraseña:'))\n",
    "\n",
    "    if membresia == 'USUARIO' and contraseña == 'USUARIO123':\n",
    "        precio_porcentaje = precio * (1-0.05)\n",
    "    else:\n",
    "        print('Lo siento, no tienes descuento por membresía')\n",
    "\n",
    "\n",
    "    total += precio_porcentaje\n",
    "\n",
    "    continua = input('¿Quieres añadir otro artículo?').lower()\n",
    "    if continua == 'no': \n",
    "        break\n",
    "    \n",
    "print('El precio final es:', total)"
   ]
  },
  {
   "cell_type": "markdown",
   "metadata": {},
   "source": [
    "Crea un nuevo programa que ofrezca un descuento del 10% adicional si el usuario compra más de 5 artículos del mismo tipo. Debes verificar la cantidad de productos comprados y aplicar el descuento adicional si corresponde.\n"
   ]
  },
  {
   "cell_type": "code",
   "execution_count": 49,
   "metadata": {},
   "outputs": [
    {
     "name": "stdout",
     "output_type": "stream",
     "text": [
      "[]\n",
      "Has comprado esta cantidad de ropa 0\n",
      "Has comprado esta cantidad de juguetes 0\n",
      "Has comprado esta cantidad de electrónica 0\n",
      "El precio final es: 100.0\n"
     ]
    }
   ],
   "source": [
    "total = 0\n",
    "categorías = {'electrónica': 0.10, 'ropa': 0.20, 'juguetes': 0.30}\n",
    "cat_artículos = []\n",
    "while True:\n",
    "    precio = float(input('Dame el precio original del artículo'))\n",
    "\n",
    "    cupon = input('¿Tienes algún descuento? (sí/no):').lower()\n",
    "\n",
    "    if cupon == 'sí':\n",
    "        valor_cupon = str(input('Dame la categoría del cupón')).lower()\n",
    "\n",
    "        if valor_cupon == 'electrónica':\n",
    "            descuento = categorías['electrónica']\n",
    "            precio_porcentaje = precio * (1 - descuento)\n",
    "            cat_artículos.append('electrónica')\n",
    "\n",
    "        elif valor_cupon == 'ropa':\n",
    "            descuento = categorías['ropa']\n",
    "            precio_porcentaje = precio * (1 - descuento)\n",
    "            cat_artículos.append('ropa')\n",
    "\n",
    "        elif valor_cupon == 'juguetes':\n",
    "            descuento = categorías['juguetes']\n",
    "            precio_porcentaje = precio * (1 - descuento)\n",
    "            cat_artículos.append('juguetes')\n",
    "\n",
    "    else:\n",
    "        precio_porcentaje = precio\n",
    "\n",
    "    total += precio_porcentaje\n",
    "\n",
    "    continua = input('¿Quieres añadir otro artículo?').lower()\n",
    "    if continua == 'no': \n",
    "        break\n",
    "\n",
    "print(cat_artículos)\n",
    "print(f'Has comprado esta cantidad de ropa', cat_artículos.count('ropa'))\n",
    "numero_ropa = cat_artículos.count('ropa')\n",
    "print(f'Has comprado esta cantidad de juguetes', cat_artículos.count('juguetes'))\n",
    "numero_juguetes = cat_artículos.count('juguetes')\n",
    "print(f'Has comprado esta cantidad de electrónica', cat_artículos.count('electrónica'))\n",
    "numero_electrónica = cat_artículos.count('electrónica')\n",
    "\n",
    "if numero_juguetes > 5 or numero_ropa > 5 or numero_electrónica > 5:\n",
    "    total = total * 0.90\n",
    "\n",
    "print('El precio final es:', total)\n"
   ]
  },
  {
   "cell_type": "markdown",
   "metadata": {},
   "source": [
    "Crea un nuevo programa que ofrezca descuentos progresivos en función del volumen de compra. Aplica un descuento del 5% para compras entre 100€ y 200€, un descuento del 10% para compras entre 200€ y 500€ y un descuento del 15% para compras superiores a 500€."
   ]
  },
  {
   "cell_type": "code",
   "execution_count": 55,
   "metadata": {},
   "outputs": [
    {
     "name": "stdout",
     "output_type": "stream",
     "text": [
      "El precio final es: 405.0\n"
     ]
    }
   ],
   "source": [
    "total = 0\n",
    "\n",
    "while True:\n",
    "    precio = float(input('Dame el precio original del artículo'))\n",
    "\n",
    "    total += precio\n",
    "\n",
    "    continua = input('¿Quieres añadir otro artículo?').lower()\n",
    "    if continua == 'no': \n",
    "        break\n",
    "\n",
    "if 100 <= total <= 200:\n",
    "    total = total * 0.95\n",
    "elif 200 < total <= 500:\n",
    "    total = total * 0.90\n",
    "elif total > 500:\n",
    "    total = total * 0.85 \n",
    "else:\n",
    "    total = total  \n",
    "    \n",
    "print('El precio final es:', total)"
   ]
  },
  {
   "cell_type": "markdown",
   "metadata": {},
   "source": [
    "Crea un nuevo programa  que ofrezca un descuento adicional del 3% si el usuario paga con tarjeta de crédito o débito. Solicita al usuario que ingrese el método de pago y el descuento original, por último aplica el descuento si corresponde."
   ]
  },
  {
   "cell_type": "code",
   "execution_count": 61,
   "metadata": {},
   "outputs": [
    {
     "name": "stdout",
     "output_type": "stream",
     "text": [
      "No tienes descuento por tarjeta\n",
      "El precio final es: 100.0\n"
     ]
    }
   ],
   "source": [
    "total = 0\n",
    "forma_pago = ['tarjeta de débito', 'tarjeta de crédito']\n",
    "while True:\n",
    "    metodo_pago = input('¿Cómo vas a pagar?').lower()\n",
    "    precio = float(input('Dame el precio original del artículo'))\n",
    "\n",
    "    if metodo_pago in forma_pago:\n",
    "        descuento = precio * (1-0.03)\n",
    "    else:\n",
    "        print('No tienes descuento por tarjeta')\n",
    "        descuento = precio\n",
    "    \n",
    "    total += descuento\n",
    "\n",
    "    continua = input('¿Quieres añadir otro artículo?').lower()\n",
    "    if continua == 'no': \n",
    "        break\n",
    "    \n",
    "print('El precio final es:', total)"
   ]
  },
  {
   "cell_type": "code",
   "execution_count": 66,
   "metadata": {},
   "outputs": [
    {
     "name": "stdout",
     "output_type": "stream",
     "text": [
      "El precio final es: 92.15\n"
     ]
    }
   ],
   "source": [
    "total = 0\n",
    "forma_pago = ['tarjeta de débito', 'tarjeta de crédito']\n",
    "\n",
    "while True:\n",
    "    metodo_pago = input('¿Cómo vas a pagar?').lower()\n",
    "    precio = float(input('Dame el precio original del artículo'))\n",
    "    \n",
    "    total += precio\n",
    "\n",
    "    continua = input('¿Quieres añadir otro artículo?').lower()\n",
    "    if continua == 'no': \n",
    "        break\n",
    "\n",
    "if 100 <= total <= 200:\n",
    "    total_d = total * 0.95\n",
    "elif 200 < total <= 500:\n",
    "    total_d = total * 0.90\n",
    "elif total > 500:\n",
    "    total_d = total * 0.85 \n",
    "else:\n",
    "    total_d = total  \n",
    "\n",
    "if metodo_pago in forma_pago:\n",
    "    total_f = total_d * 0.97\n",
    "else:\n",
    "    total_f = total_d\n",
    "    \n",
    "print('El precio final es:', round(total_f,2))"
   ]
  },
  {
   "cell_type": "code",
   "execution_count": null,
   "metadata": {},
   "outputs": [],
   "source": []
  }
 ],
 "metadata": {
  "kernelspec": {
   "display_name": "hackio",
   "language": "python",
   "name": "python3"
  },
  "language_info": {
   "codemirror_mode": {
    "name": "ipython",
    "version": 3
   },
   "file_extension": ".py",
   "mimetype": "text/x-python",
   "name": "python",
   "nbconvert_exporter": "python",
   "pygments_lexer": "ipython3",
   "version": "3.11.9"
  }
 },
 "nbformat": 4,
 "nbformat_minor": 2
}
