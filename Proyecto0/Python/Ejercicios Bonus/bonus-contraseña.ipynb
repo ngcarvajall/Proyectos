{
 "cells": [
  {
   "cell_type": "markdown",
   "metadata": {},
   "source": [
    "<div style=\"text-align: center;\">\n",
    "  <img src=\"https://github.com/Hack-io-Data/Imagenes/blob/main/01-LogosHackio/logo_celeste@4x.png?raw=true\" alt=\"esquema\" />\n",
    "</div>\n"
   ]
  },
  {
   "cell_type": "markdown",
   "metadata": {},
   "source": [
    "# Comprobación de calidad de contraseñas\n",
    "\n",
    "En este ejercicio, tendrás que generar un programa que sea capaz de comprobar la calidad de contraseñas. La seguridad de nuestras contraseñas es fundamental para proteger nuestra información personal y evitar posibles ataques cibernéticos. Para ello, vamos a crear una función llamada `verificar_seguridad_contrasena` que evaluará la calidad de una contraseña. Esta función tomará como argumento la contraseña a evaluar y devolverá si la contraseña es segura o no basado en los siguientes criterios:\n",
    "\n",
    "1. La contraseña deberá tener al menos 8 caracteres.\n",
    "\n",
    "2. La contraseña deberá tener al menos una letra mayúscula.\n",
    "\n",
    "3. La contraseña deberá tener al menos una letra minúscula. \n",
    "\n",
    "4. La contraseña deberá tener al menos un número. \n",
    "\n",
    "5. La contraseña deberá tener al menos un caracter especial. \n",
    "\n",
    "6. La contraseña no deberá tener espacios en blanco. \n",
    "\n",
    "7. La contraseña no deberá tener caracteres repetidos. \n"
   ]
  },
  {
   "cell_type": "code",
   "execution_count": 17,
   "metadata": {},
   "outputs": [
    {
     "name": "stdout",
     "output_type": "stream",
     "text": [
      "Contraseña válida\n"
     ]
    },
    {
     "data": {
      "text/plain": [
       "'V@mpiros12'"
      ]
     },
     "execution_count": 17,
     "metadata": {},
     "output_type": "execute_result"
    }
   ],
   "source": [
    "def verificar_seguridad_contraseña(contraseña):\n",
    "\n",
    "    if len(contraseña) < 8:\n",
    "        print('La contraseña debe tener al menos 8 caracteres')\n",
    "        return False\n",
    "\n",
    "    mayuscula = False\n",
    "    minuscula = False\n",
    "    numero = False\n",
    "    espacio = False\n",
    "    especial = False\n",
    "    caracteres_especiales = '! @ # $ % ^ & * ( ) - _ = + \\ | [ ] { } ; : / ? . >'\n",
    "    caracteres_repetidos = []\n",
    "    for i in contraseña:\n",
    "        if i.isupper():\n",
    "            mayuscula = True\n",
    "        if i.islower():\n",
    "            minuscula = True\n",
    "        if i.isdigit():\n",
    "            numero = True\n",
    "        if i.isspace():\n",
    "            espacio = True\n",
    "        if i in caracteres_especiales:\n",
    "            especial = True\n",
    "        if i in caracteres_repetidos:\n",
    "            print('No se deben repetir caracteres')\n",
    "            return False\n",
    "        else: \n",
    "            caracteres_repetidos.append(i)\n",
    "\n",
    "    if espacio: \n",
    "        print('La contraseña no puede tener espacios')\n",
    "        return False\n",
    "    if not mayuscula:\n",
    "        print('La contraseña debe tener al menos una mayúscula')\n",
    "        return False\n",
    "    if not minuscula:\n",
    "        print('La contraseña debe tener al menos una minúscula')\n",
    "        return False\n",
    "    if not numero:\n",
    "        print('La contraseña debe tener al menos un numero')\n",
    "        return False\n",
    "    if not especial:\n",
    "        print('La contraseña debe tener al menos un caracter especial')\n",
    "        return False\n",
    "    \n",
    "    print('Contraseña válida')\n",
    "    return contraseña\n",
    "    \n",
    "\n",
    "contraseña = input('Introduce tu nueva contraseña')\n",
    "verificar_seguridad_contraseña(contraseña)"
   ]
  },
  {
   "cell_type": "code",
   "execution_count": null,
   "metadata": {},
   "outputs": [],
   "source": []
  },
  {
   "cell_type": "code",
   "execution_count": null,
   "metadata": {},
   "outputs": [],
   "source": []
  }
 ],
 "metadata": {
  "kernelspec": {
   "display_name": "hackio",
   "language": "python",
   "name": "python3"
  },
  "language_info": {
   "codemirror_mode": {
    "name": "ipython",
    "version": 3
   },
   "file_extension": ".py",
   "mimetype": "text/x-python",
   "name": "python",
   "nbconvert_exporter": "python",
   "pygments_lexer": "ipython3",
   "version": "3.11.9"
  }
 },
 "nbformat": 4,
 "nbformat_minor": 2
}
