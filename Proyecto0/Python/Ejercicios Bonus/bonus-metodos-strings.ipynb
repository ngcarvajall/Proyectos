{
 "cells": [
  {
   "cell_type": "markdown",
   "metadata": {},
   "source": [
    "<div style=\"text-align: center;\">\n",
    "  <img src=\"https://github.com/Hack-io-Data/Imagenes/blob/main/01-LogosHackio/logo_celeste@4x.png?raw=true\" alt=\"esquema\" />\n",
    "</div>"
   ]
  },
  {
   "cell_type": "markdown",
   "metadata": {},
   "source": [
    "\n",
    "#### Genera un dicionario con los nombres, apellidos y empresas de la siguiente lista de correos. \n",
    "\n",
    "Te deberá quedar un diccionario parecido al que se muestra a continuación: \n",
    "\n",
    "![resultado](https://github.com/Hack-io-Data/Imagenes/blob/main/04-Prework/Python/diccionario-bonus-strings.png?raw=true)"
   ]
  },
  {
   "cell_type": "code",
   "execution_count": 20,
   "metadata": {},
   "outputs": [],
   "source": [
    "a = \"\"\"john.doe@tecnologiainnovadora.com\n",
    "jane.doe@empresatecnologica.com\n",
    "jim.smith@solucionesdigitales.com\n",
    "mary.jane@tecnologiapionera.com\n",
    "bob.jones@innovaciontecnologica.com\n",
    "alice.smith@desarrollotecnologico.com\n",
    "tom.jones@tecnologiadinamica.com\n",
    "sally.jones@tecnologiamoderna.com\n",
    "jerry.smith@solucionestech.com\n",
    "beth.jones@tecnologiavanguardista.com\n",
    "john.smith@tecnologiasavanzadas.com\n",
    "jane.doe@empresadigital.com\n",
    "jim.jones@tecnologiadinamica.com\n",
    "mary.smith@innovaciondigital.com\n",
    "bob.doe@solucionesinformaticas.com\n",
    "\"\"\"\n"
   ]
  },
  {
   "cell_type": "markdown",
   "metadata": {},
   "source": [
    "diccionario: {'nombre':[], 'apellido':[], 'empresa':[]}\n",
    "\n",
    "correo = \"john.doe@tecnologiainnovadora.com\"\n",
    "nombre_apellido, dominio = correo.split('@')\n",
    "print(nombre_apellido)  # Esto debería mostrar 'john.doe'\n",
    "print(dominio)  # Esto debería mostrar 'tecnologiainnovadora.com'\n"
   ]
  },
  {
   "cell_type": "code",
   "execution_count": 21,
   "metadata": {},
   "outputs": [
    {
     "name": "stdout",
     "output_type": "stream",
     "text": [
      "<class 'str'>\n",
      "['john.doe@tecnologiainnovadora.com', 'jane.doe@empresatecnologica.com', 'jim.smith@solucionesdigitales.com', 'mary.jane@tecnologiapionera.com', 'bob.jones@innovaciontecnologica.com', 'alice.smith@desarrollotecnologico.com', 'tom.jones@tecnologiadinamica.com', 'sally.jones@tecnologiamoderna.com', 'jerry.smith@solucionestech.com', 'beth.jones@tecnologiavanguardista.com', 'john.smith@tecnologiasavanzadas.com', 'jane.doe@empresadigital.com', 'jim.jones@tecnologiadinamica.com', 'mary.smith@innovaciondigital.com', 'bob.doe@solucionesinformaticas.com', '']\n",
      "<class 'list'>\n"
     ]
    }
   ],
   "source": [
    "print(type(a))\n",
    "correos = a.split('\\n')\n",
    "print(correos)\n",
    "print(type(correos))"
   ]
  },
  {
   "cell_type": "code",
   "execution_count": 35,
   "metadata": {},
   "outputs": [
    {
     "name": "stdout",
     "output_type": "stream",
     "text": [
      "{'nombre': ['john', 'jane', 'jim', 'mary', 'bob', 'alice', 'tom', 'sally', 'jerry', 'beth', 'john', 'jane', 'jim', 'mary', 'bob'], 'apellido': ['doe', 'doe', 'smith', 'jane', 'jones', 'smith', 'jones', 'jones', 'smith', 'jones', 'smith', 'doe', 'jones', 'smith', 'doe'], 'empresa': ['tecnologiainnovadora', 'empresatecnologica', 'solucionesdigitales', 'tecnologiapionera', 'innovaciontecnologica', 'desarrollotecnologico', 'tecnologiadinamica', 'tecnologiamoderna', 'solucionestech', 'tecnologiavanguardista', 'tecnologiasavanzadas', 'empresadigital', 'tecnologiadinamica', 'innovaciondigital', 'solucionesinformaticas']}\n"
     ]
    }
   ],
   "source": [
    "datos = {'nombre': [], 'apellido': [], 'empresa': []}\n",
    "\n",
    "for i in correos:\n",
    "    nombre_apellido, dominio = i.split('@')\n",
    "    nombre,apellido = nombre_apellido.split('.')\n",
    "    empresa, web= dominio.split('.')\n",
    "    datos['nombre'].append(nombre)\n",
    "    datos['apellido'].append(apellido)\n",
    "    datos['empresa'].append(empresa)\n",
    "\n",
    "print(datos)"
   ]
  },
  {
   "cell_type": "code",
   "execution_count": null,
   "metadata": {},
   "outputs": [],
   "source": []
  }
 ],
 "metadata": {
  "kernelspec": {
   "display_name": "hackio",
   "language": "python",
   "name": "python3"
  },
  "language_info": {
   "codemirror_mode": {
    "name": "ipython",
    "version": 3
   },
   "file_extension": ".py",
   "mimetype": "text/x-python",
   "name": "python",
   "nbconvert_exporter": "python",
   "pygments_lexer": "ipython3",
   "version": "3.11.9"
  }
 },
 "nbformat": 4,
 "nbformat_minor": 2
}
