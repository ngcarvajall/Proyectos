{
 "cells": [
  {
   "cell_type": "markdown",
   "metadata": {},
   "source": [
    "<div style=\"text-align: center;\">\n",
    "  <img src=\"https://github.com/Hack-io-Data/Imagenes/blob/main/01-LogosHackio/logo_celeste@4x.png?raw=true\" alt=\"esquema\" />\n",
    "</div>"
   ]
  },
  {
   "cell_type": "markdown",
   "metadata": {},
   "source": [
    "\n",
    "\n",
    "En este ejercicios deberéis contestar a una serie de preguntas, usando los datos que os describimos a continuación. Los datos incluyen una lista de ciclistas, cada uno con los siguientes atributos:\n",
    "\n",
    "1. **Nombre**: Nombre del ciclista (por ejemplo, \"Juan\").\n",
    "\n",
    "2. **Apellido**: Apellido del ciclista (por ejemplo, \"Pérez\").\n",
    "\n",
    "3. **Fecha de Nacimiento**: Fecha de nacimiento en formato `YYYY-MM-DD` (por ejemplo, \"1990-05-15\").\n",
    "\n",
    "4. **Nacionalidad**: Nacionalidad del ciclista (por ejemplo, \"Español\").\n",
    "\n",
    "5. **Datos Biométricos**: Incluye atributos adicionales:\n",
    "\n",
    "   - **Edad**: Edad del ciclista (por ejemplo, 32 años).\n",
    "\n",
    "   - **Peso**: Peso en kilogramos (por ejemplo, 70 kg).\n",
    "\n",
    "   - **Altura**: Altura en centímetros (por ejemplo, 175 cm).\n",
    "\n",
    "      Ejemplo de un ciclista:\n",
    "      ```json\n",
    "      {\n",
    "        \"nombre\": \"Juan\",\n",
    "        \"apellido\": \"Pérez\",\n",
    "        \"fecha_nacimiento\": \"1990-05-15\",\n",
    "        \"nacionalidad\": \"Español\",\n",
    "        \"datos_biometricos\": {\n",
    "          \"edad\": 32,\n",
    "          \"peso_kg\": 70,\n",
    "          \"altura_cm\": 175\n",
    "        }\n",
    "      }\n",
    "      ```\n",
    "\n",
    "6. Los datos también incluyen una lista de localizaciones, cada una con los siguientes atributos:\n",
    "\n",
    "    - **Nombre**: Nombre de la localización (por ejemplo, \"París\").\n",
    "\n",
    "    - **Fecha**: Fecha en formato `DD/MM/YYYY` (por ejemplo, \"26/06/2022\").\n",
    "\n",
    "    - **Tipo**: Tipo de localización (por ejemplo, \"Inicio\", \"Etapa\").\n",
    "\n",
    "    - **Distancia**: Distancia en kilómetros desde el inicio (por ejemplo, \"0 km\").\n",
    "\n",
    "    - **Altitud**: Altitud en metros sobre el nivel del mar (por ejemplo, \"0 m\").\n",
    "\n",
    "      Ejemplo de una localización:\n",
    "      ```json\n",
    "      {\n",
    "        \"nombre\": \"París\",\n",
    "        \"fecha\": \"26/06/2022\",\n",
    "        \"tipo\": \"Inicio\",\n",
    "        \"distancia\": \"0 km\",\n",
    "        \"altitud\": \"0 m\"\n",
    "      }\n",
    "      ```\n",
    "\n",
    "\n",
    "\n",
    "\n",
    "```python\n",
    "response = {\n",
    "    'ciclistas': [\n",
    "              {'nombre': 'Juan', 'apellido': 'Pérez', 'fecha_nacimiento': '1990-05-15', 'nacionalidad': 'Español', 'datos_biometricos': {'edad': 32, 'peso_kg': 70, 'altura_cm': 175}},\n",
    "              {'nombre': 'Maria', 'apellido': 'García', 'fecha_nacimiento': '1985-08-20', 'nacionalidad': 'Mexicana', 'datos_biometricos': {'edad': 37, 'peso_kg': 65, 'altura_cm': 168}},\n",
    "              {'nombre': 'Luis', 'apellido': 'Hernández', 'fecha_nacimiento': '1995-02-10', 'nacionalidad': 'Español', 'datos_biometricos': {'edad': 27, 'peso_kg': 68, 'altura_cm': 180}},\n",
    "              {'nombre': 'Ana', 'apellido': 'González', 'fecha_nacimiento': '1992-07-25', 'nacionalidad': 'Español', 'datos_biometricos': {'edad': 32, 'peso_kg': 65, 'altura_cm': 165}},\n",
    "              {'nombre': 'José', 'apellido': 'Rodríguez', 'fecha_nacimiento': '1991-09-10', 'nacionalidad': 'Español', 'datos_biometricos': {'edad': 31, 'peso_kg': 75, 'altura_cm': 185}},\n",
    "              {'nombre': 'María', 'apellido': 'López', 'fecha_nacimiento': '1993-04-20', 'nacionalidad': 'Español', 'datos_biometricos': {'edad': 30, 'peso_kg': 60, 'altura_cm': 160}},\n",
    "              {'nombre': 'Juan', 'apellido': 'Sánchez', 'fecha_nacimiento': '1994-06-15', 'nacionalidad': 'Español', 'datos_biometricos': {'edad': 29, 'peso_kg': 70, 'altura_cm': 175}},\n",
    "              {'nombre': 'Alicia', 'apellido': 'García', 'fecha_nacimiento': '1996-08-20', 'nacionalidad': 'Mexicana', 'datos_biometricos': {'edad': 28, 'peso_kg': 65, 'altura_cm': 168}},\n",
    "              {'nombre': 'José', 'apellido': 'Hernández', 'fecha_nacimiento': '1997-02-10', 'nacionalidad': 'Español', 'datos_biometricos': {'edad': 27, 'peso_kg': 68, 'altura_cm': 180}},\n",
    "              {'nombre': 'María', 'apellido': 'López', 'fecha_nacimiento': '1998-04-20', 'nacionalidad': 'Español', 'datos_biometricos': {'edad': 26, 'peso_kg': 60, 'altura_cm': 160}}\n",
    "                ],\n",
    "    'localizaciones': [\n",
    "              {'nombre': 'París', 'fecha': '26/06/2022', 'tipo': 'Inicio', 'distancia': '0 km', 'altitud': '0 m'},\n",
    "              {'nombre': 'Roubaix', 'fecha': '27/06/2022', 'tipo': 'Etapa', 'distancia': '200 km', 'altitud': '100 m'},\n",
    "              {'nombre': 'Lille', 'fecha': '28/06/2022', 'tipo': 'Etapa', 'distancia': '180 km', 'altitud': '150 m'},\n",
    "              {'nombre': 'Reims', 'fecha': '29/06/2022', 'tipo': 'Etapa', 'distancia': '220 km', 'altitud': '200 m'},\n",
    "              {'nombre': 'Metz', 'fecha': '30/06/2022', 'tipo': 'Etapa', 'distancia': '250 km', 'altitud': '250 m'},\n",
    "              {'nombre': 'Strasbourg', 'fecha': '01/07/2022', 'tipo': 'Etapa', 'distancia': '280 km', 'altitud': '300 m'},\n",
    "              {'nombre': 'Mulhouse', 'fecha': '02/07/2022', 'tipo': 'Etapa', 'distancia': '300 km', 'altitud': '350 m'},\n",
    "              {'nombre': 'Lyon', 'fecha': '03/07/2022', 'tipo': 'Etapa', 'distancia': '350 km', 'altitud': '400 m'},\n",
    "              {'nombre': 'Grenoble', 'fecha': '04/07/2022', 'tipo': 'Etapa', 'distancia': '400 km', 'altitud': '450 m'},\n",
    "              {'nombre': 'Toulouse', 'fecha': '05/07/2022', 'tipo': 'Etapa', 'distancia': '450 km', 'altitud': '500 m'}\n",
    "                   ]\n",
    "}\n",
    "```\n"
   ]
  },
  {
   "cell_type": "markdown",
   "metadata": {},
   "source": [
    "#### 1. ¿Qué tipo de estructura de datos es la variable `response` definida previamente?"
   ]
  },
  {
   "cell_type": "code",
   "execution_count": 1,
   "metadata": {},
   "outputs": [],
   "source": [
    "response = {\n",
    "    'ciclistas': [\n",
    "              {'nombre': 'Juan', 'apellido': 'Pérez', 'fecha_nacimiento': '1990-05-15', 'nacionalidad': 'Español', 'datos_biometricos': {'edad': 32, 'peso_kg': 70, 'altura_cm': 175}},\n",
    "              {'nombre': 'Maria', 'apellido': 'García', 'fecha_nacimiento': '1985-08-20', 'nacionalidad': 'Mexicana', 'datos_biometricos': {'edad': 37, 'peso_kg': 65, 'altura_cm': 168}},\n",
    "              {'nombre': 'Luis', 'apellido': 'Hernández', 'fecha_nacimiento': '1995-02-10', 'nacionalidad': 'Español', 'datos_biometricos': {'edad': 27, 'peso_kg': 68, 'altura_cm': 180}},\n",
    "              {'nombre': 'Ana', 'apellido': 'González', 'fecha_nacimiento': '1992-07-25', 'nacionalidad': 'Español', 'datos_biometricos': {'edad': 32, 'peso_kg': 65, 'altura_cm': 165}},\n",
    "              {'nombre': 'José', 'apellido': 'Rodríguez', 'fecha_nacimiento': '1991-09-10', 'nacionalidad': 'Español', 'datos_biometricos': {'edad': 31, 'peso_kg': 75, 'altura_cm': 185}},\n",
    "              {'nombre': 'María', 'apellido': 'López', 'fecha_nacimiento': '1993-04-20', 'nacionalidad': 'Español', 'datos_biometricos': {'edad': 30, 'peso_kg': 60, 'altura_cm': 160}},\n",
    "              {'nombre': 'Juan', 'apellido': 'Sánchez', 'fecha_nacimiento': '1994-06-15', 'nacionalidad': 'Español', 'datos_biometricos': {'edad': 29, 'peso_kg': 70, 'altura_cm': 175}},\n",
    "              {'nombre': 'Alicia', 'apellido': 'García', 'fecha_nacimiento': '1996-08-20', 'nacionalidad': 'Mexicana', 'datos_biometricos': {'edad': 28, 'peso_kg': 65, 'altura_cm': 168}},\n",
    "              {'nombre': 'José', 'apellido': 'Hernández', 'fecha_nacimiento': '1997-02-10', 'nacionalidad': 'Español', 'datos_biometricos': {'edad': 27, 'peso_kg': 68, 'altura_cm': 180}},\n",
    "              {'nombre': 'María', 'apellido': 'López', 'fecha_nacimiento': '1998-04-20', 'nacionalidad': 'Español', 'datos_biometricos': {'edad': 26, 'peso_kg': 60, 'altura_cm': 160}}\n",
    "                ],\n",
    "    'localizaciones': [\n",
    "              {'nombre': 'París', 'fecha': '26/06/2022', 'tipo': 'Inicio', 'distancia': '0 km', 'altitud': '0 m'},\n",
    "              {'nombre': 'Roubaix', 'fecha': '27/06/2022', 'tipo': 'Etapa', 'distancia': '200 km', 'altitud': '100 m'},\n",
    "              {'nombre': 'Lille', 'fecha': '28/06/2022', 'tipo': 'Etapa', 'distancia': '180 km', 'altitud': '150 m'},\n",
    "              {'nombre': 'Reims', 'fecha': '29/06/2022', 'tipo': 'Etapa', 'distancia': '220 km', 'altitud': '200 m'},\n",
    "              {'nombre': 'Metz', 'fecha': '30/06/2022', 'tipo': 'Etapa', 'distancia': '250 km', 'altitud': '250 m'},\n",
    "              {'nombre': 'Strasbourg', 'fecha': '01/07/2022', 'tipo': 'Etapa', 'distancia': '280 km', 'altitud': '300 m'},\n",
    "              {'nombre': 'Mulhouse', 'fecha': '02/07/2022', 'tipo': 'Etapa', 'distancia': '300 km', 'altitud': '350 m'},\n",
    "              {'nombre': 'Lyon', 'fecha': '03/07/2022', 'tipo': 'Etapa', 'distancia': '350 km', 'altitud': '400 m'},\n",
    "              {'nombre': 'Grenoble', 'fecha': '04/07/2022', 'tipo': 'Etapa', 'distancia': '400 km', 'altitud': '450 m'},\n",
    "              {'nombre': 'Toulouse', 'fecha': '05/07/2022', 'tipo': 'Etapa', 'distancia': '450 km', 'altitud': '500 m'}\n",
    "                   ]\n",
    "}"
   ]
  },
  {
   "cell_type": "code",
   "execution_count": 2,
   "metadata": {},
   "outputs": [
    {
     "name": "stdout",
     "output_type": "stream",
     "text": [
      "<class 'dict'>\n"
     ]
    }
   ],
   "source": [
    "print(type(response))"
   ]
  },
  {
   "cell_type": "markdown",
   "metadata": {
    "vscode": {
     "languageId": "plaintext"
    }
   },
   "source": [
    "#### 2. ¿Cuántos participantes hay en la varible `response`?"
   ]
  },
  {
   "cell_type": "code",
   "execution_count": 73,
   "metadata": {},
   "outputs": [
    {
     "name": "stdout",
     "output_type": "stream",
     "text": [
      "10\n"
     ]
    }
   ],
   "source": [
    "print(len(response['ciclistas']))"
   ]
  },
  {
   "cell_type": "markdown",
   "metadata": {},
   "source": [
    "#### 3. ¿Cuál es la nacionalidad del primer ciclista?"
   ]
  },
  {
   "cell_type": "code",
   "execution_count": 74,
   "metadata": {},
   "outputs": [
    {
     "name": "stdout",
     "output_type": "stream",
     "text": [
      "Español\n"
     ]
    }
   ],
   "source": [
    "print(response['ciclistas'][0]['nacionalidad'])"
   ]
  },
  {
   "cell_type": "markdown",
   "metadata": {},
   "source": [
    "#### 4. ¿Cuál es la fecha de nacimiento del tercer ciclista?"
   ]
  },
  {
   "cell_type": "code",
   "execution_count": 75,
   "metadata": {},
   "outputs": [
    {
     "name": "stdout",
     "output_type": "stream",
     "text": [
      "1995-02-10\n"
     ]
    }
   ],
   "source": [
    "print(response['ciclistas'][2]['fecha_nacimiento'])"
   ]
  },
  {
   "cell_type": "markdown",
   "metadata": {},
   "source": [
    "#### 5. ¿Cuál es el peso en kg del segundo ciclista?"
   ]
  },
  {
   "cell_type": "code",
   "execution_count": 93,
   "metadata": {},
   "outputs": [
    {
     "name": "stdout",
     "output_type": "stream",
     "text": [
      "65\n"
     ]
    }
   ],
   "source": [
    "print(response.get('ciclistas')[1].get('datos_biometricos').get('peso_kg'))"
   ]
  },
  {
   "cell_type": "markdown",
   "metadata": {},
   "source": [
    "#### 6. ¿Cuál es la altura en cm del último ciclista ?"
   ]
  },
  {
   "cell_type": "code",
   "execution_count": 76,
   "metadata": {},
   "outputs": [
    {
     "name": "stdout",
     "output_type": "stream",
     "text": [
      "160\n"
     ]
    }
   ],
   "source": [
    "print(response['ciclistas'][9]['datos_biometricos'].get('altura_cm'))"
   ]
  },
  {
   "cell_type": "markdown",
   "metadata": {},
   "source": [
    "#### 7. Indica el nombre de los ciclistas que nacieron en el siglo XX. "
   ]
  },
  {
   "cell_type": "code",
   "execution_count": 81,
   "metadata": {},
   "outputs": [
    {
     "name": "stdout",
     "output_type": "stream",
     "text": [
      "Juan\n",
      "Maria\n",
      "Luis\n",
      "Ana\n",
      "José\n",
      "María\n",
      "Juan\n",
      "Alicia\n",
      "José\n",
      "María\n"
     ]
    }
   ],
   "source": [
    "ciclistas = response['ciclistas']\n",
    "\n",
    "for i in ciclistas:\n",
    "    fecha_nacimiento = i['fecha_nacimiento']    \n",
    "    año_nacimiento = int(fecha_nacimiento.split('-')[0])\n",
    "    if 1900 <= año_nacimiento <= 1999:\n",
    "        print(i['nombre'])\n"
   ]
  },
  {
   "cell_type": "markdown",
   "metadata": {},
   "source": [
    "#### 8. ¿Cuál es el nombre completo del cuarto ciclista?"
   ]
  },
  {
   "cell_type": "code",
   "execution_count": 146,
   "metadata": {},
   "outputs": [
    {
     "name": "stdout",
     "output_type": "stream",
     "text": [
      "Ana González\n"
     ]
    }
   ],
   "source": [
    "name= response['ciclistas'][3]['nombre']\n",
    "lastname= response.get('ciclistas')[3].get('apellido')\n",
    "\n",
    "nombre_completo = name + ' ' + lastname\n",
    "print(nombre_completo)"
   ]
  },
  {
   "cell_type": "markdown",
   "metadata": {},
   "source": [
    "#### 9. Genera una lista con el nombre y apellido de cada ciclista. "
   ]
  },
  {
   "cell_type": "code",
   "execution_count": 83,
   "metadata": {},
   "outputs": [
    {
     "name": "stdout",
     "output_type": "stream",
     "text": [
      "Juan Pérez\n",
      "Maria García\n",
      "Luis Hernández\n",
      "Ana González\n",
      "José Rodríguez\n",
      "María López\n",
      "Juan Sánchez\n",
      "Alicia García\n",
      "José Hernández\n",
      "María López\n"
     ]
    }
   ],
   "source": [
    "ciclistas = response.get('ciclistas')\n",
    "\n",
    "for i in ciclistas:\n",
    "    print(i['nombre'] + ' ' + i['apellido'])\n",
    "    \n"
   ]
  },
  {
   "cell_type": "markdown",
   "metadata": {},
   "source": [
    "#### 10. ¿Cuál es la edad del quinto ciclista?"
   ]
  },
  {
   "cell_type": "code",
   "execution_count": 44,
   "metadata": {},
   "outputs": [
    {
     "name": "stdout",
     "output_type": "stream",
     "text": [
      "31\n"
     ]
    }
   ],
   "source": [
    "print(response.get('ciclistas')[4].get('datos_biometricos').get('edad'))"
   ]
  },
  {
   "cell_type": "markdown",
   "metadata": {},
   "source": [
    "#### 11. ¿Cuál es el apellido del sexto ciclista?"
   ]
  },
  {
   "cell_type": "code",
   "execution_count": 72,
   "metadata": {},
   "outputs": [
    {
     "name": "stdout",
     "output_type": "stream",
     "text": [
      "López\n"
     ]
    }
   ],
   "source": [
    "print(response['ciclistas'][5]['apellido'])"
   ]
  },
  {
   "cell_type": "markdown",
   "metadata": {},
   "source": [
    "#### 12. ¿Cuál es la nacionalidad del último ciclista?"
   ]
  },
  {
   "cell_type": "code",
   "execution_count": 46,
   "metadata": {},
   "outputs": [
    {
     "name": "stdout",
     "output_type": "stream",
     "text": [
      "Español\n"
     ]
    }
   ],
   "source": [
    "print(response.get('ciclistas')[-1].get('nacionalidad'))"
   ]
  },
  {
   "cell_type": "markdown",
   "metadata": {},
   "source": [
    "#### 13. ¿Cuál es la edad media de los ciclistas?"
   ]
  },
  {
   "cell_type": "code",
   "execution_count": 127,
   "metadata": {},
   "outputs": [
    {
     "name": "stdout",
     "output_type": "stream",
     "text": [
      "[32, 37, 27, 32, 31, 30, 29, 28, 27, 26]\n",
      "La edad media es 29.9\n"
     ]
    }
   ],
   "source": [
    "edades = []\n",
    "\n",
    "e1 = response['ciclistas'][0]['datos_biometricos']['edad']\n",
    "if e1 > 0:\n",
    "    edades.append(e1)\n",
    "e2 = response['ciclistas'][1]['datos_biometricos']['edad']\n",
    "if e2 > 0:\n",
    "    edades.append(e2)\n",
    "e3 = response['ciclistas'][2]['datos_biometricos']['edad']\n",
    "if e3 > 0:\n",
    "    edades.append(e3)\n",
    "e4 = response['ciclistas'][3]['datos_biometricos']['edad']\n",
    "if e4 > 0:\n",
    "    edades.append(e4)\n",
    "e5 = response['ciclistas'][4]['datos_biometricos']['edad']\n",
    "if e5 > 0:\n",
    "    edades.append(e5)\n",
    "e6 = response['ciclistas'][5]['datos_biometricos']['edad']\n",
    "if e6 > 0:\n",
    "    edades.append(e6)\n",
    "e7 = response['ciclistas'][6]['datos_biometricos']['edad']\n",
    "if e7 > 0:\n",
    "    edades.append(e7)\n",
    "e8 = response['ciclistas'][7]['datos_biometricos']['edad']\n",
    "if e8 > 0:\n",
    "    edades.append(e8)\n",
    "e9 = response['ciclistas'][8]['datos_biometricos']['edad']\n",
    "if e9 > 0:\n",
    "    edades.append(e9)\n",
    "e10 = response['ciclistas'][9]['datos_biometricos']['edad']\n",
    "if e10 > 0:\n",
    "    edades.append(e10)\n",
    "\n",
    "print(edades)\n",
    "\n",
    "media_edad = sum(edades)/len(edades)\n",
    "print(f'La edad media es {media_edad}')"
   ]
  },
  {
   "cell_type": "code",
   "execution_count": 128,
   "metadata": {},
   "outputs": [
    {
     "name": "stdout",
     "output_type": "stream",
     "text": [
      "[32, 37, 27, 32, 31, 30, 29, 28, 27, 26]\n",
      "La media de edad es 29.9\n"
     ]
    }
   ],
   "source": [
    "edades1 = []\n",
    "\n",
    "for i in response.get('ciclistas'):\n",
    "    edad = i['datos_biometricos']['edad']\n",
    "    if edad is not None:\n",
    "        edades1.append(edad)\n",
    "\n",
    "print(edades1)\n",
    "edades1_media = sum(edades1)/len(edades1)\n",
    "\n",
    "print(f'La media de edad es {edades1_media}')"
   ]
  },
  {
   "cell_type": "markdown",
   "metadata": {},
   "source": [
    "#### 14. ¿Cuántas localizaciones diferentes hay?"
   ]
  },
  {
   "cell_type": "code",
   "execution_count": 47,
   "metadata": {},
   "outputs": [
    {
     "name": "stdout",
     "output_type": "stream",
     "text": [
      "10\n"
     ]
    }
   ],
   "source": [
    "### Ojito\n",
    "\n",
    "print(len(response.get('localizaciones')))"
   ]
  },
  {
   "cell_type": "markdown",
   "metadata": {},
   "source": [
    "#### 15. ¿Cuál es el nombre de la primera localización?"
   ]
  },
  {
   "cell_type": "code",
   "execution_count": 148,
   "metadata": {},
   "outputs": [
    {
     "data": {
      "text/plain": [
       "'París'"
      ]
     },
     "execution_count": 148,
     "metadata": {},
     "output_type": "execute_result"
    }
   ],
   "source": [
    "response.get('localizaciones')[0].get('nombre')"
   ]
  },
  {
   "cell_type": "markdown",
   "metadata": {},
   "source": [
    "#### 16. ¿Cuál es la fecha de la segunda localización?"
   ]
  },
  {
   "cell_type": "code",
   "execution_count": 149,
   "metadata": {},
   "outputs": [
    {
     "data": {
      "text/plain": [
       "'27/06/2022'"
      ]
     },
     "execution_count": 149,
     "metadata": {},
     "output_type": "execute_result"
    }
   ],
   "source": [
    "response.get('localizaciones')[1].get('fecha')"
   ]
  },
  {
   "cell_type": "markdown",
   "metadata": {},
   "source": [
    "#### 17. ¿Cuál es el tipo de la tercera localización?"
   ]
  },
  {
   "cell_type": "code",
   "execution_count": 150,
   "metadata": {},
   "outputs": [
    {
     "data": {
      "text/plain": [
       "'Etapa'"
      ]
     },
     "execution_count": 150,
     "metadata": {},
     "output_type": "execute_result"
    }
   ],
   "source": [
    "response.get('localizaciones')[2].get('tipo')"
   ]
  },
  {
   "cell_type": "markdown",
   "metadata": {},
   "source": [
    "#### 18. ¿Cuál es la distancia de la cuarta localización?"
   ]
  },
  {
   "cell_type": "code",
   "execution_count": 51,
   "metadata": {},
   "outputs": [
    {
     "data": {
      "text/plain": [
       "'200 km'"
      ]
     },
     "execution_count": 51,
     "metadata": {},
     "output_type": "execute_result"
    }
   ],
   "source": [
    "response.get('localizaciones')[1].get('distancia')"
   ]
  },
  {
   "cell_type": "markdown",
   "metadata": {},
   "source": [
    "#### 19. ¿Cuál es la localización con mayor distancia?"
   ]
  },
  {
   "cell_type": "code",
   "execution_count": 141,
   "metadata": {},
   "outputs": [
    {
     "name": "stdout",
     "output_type": "stream",
     "text": [
      "['450 km', '400 km', '350 km', '300 km', '280 km', '250 km', '220 km', '200 km', '180 km', '0 km']\n",
      "450 km\n"
     ]
    }
   ],
   "source": [
    "distancias = []\n",
    "\n",
    "for i in response.get('localizaciones'):\n",
    "    distance = i['distancia']\n",
    "    if distance is not None:\n",
    "        distancias.append(distance)\n",
    "\n",
    "distancias.sort(reverse = True)\n",
    "print(distancias)\n",
    "\n",
    "print(max(distancias))"
   ]
  },
  {
   "cell_type": "code",
   "execution_count": 144,
   "metadata": {},
   "outputs": [
    {
     "name": "stdout",
     "output_type": "stream",
     "text": [
      "Toulouse\n"
     ]
    }
   ],
   "source": [
    "from math import inf\n",
    "\n",
    "locales = response['localizaciones']\n",
    "dist_max = 0\n",
    "localizacion_max = None\n",
    "\n",
    "for i in locales:\n",
    "    distancia_str = i['distancia']  # Obtén la distancia como una cadena\n",
    "    # Elimina ' km' o cualquier otro texto no numérico\n",
    "    distancia_num = int(distancia_str.split()[0])\n",
    "    if distancia_num > dist_max:\n",
    "        dist_max = distancia_num\n",
    "        localizacion_max = i\n",
    "\n",
    "print(localizacion_max['nombre'])\n"
   ]
  },
  {
   "cell_type": "code",
   "execution_count": null,
   "metadata": {},
   "outputs": [],
   "source": [
    "# definimos una lista por la que iteraremos\n",
    "frutas = [\"manzana\", \"banana\", \"cereza\"]\n",
    "\n",
    "# iniciamos el bucle for, fijaos como ahora, al igual que en los diccionarios, el primero corresponde al índice y el segundo al elemento por el que estamos iterando\n",
    "for indice, valor in enumerate(frutas):\n",
    "\n",
    "    # mostramos en pantalla el índice y el valor\n",
    "    print(f\"Índice: {indice}, Valor: {valor}\")"
   ]
  },
  {
   "cell_type": "markdown",
   "metadata": {},
   "source": [
    "#### 20. ¿Cuál es la altitud de la quinta localización?"
   ]
  },
  {
   "cell_type": "code",
   "execution_count": 57,
   "metadata": {},
   "outputs": [
    {
     "data": {
      "text/plain": [
       "'250 m'"
      ]
     },
     "execution_count": 57,
     "metadata": {},
     "output_type": "execute_result"
    }
   ],
   "source": [
    "response.get('localizaciones')[4].get('altitud')"
   ]
  },
  {
   "cell_type": "markdown",
   "metadata": {},
   "source": [
    "#### 21. ¿Cuál es el nombre de la última localización?"
   ]
  },
  {
   "cell_type": "code",
   "execution_count": 67,
   "metadata": {},
   "outputs": [
    {
     "data": {
      "text/plain": [
       "'Toulouse'"
      ]
     },
     "execution_count": 67,
     "metadata": {},
     "output_type": "execute_result"
    }
   ],
   "source": [
    "response.get('localizaciones')[-1].get('nombre')"
   ]
  },
  {
   "cell_type": "markdown",
   "metadata": {},
   "source": [
    "#### 22. ¿Cuál es la fecha de la penúltima localización?"
   ]
  },
  {
   "cell_type": "code",
   "execution_count": 68,
   "metadata": {},
   "outputs": [
    {
     "data": {
      "text/plain": [
       "'04/07/2022'"
      ]
     },
     "execution_count": 68,
     "metadata": {},
     "output_type": "execute_result"
    }
   ],
   "source": [
    "response.get('localizaciones')[-2].get('fecha')"
   ]
  },
  {
   "cell_type": "markdown",
   "metadata": {},
   "source": [
    "#### 23. ¿Cuál es el tipo de la antepenúltima localización?"
   ]
  },
  {
   "cell_type": "code",
   "execution_count": 69,
   "metadata": {},
   "outputs": [
    {
     "data": {
      "text/plain": [
       "'Etapa'"
      ]
     },
     "execution_count": 69,
     "metadata": {},
     "output_type": "execute_result"
    }
   ],
   "source": [
    "response.get('localizaciones')[-3].get('tipo')"
   ]
  },
  {
   "cell_type": "markdown",
   "metadata": {},
   "source": [
    "#### 24. ¿Cuál es la distancia de la cuarta localización?\n"
   ]
  },
  {
   "cell_type": "code",
   "execution_count": 70,
   "metadata": {},
   "outputs": [
    {
     "data": {
      "text/plain": [
       "'280 km'"
      ]
     },
     "execution_count": 70,
     "metadata": {},
     "output_type": "execute_result"
    }
   ],
   "source": [
    "response.get('localizaciones')[5].get('distancia')"
   ]
  },
  {
   "cell_type": "code",
   "execution_count": null,
   "metadata": {},
   "outputs": [],
   "source": []
  }
 ],
 "metadata": {
  "kernelspec": {
   "display_name": "contenido",
   "language": "python",
   "name": "python3"
  },
  "language_info": {
   "codemirror_mode": {
    "name": "ipython",
    "version": 3
   },
   "file_extension": ".py",
   "mimetype": "text/x-python",
   "name": "python",
   "nbconvert_exporter": "python",
   "pygments_lexer": "ipython3",
   "version": "3.11.9"
  }
 },
 "nbformat": 4,
 "nbformat_minor": 2
}
