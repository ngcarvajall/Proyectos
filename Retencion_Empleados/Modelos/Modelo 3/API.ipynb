{
 "cells": [
  {
   "cell_type": "code",
   "execution_count": 79,
   "metadata": {},
   "outputs": [],
   "source": [
    "import requests"
   ]
  },
  {
   "cell_type": "code",
   "execution_count": 80,
   "metadata": {},
   "outputs": [],
   "source": [
    "diccionario = {'Age': 51,\n",
    " 'BusinessTravel': 'Travel_Rarely',\n",
    " 'Department': 'Sales',\n",
    " 'DistanceFromHome': 6,\n",
    " 'Education': 2,\n",
    " 'EducationField': 'Life Sciences',\n",
    " 'Gender': 'Female',\n",
    " 'JobLevel': 1,\n",
    " 'JobRole': 'Healthcare Representative',\n",
    " 'MaritalStatus': 'Married',\n",
    " 'MonthlyIncome': 131160,\n",
    " 'NumCompaniesWorked': 1.0,\n",
    " 'PercentSalaryHike': 11,\n",
    " 'StockOptionLevel': 0,\n",
    " 'TotalWorkingYears': 1.0,\n",
    " 'TrainingTimesLastYear': 6,\n",
    " 'YearsAtCompany': 1,\n",
    " 'YearsSinceLastPromotion': 0,\n",
    " 'YearsWithCurrManager': 0,\n",
    " 'PerformanceRating': 3,\n",
    " 'EnvironmentSatisfaction': 3.0,\n",
    " 'JobSatisfaction': 4.0,\n",
    " 'WorkLifeBalance': 2.0,\n",
    " 'JobInvolvement': 2,\n",
    " 'PerformanceRating': 3\n",
    " }"
   ]
  },
  {
   "cell_type": "code",
   "execution_count": 81,
   "metadata": {},
   "outputs": [
    {
     "data": {
      "text/plain": [
       "<Response [200]>"
      ]
     },
     "execution_count": 81,
     "metadata": {},
     "output_type": "execute_result"
    }
   ],
   "source": [
    "res = requests.post('http://127.0.0.1:5000/predict', json=diccionario)\n",
    "res"
   ]
  },
  {
   "cell_type": "code",
   "execution_count": 82,
   "metadata": {},
   "outputs": [
    {
     "data": {
      "text/plain": [
       "{'prediccion': 0, 'probabilidad de que se vaya': 0.04970525801652688}"
      ]
     },
     "execution_count": 82,
     "metadata": {},
     "output_type": "execute_result"
    }
   ],
   "source": [
    "res.json()"
   ]
  },
  {
   "cell_type": "code",
   "execution_count": null,
   "metadata": {},
   "outputs": [],
   "source": []
  }
 ],
 "metadata": {
  "kernelspec": {
   "display_name": "Python 3",
   "language": "python",
   "name": "python3"
  },
  "language_info": {
   "codemirror_mode": {
    "name": "ipython",
    "version": 3
   },
   "file_extension": ".py",
   "mimetype": "text/x-python",
   "name": "python",
   "nbconvert_exporter": "python",
   "pygments_lexer": "ipython3",
   "version": "3.11.9"
  }
 },
 "nbformat": 4,
 "nbformat_minor": 2
}
