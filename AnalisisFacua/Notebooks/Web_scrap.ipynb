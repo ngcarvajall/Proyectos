{
 "cells": [
  {
   "cell_type": "code",
   "execution_count": 1,
   "metadata": {},
   "outputs": [],
   "source": [
    "from bs4 import BeautifulSoup\n",
    "import random\n",
    "# Requests\n",
    "import requests\n",
    "from tqdm import tqdm\n",
    "import pandas as pd\n",
    "import numpy as np\n",
    "import sys\n",
    "import psycopg2\n",
    "from psycopg2 import OperationalError, errorcodes, errors\n",
    "import datetime\n",
    "sys.path.append(\"..\")\n",
    "\n",
    "from src.funciones import obtener_url_decat_deproducto, obtener_url_decat_deproducto2, scrapeo"
   ]
  },
  {
   "cell_type": "code",
   "execution_count": 4,
   "metadata": {},
   "outputs": [
    {
     "data": {
      "text/plain": [
       "['https://super.facua.org/mercadona',\n",
       " 'https://super.facua.org/carrefour',\n",
       " 'https://super.facua.org/eroski',\n",
       " 'https://super.facua.org/dia',\n",
       " 'https://super.facua.org/hipercor',\n",
       " 'https://super.facua.org/alcampo']"
      ]
     },
     "execution_count": 4,
     "metadata": {},
     "output_type": "execute_result"
    }
   ],
   "source": [
    "lista_supermercados = ['mercadona', 'carrefour', 'eroski', 'dia', 'hipercor', 'alcampo']\n",
    "lista_webs = []\n",
    "for i in lista_supermercados:\n",
    "    url_supermercado = f'https://super.facua.org/{i}'\n",
    "    lista_webs.append(url_supermercado)\n",
    "\n",
    "lista_webs"
   ]
  },
  {
   "cell_type": "code",
   "execution_count": 5,
   "metadata": {},
   "outputs": [
    {
     "name": "stdout",
     "output_type": "stream",
     "text": [
      "Hemos hecho el requests, vamos al if\n",
      "Hemos hecho el requests, vamos al if\n",
      "Hemos hecho el requests, vamos al if\n",
      "Hemos hecho el requests, vamos al if\n",
      "Hemos hecho el requests, vamos al if\n",
      "Hemos hecho el requests, vamos al if\n"
     ]
    }
   ],
   "source": [
    "lista_categorias_supermercados = []\n",
    "for i in lista_webs:\n",
    "    hrefs = obtener_url_decat_deproducto(i)\n",
    "    lista_categorias_supermercados.append(hrefs)"
   ]
  },
  {
   "cell_type": "code",
   "execution_count": 6,
   "metadata": {},
   "outputs": [
    {
     "name": "stdout",
     "output_type": "stream",
     "text": [
      "6\n",
      "3\n"
     ]
    }
   ],
   "source": [
    "print(len(lista_categorias_supermercados))\n",
    "print(len(lista_categorias_supermercados[0]))"
   ]
  },
  {
   "cell_type": "code",
   "execution_count": 7,
   "metadata": {},
   "outputs": [
    {
     "data": {
      "text/plain": [
       "[['https://super.facua.org/mercadona/aceite-de-girasol/',\n",
       "  'https://super.facua.org/mercadona/aceite-de-oliva/',\n",
       "  'https://super.facua.org/mercadona/leche/'],\n",
       " ['https://super.facua.org/carrefour/aceite-de-girasol/',\n",
       "  'https://super.facua.org/carrefour/aceite-de-oliva/',\n",
       "  'https://super.facua.org/carrefour/leche/'],\n",
       " ['https://super.facua.org/eroski/aceite-de-girasol/',\n",
       "  'https://super.facua.org/eroski/aceite-de-oliva/',\n",
       "  'https://super.facua.org/eroski/leche/'],\n",
       " ['https://super.facua.org/dia/aceite-de-girasol/',\n",
       "  'https://super.facua.org/dia/aceite-de-oliva/',\n",
       "  'https://super.facua.org/dia/leche/'],\n",
       " ['https://super.facua.org/hipercor/aceite-de-girasol/',\n",
       "  'https://super.facua.org/hipercor/aceite-de-oliva/',\n",
       "  'https://super.facua.org/hipercor/leche/'],\n",
       " ['https://super.facua.org/alcampo/aceite-de-girasol/',\n",
       "  'https://super.facua.org/alcampo/aceite-de-oliva/',\n",
       "  'https://super.facua.org/alcampo/leche/']]"
      ]
     },
     "execution_count": 7,
     "metadata": {},
     "output_type": "execute_result"
    }
   ],
   "source": [
    "lista_categorias_supermercados\n",
    "# lista_categorias_supermercados"
   ]
  },
  {
   "cell_type": "code",
   "execution_count": 8,
   "metadata": {},
   "outputs": [
    {
     "name": "stdout",
     "output_type": "stream",
     "text": [
      "Hemos hecho el requests, vamos al if\n",
      "Hemos hecho el requests, vamos al if\n",
      "Hemos hecho el requests, vamos al if\n",
      "Hemos hecho el requests, vamos al if\n",
      "Hemos hecho el requests, vamos al if\n",
      "Hemos hecho el requests, vamos al if\n",
      "Hemos hecho el requests, vamos al if\n",
      "Hemos hecho el requests, vamos al if\n",
      "Hemos hecho el requests, vamos al if\n",
      "Hemos hecho el requests, vamos al if\n",
      "Hemos hecho el requests, vamos al if\n",
      "Hemos hecho el requests, vamos al if\n",
      "Hemos hecho el requests, vamos al if\n",
      "Hemos hecho el requests, vamos al if\n",
      "Hemos hecho el requests, vamos al if\n",
      "Hemos hecho el requests, vamos al if\n",
      "Hemos hecho el requests, vamos al if\n",
      "Hemos hecho el requests, vamos al if\n"
     ]
    }
   ],
   "source": [
    "lista_hrefs_articulos_totales_supermercados = []\n",
    "for i in range(len(lista_categorias_supermercados)):\n",
    "    for href in (lista_categorias_supermercados[i]):\n",
    "        lista_href_productos_supermercados = obtener_url_decat_deproducto2(href)\n",
    "        lista_hrefs_articulos_totales_supermercados.append(lista_href_productos_supermercados)\n"
   ]
  },
  {
   "cell_type": "code",
   "execution_count": 9,
   "metadata": {},
   "outputs": [
    {
     "data": {
      "text/plain": [
       "['https://super.facua.org/mercadona/aceite-de-girasol/aceite-de-girasol-refinado-02-hacendado-1-l/',\n",
       " 'https://super.facua.org/mercadona/aceite-de-girasol/aceite-de-girasol-refinado-02-hacendado-5-l/']"
      ]
     },
     "execution_count": 9,
     "metadata": {},
     "output_type": "execute_result"
    }
   ],
   "source": [
    "lista_hrefs_articulos_totales_supermercados[0]"
   ]
  },
  {
   "cell_type": "code",
   "execution_count": 10,
   "metadata": {},
   "outputs": [],
   "source": [
    "df = pd.DataFrame()"
   ]
  },
  {
   "cell_type": "code",
   "execution_count": 11,
   "metadata": {},
   "outputs": [
    {
     "name": "stderr",
     "output_type": "stream",
     "text": [
      "100%|██████████| 18/18 [05:44<00:00, 19.12s/it]\n"
     ]
    }
   ],
   "source": [
    "# df1 = pd.DataFrame()\n",
    "df2 = pd.DataFrame()\n",
    "for i in tqdm(range(len(lista_hrefs_articulos_totales_supermercados))):\n",
    "    for href in (lista_hrefs_articulos_totales_supermercados[i]):\n",
    "        df3 = scrapeo(href)\n",
    "        df3['Supermercado'] = href.split('/')[-4]\n",
    "        df3['Categoría'] = href.split('/')[-3]\n",
    "        df3['Artículo'] = href.split('/')[-2]\n",
    "        df2 = pd.concat([df2,df3])\n",
    "    "
   ]
  },
  {
   "cell_type": "code",
   "execution_count": 12,
   "metadata": {},
   "outputs": [],
   "source": [
    "df2.to_csv('../datos/precios_historico_supermercados.csv', index=False)"
   ]
  },
  {
   "cell_type": "code",
   "execution_count": 13,
   "metadata": {},
   "outputs": [
    {
     "data": {
      "text/html": [
       "<div>\n",
       "<style scoped>\n",
       "    .dataframe tbody tr th:only-of-type {\n",
       "        vertical-align: middle;\n",
       "    }\n",
       "\n",
       "    .dataframe tbody tr th {\n",
       "        vertical-align: top;\n",
       "    }\n",
       "\n",
       "    .dataframe thead th {\n",
       "        text-align: right;\n",
       "    }\n",
       "</style>\n",
       "<table border=\"1\" class=\"dataframe\">\n",
       "  <thead>\n",
       "    <tr style=\"text-align: right;\">\n",
       "      <th></th>\n",
       "      <th>Día</th>\n",
       "      <th>Precio (€)</th>\n",
       "      <th>Variación</th>\n",
       "      <th>Supermercado</th>\n",
       "      <th>Categoría</th>\n",
       "      <th>Artículo</th>\n",
       "    </tr>\n",
       "  </thead>\n",
       "  <tbody>\n",
       "    <tr>\n",
       "      <th>0</th>\n",
       "      <td>12/07/2024</td>\n",
       "      <td>1,45</td>\n",
       "      <td>=</td>\n",
       "      <td>mercadona</td>\n",
       "      <td>aceite-de-girasol</td>\n",
       "      <td>aceite-de-girasol-refinado-02-hacendado-1-l</td>\n",
       "    </tr>\n",
       "    <tr>\n",
       "      <th>1</th>\n",
       "      <td>13/07/2024</td>\n",
       "      <td>1,45</td>\n",
       "      <td>=</td>\n",
       "      <td>mercadona</td>\n",
       "      <td>aceite-de-girasol</td>\n",
       "      <td>aceite-de-girasol-refinado-02-hacendado-1-l</td>\n",
       "    </tr>\n",
       "    <tr>\n",
       "      <th>2</th>\n",
       "      <td>14/07/2024</td>\n",
       "      <td>1,45</td>\n",
       "      <td>=</td>\n",
       "      <td>mercadona</td>\n",
       "      <td>aceite-de-girasol</td>\n",
       "      <td>aceite-de-girasol-refinado-02-hacendado-1-l</td>\n",
       "    </tr>\n",
       "    <tr>\n",
       "      <th>3</th>\n",
       "      <td>15/07/2024</td>\n",
       "      <td>1,45</td>\n",
       "      <td>=</td>\n",
       "      <td>mercadona</td>\n",
       "      <td>aceite-de-girasol</td>\n",
       "      <td>aceite-de-girasol-refinado-02-hacendado-1-l</td>\n",
       "    </tr>\n",
       "    <tr>\n",
       "      <th>4</th>\n",
       "      <td>16/07/2024</td>\n",
       "      <td>1,45</td>\n",
       "      <td>=</td>\n",
       "      <td>mercadona</td>\n",
       "      <td>aceite-de-girasol</td>\n",
       "      <td>aceite-de-girasol-refinado-02-hacendado-1-l</td>\n",
       "    </tr>\n",
       "  </tbody>\n",
       "</table>\n",
       "</div>"
      ],
      "text/plain": [
       "          Día Precio (€) Variación Supermercado          Categoría  \\\n",
       "0  12/07/2024       1,45         =    mercadona  aceite-de-girasol   \n",
       "1  13/07/2024       1,45         =    mercadona  aceite-de-girasol   \n",
       "2  14/07/2024       1,45         =    mercadona  aceite-de-girasol   \n",
       "3  15/07/2024       1,45         =    mercadona  aceite-de-girasol   \n",
       "4  16/07/2024       1,45         =    mercadona  aceite-de-girasol   \n",
       "\n",
       "                                      Artículo  \n",
       "0  aceite-de-girasol-refinado-02-hacendado-1-l  \n",
       "1  aceite-de-girasol-refinado-02-hacendado-1-l  \n",
       "2  aceite-de-girasol-refinado-02-hacendado-1-l  \n",
       "3  aceite-de-girasol-refinado-02-hacendado-1-l  \n",
       "4  aceite-de-girasol-refinado-02-hacendado-1-l  "
      ]
     },
     "execution_count": 13,
     "metadata": {},
     "output_type": "execute_result"
    }
   ],
   "source": [
    "df2.head()"
   ]
  },
  {
   "cell_type": "code",
   "execution_count": 14,
   "metadata": {},
   "outputs": [
    {
     "name": "stdout",
     "output_type": "stream",
     "text": [
      "<class 'pandas.core.frame.DataFrame'>\n",
      "Index: 135867 entries, 0 to 42\n",
      "Data columns (total 6 columns):\n",
      " #   Column        Non-Null Count   Dtype \n",
      "---  ------        --------------   ----- \n",
      " 0   Día           135867 non-null  object\n",
      " 1   Precio (€)    135867 non-null  object\n",
      " 2   Variación     135867 non-null  object\n",
      " 3   Supermercado  135867 non-null  object\n",
      " 4   Categoría     135867 non-null  object\n",
      " 5   Artículo      135867 non-null  object\n",
      "dtypes: object(6)\n",
      "memory usage: 7.3+ MB\n"
     ]
    }
   ],
   "source": [
    "df2.info()"
   ]
  },
  {
   "cell_type": "code",
   "execution_count": 15,
   "metadata": {},
   "outputs": [],
   "source": [
    "df2['Precio (€)'] = df2['Precio (€)'].str.replace(',', '.')"
   ]
  },
  {
   "cell_type": "code",
   "execution_count": 16,
   "metadata": {},
   "outputs": [],
   "source": [
    "df2['Precio (€)'] =  df2['Precio (€)'].astype(float)"
   ]
  },
  {
   "cell_type": "code",
   "execution_count": 17,
   "metadata": {},
   "outputs": [
    {
     "name": "stdout",
     "output_type": "stream",
     "text": [
      "<class 'pandas.core.frame.DataFrame'>\n",
      "Index: 135867 entries, 0 to 42\n",
      "Data columns (total 6 columns):\n",
      " #   Column        Non-Null Count   Dtype  \n",
      "---  ------        --------------   -----  \n",
      " 0   Día           135867 non-null  object \n",
      " 1   Precio (€)    135867 non-null  float64\n",
      " 2   Variación     135867 non-null  object \n",
      " 3   Supermercado  135867 non-null  object \n",
      " 4   Categoría     135867 non-null  object \n",
      " 5   Artículo      135867 non-null  object \n",
      "dtypes: float64(1), object(5)\n",
      "memory usage: 7.3+ MB\n"
     ]
    }
   ],
   "source": [
    "df2.info()"
   ]
  },
  {
   "cell_type": "code",
   "execution_count": 18,
   "metadata": {},
   "outputs": [],
   "source": [
    "df2['Día'] = pd.to_datetime(df2['Día'], format = \"%d/%m/%Y\")"
   ]
  },
  {
   "cell_type": "code",
   "execution_count": 19,
   "metadata": {},
   "outputs": [],
   "source": [
    "df_categoria = df2[['Categoría']].drop_duplicates().reset_index(drop=True).reset_index()"
   ]
  },
  {
   "cell_type": "code",
   "execution_count": 20,
   "metadata": {},
   "outputs": [],
   "source": [
    "df_categoria.columns= ['Id_Categoria', 'Categoría']"
   ]
  },
  {
   "cell_type": "code",
   "execution_count": 22,
   "metadata": {},
   "outputs": [],
   "source": [
    "df_supermercado = df2[['Supermercado']].drop_duplicates().reset_index(drop=True).reset_index()"
   ]
  },
  {
   "cell_type": "code",
   "execution_count": 23,
   "metadata": {},
   "outputs": [],
   "source": [
    "df_supermercado.columns= ['Id_Supermercado', 'Supermercado']"
   ]
  },
  {
   "cell_type": "code",
   "execution_count": 24,
   "metadata": {},
   "outputs": [],
   "source": [
    "df_mergeo_1 = df2.merge(df_categoria, how='inner', left_on= 'Categoría', right_on= 'Categoría').drop(columns='Categoría')"
   ]
  },
  {
   "cell_type": "code",
   "execution_count": 25,
   "metadata": {},
   "outputs": [],
   "source": [
    "df_mergeo_1 = df_mergeo_1.merge(df_supermercado, how='inner', left_on='Supermercado', right_on='Supermercado').drop(columns='Supermercado')"
   ]
  },
  {
   "cell_type": "code",
   "execution_count": 26,
   "metadata": {},
   "outputs": [],
   "source": [
    "df_mergeo_1['Variación'] = df_mergeo_1['Variación'].str.split(' ').str[0].str.replace(',', '.').str.replace('=', '0')\n"
   ]
  },
  {
   "cell_type": "code",
   "execution_count": 27,
   "metadata": {},
   "outputs": [],
   "source": [
    "df_mergeo_1['Variación'] = df_mergeo_1['Variación'].astype(float)"
   ]
  },
  {
   "cell_type": "code",
   "execution_count": 29,
   "metadata": {},
   "outputs": [],
   "source": [
    "df_mergeo_1['Id_Categoria'] = df_mergeo_1['Id_Categoria'].apply(lambda x: x + 1)\n",
    "df_categoria['Id_Categoria'] = df_categoria['Id_Categoria'].apply(lambda x:x+1)\n",
    "df_supermercado['Id_Supermercado'] = df_supermercado['Id_Supermercado'].apply(lambda x: x + 1)\n",
    "df_mergeo_1['Id_Supermercado'] = df_mergeo_1['Id_Supermercado'].apply(lambda x: x + 1)"
   ]
  },
  {
   "cell_type": "code",
   "execution_count": 30,
   "metadata": {},
   "outputs": [
    {
     "data": {
      "text/html": [
       "<div>\n",
       "<style scoped>\n",
       "    .dataframe tbody tr th:only-of-type {\n",
       "        vertical-align: middle;\n",
       "    }\n",
       "\n",
       "    .dataframe tbody tr th {\n",
       "        vertical-align: top;\n",
       "    }\n",
       "\n",
       "    .dataframe thead th {\n",
       "        text-align: right;\n",
       "    }\n",
       "</style>\n",
       "<table border=\"1\" class=\"dataframe\">\n",
       "  <thead>\n",
       "    <tr style=\"text-align: right;\">\n",
       "      <th></th>\n",
       "      <th>Día</th>\n",
       "      <th>Precio (€)</th>\n",
       "      <th>Variación</th>\n",
       "      <th>Artículo</th>\n",
       "      <th>Id_Categoria</th>\n",
       "      <th>Id_Supermercado</th>\n",
       "    </tr>\n",
       "  </thead>\n",
       "  <tbody>\n",
       "    <tr>\n",
       "      <th>123501</th>\n",
       "      <td>2024-10-23</td>\n",
       "      <td>1.11</td>\n",
       "      <td>0.0</td>\n",
       "      <td>central-lechera-asturiana-leche-desnatada-0-ma...</td>\n",
       "      <td>3</td>\n",
       "      <td>6</td>\n",
       "    </tr>\n",
       "    <tr>\n",
       "      <th>23063</th>\n",
       "      <td>2024-10-19</td>\n",
       "      <td>2.51</td>\n",
       "      <td>0.0</td>\n",
       "      <td>aceite-de-girasol-borgesol-botella-1-litro</td>\n",
       "      <td>1</td>\n",
       "      <td>3</td>\n",
       "    </tr>\n",
       "    <tr>\n",
       "      <th>128861</th>\n",
       "      <td>2024-08-03</td>\n",
       "      <td>3.15</td>\n",
       "      <td>0.0</td>\n",
       "      <td>mntbelle-leche-fresca-de-cabra-750-ml-</td>\n",
       "      <td>3</td>\n",
       "      <td>6</td>\n",
       "    </tr>\n",
       "    <tr>\n",
       "      <th>74305</th>\n",
       "      <td>2024-10-17</td>\n",
       "      <td>16.90</td>\n",
       "      <td>0.0</td>\n",
       "      <td>germanor-aceite-de-oliva-virgen-extra-botella-...</td>\n",
       "      <td>2</td>\n",
       "      <td>5</td>\n",
       "    </tr>\n",
       "    <tr>\n",
       "      <th>105520</th>\n",
       "      <td>2024-08-16</td>\n",
       "      <td>3.13</td>\n",
       "      <td>0.0</td>\n",
       "      <td>carbonell-aceite-de-oliva-spray-especial-planc...</td>\n",
       "      <td>2</td>\n",
       "      <td>6</td>\n",
       "    </tr>\n",
       "  </tbody>\n",
       "</table>\n",
       "</div>"
      ],
      "text/plain": [
       "              Día  Precio (€)  Variación  \\\n",
       "123501 2024-10-23        1.11        0.0   \n",
       "23063  2024-10-19        2.51        0.0   \n",
       "128861 2024-08-03        3.15        0.0   \n",
       "74305  2024-10-17       16.90        0.0   \n",
       "105520 2024-08-16        3.13        0.0   \n",
       "\n",
       "                                                 Artículo  Id_Categoria  \\\n",
       "123501  central-lechera-asturiana-leche-desnatada-0-ma...             3   \n",
       "23063          aceite-de-girasol-borgesol-botella-1-litro             1   \n",
       "128861             mntbelle-leche-fresca-de-cabra-750-ml-             3   \n",
       "74305   germanor-aceite-de-oliva-virgen-extra-botella-...             2   \n",
       "105520  carbonell-aceite-de-oliva-spray-especial-planc...             2   \n",
       "\n",
       "        Id_Supermercado  \n",
       "123501                6  \n",
       "23063                 3  \n",
       "128861                6  \n",
       "74305                 5  \n",
       "105520                6  "
      ]
     },
     "execution_count": 30,
     "metadata": {},
     "output_type": "execute_result"
    }
   ],
   "source": [
    "df_mergeo_1.sample(5)"
   ]
  },
  {
   "cell_type": "code",
   "execution_count": 31,
   "metadata": {},
   "outputs": [
    {
     "data": {
      "text/plain": [
       "np.int64(1992)"
      ]
     },
     "execution_count": 31,
     "metadata": {},
     "output_type": "execute_result"
    }
   ],
   "source": [
    "df_mergeo_1.duplicated().sum()"
   ]
  },
  {
   "cell_type": "code",
   "execution_count": 32,
   "metadata": {},
   "outputs": [],
   "source": [
    "df_mergeo_1 = df_mergeo_1.drop_duplicates()"
   ]
  },
  {
   "cell_type": "code",
   "execution_count": 33,
   "metadata": {},
   "outputs": [
    {
     "data": {
      "text/plain": [
       "np.int64(0)"
      ]
     },
     "execution_count": 33,
     "metadata": {},
     "output_type": "execute_result"
    }
   ],
   "source": [
    "df_mergeo_1.duplicated().sum()"
   ]
  },
  {
   "cell_type": "code",
   "execution_count": 53,
   "metadata": {},
   "outputs": [
    {
     "data": {
      "text/plain": [
       "(133875, 6)"
      ]
     },
     "execution_count": 53,
     "metadata": {},
     "output_type": "execute_result"
    }
   ],
   "source": [
    "df_mergeo_1.shape"
   ]
  },
  {
   "cell_type": "code",
   "execution_count": 34,
   "metadata": {},
   "outputs": [],
   "source": [
    "df_mergeo_1.to_csv('../datos/precios_mergeo.csv', index=False)"
   ]
  },
  {
   "cell_type": "code",
   "execution_count": 35,
   "metadata": {},
   "outputs": [],
   "source": [
    "df_categoria.to_csv('../datos/categorias.csv', index=False)\n",
    "df_supermercado.to_csv('../datos/supermercados.csv', index=False)"
   ]
  },
  {
   "cell_type": "markdown",
   "metadata": {},
   "source": [
    "Primera Exploración de Datos."
   ]
  },
  {
   "cell_type": "markdown",
   "metadata": {},
   "source": [
    "Haciendo una investigacón en los datos, pude darme cuenta de que algunos supermercados tienen productos duplicados entre sus artículos. Esto lo pude demostrar entrando a las webs de estos supermercados para darme cuenta de lo que sucedía. En un primer momento, hice una toma de datos en el día anterior. Lo que me había arrojado una menor cantidad a la actual (135867). Luego de quitar los duplicados me quedo con la cantidad de (133875). \n",
    "\n",
    "Al principio, todos los datos fueron recibidos en formato object, pero para una correcta carga de datos hice algunas modificaciones: cambié la columna 'día' a formato datetime, modifiqué el precio y variación a formato float, y las categorías de ID a formato int.\n",
    "\n",
    "Hice un describe para ver algunas cositas, donde el precio promedio en general no llega a los 10 € (9.68).\n",
    "\n",
    "Así mismo pude ver que no hay nulos."
   ]
  },
  {
   "cell_type": "code",
   "execution_count": null,
   "metadata": {},
   "outputs": [
    {
     "data": {
      "text/plain": [
       "(133875, 6)"
      ]
     },
     "metadata": {},
     "output_type": "display_data"
    }
   ],
   "source": [
    "df_mergeo_1.shape"
   ]
  },
  {
   "cell_type": "code",
   "execution_count": null,
   "metadata": {},
   "outputs": [
    {
     "name": "stdout",
     "output_type": "stream",
     "text": [
      "<class 'pandas.core.frame.DataFrame'>\n",
      "Index: 133875 entries, 0 to 135866\n",
      "Data columns (total 6 columns):\n",
      " #   Column           Non-Null Count   Dtype         \n",
      "---  ------           --------------   -----         \n",
      " 0   Día              133875 non-null  datetime64[ns]\n",
      " 1   Precio (€)       133875 non-null  float64       \n",
      " 2   Variación        133875 non-null  float64       \n",
      " 3   Artículo         133875 non-null  object        \n",
      " 4   Id_Categoria     133875 non-null  int64         \n",
      " 5   Id_Supermercado  133875 non-null  int64         \n",
      "dtypes: datetime64[ns](1), float64(2), int64(2), object(1)\n",
      "memory usage: 7.1+ MB\n"
     ]
    }
   ],
   "source": [
    "df_mergeo_1.info()"
   ]
  },
  {
   "cell_type": "code",
   "execution_count": null,
   "metadata": {},
   "outputs": [
    {
     "data": {
      "text/html": [
       "<div>\n",
       "<style scoped>\n",
       "    .dataframe tbody tr th:only-of-type {\n",
       "        vertical-align: middle;\n",
       "    }\n",
       "\n",
       "    .dataframe tbody tr th {\n",
       "        vertical-align: top;\n",
       "    }\n",
       "\n",
       "    .dataframe thead th {\n",
       "        text-align: right;\n",
       "    }\n",
       "</style>\n",
       "<table border=\"1\" class=\"dataframe\">\n",
       "  <thead>\n",
       "    <tr style=\"text-align: right;\">\n",
       "      <th></th>\n",
       "      <th>Día</th>\n",
       "      <th>Precio (€)</th>\n",
       "      <th>Variación</th>\n",
       "      <th>Id_Categoria</th>\n",
       "      <th>Id_Supermercado</th>\n",
       "    </tr>\n",
       "  </thead>\n",
       "  <tbody>\n",
       "    <tr>\n",
       "      <th>count</th>\n",
       "      <td>133875</td>\n",
       "      <td>133875.000000</td>\n",
       "      <td>133875.000000</td>\n",
       "      <td>133875.000000</td>\n",
       "      <td>133875.000000</td>\n",
       "    </tr>\n",
       "    <tr>\n",
       "      <th>mean</th>\n",
       "      <td>2024-08-30 12:36:56.551260160</td>\n",
       "      <td>9.688601</td>\n",
       "      <td>-0.003513</td>\n",
       "      <td>2.472710</td>\n",
       "      <td>4.235772</td>\n",
       "    </tr>\n",
       "    <tr>\n",
       "      <th>min</th>\n",
       "      <td>2024-06-22 00:00:00</td>\n",
       "      <td>0.500000</td>\n",
       "      <td>-21.330000</td>\n",
       "      <td>1.000000</td>\n",
       "      <td>1.000000</td>\n",
       "    </tr>\n",
       "    <tr>\n",
       "      <th>25%</th>\n",
       "      <td>2024-08-04 00:00:00</td>\n",
       "      <td>1.420000</td>\n",
       "      <td>0.000000</td>\n",
       "      <td>2.000000</td>\n",
       "      <td>3.000000</td>\n",
       "    </tr>\n",
       "    <tr>\n",
       "      <th>50%</th>\n",
       "      <td>2024-08-30 00:00:00</td>\n",
       "      <td>5.160000</td>\n",
       "      <td>0.000000</td>\n",
       "      <td>3.000000</td>\n",
       "      <td>5.000000</td>\n",
       "    </tr>\n",
       "    <tr>\n",
       "      <th>75%</th>\n",
       "      <td>2024-09-25 00:00:00</td>\n",
       "      <td>11.020000</td>\n",
       "      <td>0.000000</td>\n",
       "      <td>3.000000</td>\n",
       "      <td>5.000000</td>\n",
       "    </tr>\n",
       "    <tr>\n",
       "      <th>max</th>\n",
       "      <td>2024-10-26 00:00:00</td>\n",
       "      <td>154.320000</td>\n",
       "      <td>20.690000</td>\n",
       "      <td>3.000000</td>\n",
       "      <td>6.000000</td>\n",
       "    </tr>\n",
       "    <tr>\n",
       "      <th>std</th>\n",
       "      <td>NaN</td>\n",
       "      <td>13.619848</td>\n",
       "      <td>0.530699</td>\n",
       "      <td>0.584003</td>\n",
       "      <td>1.499421</td>\n",
       "    </tr>\n",
       "  </tbody>\n",
       "</table>\n",
       "</div>"
      ],
      "text/plain": [
       "                                 Día     Precio (€)      Variación  \\\n",
       "count                         133875  133875.000000  133875.000000   \n",
       "mean   2024-08-30 12:36:56.551260160       9.688601      -0.003513   \n",
       "min              2024-06-22 00:00:00       0.500000     -21.330000   \n",
       "25%              2024-08-04 00:00:00       1.420000       0.000000   \n",
       "50%              2024-08-30 00:00:00       5.160000       0.000000   \n",
       "75%              2024-09-25 00:00:00      11.020000       0.000000   \n",
       "max              2024-10-26 00:00:00     154.320000      20.690000   \n",
       "std                              NaN      13.619848       0.530699   \n",
       "\n",
       "        Id_Categoria  Id_Supermercado  \n",
       "count  133875.000000    133875.000000  \n",
       "mean        2.472710         4.235772  \n",
       "min         1.000000         1.000000  \n",
       "25%         2.000000         3.000000  \n",
       "50%         3.000000         5.000000  \n",
       "75%         3.000000         5.000000  \n",
       "max         3.000000         6.000000  \n",
       "std         0.584003         1.499421  "
      ]
     },
     "metadata": {},
     "output_type": "display_data"
    }
   ],
   "source": [
    "df_mergeo_1.describe()"
   ]
  },
  {
   "cell_type": "code",
   "execution_count": 54,
   "metadata": {},
   "outputs": [
    {
     "data": {
      "text/html": [
       "<div>\n",
       "<style scoped>\n",
       "    .dataframe tbody tr th:only-of-type {\n",
       "        vertical-align: middle;\n",
       "    }\n",
       "\n",
       "    .dataframe tbody tr th {\n",
       "        vertical-align: top;\n",
       "    }\n",
       "\n",
       "    .dataframe thead th {\n",
       "        text-align: right;\n",
       "    }\n",
       "</style>\n",
       "<table border=\"1\" class=\"dataframe\">\n",
       "  <thead>\n",
       "    <tr style=\"text-align: right;\">\n",
       "      <th></th>\n",
       "      <th>Id_Categoria</th>\n",
       "      <th>Categoría</th>\n",
       "    </tr>\n",
       "  </thead>\n",
       "  <tbody>\n",
       "    <tr>\n",
       "      <th>0</th>\n",
       "      <td>1</td>\n",
       "      <td>aceite-de-girasol</td>\n",
       "    </tr>\n",
       "    <tr>\n",
       "      <th>1</th>\n",
       "      <td>2</td>\n",
       "      <td>aceite-de-oliva</td>\n",
       "    </tr>\n",
       "    <tr>\n",
       "      <th>2</th>\n",
       "      <td>3</td>\n",
       "      <td>leche</td>\n",
       "    </tr>\n",
       "  </tbody>\n",
       "</table>\n",
       "</div>"
      ],
      "text/plain": [
       "   Id_Categoria          Categoría\n",
       "0             1  aceite-de-girasol\n",
       "1             2    aceite-de-oliva\n",
       "2             3              leche"
      ]
     },
     "execution_count": 54,
     "metadata": {},
     "output_type": "execute_result"
    }
   ],
   "source": [
    "df_categoria"
   ]
  },
  {
   "cell_type": "code",
   "execution_count": null,
   "metadata": {},
   "outputs": [
    {
     "data": {
      "text/plain": [
       "Id_Categoria\n",
       "1     4.889268\n",
       "2    18.615759\n",
       "3     2.617056\n",
       "Name: Precio (€), dtype: float64"
      ]
     },
     "metadata": {},
     "output_type": "display_data"
    }
   ],
   "source": [
    "df_mergeo_1.groupby('Id_Categoria')['Precio (€)'].mean()"
   ]
  },
  {
   "cell_type": "code",
   "execution_count": null,
   "metadata": {},
   "outputs": [
    {
     "data": {
      "text/plain": [
       "Id_Supermercado\n",
       "1     6.657574\n",
       "2    10.488101\n",
       "3     6.324794\n",
       "4     6.607959\n",
       "5    11.082174\n",
       "6    11.663299\n",
       "Name: Precio (€), dtype: float64"
      ]
     },
     "metadata": {},
     "output_type": "display_data"
    }
   ],
   "source": [
    "df_mergeo_1.groupby('Id_Supermercado')['Precio (€)'].mean()"
   ]
  },
  {
   "cell_type": "code",
   "execution_count": 56,
   "metadata": {},
   "outputs": [
    {
     "data": {
      "text/plain": [
       "Id_Supermercado  Id_Categoria\n",
       "1                1               1.45\n",
       "                 2               2.90\n",
       "                 3               0.77\n",
       "2                1               1.45\n",
       "                 2               1.46\n",
       "                 3               0.72\n",
       "3                1               1.39\n",
       "                 2               1.89\n",
       "                 3               0.73\n",
       "4                1               1.49\n",
       "                 2               2.15\n",
       "                 3               0.69\n",
       "5                1               1.40\n",
       "                 2               1.75\n",
       "                 3               0.64\n",
       "6                1               1.00\n",
       "                 2               2.83\n",
       "                 3               0.50\n",
       "Name: Precio (€), dtype: float64"
      ]
     },
     "execution_count": 56,
     "metadata": {},
     "output_type": "execute_result"
    }
   ],
   "source": [
    "df_mergeo_1.groupby(['Id_Supermercado', 'Id_Categoria'])['Precio (€)'].min()"
   ]
  },
  {
   "cell_type": "code",
   "execution_count": 57,
   "metadata": {},
   "outputs": [
    {
     "data": {
      "text/plain": [
       "Id_Supermercado  Id_Categoria\n",
       "1                1                 6.91\n",
       "                 2                28.80\n",
       "                 3                 9.36\n",
       "2                1                40.67\n",
       "                 2                63.50\n",
       "                 3                46.30\n",
       "3                1                11.99\n",
       "                 2                64.59\n",
       "                 3                 6.85\n",
       "4                1                10.99\n",
       "                 2                39.65\n",
       "                 3                14.64\n",
       "5                1                12.79\n",
       "                 2               154.32\n",
       "                 3                16.95\n",
       "6                1                15.88\n",
       "                 2                62.99\n",
       "                 3                23.43\n",
       "Name: Precio (€), dtype: float64"
      ]
     },
     "execution_count": 57,
     "metadata": {},
     "output_type": "execute_result"
    }
   ],
   "source": [
    "df_mergeo_1.groupby(['Id_Supermercado', 'Id_Categoria'])['Precio (€)'].max()"
   ]
  }
 ],
 "metadata": {
  "kernelspec": {
   "display_name": "Python 3",
   "language": "python",
   "name": "python3"
  },
  "language_info": {
   "codemirror_mode": {
    "name": "ipython",
    "version": 3
   },
   "file_extension": ".py",
   "mimetype": "text/x-python",
   "name": "python",
   "nbconvert_exporter": "python",
   "pygments_lexer": "ipython3",
   "version": "3.11.9"
  }
 },
 "nbformat": 4,
 "nbformat_minor": 2
}
