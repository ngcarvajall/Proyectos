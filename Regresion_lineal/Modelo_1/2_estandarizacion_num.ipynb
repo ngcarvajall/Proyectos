{
 "cells": [
  {
   "cell_type": "code",
   "execution_count": 14,
   "metadata": {},
   "outputs": [],
   "source": [
    "# -----------------------------------------------------------------------\n",
    "from sklearn.preprocessing import MinMaxScaler, Normalizer, StandardScaler, RobustScaler\n",
    "\n",
    "# Tratamiento de datos\n",
    "# -----------------------------------------------------------------------\n",
    "import pandas as pd\n",
    "\n",
    "# Tratamiento de datos\n",
    "# -----------------------------------------------------------------------\n",
    "import numpy as np\n",
    "import pandas as pd\n",
    "\n",
    "# Otros objetivos\n",
    "# -----------------------------------------------------------------------\n",
    "import math\n",
    "import sys\n",
    "import os\n",
    "sys.path.append('../') #pongo los 2 puntos para que salga de la carpeta\n",
    "# -----------------------------------------------------------------------\n",
    "import seaborn as sns\n",
    "import matplotlib.pyplot as plt"
   ]
  },
  {
   "cell_type": "code",
   "execution_count": null,
   "metadata": {},
   "outputs": [
    {
     "data": {
      "text/html": [
       "<div>\n",
       "<style scoped>\n",
       "    .dataframe tbody tr th:only-of-type {\n",
       "        vertical-align: middle;\n",
       "    }\n",
       "\n",
       "    .dataframe tbody tr th {\n",
       "        vertical-align: top;\n",
       "    }\n",
       "\n",
       "    .dataframe thead th {\n",
       "        text-align: right;\n",
       "    }\n",
       "</style>\n",
       "<table border=\"1\" class=\"dataframe\">\n",
       "  <thead>\n",
       "    <tr style=\"text-align: right;\">\n",
       "      <th></th>\n",
       "      <th>price</th>\n",
       "      <th>propertyType</th>\n",
       "      <th>size</th>\n",
       "      <th>exterior</th>\n",
       "      <th>rooms</th>\n",
       "      <th>bathrooms</th>\n",
       "      <th>distance</th>\n",
       "      <th>status</th>\n",
       "      <th>floor</th>\n",
       "      <th>hasLift</th>\n",
       "    </tr>\n",
       "  </thead>\n",
       "  <tbody>\n",
       "    <tr>\n",
       "      <th>0</th>\n",
       "      <td>750.0</td>\n",
       "      <td>flat</td>\n",
       "      <td>60.0</td>\n",
       "      <td>True</td>\n",
       "      <td>1</td>\n",
       "      <td>1</td>\n",
       "      <td>7037</td>\n",
       "      <td>good</td>\n",
       "      <td>3</td>\n",
       "      <td>True</td>\n",
       "    </tr>\n",
       "    <tr>\n",
       "      <th>1</th>\n",
       "      <td>750.0</td>\n",
       "      <td>flat</td>\n",
       "      <td>70.0</td>\n",
       "      <td>True</td>\n",
       "      <td>2</td>\n",
       "      <td>1</td>\n",
       "      <td>16145</td>\n",
       "      <td>good</td>\n",
       "      <td>bj</td>\n",
       "      <td>False</td>\n",
       "    </tr>\n",
       "    <tr>\n",
       "      <th>2</th>\n",
       "      <td>400.0</td>\n",
       "      <td>penthouse</td>\n",
       "      <td>67.0</td>\n",
       "      <td>True</td>\n",
       "      <td>2</td>\n",
       "      <td>2</td>\n",
       "      <td>55041</td>\n",
       "      <td>good</td>\n",
       "      <td>2</td>\n",
       "      <td>False</td>\n",
       "    </tr>\n",
       "    <tr>\n",
       "      <th>3</th>\n",
       "      <td>590.0</td>\n",
       "      <td>flat</td>\n",
       "      <td>70.0</td>\n",
       "      <td>True</td>\n",
       "      <td>3</td>\n",
       "      <td>2</td>\n",
       "      <td>56596</td>\n",
       "      <td>good</td>\n",
       "      <td>Desconocido</td>\n",
       "      <td>False</td>\n",
       "    </tr>\n",
       "    <tr>\n",
       "      <th>4</th>\n",
       "      <td>684.0</td>\n",
       "      <td>studio</td>\n",
       "      <td>45.0</td>\n",
       "      <td>True</td>\n",
       "      <td>0</td>\n",
       "      <td>1</td>\n",
       "      <td>10656</td>\n",
       "      <td>Desconocido</td>\n",
       "      <td>Desconocido</td>\n",
       "      <td>Desconocido</td>\n",
       "    </tr>\n",
       "  </tbody>\n",
       "</table>\n",
       "</div>"
      ],
      "text/plain": [
       "   price propertyType  size  exterior  rooms  bathrooms  distance  \\\n",
       "0  750.0         flat  60.0      True      1          1      7037   \n",
       "1  750.0         flat  70.0      True      2          1     16145   \n",
       "2  400.0    penthouse  67.0      True      2          2     55041   \n",
       "3  590.0         flat  70.0      True      3          2     56596   \n",
       "4  684.0       studio  45.0      True      0          1     10656   \n",
       "\n",
       "        status        floor      hasLift  \n",
       "0         good            3         True  \n",
       "1         good           bj        False  \n",
       "2         good            2        False  \n",
       "3         good  Desconocido        False  \n",
       "4  Desconocido  Desconocido  Desconocido  "
      ]
     },
     "execution_count": 15,
     "metadata": {},
     "output_type": "execute_result"
    }
   ],
   "source": [
    "df = pd.read_csv('C:\\\\Users\\\\DELL\\\\Git\\\\Proyecto7---Proyecto-Regresi-n-Lineal\\\\Datos\\\\datos_1\\\\datos_limpios.csv', index_col=0)\n",
    "df.head()"
   ]
  },
  {
   "cell_type": "code",
   "execution_count": 16,
   "metadata": {},
   "outputs": [
    {
     "data": {
      "text/html": [
       "<div>\n",
       "<style scoped>\n",
       "    .dataframe tbody tr th:only-of-type {\n",
       "        vertical-align: middle;\n",
       "    }\n",
       "\n",
       "    .dataframe tbody tr th {\n",
       "        vertical-align: top;\n",
       "    }\n",
       "\n",
       "    .dataframe thead th {\n",
       "        text-align: right;\n",
       "    }\n",
       "</style>\n",
       "<table border=\"1\" class=\"dataframe\">\n",
       "  <thead>\n",
       "    <tr style=\"text-align: right;\">\n",
       "      <th></th>\n",
       "      <th>price</th>\n",
       "      <th>size</th>\n",
       "      <th>rooms</th>\n",
       "      <th>bathrooms</th>\n",
       "      <th>distance</th>\n",
       "    </tr>\n",
       "  </thead>\n",
       "  <tbody>\n",
       "    <tr>\n",
       "      <th>count</th>\n",
       "      <td>353.000000</td>\n",
       "      <td>353.000000</td>\n",
       "      <td>353.000000</td>\n",
       "      <td>353.000000</td>\n",
       "      <td>353.000000</td>\n",
       "    </tr>\n",
       "    <tr>\n",
       "      <th>mean</th>\n",
       "      <td>692.932011</td>\n",
       "      <td>59.728045</td>\n",
       "      <td>1.543909</td>\n",
       "      <td>1.110482</td>\n",
       "      <td>16698.824363</td>\n",
       "    </tr>\n",
       "    <tr>\n",
       "      <th>std</th>\n",
       "      <td>61.307820</td>\n",
       "      <td>23.799745</td>\n",
       "      <td>0.934760</td>\n",
       "      <td>0.322857</td>\n",
       "      <td>13549.504221</td>\n",
       "    </tr>\n",
       "    <tr>\n",
       "      <th>min</th>\n",
       "      <td>400.000000</td>\n",
       "      <td>20.000000</td>\n",
       "      <td>0.000000</td>\n",
       "      <td>1.000000</td>\n",
       "      <td>183.000000</td>\n",
       "    </tr>\n",
       "    <tr>\n",
       "      <th>25%</th>\n",
       "      <td>650.000000</td>\n",
       "      <td>45.000000</td>\n",
       "      <td>1.000000</td>\n",
       "      <td>1.000000</td>\n",
       "      <td>5656.000000</td>\n",
       "    </tr>\n",
       "    <tr>\n",
       "      <th>50%</th>\n",
       "      <td>700.000000</td>\n",
       "      <td>57.000000</td>\n",
       "      <td>2.000000</td>\n",
       "      <td>1.000000</td>\n",
       "      <td>12321.000000</td>\n",
       "    </tr>\n",
       "    <tr>\n",
       "      <th>75%</th>\n",
       "      <td>740.000000</td>\n",
       "      <td>70.000000</td>\n",
       "      <td>2.000000</td>\n",
       "      <td>1.000000</td>\n",
       "      <td>26558.000000</td>\n",
       "    </tr>\n",
       "    <tr>\n",
       "      <th>max</th>\n",
       "      <td>750.000000</td>\n",
       "      <td>206.000000</td>\n",
       "      <td>4.000000</td>\n",
       "      <td>3.000000</td>\n",
       "      <td>56596.000000</td>\n",
       "    </tr>\n",
       "  </tbody>\n",
       "</table>\n",
       "</div>"
      ],
      "text/plain": [
       "            price        size       rooms   bathrooms      distance\n",
       "count  353.000000  353.000000  353.000000  353.000000    353.000000\n",
       "mean   692.932011   59.728045    1.543909    1.110482  16698.824363\n",
       "std     61.307820   23.799745    0.934760    0.322857  13549.504221\n",
       "min    400.000000   20.000000    0.000000    1.000000    183.000000\n",
       "25%    650.000000   45.000000    1.000000    1.000000   5656.000000\n",
       "50%    700.000000   57.000000    2.000000    1.000000  12321.000000\n",
       "75%    740.000000   70.000000    2.000000    1.000000  26558.000000\n",
       "max    750.000000  206.000000    4.000000    3.000000  56596.000000"
      ]
     },
     "execution_count": 16,
     "metadata": {},
     "output_type": "execute_result"
    }
   ],
   "source": [
    "df.describe()"
   ]
  },
  {
   "cell_type": "markdown",
   "metadata": {},
   "source": [
    "Estas dos son variables categóricas en todo momento, pero debo retomarlas porque me las vuelve a colocar en numéricas."
   ]
  },
  {
   "cell_type": "code",
   "execution_count": 17,
   "metadata": {},
   "outputs": [],
   "source": [
    "df['bathrooms'] = df['bathrooms'].astype('O')\n",
    "df['rooms'] = df['rooms'].astype('O')"
   ]
  },
  {
   "cell_type": "code",
   "execution_count": 18,
   "metadata": {},
   "outputs": [
    {
     "data": {
      "text/html": [
       "<div>\n",
       "<style scoped>\n",
       "    .dataframe tbody tr th:only-of-type {\n",
       "        vertical-align: middle;\n",
       "    }\n",
       "\n",
       "    .dataframe tbody tr th {\n",
       "        vertical-align: top;\n",
       "    }\n",
       "\n",
       "    .dataframe thead th {\n",
       "        text-align: right;\n",
       "    }\n",
       "</style>\n",
       "<table border=\"1\" class=\"dataframe\">\n",
       "  <thead>\n",
       "    <tr style=\"text-align: right;\">\n",
       "      <th></th>\n",
       "      <th>price</th>\n",
       "      <th>size</th>\n",
       "      <th>distance</th>\n",
       "    </tr>\n",
       "  </thead>\n",
       "  <tbody>\n",
       "    <tr>\n",
       "      <th>count</th>\n",
       "      <td>353.000000</td>\n",
       "      <td>353.000000</td>\n",
       "      <td>353.000000</td>\n",
       "    </tr>\n",
       "    <tr>\n",
       "      <th>mean</th>\n",
       "      <td>692.932011</td>\n",
       "      <td>59.728045</td>\n",
       "      <td>16698.824363</td>\n",
       "    </tr>\n",
       "    <tr>\n",
       "      <th>std</th>\n",
       "      <td>61.307820</td>\n",
       "      <td>23.799745</td>\n",
       "      <td>13549.504221</td>\n",
       "    </tr>\n",
       "    <tr>\n",
       "      <th>min</th>\n",
       "      <td>400.000000</td>\n",
       "      <td>20.000000</td>\n",
       "      <td>183.000000</td>\n",
       "    </tr>\n",
       "    <tr>\n",
       "      <th>25%</th>\n",
       "      <td>650.000000</td>\n",
       "      <td>45.000000</td>\n",
       "      <td>5656.000000</td>\n",
       "    </tr>\n",
       "    <tr>\n",
       "      <th>50%</th>\n",
       "      <td>700.000000</td>\n",
       "      <td>57.000000</td>\n",
       "      <td>12321.000000</td>\n",
       "    </tr>\n",
       "    <tr>\n",
       "      <th>75%</th>\n",
       "      <td>740.000000</td>\n",
       "      <td>70.000000</td>\n",
       "      <td>26558.000000</td>\n",
       "    </tr>\n",
       "    <tr>\n",
       "      <th>max</th>\n",
       "      <td>750.000000</td>\n",
       "      <td>206.000000</td>\n",
       "      <td>56596.000000</td>\n",
       "    </tr>\n",
       "  </tbody>\n",
       "</table>\n",
       "</div>"
      ],
      "text/plain": [
       "            price        size      distance\n",
       "count  353.000000  353.000000    353.000000\n",
       "mean   692.932011   59.728045  16698.824363\n",
       "std     61.307820   23.799745  13549.504221\n",
       "min    400.000000   20.000000    183.000000\n",
       "25%    650.000000   45.000000   5656.000000\n",
       "50%    700.000000   57.000000  12321.000000\n",
       "75%    740.000000   70.000000  26558.000000\n",
       "max    750.000000  206.000000  56596.000000"
      ]
     },
     "execution_count": 18,
     "metadata": {},
     "output_type": "execute_result"
    }
   ],
   "source": [
    "df.describe()"
   ]
  },
  {
   "cell_type": "code",
   "execution_count": 19,
   "metadata": {},
   "outputs": [],
   "source": [
    "escalador_robust = RobustScaler()\n",
    "datos_transf_robust = escalador_robust.fit_transform(df[[\"size\", 'distance']])\n",
    "df[[\"size_robust\", 'distance_robust']] = datos_transf_robust\n",
    "\n",
    "escalador_min_max = MinMaxScaler()\n",
    "datos_transf_min_max = escalador_min_max.fit_transform(df[[\"size\", 'distance']])\n",
    "df[[\"size_minmax\", 'distance_minmax']] = datos_transf_min_max\n",
    "\n",
    "escalador_norm = Normalizer()\n",
    "datos_transf_norm = escalador_norm.fit_transform(df[[\"size\", 'distance']])\n",
    "df[[\"size_norm\", 'distance_norm']] = datos_transf_norm\n",
    "\n",
    "escalador_stand = StandardScaler()\n",
    "datos_transf_stand = escalador_stand.fit_transform(df[[\"size\", 'distance']])\n",
    "df[[\"size_stand\", 'distance_stand']] = datos_transf_stand"
   ]
  },
  {
   "cell_type": "code",
   "execution_count": 20,
   "metadata": {},
   "outputs": [
    {
     "data": {
      "image/png": "[encoded data removed]",
      "text/plain": [
       "<Figure size 1500x1000 with 20 Axes>"
      ]
     },
     "metadata": {},
     "output_type": "display_data"
    }
   ],
   "source": [
    "fig , axes = plt.subplots(nrows=4 , ncols=5, figsize = (15, 10))\n",
    "sns.boxplot(x = \"size_robust\", data = df, ax = axes[0][0])\n",
    "sns.boxplot(x = \"size_minmax\", data = df, ax = axes[0][1])\n",
    "sns.boxplot(x = \"size_norm\", data = df, ax = axes[0][2])\n",
    "sns.boxplot(x = \"size_stand\", data = df, ax = axes[0][3])\n",
    "sns.boxplot(x = \"size\", data = df, ax = axes[0][4])\n",
    "\n",
    "sns.boxplot(x = \"distance_robust\", data = df, ax = axes[1][0])\n",
    "sns.boxplot(x = \"distance_minmax\", data = df, ax = axes[1][1])\n",
    "sns.boxplot(x = \"distance_norm\", data = df, ax = axes[1][2])\n",
    "sns.boxplot(x = \"distance_stand\", data = df, ax = axes[1][3])\n",
    "sns.boxplot(x = \"distance\", data = df, ax = axes[1][4])\n",
    "\n",
    "sns.histplot(x = \"size_robust\", data = df, ax = axes[2][0], bins = 50)\n",
    "sns.histplot(x = \"size_minmax\", data = df, ax = axes[2][1], bins = 50)\n",
    "sns.histplot(x = \"size_norm\", data = df, ax = axes[2][2], bins = 50)\n",
    "sns.histplot(x = \"size_stand\", data = df, ax = axes[2][3], bins = 50)\n",
    "sns.histplot(x = \"size\", data = df, ax = axes[2][4], bins = 50)\n",
    "\n",
    "\n",
    "sns.histplot(x = \"distance_robust\", data = df, ax = axes[3][0], bins = 50)\n",
    "sns.histplot(x = \"distance_minmax\", data = df, ax = axes[3][1], bins = 50)\n",
    "sns.histplot(x = \"distance_norm\", data = df, ax = axes[3][2], bins = 50)\n",
    "sns.histplot(x = \"distance_stand\", data = df, ax = axes[3][3], bins = 50)\n",
    "sns.histplot(x = \"distance\", data = df, ax = axes[3][4], bins = 50)\n",
    "\n",
    "plt.tight_layout()"
   ]
  },
  {
   "cell_type": "markdown",
   "metadata": {},
   "source": [
    "Decidí quedarme con las columnas del método stand ya que este método lo utilizo porque tengo outliers y no son de mucha importancia."
   ]
  },
  {
   "cell_type": "markdown",
   "metadata": {},
   "source": [
    "## Observaciones"
   ]
  },
  {
   "cell_type": "markdown",
   "metadata": {},
   "source": [
    "- Existen outliers en mi variable size, estos aparecen por encima de los 100 m2. Estos son pocos, pero debemos considerar qué tipo de pisos son "
   ]
  },
  {
   "cell_type": "code",
   "execution_count": 21,
   "metadata": {},
   "outputs": [
    {
     "data": {
      "text/plain": [
       "Index(['price', 'propertyType', 'size', 'exterior', 'rooms', 'bathrooms',\n",
       "       'distance', 'status', 'floor', 'hasLift', 'size_robust',\n",
       "       'distance_robust', 'size_minmax', 'distance_minmax', 'size_norm',\n",
       "       'distance_norm', 'size_stand', 'distance_stand'],\n",
       "      dtype='object')"
      ]
     },
     "execution_count": 21,
     "metadata": {},
     "output_type": "execute_result"
    }
   ],
   "source": [
    "df.columns"
   ]
  },
  {
   "cell_type": "code",
   "execution_count": 22,
   "metadata": {},
   "outputs": [],
   "source": [
    "columnas_seleccionadas= ['price', 'propertyType', 'size_stand', 'exterior', 'rooms', 'bathrooms',\n",
    "       'distance_stand', 'status', 'floor', 'hasLift']"
   ]
  },
  {
   "cell_type": "code",
   "execution_count": 23,
   "metadata": {},
   "outputs": [],
   "source": [
    "df_filtrado = df[columnas_seleccionadas]"
   ]
  },
  {
   "cell_type": "code",
   "execution_count": 24,
   "metadata": {},
   "outputs": [
    {
     "data": {
      "text/html": [
       "<div>\n",
       "<style scoped>\n",
       "    .dataframe tbody tr th:only-of-type {\n",
       "        vertical-align: middle;\n",
       "    }\n",
       "\n",
       "    .dataframe tbody tr th {\n",
       "        vertical-align: top;\n",
       "    }\n",
       "\n",
       "    .dataframe thead th {\n",
       "        text-align: right;\n",
       "    }\n",
       "</style>\n",
       "<table border=\"1\" class=\"dataframe\">\n",
       "  <thead>\n",
       "    <tr style=\"text-align: right;\">\n",
       "      <th></th>\n",
       "      <th>price</th>\n",
       "      <th>propertyType</th>\n",
       "      <th>size_stand</th>\n",
       "      <th>exterior</th>\n",
       "      <th>rooms</th>\n",
       "      <th>bathrooms</th>\n",
       "      <th>distance_stand</th>\n",
       "      <th>status</th>\n",
       "      <th>floor</th>\n",
       "      <th>hasLift</th>\n",
       "    </tr>\n",
       "  </thead>\n",
       "  <tbody>\n",
       "    <tr>\n",
       "      <th>0</th>\n",
       "      <td>750.0</td>\n",
       "      <td>flat</td>\n",
       "      <td>0.011443</td>\n",
       "      <td>True</td>\n",
       "      <td>1</td>\n",
       "      <td>1</td>\n",
       "      <td>-0.714088</td>\n",
       "      <td>good</td>\n",
       "      <td>3</td>\n",
       "      <td>True</td>\n",
       "    </tr>\n",
       "    <tr>\n",
       "      <th>1</th>\n",
       "      <td>750.0</td>\n",
       "      <td>flat</td>\n",
       "      <td>0.432212</td>\n",
       "      <td>True</td>\n",
       "      <td>2</td>\n",
       "      <td>1</td>\n",
       "      <td>-0.040932</td>\n",
       "      <td>good</td>\n",
       "      <td>bj</td>\n",
       "      <td>False</td>\n",
       "    </tr>\n",
       "    <tr>\n",
       "      <th>2</th>\n",
       "      <td>400.0</td>\n",
       "      <td>penthouse</td>\n",
       "      <td>0.305981</td>\n",
       "      <td>True</td>\n",
       "      <td>2</td>\n",
       "      <td>2</td>\n",
       "      <td>2.833801</td>\n",
       "      <td>good</td>\n",
       "      <td>2</td>\n",
       "      <td>False</td>\n",
       "    </tr>\n",
       "    <tr>\n",
       "      <th>3</th>\n",
       "      <td>590.0</td>\n",
       "      <td>flat</td>\n",
       "      <td>0.432212</td>\n",
       "      <td>True</td>\n",
       "      <td>3</td>\n",
       "      <td>2</td>\n",
       "      <td>2.948728</td>\n",
       "      <td>good</td>\n",
       "      <td>Desconocido</td>\n",
       "      <td>False</td>\n",
       "    </tr>\n",
       "    <tr>\n",
       "      <th>4</th>\n",
       "      <td>684.0</td>\n",
       "      <td>studio</td>\n",
       "      <td>-0.619710</td>\n",
       "      <td>True</td>\n",
       "      <td>0</td>\n",
       "      <td>1</td>\n",
       "      <td>-0.446614</td>\n",
       "      <td>Desconocido</td>\n",
       "      <td>Desconocido</td>\n",
       "      <td>Desconocido</td>\n",
       "    </tr>\n",
       "  </tbody>\n",
       "</table>\n",
       "</div>"
      ],
      "text/plain": [
       "   price propertyType  size_stand  exterior rooms bathrooms  distance_stand  \\\n",
       "0  750.0         flat    0.011443      True     1         1       -0.714088   \n",
       "1  750.0         flat    0.432212      True     2         1       -0.040932   \n",
       "2  400.0    penthouse    0.305981      True     2         2        2.833801   \n",
       "3  590.0         flat    0.432212      True     3         2        2.948728   \n",
       "4  684.0       studio   -0.619710      True     0         1       -0.446614   \n",
       "\n",
       "        status        floor      hasLift  \n",
       "0         good            3         True  \n",
       "1         good           bj        False  \n",
       "2         good            2        False  \n",
       "3         good  Desconocido        False  \n",
       "4  Desconocido  Desconocido  Desconocido  "
      ]
     },
     "execution_count": 24,
     "metadata": {},
     "output_type": "execute_result"
    }
   ],
   "source": [
    "df_filtrado.head()"
   ]
  },
  {
   "cell_type": "code",
   "execution_count": 25,
   "metadata": {},
   "outputs": [
    {
     "data": {
      "text/plain": [
       "(353, 10)"
      ]
     },
     "execution_count": 25,
     "metadata": {},
     "output_type": "execute_result"
    }
   ],
   "source": [
    "df_filtrado.shape"
   ]
  },
  {
   "cell_type": "code",
   "execution_count": null,
   "metadata": {},
   "outputs": [],
   "source": [
    "df_filtrado.to_csv('..Datos/datos_1/df_stand.csv')"
   ]
  },
  {
   "cell_type": "code",
   "execution_count": null,
   "metadata": {},
   "outputs": [],
   "source": []
  }
 ],
 "metadata": {
  "kernelspec": {
   "display_name": "Proyecto_7",
   "language": "python",
   "name": "python3"
  },
  "language_info": {
   "codemirror_mode": {
    "name": "ipython",
    "version": 3
   },
   "file_extension": ".py",
   "mimetype": "text/x-python",
   "name": "python",
   "nbconvert_exporter": "python",
   "pygments_lexer": "ipython3",
   "version": "3.12.4"
  }
 },
 "nbformat": 4,
 "nbformat_minor": 2
}
