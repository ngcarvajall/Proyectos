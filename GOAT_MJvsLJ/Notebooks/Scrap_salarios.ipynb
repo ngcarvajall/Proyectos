{
 "cells": [
  {
   "cell_type": "code",
   "execution_count": 4,
   "metadata": {},
   "outputs": [],
   "source": [
    "# Importamos las librerías que necesitamos\n",
    "import numpy as np\n",
    "# Librerías de extracción de datos\n",
    "# -----------------------------------------------------------------------\n",
    "from bs4 import BeautifulSoup\n",
    "import requests\n",
    "import re\n",
    "# Tratamiento de datos\n",
    "# -----------------------------------------------------------------------\n",
    "import pandas as pd\n",
    "from tqdm import tqdm\n",
    "import random\n",
    "import time"
   ]
  },
  {
   "cell_type": "code",
   "execution_count": 5,
   "metadata": {},
   "outputs": [
    {
     "name": "stdout",
     "output_type": "stream",
     "text": [
      "200\n"
     ]
    }
   ],
   "source": [
    "# prueba para uno\n",
    "url_salarios_lebron = f'https://hoopshype.com/player/lebron-james/salary/'\n",
    "# Paso 2\n",
    "response = requests.get(url_salarios_lebron)\n",
    "# Paso 3\n",
    "if str(response) == '<Response [200]>':\n",
    "    print(response.status_code)\n",
    "    # Paso 4\n",
    "    sopa = (BeautifulSoup(response.content, 'html.parser'))\n",
    "    time.sleep(random.uniform(1,3))\n",
    "else: \n",
    "    print('Hay un error')\n",
    "    "
   ]
  },
  {
   "cell_type": "code",
   "execution_count": 6,
   "metadata": {},
   "outputs": [],
   "source": [
    "lista = sopa.findAll('div', {'class' : 'player-payroll'})\n",
    "#aqui saco la sopa de datos con las dos tablas"
   ]
  },
  {
   "cell_type": "code",
   "execution_count": 7,
   "metadata": {},
   "outputs": [],
   "source": [
    "# al tener dos tablas(una a futuro y otra del pasado, busco la del pasado)\n",
    "for i in lista:\n",
    "    if i.find('span').text == 'Past Salaries':\n",
    "        tabla_salarios_pasado = i.find('table')"
   ]
  },
  {
   "cell_type": "code",
   "execution_count": 8,
   "metadata": {},
   "outputs": [],
   "source": [
    "filas = tabla_salarios_pasado.find(\"tbody\").findAll('tr') # me quedo con las filas de informacion"
   ]
  },
  {
   "cell_type": "code",
   "execution_count": 9,
   "metadata": {},
   "outputs": [
    {
     "data": {
      "text/plain": [
       "21"
      ]
     },
     "execution_count": 9,
     "metadata": {},
     "output_type": "execute_result"
    }
   ],
   "source": [
    "len(filas)"
   ]
  },
  {
   "cell_type": "code",
   "execution_count": 10,
   "metadata": {},
   "outputs": [],
   "source": [
    "lista_vacia = []\n",
    "for fila in filas:\n",
    "    valores = fila.find_all('td')\n",
    "    temporada = valores[0].text.strip()\n",
    "    equipo = valores[1].text.strip()\n",
    "    salario = valores[2].text.strip()\n",
    "\n",
    "    diccionario = {'Temporada': temporada,\n",
    "               'Equipo': equipo,\n",
    "               'Salario': salario}\n",
    "    lista_vacia.append(diccionario)"
   ]
  },
  {
   "cell_type": "code",
   "execution_count": 11,
   "metadata": {},
   "outputs": [],
   "source": [
    "df = pd.DataFrame(lista_vacia)"
   ]
  },
  {
   "cell_type": "code",
   "execution_count": 12,
   "metadata": {},
   "outputs": [],
   "source": [
    "lebron_teams = {\n",
    "    'Cleveland Cavaliers': 'CLE',\n",
    "    'Miami Heat': 'MIA',\n",
    "    'Los Angeles Lakers': 'LAL'\n",
    "}"
   ]
  },
  {
   "cell_type": "code",
   "execution_count": 13,
   "metadata": {},
   "outputs": [],
   "source": [
    "df['team_code'] = df['Equipo'].map(lebron_teams)"
   ]
  },
  {
   "cell_type": "markdown",
   "metadata": {},
   "source": [
    "Repetimos el proceso para Jordan"
   ]
  },
  {
   "cell_type": "code",
   "execution_count": 14,
   "metadata": {},
   "outputs": [
    {
     "name": "stdout",
     "output_type": "stream",
     "text": [
      "200\n"
     ]
    }
   ],
   "source": [
    "# prueba para uno\n",
    "url_salarios_jordan = f'https://hoopshype.com/player/michael-jordan/salary/'\n",
    "# Paso 2\n",
    "response_j = requests.get(url_salarios_jordan)\n",
    "# Paso 3\n",
    "if str(response_j) == '<Response [200]>':\n",
    "    print(response_j.status_code)\n",
    "    # Paso 4\n",
    "    sopa_jordan = (BeautifulSoup(response_j.content, 'html.parser'))\n",
    "    time.sleep(random.uniform(1,3))\n",
    "else: \n",
    "    print('Hay un error')\n",
    "    "
   ]
  },
  {
   "cell_type": "code",
   "execution_count": 15,
   "metadata": {},
   "outputs": [],
   "source": [
    "lista_jordan = sopa_jordan.findAll('div', {'class' : 'player-payroll'})\n",
    "#aqui saco la sopa de datos con las dos tablas"
   ]
  },
  {
   "cell_type": "code",
   "execution_count": 16,
   "metadata": {},
   "outputs": [],
   "source": [
    "# al tener dos tablas(una a futuro y otra del pasado, busco la del pasado)\n",
    "for i in lista_jordan:\n",
    "    if i.find('span').text == 'Past Salaries':\n",
    "        tabla_salarios_pasado_jordan = i.find('table')"
   ]
  },
  {
   "cell_type": "code",
   "execution_count": 17,
   "metadata": {},
   "outputs": [],
   "source": [
    "filas_jordan = tabla_salarios_pasado_jordan.find(\"tbody\").findAll('tr') # me quedo con las filas de informacion"
   ]
  },
  {
   "cell_type": "code",
   "execution_count": 18,
   "metadata": {},
   "outputs": [
    {
     "data": {
      "text/plain": [
       "10"
      ]
     },
     "execution_count": 18,
     "metadata": {},
     "output_type": "execute_result"
    }
   ],
   "source": [
    "len(filas_jordan)"
   ]
  },
  {
   "cell_type": "code",
   "execution_count": 19,
   "metadata": {},
   "outputs": [],
   "source": [
    "lista_vacia_jordan = []\n",
    "for fila in filas_jordan:\n",
    "    valores_j = fila.find_all('td')\n",
    "    temporada_j = valores_j[0].text.strip()\n",
    "    equipo_j = valores_j[1].text.strip()\n",
    "    salario_j = valores_j[2].text.strip()\n",
    "\n",
    "    diccionario_j = {'Temporada': temporada_j,\n",
    "               'Equipo': equipo_j,\n",
    "               'Salario': salario_j}\n",
    "    lista_vacia_jordan.append(diccionario_j)"
   ]
  },
  {
   "cell_type": "code",
   "execution_count": 20,
   "metadata": {},
   "outputs": [],
   "source": [
    "df_jordan = pd.DataFrame(lista_vacia_jordan)"
   ]
  },
  {
   "cell_type": "code",
   "execution_count": 21,
   "metadata": {},
   "outputs": [],
   "source": [
    "jordan_teams = {\n",
    "    'Chicago Bulls': 'CHI',\n",
    "    'Washington Wizards': 'WAS'\n",
    "}"
   ]
  },
  {
   "cell_type": "code",
   "execution_count": 26,
   "metadata": {},
   "outputs": [],
   "source": [
    "df_jordan['team_code'] = df_jordan['Equipo'].map(jordan_teams)"
   ]
  },
  {
   "cell_type": "code",
   "execution_count": 27,
   "metadata": {},
   "outputs": [
    {
     "data": {
      "text/html": [
       "<div>\n",
       "<style scoped>\n",
       "    .dataframe tbody tr th:only-of-type {\n",
       "        vertical-align: middle;\n",
       "    }\n",
       "\n",
       "    .dataframe tbody tr th {\n",
       "        vertical-align: top;\n",
       "    }\n",
       "\n",
       "    .dataframe thead th {\n",
       "        text-align: right;\n",
       "    }\n",
       "</style>\n",
       "<table border=\"1\" class=\"dataframe\">\n",
       "  <thead>\n",
       "    <tr style=\"text-align: right;\">\n",
       "      <th></th>\n",
       "      <th>Temporada</th>\n",
       "      <th>Equipo</th>\n",
       "      <th>Salario</th>\n",
       "      <th>team_code</th>\n",
       "    </tr>\n",
       "  </thead>\n",
       "  <tbody>\n",
       "    <tr>\n",
       "      <th>0</th>\n",
       "      <td>2002/03</td>\n",
       "      <td>Washington Wizards</td>\n",
       "      <td>$1,030,000 ($1,746,871*)</td>\n",
       "      <td>WAS</td>\n",
       "    </tr>\n",
       "    <tr>\n",
       "      <th>1</th>\n",
       "      <td>2001/02</td>\n",
       "      <td>Washington Wizards</td>\n",
       "      <td>$1,000,000 ($1,714,095*)</td>\n",
       "      <td>WAS</td>\n",
       "    </tr>\n",
       "    <tr>\n",
       "      <th>2</th>\n",
       "      <td>1997/98</td>\n",
       "      <td>Chicago Bulls</td>\n",
       "      <td>$33,140,000 ($63,077,431*)</td>\n",
       "      <td>CHI</td>\n",
       "    </tr>\n",
       "    <tr>\n",
       "      <th>3</th>\n",
       "      <td>1996/97</td>\n",
       "      <td>Chicago Bulls</td>\n",
       "      <td>$30,140,000 ($58,685,292*)</td>\n",
       "      <td>CHI</td>\n",
       "    </tr>\n",
       "    <tr>\n",
       "      <th>4</th>\n",
       "      <td>1995/96</td>\n",
       "      <td>Chicago Bulls</td>\n",
       "      <td>$3,850,000 ($7,702,751*)</td>\n",
       "      <td>CHI</td>\n",
       "    </tr>\n",
       "    <tr>\n",
       "      <th>5</th>\n",
       "      <td>1994/95</td>\n",
       "      <td>Chicago Bulls</td>\n",
       "      <td>$3,850,000 ($7,936,957*)</td>\n",
       "      <td>CHI</td>\n",
       "    </tr>\n",
       "    <tr>\n",
       "      <th>6</th>\n",
       "      <td>1993/94</td>\n",
       "      <td>Chicago Bulls</td>\n",
       "      <td>$4,000,000 ($8,451,772*)</td>\n",
       "      <td>CHI</td>\n",
       "    </tr>\n",
       "    <tr>\n",
       "      <th>7</th>\n",
       "      <td>1992/93</td>\n",
       "      <td>Chicago Bulls</td>\n",
       "      <td>$4,000,000 ($8,704,964*)</td>\n",
       "      <td>CHI</td>\n",
       "    </tr>\n",
       "    <tr>\n",
       "      <th>8</th>\n",
       "      <td>1991/92</td>\n",
       "      <td>Chicago Bulls</td>\n",
       "      <td>$3,250,000 ($7,291,207*)</td>\n",
       "      <td>CHI</td>\n",
       "    </tr>\n",
       "    <tr>\n",
       "      <th>9</th>\n",
       "      <td>1990/91</td>\n",
       "      <td>Chicago Bulls</td>\n",
       "      <td>$2,500,000 ($5,871,997*)</td>\n",
       "      <td>CHI</td>\n",
       "    </tr>\n",
       "  </tbody>\n",
       "</table>\n",
       "</div>"
      ],
      "text/plain": [
       "  Temporada              Equipo                     Salario team_code\n",
       "0   2002/03  Washington Wizards    $1,030,000 ($1,746,871*)       WAS\n",
       "1   2001/02  Washington Wizards    $1,000,000 ($1,714,095*)       WAS\n",
       "2   1997/98       Chicago Bulls  $33,140,000 ($63,077,431*)       CHI\n",
       "3   1996/97       Chicago Bulls  $30,140,000 ($58,685,292*)       CHI\n",
       "4   1995/96       Chicago Bulls    $3,850,000 ($7,702,751*)       CHI\n",
       "5   1994/95       Chicago Bulls    $3,850,000 ($7,936,957*)       CHI\n",
       "6   1993/94       Chicago Bulls    $4,000,000 ($8,451,772*)       CHI\n",
       "7   1992/93       Chicago Bulls    $4,000,000 ($8,704,964*)       CHI\n",
       "8   1991/92       Chicago Bulls    $3,250,000 ($7,291,207*)       CHI\n",
       "9   1990/91       Chicago Bulls    $2,500,000 ($5,871,997*)       CHI"
      ]
     },
     "execution_count": 27,
     "metadata": {},
     "output_type": "execute_result"
    }
   ],
   "source": [
    "df_jordan"
   ]
  },
  {
   "cell_type": "code",
   "execution_count": 28,
   "metadata": {},
   "outputs": [],
   "source": [
    "df.to_csv('../datos/salarios_lebron.csv', index=False)\n",
    "df_jordan.to_csv('../datos/salarios_jordan.csv', index=False)"
   ]
  },
  {
   "cell_type": "code",
   "execution_count": null,
   "metadata": {},
   "outputs": [],
   "source": []
  }
 ],
 "metadata": {
  "kernelspec": {
   "display_name": "Python 3",
   "language": "python",
   "name": "python3"
  },
  "language_info": {
   "codemirror_mode": {
    "name": "ipython",
    "version": 3
   },
   "file_extension": ".py",
   "mimetype": "text/x-python",
   "name": "python",
   "nbconvert_exporter": "python",
   "pygments_lexer": "ipython3",
   "version": "3.11.9"
  }
 },
 "nbformat": 4,
 "nbformat_minor": 2
}
