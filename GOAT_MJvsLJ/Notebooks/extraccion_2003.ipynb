{
 "cells": [
  {
   "cell_type": "code",
   "execution_count": 28,
   "metadata": {},
   "outputs": [],
   "source": [
    "# Tratamiento de datos\n",
    "# -----------------------------------------------------------------------\n",
    "import pandas as pd\n",
    "import numpy as np\n",
    "\n",
    "# Uso de API's\n",
    "# -----------------------------------------------------------------------\n",
    "import requests\n",
    "import os\n",
    "import dotenv\n",
    "import json\n",
    "\n",
    "import sys\n",
    "sys.path.append('c:\\\\Users\\\\DELL\\\\Git\\\\Proyecto5-GOAT_MJ_LJ\\\\src')  #intenté hacerlo directo, pero llamo a mi funcion desde sys\n",
    "#importo mi funcion\n",
    "import support as s\n"
   ]
  },
  {
   "cell_type": "code",
   "execution_count": 3,
   "metadata": {},
   "outputs": [],
   "source": [
    "dotenv.load_dotenv()\n",
    "api_token = os.getenv('api_token')"
   ]
  },
  {
   "cell_type": "code",
   "execution_count": 4,
   "metadata": {},
   "outputs": [],
   "source": [
    "\n",
    "url = \"https://basketapi1.p.rapidapi.com/api/basketball/tournament/132/season/38191/standings/total\"\n",
    "\n",
    "headers = {\n",
    "\t\"x-rapidapi-key\": api_token,\n",
    "\t\"x-rapidapi-host\": \"basketapi1.p.rapidapi.com\"\n",
    "}\n",
    "\n",
    "response = requests.get(url, headers=headers)\n",
    "\n",
    "responsa = response.json()\n",
    "#extraccion de los standings en la 2002/2003"
   ]
  },
  {
   "cell_type": "code",
   "execution_count": 5,
   "metadata": {},
   "outputs": [],
   "source": [
    "with open('league_2003.json', 'w') as archivo_json:\n",
    "    json.dump(responsa, archivo_json, indent=4) #convierto a Json para mejor visual"
   ]
  },
  {
   "cell_type": "code",
   "execution_count": 6,
   "metadata": {},
   "outputs": [
    {
     "data": {
      "text/plain": [
       "dict_keys(['standings'])"
      ]
     },
     "execution_count": 6,
     "metadata": {},
     "output_type": "execute_result"
    }
   ],
   "source": [
    "responsa.keys()"
   ]
  },
  {
   "cell_type": "code",
   "execution_count": 7,
   "metadata": {},
   "outputs": [
    {
     "data": {
      "text/plain": [
       "{'team': {'name': 'Phoenix Suns',\n",
       "  'slug': 'phoenix-suns',\n",
       "  'shortName': 'Suns',\n",
       "  'gender': 'M',\n",
       "  'sport': {'name': 'Basketball', 'slug': 'basketball', 'id': 2},\n",
       "  'userCount': 53406,\n",
       "  'nameCode': 'PHX',\n",
       "  'disabled': False,\n",
       "  'national': False,\n",
       "  'type': 0,\n",
       "  'id': 3416,\n",
       "  'teamColors': {'primary': '#e56020',\n",
       "   'secondary': '#1d1160',\n",
       "   'text': '#1d1160'},\n",
       "  'fieldTranslations': {'nameTranslation': {'ar': 'فونيكس سانز',\n",
       "    'ru': 'Финикс Санс'},\n",
       "   'shortNameTranslation': {}}},\n",
       " 'descriptions': [],\n",
       " 'position': 1,\n",
       " 'matches': 82,\n",
       " 'wins': 64,\n",
       " 'scoresFor': 9416,\n",
       " 'scoresAgainst': 8801,\n",
       " 'percentage': 0.78,\n",
       " 'gamesBehind': 0,\n",
       " 'streak': -1,\n",
       " 'id': 694091,\n",
       " 'losses': 18,\n",
       " 'draws': 0,\n",
       " 'scoreDiffFormatted': '+615'}"
      ]
     },
     "execution_count": 7,
     "metadata": {},
     "output_type": "execute_result"
    }
   ],
   "source": [
    "responsa['standings'][8]['rows'][0]\n",
    "#hasta aquí tengo el standings general de los equipos. Con el 0 me meto en el equipo 1"
   ]
  },
  {
   "cell_type": "code",
   "execution_count": 18,
   "metadata": {},
   "outputs": [
    {
     "data": {
      "text/plain": [
       "0.78"
      ]
     },
     "execution_count": 18,
     "metadata": {},
     "output_type": "execute_result"
    }
   ],
   "source": [
    "responsa['standings'][8]['rows'][0]['percentage']"
   ]
  },
  {
   "cell_type": "code",
   "execution_count": 30,
   "metadata": {},
   "outputs": [],
   "source": [
    "df = s.extraer_datos_equipos_df(responsa, 30) #ejecuto mi funcion desde mi support.py"
   ]
  },
  {
   "cell_type": "code",
   "execution_count": 57,
   "metadata": {},
   "outputs": [],
   "source": [
    "df.to_csv('../datos/equipos_2003.csv', index=False)"
   ]
  },
  {
   "cell_type": "code",
   "execution_count": null,
   "metadata": {},
   "outputs": [],
   "source": []
  }
 ],
 "metadata": {
  "kernelspec": {
   "display_name": "Python 3",
   "language": "python",
   "name": "python3"
  },
  "language_info": {
   "codemirror_mode": {
    "name": "ipython",
    "version": 3
   },
   "file_extension": ".py",
   "mimetype": "text/x-python",
   "name": "python",
   "nbconvert_exporter": "python",
   "pygments_lexer": "ipython3",
   "version": "3.11.9"
  }
 },
 "nbformat": 4,
 "nbformat_minor": 2
}
