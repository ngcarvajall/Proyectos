{
 "cells": [
  {
   "cell_type": "code",
   "execution_count": 1,
   "metadata": {},
   "outputs": [],
   "source": [
    "import requests\n",
    "import pandas as pd\n",
    "import json\n",
    "import dotenv as dotenv\n",
    "import os\n",
    "dotenv.load_dotenv()\n",
    "api_key_viajes=os.getenv(\"api_key_viajes\")"
   ]
  },
  {
   "cell_type": "code",
   "execution_count": 2,
   "metadata": {},
   "outputs": [],
   "source": [
    "import requests\n",
    "\n",
    "url = \"https://sky-scrapper.p.rapidapi.com/api/v2/flights/searchFlights\"\n",
    "\n",
    "querystring = {\"originSkyId\":\"MAD\",\"destinationSkyId\":\"LIS\",\"originEntityId\":\"95565077\",\"destinationEntityId\":\"95565055\",\"date\":\"2024-10-25\",\"returnDate\":\"2024-10-28\",\"cabinClass\":\"economy\",\"adults\":\"1\",\"sortBy\":\"best\",\"limit\":\"25\",\"currency\":\"EUR\"}\n",
    "\n",
    "headers = {\n",
    "\t\"x-rapidapi-key\": api_key_viajes,\n",
    "\t\"x-rapidapi-host\": \"sky-scrapper.p.rapidapi.com\"\n",
    "}\n",
    "\n",
    "response = requests.get(url, headers=headers, params=querystring)\n",
    "\n",
    "viajes = response.json()\n"
   ]
  },
  {
   "cell_type": "code",
   "execution_count": 6,
   "metadata": {},
   "outputs": [],
   "source": [
    "\n",
    "with open('vuelos.json', 'w') as archivo_json:\n",
    "    json.dump(viajes, archivo_json, indent=4)"
   ]
  },
  {
   "cell_type": "code",
   "execution_count": 8,
   "metadata": {},
   "outputs": [
    {
     "data": {
      "text/plain": [
       "dict_keys(['context', 'itineraries', 'messages', 'filterStats', 'flightsSessionId', 'destinationImageUrl'])"
      ]
     },
     "execution_count": 8,
     "metadata": {},
     "output_type": "execute_result"
    }
   ],
   "source": [
    "viajes['data'].keys()"
   ]
  },
  {
   "cell_type": "code",
   "execution_count": 83,
   "metadata": {},
   "outputs": [],
   "source": [
    "info_vuelo = len(viajes['data']['itineraries'])"
   ]
  },
  {
   "cell_type": "code",
   "execution_count": 18,
   "metadata": {},
   "outputs": [],
   "source": [
    "precios = viajes['data']['itineraries'][0]['price']['raw']"
   ]
  },
  {
   "cell_type": "code",
   "execution_count": 17,
   "metadata": {},
   "outputs": [],
   "source": [
    "id_inicio = viajes['data']['itineraries'][0]['legs'][0]['origin']['id']"
   ]
  },
  {
   "cell_type": "code",
   "execution_count": 19,
   "metadata": {},
   "outputs": [],
   "source": [
    "inicio_ciudad = viajes['data']['itineraries'][0]['legs'][0]['origin']['name']"
   ]
  },
  {
   "cell_type": "code",
   "execution_count": 21,
   "metadata": {},
   "outputs": [
    {
     "data": {
      "text/plain": [
       "'LIS'"
      ]
     },
     "execution_count": 21,
     "metadata": {},
     "output_type": "execute_result"
    }
   ],
   "source": [
    "id_regreso = viajes['data']['itineraries'][0]['legs'][0]['destination']['id']\n",
    "id_regreso"
   ]
  },
  {
   "cell_type": "code",
   "execution_count": 23,
   "metadata": {},
   "outputs": [
    {
     "data": {
      "text/plain": [
       "'Lisbon'"
      ]
     },
     "execution_count": 23,
     "metadata": {},
     "output_type": "execute_result"
    }
   ],
   "source": [
    "regreso_ciudad = viajes['data']['itineraries'][0]['legs'][0]['destination']['name']\n",
    "regreso_ciudad"
   ]
  },
  {
   "cell_type": "code",
   "execution_count": 25,
   "metadata": {},
   "outputs": [
    {
     "data": {
      "text/plain": [
       "80"
      ]
     },
     "execution_count": 25,
     "metadata": {},
     "output_type": "execute_result"
    }
   ],
   "source": [
    "tiempo = viajes['data']['itineraries'][0]['legs'][0]['durationInMinutes']\n",
    "tiempo"
   ]
  },
  {
   "cell_type": "code",
   "execution_count": 26,
   "metadata": {},
   "outputs": [
    {
     "data": {
      "text/plain": [
       "0"
      ]
     },
     "execution_count": 26,
     "metadata": {},
     "output_type": "execute_result"
    }
   ],
   "source": [
    "paradas = viajes['data']['itineraries'][0]['legs'][0]['stopCount']\n",
    "paradas"
   ]
  },
  {
   "cell_type": "code",
   "execution_count": 32,
   "metadata": {},
   "outputs": [
    {
     "data": {
      "text/plain": [
       "'Iberia'"
      ]
     },
     "execution_count": 32,
     "metadata": {},
     "output_type": "execute_result"
    }
   ],
   "source": [
    "linea_aerea = viajes['data']['itineraries'][1]['legs'][1]['carriers']['marketing'][0]['name']\n",
    "linea_aerea"
   ]
  },
  {
   "cell_type": "code",
   "execution_count": 56,
   "metadata": {},
   "outputs": [
    {
     "data": {
      "text/plain": [
       "'2024-10-25T22:35:00'"
      ]
     },
     "execution_count": 56,
     "metadata": {},
     "output_type": "execute_result"
    }
   ],
   "source": [
    "hora_salida = viajes['data']['itineraries'][0]['legs'][0]['departure']\n",
    "hora_salida"
   ]
  },
  {
   "cell_type": "code",
   "execution_count": 118,
   "metadata": {},
   "outputs": [
    {
     "data": {
      "text/plain": [
       "'2024-10-25T22:55:00'"
      ]
     },
     "execution_count": 118,
     "metadata": {},
     "output_type": "execute_result"
    }
   ],
   "source": [
    "hora_llegada = viajes['data']['itineraries'][0]['legs'][0]['arrival']\n",
    "hora_llegada"
   ]
  },
  {
   "cell_type": "code",
   "execution_count": 81,
   "metadata": {},
   "outputs": [
    {
     "data": {
      "text/plain": [
       "10"
      ]
     },
     "execution_count": 81,
     "metadata": {},
     "output_type": "execute_result"
    }
   ],
   "source": [
    "len(viajes['data']['itineraries'])"
   ]
  },
  {
   "cell_type": "code",
   "execution_count": 84,
   "metadata": {},
   "outputs": [],
   "source": [
    "lista_de_diccionarios = []\n",
    "# creo mi lista de diccionarios\n",
    "for i in range(0,info_vuelo):\n",
    "    #aquí itero sobre la cantidad de vuelos, 20 en total pero en pares de solo 10\n",
    "    precios = viajes['data']['itineraries'][i]['price']['raw']\n",
    "    for j in range(0,2):\n",
    "        #itero sobre los elementos de ida y vuelta\n",
    "        id_inicio = viajes['data']['itineraries'][i]['legs'][j]['origin']['id']\n",
    "        inicio_ciudad = viajes['data']['itineraries'][i]['legs'][j]['origin']['name']\n",
    "        id_regreso = viajes['data']['itineraries'][i]['legs'][j]['destination']['id']\n",
    "        regreso_ciudad = viajes['data']['itineraries'][i]['legs'][j]['destination']['name']\n",
    "        tiempo = viajes['data']['itineraries'][i]['legs'][j]['durationInMinutes']\n",
    "        paradas = viajes['data']['itineraries'][i]['legs'][j]['stopCount']\n",
    "        linea_aerea = viajes['data']['itineraries'][i]['legs'][j]['carriers']['marketing'][0]['name']\n",
    "        hora_salida = viajes['data']['itineraries'][i]['legs'][j]['departure']\n",
    "        hora_llegada = viajes['data']['itineraries'][i]['legs'][j]['arrival']\n",
    "        diccionario = {'Costo': precios,\n",
    "                'ID Salida': id_inicio,\n",
    "                'Salida': inicio_ciudad,\n",
    "                'ID Llegada': id_regreso,\n",
    "                'Llegada': regreso_ciudad,\n",
    "                'Tiempo': tiempo,\n",
    "                'Paradas': paradas,\n",
    "                'Aerolínea': linea_aerea,\n",
    "                'Hora de Salida': hora_salida,\n",
    "                'Hora de Llegada': hora_llegada}\n",
    "        lista_de_diccionarios.append(diccionario)\n",
    "\n",
    "#creo mi diccionario y le apendeo las listas cada vez que itero"
   ]
  },
  {
   "cell_type": "code",
   "execution_count": 85,
   "metadata": {},
   "outputs": [],
   "source": [
    "df = pd.DataFrame(lista_de_diccionarios)"
   ]
  },
  {
   "cell_type": "code",
   "execution_count": 142,
   "metadata": {},
   "outputs": [],
   "source": [
    "df.to_csv('datos/vuelos_lisboa_itinerario.csv', index=False)"
   ]
  },
  {
   "cell_type": "code",
   "execution_count": 87,
   "metadata": {},
   "outputs": [],
   "source": [
    "import requests\n",
    "\n",
    "url = \"https://sky-scrapper.p.rapidapi.com/api/v2/flights/searchFlights\"\n",
    "\n",
    "querystring = {\"originSkyId\":\"MAD\",\"destinationSkyId\":\"FLR\",\"originEntityId\":\"95565077\",\"destinationEntityId\":\"95673830\",\"date\":\"2024-10-25\",\"returnDate\":\"2024-10-28\",\"cabinClass\":\"economy\",\"adults\":\"1\",\"sortBy\":\"best\",\"currency\":\"EUR\"}\n",
    "\n",
    "headers = {\n",
    "\t\"x-rapidapi-key\": api_key_viajes,\n",
    "\t\"x-rapidapi-host\": \"sky-scrapper.p.rapidapi.com\"\n",
    "}\n",
    "\n",
    "response = requests.get(url, headers=headers, params=querystring)\n",
    "\n",
    "viaje_florencia = response.json()"
   ]
  },
  {
   "cell_type": "code",
   "execution_count": 134,
   "metadata": {},
   "outputs": [
    {
     "data": {
      "text/plain": [
       "dict_keys(['status', 'timestamp', 'sessionId', 'data'])"
      ]
     },
     "execution_count": 134,
     "metadata": {},
     "output_type": "execute_result"
    }
   ],
   "source": [
    "viaje_florencia.keys()"
   ]
  },
  {
   "cell_type": "code",
   "execution_count": 93,
   "metadata": {},
   "outputs": [],
   "source": [
    "info_cantidad = len(viaje_florencia['data']['itineraries'])"
   ]
  },
  {
   "cell_type": "code",
   "execution_count": 95,
   "metadata": {},
   "outputs": [],
   "source": [
    "precio_fl = viaje_florencia['data']['itineraries'][0]['price']['raw']"
   ]
  },
  {
   "cell_type": "code",
   "execution_count": 102,
   "metadata": {},
   "outputs": [],
   "source": [
    "id_fl = viaje_florencia['data']['itineraries'][0]['legs'][0]['origin']['id']"
   ]
  },
  {
   "cell_type": "code",
   "execution_count": 126,
   "metadata": {},
   "outputs": [
    {
     "data": {
      "text/plain": [
       "'Florence'"
      ]
     },
     "execution_count": 126,
     "metadata": {},
     "output_type": "execute_result"
    }
   ],
   "source": [
    "salida_fl = viaje_florencia['data']['itineraries'][0]['legs'][0]['origin']['name']"
   ]
  },
  {
   "cell_type": "code",
   "execution_count": 110,
   "metadata": {},
   "outputs": [],
   "source": [
    "id_vuelta = viaje_florencia['data']['itineraries'][0]['legs'][0]['destination']['id']"
   ]
  },
  {
   "cell_type": "code",
   "execution_count": 111,
   "metadata": {},
   "outputs": [],
   "source": [
    "regreso_fl = viaje_florencia['data']['itineraries'][0]['legs'][0]['destination']['name']"
   ]
  },
  {
   "cell_type": "code",
   "execution_count": 114,
   "metadata": {},
   "outputs": [
    {
     "data": {
      "text/plain": [
       "140"
      ]
     },
     "execution_count": 114,
     "metadata": {},
     "output_type": "execute_result"
    }
   ],
   "source": [
    "tiempo_fl = viaje_florencia['data']['itineraries'][0]['legs'][0]['durationInMinutes']\n",
    "tiempo_fl"
   ]
  },
  {
   "cell_type": "code",
   "execution_count": 115,
   "metadata": {},
   "outputs": [
    {
     "data": {
      "text/plain": [
       "0"
      ]
     },
     "execution_count": 115,
     "metadata": {},
     "output_type": "execute_result"
    }
   ],
   "source": [
    "stops = viaje_florencia['data']['itineraries'][0]['legs'][0]['stopCount']"
   ]
  },
  {
   "cell_type": "code",
   "execution_count": 119,
   "metadata": {},
   "outputs": [
    {
     "data": {
      "text/plain": [
       "'Vueling Airlines'"
      ]
     },
     "execution_count": 119,
     "metadata": {},
     "output_type": "execute_result"
    }
   ],
   "source": [
    "linea_devuelo = viaje_florencia['data']['itineraries'][0]['legs'][0]['carriers']['marketing'][0]['name']\n",
    "linea_devuelo"
   ]
  },
  {
   "cell_type": "code",
   "execution_count": 121,
   "metadata": {},
   "outputs": [
    {
     "data": {
      "text/plain": [
       "'2024-10-25T09:55:00'"
      ]
     },
     "execution_count": 121,
     "metadata": {},
     "output_type": "execute_result"
    }
   ],
   "source": [
    "salida = viaje_florencia['data']['itineraries'][0]['legs'][0]['departure']\n",
    "salida"
   ]
  },
  {
   "cell_type": "code",
   "execution_count": 124,
   "metadata": {},
   "outputs": [
    {
     "data": {
      "text/plain": [
       "'2024-10-25T12:15:00'"
      ]
     },
     "execution_count": 124,
     "metadata": {},
     "output_type": "execute_result"
    }
   ],
   "source": [
    "llegada = viaje_florencia['data']['itineraries'][0]['legs'][0]['arrival']\n",
    "llegada"
   ]
  },
  {
   "cell_type": "code",
   "execution_count": 130,
   "metadata": {},
   "outputs": [],
   "source": [
    "list_dict = []\n",
    "for i in range(0,info_cantidad):\n",
    "    precio_fl = viaje_florencia['data']['itineraries'][i]['price']['raw']    \n",
    "    for j in range(0,2):\n",
    "        id_fl = viaje_florencia['data']['itineraries'][i]['legs'][j]['origin']['id']\n",
    "        salida_fl = viaje_florencia['data']['itineraries'][i]['legs'][j]['origin']['name']\n",
    "        id_vuelta = viaje_florencia['data']['itineraries'][i]['legs'][j]['destination']['id']\n",
    "        regreso_fl = viaje_florencia['data']['itineraries'][i]['legs'][j]['destination']['name']\n",
    "        tiempo_fl = viaje_florencia['data']['itineraries'][i]['legs'][j]['durationInMinutes']\n",
    "        stops = viaje_florencia['data']['itineraries'][i]['legs'][j]['stopCount']\n",
    "        linea_devuelo = viaje_florencia['data']['itineraries'][i]['legs'][j]['carriers']['marketing'][0]['name']\n",
    "        salida = viaje_florencia['data']['itineraries'][i]['legs'][j]['departure']\n",
    "        llegada = viaje_florencia['data']['itineraries'][i]['legs'][j]['arrival']\n",
    "        dicty = {'Costo': precio_fl,\n",
    "                'ID Salida': id_fl,\n",
    "                'Salida': salida_fl,\n",
    "                'ID Llegada': id_vuelta,\n",
    "                'Llegada': regreso_fl,\n",
    "                'Tiempo': tiempo_fl,\n",
    "                'Paradas': stops,\n",
    "                'Aerolínea': linea_devuelo,\n",
    "                'Hora de Salida': salida,\n",
    "                'Hora de Llegada': llegada}\n",
    "        list_dict.append(dicty)"
   ]
  },
  {
   "cell_type": "code",
   "execution_count": 131,
   "metadata": {},
   "outputs": [],
   "source": [
    "df_florence = pd.DataFrame(list_dict)"
   ]
  },
  {
   "cell_type": "code",
   "execution_count": 137,
   "metadata": {},
   "outputs": [
    {
     "data": {
      "text/html": [
       "<div>\n",
       "<style scoped>\n",
       "    .dataframe tbody tr th:only-of-type {\n",
       "        vertical-align: middle;\n",
       "    }\n",
       "\n",
       "    .dataframe tbody tr th {\n",
       "        vertical-align: top;\n",
       "    }\n",
       "\n",
       "    .dataframe thead th {\n",
       "        text-align: right;\n",
       "    }\n",
       "</style>\n",
       "<table border=\"1\" class=\"dataframe\">\n",
       "  <thead>\n",
       "    <tr style=\"text-align: right;\">\n",
       "      <th></th>\n",
       "      <th>Costo</th>\n",
       "      <th>ID Salida</th>\n",
       "      <th>Salida</th>\n",
       "      <th>ID Llegada</th>\n",
       "      <th>Llegada</th>\n",
       "      <th>Tiempo</th>\n",
       "      <th>Paradas</th>\n",
       "      <th>Aerolínea</th>\n",
       "      <th>Hora de Salida</th>\n",
       "      <th>Hora de Llegada</th>\n",
       "    </tr>\n",
       "  </thead>\n",
       "  <tbody>\n",
       "    <tr>\n",
       "      <th>0</th>\n",
       "      <td>428.0</td>\n",
       "      <td>MAD</td>\n",
       "      <td>Madrid</td>\n",
       "      <td>FLR</td>\n",
       "      <td>Florence</td>\n",
       "      <td>140</td>\n",
       "      <td>0</td>\n",
       "      <td>Vueling Airlines</td>\n",
       "      <td>2024-10-25T09:55:00</td>\n",
       "      <td>2024-10-25T12:15:00</td>\n",
       "    </tr>\n",
       "    <tr>\n",
       "      <th>1</th>\n",
       "      <td>428.0</td>\n",
       "      <td>FLR</td>\n",
       "      <td>Florence</td>\n",
       "      <td>MAD</td>\n",
       "      <td>Madrid</td>\n",
       "      <td>150</td>\n",
       "      <td>0</td>\n",
       "      <td>Vueling Airlines</td>\n",
       "      <td>2024-10-28T12:35:00</td>\n",
       "      <td>2024-10-28T15:05:00</td>\n",
       "    </tr>\n",
       "    <tr>\n",
       "      <th>2</th>\n",
       "      <td>429.0</td>\n",
       "      <td>MAD</td>\n",
       "      <td>Madrid</td>\n",
       "      <td>FLR</td>\n",
       "      <td>Florence</td>\n",
       "      <td>140</td>\n",
       "      <td>0</td>\n",
       "      <td>Vueling Airlines</td>\n",
       "      <td>2024-10-25T15:35:00</td>\n",
       "      <td>2024-10-25T17:55:00</td>\n",
       "    </tr>\n",
       "    <tr>\n",
       "      <th>3</th>\n",
       "      <td>429.0</td>\n",
       "      <td>FLR</td>\n",
       "      <td>Florence</td>\n",
       "      <td>MAD</td>\n",
       "      <td>Madrid</td>\n",
       "      <td>150</td>\n",
       "      <td>0</td>\n",
       "      <td>Vueling Airlines</td>\n",
       "      <td>2024-10-28T12:35:00</td>\n",
       "      <td>2024-10-28T15:05:00</td>\n",
       "    </tr>\n",
       "    <tr>\n",
       "      <th>4</th>\n",
       "      <td>290.0</td>\n",
       "      <td>MAD</td>\n",
       "      <td>Madrid</td>\n",
       "      <td>FLR</td>\n",
       "      <td>Florence</td>\n",
       "      <td>250</td>\n",
       "      <td>1</td>\n",
       "      <td>Vueling Airlines</td>\n",
       "      <td>2024-10-25T17:20:00</td>\n",
       "      <td>2024-10-25T21:30:00</td>\n",
       "    </tr>\n",
       "  </tbody>\n",
       "</table>\n",
       "</div>"
      ],
      "text/plain": [
       "   Costo ID Salida    Salida ID Llegada   Llegada  Tiempo  Paradas  \\\n",
       "0  428.0       MAD    Madrid        FLR  Florence     140        0   \n",
       "1  428.0       FLR  Florence        MAD    Madrid     150        0   \n",
       "2  429.0       MAD    Madrid        FLR  Florence     140        0   \n",
       "3  429.0       FLR  Florence        MAD    Madrid     150        0   \n",
       "4  290.0       MAD    Madrid        FLR  Florence     250        1   \n",
       "\n",
       "          Aerolínea       Hora de Salida      Hora de Llegada  \n",
       "0  Vueling Airlines  2024-10-25T09:55:00  2024-10-25T12:15:00  \n",
       "1  Vueling Airlines  2024-10-28T12:35:00  2024-10-28T15:05:00  \n",
       "2  Vueling Airlines  2024-10-25T15:35:00  2024-10-25T17:55:00  \n",
       "3  Vueling Airlines  2024-10-28T12:35:00  2024-10-28T15:05:00  \n",
       "4  Vueling Airlines  2024-10-25T17:20:00  2024-10-25T21:30:00  "
      ]
     },
     "execution_count": 137,
     "metadata": {},
     "output_type": "execute_result"
    }
   ],
   "source": [
    "df_florence.head()"
   ]
  },
  {
   "cell_type": "code",
   "execution_count": 141,
   "metadata": {},
   "outputs": [],
   "source": [
    "df_florence.to_csv('datos/vuelos_florencia_itinerario.csv', index=False)"
   ]
  }
 ],
 "metadata": {
  "kernelspec": {
   "display_name": "Python 3",
   "language": "python",
   "name": "python3"
  },
  "language_info": {
   "codemirror_mode": {
    "name": "ipython",
    "version": 3
   },
   "file_extension": ".py",
   "mimetype": "text/x-python",
   "name": "python",
   "nbconvert_exporter": "python",
   "pygments_lexer": "ipython3",
   "version": "3.11.9"
  }
 },
 "nbformat": 4,
 "nbformat_minor": 2
}
