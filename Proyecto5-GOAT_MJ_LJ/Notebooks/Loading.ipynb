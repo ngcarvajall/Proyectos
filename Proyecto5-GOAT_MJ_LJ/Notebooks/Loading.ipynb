{
 "cells": [
  {
   "cell_type": "code",
   "execution_count": 1,
   "metadata": {},
   "outputs": [],
   "source": [
    "import pandas as pd\n",
    "import psycopg2\n",
    "from psycopg2 import OperationalError, errorcodes, errors\n",
    "import seaborn as sns\n",
    "import warnings\n",
    "warnings.filterwarnings(\"ignore\")\n",
    "\n",
    "import matplotlib.pyplot as plt\n",
    "import seaborn as sns\n",
    "pd.set_option('display.max_columns', None)"
   ]
  },
  {
   "cell_type": "code",
   "execution_count": 2,
   "metadata": {},
   "outputs": [],
   "source": [
    "franquicias_hist = pd.read_csv('../datos_finales/franquicias_historicas.csv')\n",
    "standings_2003 = pd.read_csv('../datos_finales/standings_2003.csv')\n",
    "salarios_jordan = pd.read_csv('../datos_finales/salarios_jordan.csv')\n",
    "df_regular_season_jordan = pd.read_csv('../datos_finales/regular_season_jordan.csv')\n",
    "df_temporadas_jordan = pd.read_csv('../datos_finales/temporadas_jordan.csv')\n",
    "df_playoffs_jordan = pd.read_csv('../datos_finales/playoffs_jordan.csv')\n",
    "df_campeonato_jordan = pd.read_csv('../datos_finales/campeonatos_jordan.csv')\n",
    "standings_2024 = pd.read_csv('../datos_finales/standings_2024.csv')\n",
    "salarios_lebron = pd.read_csv('../datos_finales/salarios_lebron.csv')\n",
    "df_regular_season_lebron = pd.read_csv('../datos_finales/regular_season_lebron.csv')\n",
    "df_playoff_lebron = pd.read_csv('../datos_finales/playoffs_lebron.csv')\n",
    "df_temporadas_lebron = pd.read_csv('../datos_finales/temporadas_lebron.csv')\n",
    "df_campeonato_lebron = pd.read_csv('../datos_finales/campeonatos_lebron.csv')"
   ]
  },
  {
   "cell_type": "code",
   "execution_count": 2,
   "metadata": {},
   "outputs": [],
   "source": [
    "try:\n",
    "    conexion = psycopg2.connect(\n",
    "    database = 'GOAT',\n",
    "    user = 'postgres',\n",
    "    password = 'admin',\n",
    "    host = 'localhost',\n",
    "    port = '5432')\n",
    "except OperationalError as e: #el alias es e\n",
    "    if e.pgcode == errorcodes.INVALID_PASSWORD:\n",
    "        print('la contraseña es erronea')\n",
    "    elif e.pgcode == errorcodes.CONNECTION_EXCEPTION:\n",
    "        print('error de conexion')\n",
    "    else:\n",
    "        print(f'el error es el siguiente {e}')"
   ]
  },
  {
   "cell_type": "code",
   "execution_count": 4,
   "metadata": {},
   "outputs": [],
   "source": [
    "# # Cerrar el cursor si está abierto\n",
    "# if cursor:\n",
    "#     cursor.close()\n",
    "\n",
    "# Cerrar la conexión si está abierta\n",
    "# if conexion:\n",
    "#     conexion.close()\n"
   ]
  },
  {
   "cell_type": "code",
   "execution_count": 5,
   "metadata": {},
   "outputs": [],
   "source": [
    "cursor = conexion.cursor() #para crear mi primera tabla, independiente\n",
    "tabla_campeonatos_mj = \"\"\"\n",
    "                   CREATE TABLE IF NOT EXISTS Campeonatos_MJ (\n",
    "                   Id_resultado int PRIMARY KEY,\n",
    "                   resultado VARCHAR(20)\n",
    "                   );\n",
    "                   \"\"\"\n",
    "\n",
    "cursor.execute(tabla_campeonatos_mj)\n",
    "conexion.commit()"
   ]
  },
  {
   "cell_type": "code",
   "execution_count": 6,
   "metadata": {},
   "outputs": [],
   "source": [
    "cursor = conexion.cursor()\n",
    "tabla_campeonatos_lj = \"\"\"\n",
    "                   CREATE TABLE IF NOT EXISTS Campeonatos_LJ (\n",
    "                   Id_resultado int PRIMARY KEY,\n",
    "                   resultado VARCHAR(20)\n",
    "                   );\n",
    "                   \"\"\"\n",
    "cursor.execute(tabla_campeonatos_lj)\n",
    "conexion.commit()"
   ]
  },
  {
   "cell_type": "code",
   "execution_count": 7,
   "metadata": {},
   "outputs": [],
   "source": [
    "cursor = conexion.cursor()\n",
    "franquicias = \"\"\"\n",
    "                   CREATE TABLE IF NOT EXISTS Franquicias (\n",
    "                   Franquicia varchar (50),\n",
    "                   team_code varchar(10) PRIMARY KEY,\n",
    "                   liga varchar(10),\n",
    "                   Desde varchar(10),\n",
    "                   Hasta varchar(10),\n",
    "                   Anios int,\n",
    "                   G int,\n",
    "                   W int, \n",
    "                   L int,\n",
    "                   W_L_Perc float,\n",
    "                   Plyfs int,\n",
    "                   Div int,\n",
    "                   Conf int,\n",
    "                   Champ int\n",
    "                   );\n",
    "                   \"\"\"\n",
    "cursor.execute(franquicias)\n",
    "conexion.commit()"
   ]
  },
  {
   "cell_type": "code",
   "execution_count": 8,
   "metadata": {},
   "outputs": [],
   "source": [
    "cursor = conexion.cursor() \n",
    "tabla_lastdance_mj  = \"\"\"\n",
    "                                CREATE TABLE IF NOT EXISTS Tabla_2003 (\n",
    "                                Equipo varchar(50),\n",
    "                                Nombre_comun varchar(50),\n",
    "                                team_code varchar(10),\n",
    "                                Posicion int unique not null,\n",
    "                                Partidos int,\n",
    "                                Victorias int, \n",
    "                                Derrotas int,\n",
    "                                PCTVIC float, \n",
    "                                CONSTRAINT fk_Franquicias FOREIGN KEY (team_code)\n",
    "                                    REFERENCES Franquicias (team_code) \n",
    "                   );\"\"\"\n",
    "\n",
    "\n",
    "cursor.execute(tabla_lastdance_mj)\n",
    "conexion.commit()"
   ]
  },
  {
   "cell_type": "code",
   "execution_count": 9,
   "metadata": {},
   "outputs": [],
   "source": [
    "cursor = conexion.cursor() \n",
    "tabla_lastdance_lj  = \"\"\"\n",
    "                                CREATE TABLE IF NOT EXISTS Tabla_2024 (\n",
    "                                Equipo varchar(50),\n",
    "                                Nombre_comun varchar(50),\n",
    "                                team_code varchar(10),\n",
    "                                Posicion int unique not null,\n",
    "                                Partidos int,\n",
    "                                Victorias int, \n",
    "                                Derrotas int,\n",
    "                                PCTVIC float,\n",
    "                                CONSTRAINT fk_Franquicias FOREIGN KEY (team_code)\n",
    "                                    REFERENCES Franquicias (team_code) \n",
    "                   );\"\"\"\n",
    "\n",
    "cursor.execute(tabla_lastdance_lj)\n",
    "conexion.commit()"
   ]
  },
  {
   "cell_type": "code",
   "execution_count": 10,
   "metadata": {},
   "outputs": [],
   "source": [
    "cursor = conexion.cursor()\n",
    "Temp_mj = \"\"\"\n",
    "                   CREATE TABLE IF NOT EXISTS Temporadas_MJ (\n",
    "                   Id_temporada int PRIMARY KEY,\n",
    "                   Season varchar(10),\n",
    "                   team_code varchar(10),\n",
    "                   CONSTRAINT fk_Franquicias FOREIGN KEY (team_code)\n",
    "                        REFERENCES Franquicias (team_code) \n",
    "                   );\"\"\"\n",
    "\n",
    "cursor.execute(Temp_mj)\n",
    "conexion.commit()"
   ]
  },
  {
   "cell_type": "code",
   "execution_count": 11,
   "metadata": {},
   "outputs": [],
   "source": [
    "cursor = conexion.cursor()\n",
    "Temp_lj = \"\"\"\n",
    "                   CREATE TABLE IF NOT EXISTS Temporadas_LJ (\n",
    "                   Id_temporada int PRIMARY KEY,\n",
    "                   Season varchar(10),\n",
    "                   team_code varchar(10),\n",
    "                   CONSTRAINT fk_Franquicias FOREIGN KEY (team_code)\n",
    "                        REFERENCES Franquicias (team_code) \n",
    "                   );\"\"\"\n",
    "\n",
    "cursor.execute(Temp_lj)\n",
    "conexion.commit()"
   ]
  },
  {
   "cell_type": "code",
   "execution_count": 12,
   "metadata": {},
   "outputs": [],
   "source": [
    "cursor = conexion.cursor()\n",
    "temp_regular_mj = \"\"\"\n",
    "                   CREATE TABLE IF NOT EXISTS Temp_regular_MJ (\n",
    "                   Id_temporada int,\n",
    "                   team_code varchar(10),\n",
    "                   player_age int,\n",
    "                   GP int,\n",
    "                   GS int,\n",
    "                   Min float, \n",
    "                   FGM int,\n",
    "                   FGA int,\n",
    "                   FG_PCT float,\n",
    "                   FG3M int,\n",
    "                   FG3A int,\n",
    "                   FG3_PCT float,\n",
    "                   FTM int,\n",
    "                   FTA int,\n",
    "                   FT_PCT float,\n",
    "                   OREB int,\n",
    "                   DREB int,\n",
    "                   REB int,\n",
    "                   AST int,\n",
    "                   STL int,\n",
    "                   BLK int,\n",
    "                   TOV int,\n",
    "                   PF int, \n",
    "                   PTS int,\n",
    "                   CONSTRAINT fk_Temporadas_MJ FOREIGN KEY (Id_temporada)\n",
    "                        REFERENCES Temporadas_MJ (Id_temporada) \n",
    "                   );\"\"\"\n",
    "\n",
    "cursor.execute(temp_regular_mj)\n",
    "conexion.commit()"
   ]
  },
  {
   "cell_type": "code",
   "execution_count": 13,
   "metadata": {},
   "outputs": [],
   "source": [
    "cursor = conexion.cursor()\n",
    "temp_regular_lj = \"\"\"\n",
    "                   CREATE TABLE IF NOT EXISTS Temp_regular_LJ (\n",
    "                   Id_temporada int,\n",
    "                   team_code varchar(10),\n",
    "                   player_age int,\n",
    "                   GP int,\n",
    "                   W int,\n",
    "                   L int,\n",
    "                   W_L_PCT float,\n",
    "                   Min float, \n",
    "                   FGM int,\n",
    "                   FGA int,\n",
    "                   FG_PCT float,\n",
    "                   FG3M int,\n",
    "                   FG3A int,\n",
    "                   FG3_PCT float,\n",
    "                   FTM int,\n",
    "                   FTA int,\n",
    "                   FT_PCT float,\n",
    "                   OREB int,\n",
    "                   DREB int,\n",
    "                   REB int,\n",
    "                   AST int,\n",
    "                   TOV int,\n",
    "                   STL int,\n",
    "                   BLK int,\n",
    "                   BLKA int,\n",
    "                   PF int,\n",
    "                   PFD int, \n",
    "                   PTS int,\n",
    "                   PLUS_MINUS int,\n",
    "                   CONSTRAINT fk_Temporadas_LJ FOREIGN KEY (Id_temporada)\n",
    "                        REFERENCES Temporadas_LJ (Id_temporada) \n",
    "                   );\"\"\"\n",
    "\n",
    "cursor.execute(temp_regular_lj)\n",
    "conexion.commit()"
   ]
  },
  {
   "cell_type": "code",
   "execution_count": 14,
   "metadata": {},
   "outputs": [],
   "source": [
    "cursor = conexion.cursor()\n",
    "\n",
    "playoffs_mj = \"\"\"\n",
    "                   CREATE TABLE IF NOT EXISTS Playoffs_MJ (\n",
    "                   Id_temporada int,\n",
    "                   player_age int,\n",
    "                   team_code varchar(10),\n",
    "                   G int,\n",
    "                   GS int,\n",
    "                   Min float, \n",
    "                   FGM float,\n",
    "                   FGA float,\n",
    "                   FG_PCT float,\n",
    "                   FG3M float,\n",
    "                   FG3A float,\n",
    "                   FG3_PCT float,\n",
    "                   FG2M float,\n",
    "                   FG2A float,\n",
    "                   FG2_PCT float, \n",
    "                   EFG_PCT float,\n",
    "                   FTM float,\n",
    "                   FTA float,\n",
    "                   FT_PCT float,\n",
    "                   OREB float,\n",
    "                   DREB float,\n",
    "                   REB float,\n",
    "                   AST float,\n",
    "                   STL float,\n",
    "                   BLK float,\n",
    "                   TOV float,\n",
    "                   PF float, \n",
    "                   PTS float,\n",
    "                   Id_Resultado int,\n",
    "                   CONSTRAINT fk_Temporadas_MJ FOREIGN KEY (Id_temporada)\n",
    "                        REFERENCES Temporadas_MJ (Id_temporada),\n",
    "                   CONSTRAINT fk_Campeonatos_MJ FOREIGN KEY (Id_resultado)\n",
    "                        REFERENCES Campeonatos_MJ (Id_resultado) \n",
    "                   );\"\"\"\n",
    "\n",
    "cursor.execute(playoffs_mj)\n",
    "conexion.commit()"
   ]
  },
  {
   "cell_type": "code",
   "execution_count": 15,
   "metadata": {},
   "outputs": [],
   "source": [
    "cursor = conexion.cursor()\n",
    "playoffs_lj = \"\"\"\n",
    "                   CREATE TABLE IF NOT EXISTS Playoffs_LJ (\n",
    "                   Id_temporada int,\n",
    "                   player_age int,\n",
    "                   team_code varchar(10),\n",
    "                   G int,\n",
    "                   GS int,\n",
    "                   Min float, \n",
    "                   FGM int,\n",
    "                   FGA int,\n",
    "                   FG_PCT float,\n",
    "                   FG3M float,\n",
    "                   FG3A float,\n",
    "                   FG3_PCT float,\n",
    "                   FG2M float,\n",
    "                   FG2A float,\n",
    "                   FG2_PCT float, \n",
    "                   EFG_PCT float,\n",
    "                   FTM float,\n",
    "                   FTA float,\n",
    "                   FT_PCT float,\n",
    "                   OREB float,\n",
    "                   DREB float,\n",
    "                   REB float,\n",
    "                   AST float,\n",
    "                   STL float,\n",
    "                   BLK float,\n",
    "                   TOV float,\n",
    "                   PF float, \n",
    "                   PTS float,\n",
    "                   Id_Resultado int,\n",
    "                   CONSTRAINT fk_Temporadas_LJ FOREIGN KEY (Id_temporada)\n",
    "                        REFERENCES Temporadas_LJ (Id_temporada),\n",
    "                   CONSTRAINT fk_Campeonatos_LJ FOREIGN KEY (Id_resultado)\n",
    "                        REFERENCES Campeonatos_LJ (Id_resultado) \n",
    "                   );\"\"\"\n",
    "\n",
    "cursor.execute(playoffs_lj)\n",
    "conexion.commit()"
   ]
  },
  {
   "cell_type": "code",
   "execution_count": 16,
   "metadata": {},
   "outputs": [],
   "source": [
    "cursor = conexion.cursor()\n",
    "salarios_mj = \"\"\"\n",
    "                   CREATE TABLE IF NOT EXISTS salarios_mj (\n",
    "                   team_code varchar(10),\n",
    "                   salario int,\n",
    "                   salario_actual int,\n",
    "                   Id_temporada int, \n",
    "                   CONSTRAINT fk_Temporadas_MJ FOREIGN KEY (Id_temporada)\n",
    "                        REFERENCES Temporadas_MJ (Id_temporada)\n",
    "                   );\"\"\"\n",
    "\n",
    "cursor.execute(salarios_mj)\n",
    "conexion.commit()"
   ]
  },
  {
   "cell_type": "code",
   "execution_count": 17,
   "metadata": {},
   "outputs": [],
   "source": [
    "cursor = conexion.cursor()\n",
    "salarios_lj = \"\"\"\n",
    "                   CREATE TABLE IF NOT EXISTS salarios_lj (\n",
    "                   team_code varchar(10),\n",
    "                   salario int,\n",
    "                   salario_actual int,\n",
    "                   Id_temporada int, \n",
    "                   CONSTRAINT fk_Temporadas_LJ FOREIGN KEY (Id_temporada)\n",
    "                        REFERENCES Temporadas_LJ (Id_temporada)\n",
    "                   );\"\"\"\n",
    "\n",
    "cursor.execute(salarios_lj)\n",
    "conexion.commit()"
   ]
  },
  {
   "cell_type": "code",
   "execution_count": 18,
   "metadata": {},
   "outputs": [
    {
     "data": {
      "text/html": [
       "<div>\n",
       "<style scoped>\n",
       "    .dataframe tbody tr th:only-of-type {\n",
       "        vertical-align: middle;\n",
       "    }\n",
       "\n",
       "    .dataframe tbody tr th {\n",
       "        vertical-align: top;\n",
       "    }\n",
       "\n",
       "    .dataframe thead th {\n",
       "        text-align: right;\n",
       "    }\n",
       "</style>\n",
       "<table border=\"1\" class=\"dataframe\">\n",
       "  <thead>\n",
       "    <tr style=\"text-align: right;\">\n",
       "      <th></th>\n",
       "      <th>Equipo</th>\n",
       "      <th>Nombre_comun</th>\n",
       "      <th>Codigo_equipo</th>\n",
       "      <th>Posicion</th>\n",
       "      <th>Partidos</th>\n",
       "      <th>Victorias</th>\n",
       "      <th>Derrotas</th>\n",
       "      <th>Porcentaje_vic</th>\n",
       "    </tr>\n",
       "  </thead>\n",
       "  <tbody>\n",
       "    <tr>\n",
       "      <th>0</th>\n",
       "      <td>Phoenix Suns</td>\n",
       "      <td>Suns</td>\n",
       "      <td>PHX</td>\n",
       "      <td>1</td>\n",
       "      <td>82</td>\n",
       "      <td>64</td>\n",
       "      <td>18</td>\n",
       "      <td>0.780</td>\n",
       "    </tr>\n",
       "    <tr>\n",
       "      <th>1</th>\n",
       "      <td>Memphis Grizzlies</td>\n",
       "      <td>Grizzlies</td>\n",
       "      <td>MEM</td>\n",
       "      <td>2</td>\n",
       "      <td>82</td>\n",
       "      <td>56</td>\n",
       "      <td>26</td>\n",
       "      <td>0.683</td>\n",
       "    </tr>\n",
       "    <tr>\n",
       "      <th>2</th>\n",
       "      <td>Golden State Warriors</td>\n",
       "      <td>Warriors</td>\n",
       "      <td>GSW</td>\n",
       "      <td>3</td>\n",
       "      <td>82</td>\n",
       "      <td>53</td>\n",
       "      <td>29</td>\n",
       "      <td>0.646</td>\n",
       "    </tr>\n",
       "    <tr>\n",
       "      <th>3</th>\n",
       "      <td>Miami Heat</td>\n",
       "      <td>Heat</td>\n",
       "      <td>MIA</td>\n",
       "      <td>4</td>\n",
       "      <td>82</td>\n",
       "      <td>53</td>\n",
       "      <td>29</td>\n",
       "      <td>0.646</td>\n",
       "    </tr>\n",
       "    <tr>\n",
       "      <th>4</th>\n",
       "      <td>Dallas Mavericks</td>\n",
       "      <td>Mavericks</td>\n",
       "      <td>DAL</td>\n",
       "      <td>5</td>\n",
       "      <td>82</td>\n",
       "      <td>52</td>\n",
       "      <td>30</td>\n",
       "      <td>0.634</td>\n",
       "    </tr>\n",
       "  </tbody>\n",
       "</table>\n",
       "</div>"
      ],
      "text/plain": [
       "                  Equipo Nombre_comun Codigo_equipo  Posicion  Partidos  \\\n",
       "0           Phoenix Suns         Suns           PHX         1        82   \n",
       "1      Memphis Grizzlies    Grizzlies           MEM         2        82   \n",
       "2  Golden State Warriors     Warriors           GSW         3        82   \n",
       "3             Miami Heat         Heat           MIA         4        82   \n",
       "4       Dallas Mavericks    Mavericks           DAL         5        82   \n",
       "\n",
       "   Victorias  Derrotas  Porcentaje_vic  \n",
       "0         64        18           0.780  \n",
       "1         56        26           0.683  \n",
       "2         53        29           0.646  \n",
       "3         53        29           0.646  \n",
       "4         52        30           0.634  "
      ]
     },
     "execution_count": 18,
     "metadata": {},
     "output_type": "execute_result"
    }
   ],
   "source": [
    "standings_2003.head()"
   ]
  },
  {
   "cell_type": "markdown",
   "metadata": {},
   "source": [
    "Carga de datos"
   ]
  },
  {
   "cell_type": "code",
   "execution_count": 19,
   "metadata": {},
   "outputs": [],
   "source": [
    "# crea una lista tuplas a partir de los valores de mis columnas\n",
    "lista_tuplas = list(zip(df_campeonato_jordan['Id_resultado'], df_campeonato_jordan['Resultado']))\n",
    "\n",
    "query_carga_1 = 'INSERT INTO Campeonatos_MJ (Id_resultado, resultado) VALUES (%s, %s)'\n",
    "\n",
    "# Ejecutar la consulta con executemany para insertar todas las filas de una vez\n",
    "cursor.executemany(query_carga_1, lista_tuplas)\n",
    "conexion.commit()"
   ]
  },
  {
   "cell_type": "code",
   "execution_count": 20,
   "metadata": {},
   "outputs": [],
   "source": [
    "# son tablas similares, repito el proceso anterior\n",
    "lista_tuplas_1 = list(zip(df_campeonato_lebron['Id_resultado'], df_campeonato_lebron['Resultado']))\n",
    "\n",
    "query_carga_2 = 'INSERT INTO Campeonatos_LJ (Id_resultado, resultado) VALUES (%s, %s)' \n",
    "cursor.executemany(query_carga_2, lista_tuplas_1)\n",
    "conexion.commit() # inserto valores a mi tabla"
   ]
  },
  {
   "cell_type": "code",
   "execution_count": 21,
   "metadata": {},
   "outputs": [],
   "source": [
    "lista_tuplas_2 = []\n",
    "for fila in franquicias_hist.itertuples(index=False, name=None): #genera una lista de tuplas, donde omite el indice y evito que pase a objeto de Pandas\n",
    "    lista_tuplas_2.append(fila)\n",
    "\n",
    "query_carga_3 = \"\"\"INSERT INTO Franquicias \n",
    "(Franquicia, team_code, liga, Desde, Hasta, Anios, G, \n",
    "W, L, W_L_Perc, Plyfs, Div, Conf, Champ) VALUES (%s, %s, %s, %s, %s, %s, %s, %s, %s, %s, %s, %s, %s, %s)\"\"\" # insertar valores %s es como un formato. como un argumento\n",
    "for valores in lista_tuplas_2:\n",
    "    cursor.execute(query_carga_3, valores)\n",
    "conexion.commit() # inserto valores a mi tabla"
   ]
  },
  {
   "cell_type": "code",
   "execution_count": null,
   "metadata": {},
   "outputs": [],
   "source": [
    "# Generar lista de tuplas asegurando que cada tupla tenga el número correcto de columnas\n",
    "lista_tuplas_3 = [tuple(fila) for fila in standings_2003.itertuples(index=False, name=None)]\n",
    "\n",
    "query_carga_4 = \"\"\"\n",
    "    INSERT INTO Tabla_2003 \n",
    "    (Equipo, Nombre_comun, team_code, Posicion, Partidos, Victorias, Derrotas, PCTVIC) \n",
    "    VALUES (%s, %s, %s, %s, %s, %s, %s, %s)\n",
    "\"\"\"  \n",
    "\n",
    "for valores in lista_tuplas_3:\n",
    "    cursor.execute(query_carga_4, valores)\n",
    "\n",
    "conexion.commit()\n"
   ]
  },
  {
   "cell_type": "code",
   "execution_count": 23,
   "metadata": {},
   "outputs": [],
   "source": [
    "lista_tuplas_4 = []\n",
    "for fila in standings_2024.itertuples(index=False, name=None):\n",
    "    lista_tuplas_4.append(tuple(fila))\n",
    "\n",
    "query_carga_5 = \"\"\"INSERT INTO Tabla_2024\n",
    "(Equipo, Nombre_comun, team_code, Posicion, Partidos, Victorias, \n",
    "Derrotas, PCTVIC) VALUES (%s, %s,%s, %s, %s, %s, %s, %s)\"\"\" # insertar valores %s es como un formato. como un argumento\n",
    "for valores in lista_tuplas_4:\n",
    "    cursor.execute(query_carga_5, valores)\n",
    "conexion.commit() # inserto valores a mi tabla"
   ]
  },
  {
   "cell_type": "code",
   "execution_count": 24,
   "metadata": {},
   "outputs": [],
   "source": [
    "lista_tuplas_5 = []\n",
    "for fila in df_temporadas_jordan.itertuples(index=False, name=None):\n",
    "    lista_tuplas_5.append(tuple(fila))\n",
    "\n",
    "query_carga_6 = 'INSERT INTO Temporadas_MJ (Id_temporada, Season, team_code) VALUES (%s, %s, %s)' \n",
    "for valores in lista_tuplas_5:\n",
    "    cursor.execute(query_carga_6, valores)\n",
    "conexion.commit() # inserto valores a mi tabla"
   ]
  },
  {
   "cell_type": "code",
   "execution_count": 25,
   "metadata": {},
   "outputs": [],
   "source": [
    "lista_tuplas_6 = []\n",
    "for fila in df_temporadas_lebron.itertuples(index=False, name=None):\n",
    "    lista_tuplas_6.append(tuple(fila))\n",
    "\n",
    "query_carga_7 = 'INSERT INTO Temporadas_LJ (Id_temporada, Season, team_code) VALUES (%s, %s, %s)' \n",
    "for valores in lista_tuplas_6:\n",
    "    cursor.execute(query_carga_7, valores)\n",
    "conexion.commit() # inserto valores a mi tabla"
   ]
  },
  {
   "cell_type": "code",
   "execution_count": 26,
   "metadata": {},
   "outputs": [],
   "source": [
    "lista_tuplas_7 = []\n",
    "for fila in df_regular_season_jordan.itertuples(index=False, name=None):\n",
    "    lista_tuplas_7.append(tuple(fila))\n",
    "\n",
    "query_carga_8 = \"\"\"INSERT INTO Temp_regular_MJ (Id_temporada, team_code, player_age, GP, GS,\n",
    "Min, FGM, FGA, FG_PCT, FG3M, FG3A, FG3_PCT, FTM, FTA, \n",
    "FT_PCT, OREB, DREB, REB, AST, STL, BLK, TOV, PF, PTS) VALUES \n",
    "(%s, %s, %s, %s, %s, %s, %s, %s, %s, %s, %s, %s, %s ,%s ,%s, %s, %s, %s ,%s ,%s ,%s, %s ,%s, %s)\"\"\" # insertar valores %s es como un formato. como un argumento\n",
    "for valores in lista_tuplas_7:\n",
    "    cursor.execute(query_carga_8, valores)\n",
    "conexion.commit() # inserto valores a mi tabla"
   ]
  },
  {
   "cell_type": "code",
   "execution_count": 27,
   "metadata": {},
   "outputs": [],
   "source": [
    "lista_tuplas_8 = []\n",
    "for fila in df_regular_season_lebron.itertuples(index=False, name=None):\n",
    "    lista_tuplas_8.append(tuple(fila))\n",
    "\n",
    "query_carga_9 = \"\"\"INSERT INTO Temp_regular_LJ (Id_temporada, team_code, player_age, GP, W, L, W_L_PCT,\n",
    "Min, FGM, FGA, FG_PCT, FG3M, FG3A, FG3_PCT, FTM, FTA, \n",
    "FT_PCT, OREB, DREB, REB, AST, TOV, STL, BLK, BLKA, PF, PFD, PTS, PLUS_MINUS) VALUES \n",
    "(%s, %s, %s, %s, %s, %s, %s, %s, %s, %s, %s, %s, %s ,%s ,%s, %s, %s, %s ,%s ,%s ,%s, %s ,%s, %s, %s, %s, %s, %s, %s )\"\"\" # insertar valores %s es como un formato. como un argumento\n",
    "for valores in lista_tuplas_8:\n",
    "    cursor.execute(query_carga_9, valores)\n",
    "conexion.commit() # inserto valores a mi tabla"
   ]
  },
  {
   "cell_type": "code",
   "execution_count": 28,
   "metadata": {},
   "outputs": [],
   "source": [
    "lista_tuplas_9 = []\n",
    "for fila in df_playoffs_jordan.itertuples(index=False, name=None):\n",
    "    lista_tuplas_9.append(tuple(fila))\n",
    "\n",
    "query_carga_10 = \"\"\"INSERT INTO Playoffs_MJ (Id_temporada, player_age, team_code, G, GS,\n",
    "Min, FGM, FGA, FG_PCT, FG3M, FG3A, FG3_PCT, FG2M, FG2A, FG2_PCT, EFG_PCT, FTM, FTA,\n",
    "FT_PCT, OREB, DREB, REB, AST, STL, BLK, TOV, PF, PTS, Id_Resultado) VALUES \n",
    "(%s, %s, %s, %s, %s, %s, %s, %s, %s, %s, %s, %s, %s ,%s ,%s, %s, %s, %s ,%s ,%s ,%s, %s ,%s, %s, %s, %s, %s, %s, %s)\"\"\" # insertar valores %s es como un formato. como un argumento\n",
    "for valores in lista_tuplas_9:\n",
    "    cursor.execute(query_carga_10, valores)\n",
    "conexion.commit() # inserto valores a mi tabla"
   ]
  },
  {
   "cell_type": "code",
   "execution_count": null,
   "metadata": {},
   "outputs": [],
   "source": [
    "lista_tuplas_10 = []\n",
    "for fila in df_playoff_lebron.itertuples(index=False, name=None):\n",
    "    lista_tuplas_10.append(tuple(fila))\n",
    "\n",
    "query_carga_11 = \"\"\"INSERT INTO Playoffs_LJ (Id_temporada, player_age, team_code, G, GS,\n",
    "Min, FGM, FGA, FG_PCT, FG3M, FG3A, FG3_PCT, FG2M, FG2A, FG2_PCT, EFG_PCT , FTM, FTA,\n",
    "FT_PCT, OREB, DREB, REB, AST, STL, BLK, TOV, PF, PTS, Id_Resultado) VALUES \n",
    "(%s, %s, %s, %s, %s, %s, %s, %s, %s, %s, %s, %s, %s ,%s ,%s, %s, %s, %s ,%s ,%s ,%s, %s ,%s, %s, %s, %s, %s, %s, %s)\"\"\" # insertar valores %s es como un formato. como un argumento\n",
    "for valores in lista_tuplas_10:\n",
    "    cursor.execute(query_carga_11, valores)\n",
    "conexion.commit() # inserto valores a mi tabla"
   ]
  },
  {
   "cell_type": "code",
   "execution_count": 34,
   "metadata": {},
   "outputs": [],
   "source": [
    "lista_tuplas_11 = []\n",
    "for fila in salarios_jordan.itertuples(index=False, name=None):\n",
    "    lista_tuplas_11.append(tuple(fila))\n",
    "\n",
    "query_carga_12 = \"\"\"INSERT INTO salarios_mj (team_code, salario, salario_actual, Id_temporada) VALUES \n",
    "(%s, %s, %s, %s)\"\"\" # insertar valores %s es como un formato. como un argumento\n",
    "for valores in lista_tuplas_11:\n",
    "    cursor.execute(query_carga_12, valores)\n",
    "conexion.commit() # inserto valores a mi tabla"
   ]
  },
  {
   "cell_type": "code",
   "execution_count": 35,
   "metadata": {},
   "outputs": [],
   "source": [
    "lista_tuplas_12 = []\n",
    "for fila in salarios_lebron.itertuples(index=False, name=None):\n",
    "    lista_tuplas_12.append(tuple(fila))\n",
    "\n",
    "query_carga_13 = \"\"\"INSERT INTO salarios_lj (team_code, salario, salario_actual, Id_temporada) VALUES \n",
    "(%s, %s, %s, %s)\"\"\" # insertar valores %s es como un formato. como un argumento\n",
    "for valores in lista_tuplas_12:\n",
    "    cursor.execute(query_carga_13, valores)\n",
    "conexion.commit() # inserto valores a mi tabla"
   ]
  },
  {
   "cell_type": "code",
   "execution_count": 24,
   "metadata": {},
   "outputs": [],
   "source": [
    "# Cerrar el cursor si está abierto\n",
    "if cursor:\n",
    "    cursor.close()\n",
    "\n",
    "# Cerrar la conexión si está abierta\n",
    "if conexion:\n",
    "    conexion.close()\n"
   ]
  },
  {
   "cell_type": "markdown",
   "metadata": {},
   "source": [
    "# EDA"
   ]
  },
  {
   "cell_type": "code",
   "execution_count": 3,
   "metadata": {},
   "outputs": [],
   "source": [
    "cursor=conexion.cursor()\n",
    "query_EDA_1 = \"\"\"\n",
    "            SELECT id_temporada, player_age, team_code, fg_pct, min, pts\n",
    "FROM campeonatos_lj cl\n",
    "INNER JOIN playoffs_lj pl \n",
    "ON cl.id_resultado = pl.id_resultado \n",
    "WHERE pl.id_resultado = 1\n",
    "\"\"\"\n",
    "cursor.execute(query_EDA_1)\n",
    "temp_camp_lj = pd.DataFrame(cursor.fetchall(), columns= ['id_temporada', 'edad', 'equipo', 'fg_pct', 'minutos', 'puntos'])"
   ]
  },
  {
   "cell_type": "code",
   "execution_count": 4,
   "metadata": {},
   "outputs": [
    {
     "data": {
      "text/html": [
       "<div>\n",
       "<style scoped>\n",
       "    .dataframe tbody tr th:only-of-type {\n",
       "        vertical-align: middle;\n",
       "    }\n",
       "\n",
       "    .dataframe tbody tr th {\n",
       "        vertical-align: top;\n",
       "    }\n",
       "\n",
       "    .dataframe thead th {\n",
       "        text-align: right;\n",
       "    }\n",
       "</style>\n",
       "<table border=\"1\" class=\"dataframe\">\n",
       "  <thead>\n",
       "    <tr style=\"text-align: right;\">\n",
       "      <th></th>\n",
       "      <th>id_temporada</th>\n",
       "      <th>edad</th>\n",
       "      <th>equipo</th>\n",
       "      <th>fg_pct</th>\n",
       "      <th>minutos</th>\n",
       "      <th>puntos</th>\n",
       "    </tr>\n",
       "  </thead>\n",
       "  <tbody>\n",
       "    <tr>\n",
       "      <th>0</th>\n",
       "      <td>9</td>\n",
       "      <td>27</td>\n",
       "      <td>MIA</td>\n",
       "      <td>0.500</td>\n",
       "      <td>42.7</td>\n",
       "      <td>30.3</td>\n",
       "    </tr>\n",
       "    <tr>\n",
       "      <th>1</th>\n",
       "      <td>10</td>\n",
       "      <td>28</td>\n",
       "      <td>MIA</td>\n",
       "      <td>0.491</td>\n",
       "      <td>41.7</td>\n",
       "      <td>25.9</td>\n",
       "    </tr>\n",
       "    <tr>\n",
       "      <th>2</th>\n",
       "      <td>13</td>\n",
       "      <td>31</td>\n",
       "      <td>CLE</td>\n",
       "      <td>0.525</td>\n",
       "      <td>39.1</td>\n",
       "      <td>26.3</td>\n",
       "    </tr>\n",
       "    <tr>\n",
       "      <th>3</th>\n",
       "      <td>17</td>\n",
       "      <td>35</td>\n",
       "      <td>LAL</td>\n",
       "      <td>0.560</td>\n",
       "      <td>36.3</td>\n",
       "      <td>27.6</td>\n",
       "    </tr>\n",
       "  </tbody>\n",
       "</table>\n",
       "</div>"
      ],
      "text/plain": [
       "   id_temporada  edad equipo  fg_pct  minutos  puntos\n",
       "0             9    27    MIA   0.500     42.7    30.3\n",
       "1            10    28    MIA   0.491     41.7    25.9\n",
       "2            13    31    CLE   0.525     39.1    26.3\n",
       "3            17    35    LAL   0.560     36.3    27.6"
      ]
     },
     "execution_count": 4,
     "metadata": {},
     "output_type": "execute_result"
    }
   ],
   "source": [
    "temp_camp_lj"
   ]
  },
  {
   "cell_type": "code",
   "execution_count": 5,
   "metadata": {},
   "outputs": [],
   "source": [
    "cursor=conexion.cursor()\n",
    "query_EDA_2 = \"\"\"\n",
    "SELECT id_temporada, player_age, team_code, fg_pct, min, pts\n",
    "FROM campeonatos_mj cm \n",
    "INNER JOIN playoffs_mj pm \n",
    "ON cm.id_resultado = pm.id_resultado \n",
    "WHERE pm.id_resultado = 1;\n",
    "\"\"\"\n",
    "cursor.execute(query_EDA_2)\n",
    "temp_camp_mj = pd.DataFrame(cursor.fetchall(), columns= ['id_temporada', 'edad', 'equipo', 'fg_pct', 'minutos', 'puntos'])"
   ]
  },
  {
   "cell_type": "code",
   "execution_count": 6,
   "metadata": {},
   "outputs": [
    {
     "data": {
      "text/html": [
       "<div>\n",
       "<style scoped>\n",
       "    .dataframe tbody tr th:only-of-type {\n",
       "        vertical-align: middle;\n",
       "    }\n",
       "\n",
       "    .dataframe tbody tr th {\n",
       "        vertical-align: top;\n",
       "    }\n",
       "\n",
       "    .dataframe thead th {\n",
       "        text-align: right;\n",
       "    }\n",
       "</style>\n",
       "<table border=\"1\" class=\"dataframe\">\n",
       "  <thead>\n",
       "    <tr style=\"text-align: right;\">\n",
       "      <th></th>\n",
       "      <th>id_temporada</th>\n",
       "      <th>edad</th>\n",
       "      <th>equipo</th>\n",
       "      <th>fg_pct</th>\n",
       "      <th>minutos</th>\n",
       "      <th>puntos</th>\n",
       "    </tr>\n",
       "  </thead>\n",
       "  <tbody>\n",
       "    <tr>\n",
       "      <th>0</th>\n",
       "      <td>7</td>\n",
       "      <td>27</td>\n",
       "      <td>CHI</td>\n",
       "      <td>0.524</td>\n",
       "      <td>40.5</td>\n",
       "      <td>31.1</td>\n",
       "    </tr>\n",
       "    <tr>\n",
       "      <th>1</th>\n",
       "      <td>8</td>\n",
       "      <td>28</td>\n",
       "      <td>CHI</td>\n",
       "      <td>0.499</td>\n",
       "      <td>41.8</td>\n",
       "      <td>34.5</td>\n",
       "    </tr>\n",
       "    <tr>\n",
       "      <th>2</th>\n",
       "      <td>9</td>\n",
       "      <td>29</td>\n",
       "      <td>CHI</td>\n",
       "      <td>0.475</td>\n",
       "      <td>41.2</td>\n",
       "      <td>35.1</td>\n",
       "    </tr>\n",
       "    <tr>\n",
       "      <th>3</th>\n",
       "      <td>11</td>\n",
       "      <td>32</td>\n",
       "      <td>CHI</td>\n",
       "      <td>0.459</td>\n",
       "      <td>40.7</td>\n",
       "      <td>30.7</td>\n",
       "    </tr>\n",
       "    <tr>\n",
       "      <th>4</th>\n",
       "      <td>12</td>\n",
       "      <td>33</td>\n",
       "      <td>CHI</td>\n",
       "      <td>0.456</td>\n",
       "      <td>42.3</td>\n",
       "      <td>31.1</td>\n",
       "    </tr>\n",
       "    <tr>\n",
       "      <th>5</th>\n",
       "      <td>13</td>\n",
       "      <td>34</td>\n",
       "      <td>CHI</td>\n",
       "      <td>0.462</td>\n",
       "      <td>41.5</td>\n",
       "      <td>32.4</td>\n",
       "    </tr>\n",
       "  </tbody>\n",
       "</table>\n",
       "</div>"
      ],
      "text/plain": [
       "   id_temporada  edad equipo  fg_pct  minutos  puntos\n",
       "0             7    27    CHI   0.524     40.5    31.1\n",
       "1             8    28    CHI   0.499     41.8    34.5\n",
       "2             9    29    CHI   0.475     41.2    35.1\n",
       "3            11    32    CHI   0.459     40.7    30.7\n",
       "4            12    33    CHI   0.456     42.3    31.1\n",
       "5            13    34    CHI   0.462     41.5    32.4"
      ]
     },
     "execution_count": 6,
     "metadata": {},
     "output_type": "execute_result"
    }
   ],
   "source": [
    "temp_camp_mj"
   ]
  },
  {
   "cell_type": "code",
   "execution_count": 7,
   "metadata": {},
   "outputs": [],
   "source": [
    "cursor=conexion.cursor()\n",
    "query_EDA_3 = \"\"\"\n",
    "SELECT sl.team_code, salario, salario_actual, sl.id_temporada, tl.season \n",
    "FROM salarios_lj sl \n",
    "INNER JOIN temporadas_lj tl \n",
    "ON sl.id_temporada = tl.id_temporada \n",
    "ORDER BY sl.id_temporada ASC ;\n",
    "\"\"\"\n",
    "cursor.execute(query_EDA_3)\n",
    "sal_lj_temp = pd.DataFrame(cursor.fetchall(), columns= ['equipo', 'salario_momento', 'salario_actualidad', 'id_temporada', 'temporada'])"
   ]
  },
  {
   "cell_type": "code",
   "execution_count": 8,
   "metadata": {},
   "outputs": [
    {
     "data": {
      "text/html": [
       "<div>\n",
       "<style scoped>\n",
       "    .dataframe tbody tr th:only-of-type {\n",
       "        vertical-align: middle;\n",
       "    }\n",
       "\n",
       "    .dataframe tbody tr th {\n",
       "        vertical-align: top;\n",
       "    }\n",
       "\n",
       "    .dataframe thead th {\n",
       "        text-align: right;\n",
       "    }\n",
       "</style>\n",
       "<table border=\"1\" class=\"dataframe\">\n",
       "  <thead>\n",
       "    <tr style=\"text-align: right;\">\n",
       "      <th></th>\n",
       "      <th>equipo</th>\n",
       "      <th>salario_momento</th>\n",
       "      <th>salario_actualidad</th>\n",
       "      <th>id_temporada</th>\n",
       "      <th>temporada</th>\n",
       "    </tr>\n",
       "  </thead>\n",
       "  <tbody>\n",
       "    <tr>\n",
       "      <th>0</th>\n",
       "      <td>CLE</td>\n",
       "      <td>4018920</td>\n",
       "      <td>6675060</td>\n",
       "      <td>1</td>\n",
       "      <td>2003-04</td>\n",
       "    </tr>\n",
       "    <tr>\n",
       "      <th>1</th>\n",
       "      <td>CLE</td>\n",
       "      <td>4320360</td>\n",
       "      <td>6948764</td>\n",
       "      <td>2</td>\n",
       "      <td>2004-05</td>\n",
       "    </tr>\n",
       "    <tr>\n",
       "      <th>2</th>\n",
       "      <td>CLE</td>\n",
       "      <td>4621800</td>\n",
       "      <td>7250142</td>\n",
       "      <td>3</td>\n",
       "      <td>2005-06</td>\n",
       "    </tr>\n",
       "    <tr>\n",
       "      <th>3</th>\n",
       "      <td>CLE</td>\n",
       "      <td>5828090</td>\n",
       "      <td>8763936</td>\n",
       "      <td>4</td>\n",
       "      <td>2006-07</td>\n",
       "    </tr>\n",
       "    <tr>\n",
       "      <th>4</th>\n",
       "      <td>CLE</td>\n",
       "      <td>13041250</td>\n",
       "      <td>19097502</td>\n",
       "      <td>5</td>\n",
       "      <td>2007-08</td>\n",
       "    </tr>\n",
       "    <tr>\n",
       "      <th>5</th>\n",
       "      <td>CLE</td>\n",
       "      <td>14410581</td>\n",
       "      <td>20093677</td>\n",
       "      <td>6</td>\n",
       "      <td>2008-09</td>\n",
       "    </tr>\n",
       "    <tr>\n",
       "      <th>6</th>\n",
       "      <td>CLE</td>\n",
       "      <td>15779912</td>\n",
       "      <td>22321508</td>\n",
       "      <td>7</td>\n",
       "      <td>2009-10</td>\n",
       "    </tr>\n",
       "    <tr>\n",
       "      <th>7</th>\n",
       "      <td>MIA</td>\n",
       "      <td>14500000</td>\n",
       "      <td>20297205</td>\n",
       "      <td>8</td>\n",
       "      <td>2010-11</td>\n",
       "    </tr>\n",
       "    <tr>\n",
       "      <th>8</th>\n",
       "      <td>MIA</td>\n",
       "      <td>16022500</td>\n",
       "      <td>21657653</td>\n",
       "      <td>9</td>\n",
       "      <td>2011-12</td>\n",
       "    </tr>\n",
       "    <tr>\n",
       "      <th>9</th>\n",
       "      <td>MIA</td>\n",
       "      <td>17545000</td>\n",
       "      <td>23327453</td>\n",
       "      <td>10</td>\n",
       "      <td>2012-13</td>\n",
       "    </tr>\n",
       "    <tr>\n",
       "      <th>10</th>\n",
       "      <td>MIA</td>\n",
       "      <td>19067500</td>\n",
       "      <td>24914630</td>\n",
       "      <td>11</td>\n",
       "      <td>2013-14</td>\n",
       "    </tr>\n",
       "    <tr>\n",
       "      <th>11</th>\n",
       "      <td>CLE</td>\n",
       "      <td>20644400</td>\n",
       "      <td>26427427</td>\n",
       "      <td>12</td>\n",
       "      <td>2014-15</td>\n",
       "    </tr>\n",
       "    <tr>\n",
       "      <th>12</th>\n",
       "      <td>CLE</td>\n",
       "      <td>22970500</td>\n",
       "      <td>29368777</td>\n",
       "      <td>13</td>\n",
       "      <td>2015-16</td>\n",
       "    </tr>\n",
       "    <tr>\n",
       "      <th>13</th>\n",
       "      <td>CLE</td>\n",
       "      <td>30963450</td>\n",
       "      <td>39197185</td>\n",
       "      <td>14</td>\n",
       "      <td>2016-17</td>\n",
       "    </tr>\n",
       "    <tr>\n",
       "      <th>14</th>\n",
       "      <td>CLE</td>\n",
       "      <td>33285709</td>\n",
       "      <td>41459735</td>\n",
       "      <td>15</td>\n",
       "      <td>2017-18</td>\n",
       "    </tr>\n",
       "    <tr>\n",
       "      <th>15</th>\n",
       "      <td>LAL</td>\n",
       "      <td>35654150</td>\n",
       "      <td>43170146</td>\n",
       "      <td>16</td>\n",
       "      <td>2018-19</td>\n",
       "    </tr>\n",
       "    <tr>\n",
       "      <th>16</th>\n",
       "      <td>LAL</td>\n",
       "      <td>37436858</td>\n",
       "      <td>44593536</td>\n",
       "      <td>17</td>\n",
       "      <td>2019-20</td>\n",
       "    </tr>\n",
       "    <tr>\n",
       "      <th>17</th>\n",
       "      <td>LAL</td>\n",
       "      <td>39219566</td>\n",
       "      <td>46417307</td>\n",
       "      <td>18</td>\n",
       "      <td>2020-21</td>\n",
       "    </tr>\n",
       "    <tr>\n",
       "      <th>18</th>\n",
       "      <td>LAL</td>\n",
       "      <td>41180544</td>\n",
       "      <td>46244900</td>\n",
       "      <td>19</td>\n",
       "      <td>2021-22</td>\n",
       "    </tr>\n",
       "    <tr>\n",
       "      <th>19</th>\n",
       "      <td>LAL</td>\n",
       "      <td>44474988</td>\n",
       "      <td>45795529</td>\n",
       "      <td>20</td>\n",
       "      <td>2022-23</td>\n",
       "    </tr>\n",
       "    <tr>\n",
       "      <th>20</th>\n",
       "      <td>LAL</td>\n",
       "      <td>47607350</td>\n",
       "      <td>47607350</td>\n",
       "      <td>21</td>\n",
       "      <td>2023-24</td>\n",
       "    </tr>\n",
       "  </tbody>\n",
       "</table>\n",
       "</div>"
      ],
      "text/plain": [
       "   equipo  salario_momento  salario_actualidad  id_temporada temporada\n",
       "0     CLE          4018920             6675060             1   2003-04\n",
       "1     CLE          4320360             6948764             2   2004-05\n",
       "2     CLE          4621800             7250142             3   2005-06\n",
       "3     CLE          5828090             8763936             4   2006-07\n",
       "4     CLE         13041250            19097502             5   2007-08\n",
       "5     CLE         14410581            20093677             6   2008-09\n",
       "6     CLE         15779912            22321508             7   2009-10\n",
       "7     MIA         14500000            20297205             8   2010-11\n",
       "8     MIA         16022500            21657653             9   2011-12\n",
       "9     MIA         17545000            23327453            10   2012-13\n",
       "10    MIA         19067500            24914630            11   2013-14\n",
       "11    CLE         20644400            26427427            12   2014-15\n",
       "12    CLE         22970500            29368777            13   2015-16\n",
       "13    CLE         30963450            39197185            14   2016-17\n",
       "14    CLE         33285709            41459735            15   2017-18\n",
       "15    LAL         35654150            43170146            16   2018-19\n",
       "16    LAL         37436858            44593536            17   2019-20\n",
       "17    LAL         39219566            46417307            18   2020-21\n",
       "18    LAL         41180544            46244900            19   2021-22\n",
       "19    LAL         44474988            45795529            20   2022-23\n",
       "20    LAL         47607350            47607350            21   2023-24"
      ]
     },
     "execution_count": 8,
     "metadata": {},
     "output_type": "execute_result"
    }
   ],
   "source": [
    "sal_lj_temp"
   ]
  },
  {
   "cell_type": "code",
   "execution_count": 9,
   "metadata": {},
   "outputs": [],
   "source": [
    "cursor=conexion.cursor()\n",
    "query_EDA_4 = \"\"\"\n",
    "SELECT sum(salario_actual), team_code, count(id_temporada) \n",
    "FROM salarios_lj sl \n",
    "GROUP BY team_code;\n",
    "\"\"\"\n",
    "cursor.execute(query_EDA_4)\n",
    "sal_lj_acum = pd.DataFrame(cursor.fetchall(), columns= ['salario_acumulado', 'equipo', 'temporadas'])"
   ]
  },
  {
   "cell_type": "code",
   "execution_count": 10,
   "metadata": {},
   "outputs": [
    {
     "data": {
      "text/html": [
       "<div>\n",
       "<style scoped>\n",
       "    .dataframe tbody tr th:only-of-type {\n",
       "        vertical-align: middle;\n",
       "    }\n",
       "\n",
       "    .dataframe tbody tr th {\n",
       "        vertical-align: top;\n",
       "    }\n",
       "\n",
       "    .dataframe thead th {\n",
       "        text-align: right;\n",
       "    }\n",
       "</style>\n",
       "<table border=\"1\" class=\"dataframe\">\n",
       "  <thead>\n",
       "    <tr style=\"text-align: right;\">\n",
       "      <th></th>\n",
       "      <th>salario_acumulado</th>\n",
       "      <th>equipo</th>\n",
       "      <th>temporadas</th>\n",
       "    </tr>\n",
       "  </thead>\n",
       "  <tbody>\n",
       "    <tr>\n",
       "      <th>0</th>\n",
       "      <td>273828768</td>\n",
       "      <td>LAL</td>\n",
       "      <td>6</td>\n",
       "    </tr>\n",
       "    <tr>\n",
       "      <th>1</th>\n",
       "      <td>227603713</td>\n",
       "      <td>CLE</td>\n",
       "      <td>11</td>\n",
       "    </tr>\n",
       "    <tr>\n",
       "      <th>2</th>\n",
       "      <td>90196941</td>\n",
       "      <td>MIA</td>\n",
       "      <td>4</td>\n",
       "    </tr>\n",
       "  </tbody>\n",
       "</table>\n",
       "</div>"
      ],
      "text/plain": [
       "   salario_acumulado equipo  temporadas\n",
       "0          273828768    LAL           6\n",
       "1          227603713    CLE          11\n",
       "2           90196941    MIA           4"
      ]
     },
     "execution_count": 10,
     "metadata": {},
     "output_type": "execute_result"
    }
   ],
   "source": [
    "sal_lj_acum.head()"
   ]
  },
  {
   "cell_type": "code",
   "execution_count": 11,
   "metadata": {},
   "outputs": [],
   "source": [
    "cursor=conexion.cursor()\n",
    "query_EDA_5 = \"\"\"\n",
    "SELECT sm.team_code, salario, salario_actual, sm.id_temporada, tm.season \n",
    "FROM salarios_mj sm \n",
    "INNER JOIN temporadas_mj tm \n",
    "ON sm.id_temporada = tm.id_temporada \n",
    "ORDER BY sm.id_temporada ASC ;\n",
    "\"\"\"\n",
    "cursor.execute(query_EDA_5)\n",
    "sal_mj_temp = pd.DataFrame(cursor.fetchall(), columns=['equipo', 'salario', 'salario_actualidad', 'id_temp', 'temporada'])"
   ]
  },
  {
   "cell_type": "code",
   "execution_count": 12,
   "metadata": {},
   "outputs": [
    {
     "data": {
      "text/html": [
       "<div>\n",
       "<style scoped>\n",
       "    .dataframe tbody tr th:only-of-type {\n",
       "        vertical-align: middle;\n",
       "    }\n",
       "\n",
       "    .dataframe tbody tr th {\n",
       "        vertical-align: top;\n",
       "    }\n",
       "\n",
       "    .dataframe thead th {\n",
       "        text-align: right;\n",
       "    }\n",
       "</style>\n",
       "<table border=\"1\" class=\"dataframe\">\n",
       "  <thead>\n",
       "    <tr style=\"text-align: right;\">\n",
       "      <th></th>\n",
       "      <th>equipo</th>\n",
       "      <th>salario</th>\n",
       "      <th>salario_actualidad</th>\n",
       "      <th>id_temp</th>\n",
       "      <th>temporada</th>\n",
       "    </tr>\n",
       "  </thead>\n",
       "  <tbody>\n",
       "    <tr>\n",
       "      <th>0</th>\n",
       "      <td>CHI</td>\n",
       "      <td>2500000</td>\n",
       "      <td>5871997</td>\n",
       "      <td>7</td>\n",
       "      <td>1990-91</td>\n",
       "    </tr>\n",
       "    <tr>\n",
       "      <th>1</th>\n",
       "      <td>CHI</td>\n",
       "      <td>3250000</td>\n",
       "      <td>7291207</td>\n",
       "      <td>8</td>\n",
       "      <td>1991-92</td>\n",
       "    </tr>\n",
       "    <tr>\n",
       "      <th>2</th>\n",
       "      <td>CHI</td>\n",
       "      <td>4000000</td>\n",
       "      <td>8704964</td>\n",
       "      <td>9</td>\n",
       "      <td>1992-93</td>\n",
       "    </tr>\n",
       "    <tr>\n",
       "      <th>3</th>\n",
       "      <td>CHI</td>\n",
       "      <td>3850000</td>\n",
       "      <td>7936957</td>\n",
       "      <td>10</td>\n",
       "      <td>1994-95</td>\n",
       "    </tr>\n",
       "    <tr>\n",
       "      <th>4</th>\n",
       "      <td>CHI</td>\n",
       "      <td>3850000</td>\n",
       "      <td>7702751</td>\n",
       "      <td>11</td>\n",
       "      <td>1995-96</td>\n",
       "    </tr>\n",
       "  </tbody>\n",
       "</table>\n",
       "</div>"
      ],
      "text/plain": [
       "  equipo  salario  salario_actualidad  id_temp temporada\n",
       "0    CHI  2500000             5871997        7   1990-91\n",
       "1    CHI  3250000             7291207        8   1991-92\n",
       "2    CHI  4000000             8704964        9   1992-93\n",
       "3    CHI  3850000             7936957       10   1994-95\n",
       "4    CHI  3850000             7702751       11   1995-96"
      ]
     },
     "execution_count": 12,
     "metadata": {},
     "output_type": "execute_result"
    }
   ],
   "source": [
    "sal_mj_temp.head()"
   ]
  },
  {
   "cell_type": "code",
   "execution_count": 13,
   "metadata": {},
   "outputs": [],
   "source": [
    "cursor=conexion.cursor()\n",
    "query_EDA_6 = \"\"\"\n",
    "SELECT sum(salario_actual), team_code, count(id_temporada) \n",
    "FROM salarios_mj sm \n",
    "GROUP BY team_code;\n",
    "\n",
    "\"\"\"\n",
    "cursor.execute(query_EDA_6)\n",
    "sal_mj_acum = pd.DataFrame(cursor.fetchall(), columns=['salario_acumulado', 'equipo', 'temporadas'])"
   ]
  },
  {
   "cell_type": "code",
   "execution_count": 14,
   "metadata": {},
   "outputs": [
    {
     "data": {
      "text/html": [
       "<div>\n",
       "<style scoped>\n",
       "    .dataframe tbody tr th:only-of-type {\n",
       "        vertical-align: middle;\n",
       "    }\n",
       "\n",
       "    .dataframe tbody tr th {\n",
       "        vertical-align: top;\n",
       "    }\n",
       "\n",
       "    .dataframe thead th {\n",
       "        text-align: right;\n",
       "    }\n",
       "</style>\n",
       "<table border=\"1\" class=\"dataframe\">\n",
       "  <thead>\n",
       "    <tr style=\"text-align: right;\">\n",
       "      <th></th>\n",
       "      <th>salario_acumulado</th>\n",
       "      <th>equipo</th>\n",
       "      <th>temporadas</th>\n",
       "    </tr>\n",
       "  </thead>\n",
       "  <tbody>\n",
       "    <tr>\n",
       "      <th>0</th>\n",
       "      <td>3460966</td>\n",
       "      <td>WAS</td>\n",
       "      <td>2</td>\n",
       "    </tr>\n",
       "    <tr>\n",
       "      <th>1</th>\n",
       "      <td>159270599</td>\n",
       "      <td>CHI</td>\n",
       "      <td>7</td>\n",
       "    </tr>\n",
       "  </tbody>\n",
       "</table>\n",
       "</div>"
      ],
      "text/plain": [
       "   salario_acumulado equipo  temporadas\n",
       "0            3460966    WAS           2\n",
       "1          159270599    CHI           7"
      ]
     },
     "execution_count": 14,
     "metadata": {},
     "output_type": "execute_result"
    }
   ],
   "source": [
    "sal_mj_acum.head()"
   ]
  },
  {
   "cell_type": "code",
   "execution_count": 15,
   "metadata": {},
   "outputs": [],
   "source": [
    "cursor = conexion.cursor()\n",
    "query_EDA_7 = \"\"\"\n",
    "SELECT tl.id_temporada, tl.team_code,t.posicion ,player_age, gp AS partidos_jugados, t.partidos ,trl.w AS victorias_conseguidas, t.victorias,trl.l AS derrotas_sufridas, t.derrotas , round(min) AS minutos_jugados, reb, ast, stl, blk, pts\n",
    "FROM temp_regular_lj trl \n",
    "INNER JOIN temporadas_lj tl \n",
    "ON trl.id_temporada = tl.id_temporada \n",
    "INNER JOIN franquicias f \n",
    "ON tl.team_code = f.team_code \n",
    "INNER JOIN tabla_2024 t \n",
    "ON f.team_code = t.team_code \n",
    "WHERE tl.season = '2023-24' ;\"\"\"\n",
    "\n",
    "cursor.execute(query_EDA_7)\n",
    "ultima_temp_lj = pd.DataFrame(cursor.fetchall(), columns=['id_temporada', 'equipo', 'posicion_tabla', 'edad', 'partidos_jugados', 'partidos', 'victorias_cons', 'victorias', 'derrotas_sufridas', 'derrotas', 'minutos', 'rebotes', 'asistencias', 'robos', 'bloqueos', 'puntos'])"
   ]
  },
  {
   "cell_type": "code",
   "execution_count": 16,
   "metadata": {},
   "outputs": [
    {
     "data": {
      "text/html": [
       "<div>\n",
       "<style scoped>\n",
       "    .dataframe tbody tr th:only-of-type {\n",
       "        vertical-align: middle;\n",
       "    }\n",
       "\n",
       "    .dataframe tbody tr th {\n",
       "        vertical-align: top;\n",
       "    }\n",
       "\n",
       "    .dataframe thead th {\n",
       "        text-align: right;\n",
       "    }\n",
       "</style>\n",
       "<table border=\"1\" class=\"dataframe\">\n",
       "  <thead>\n",
       "    <tr style=\"text-align: right;\">\n",
       "      <th></th>\n",
       "      <th>id_temporada</th>\n",
       "      <th>equipo</th>\n",
       "      <th>posicion_tabla</th>\n",
       "      <th>edad</th>\n",
       "      <th>partidos_jugados</th>\n",
       "      <th>partidos</th>\n",
       "      <th>victorias_cons</th>\n",
       "      <th>victorias</th>\n",
       "      <th>derrotas_sufridas</th>\n",
       "      <th>derrotas</th>\n",
       "      <th>minutos</th>\n",
       "      <th>rebotes</th>\n",
       "      <th>asistencias</th>\n",
       "      <th>robos</th>\n",
       "      <th>bloqueos</th>\n",
       "      <th>puntos</th>\n",
       "    </tr>\n",
       "  </thead>\n",
       "  <tbody>\n",
       "    <tr>\n",
       "      <th>0</th>\n",
       "      <td>21</td>\n",
       "      <td>LAL</td>\n",
       "      <td>13</td>\n",
       "      <td>39</td>\n",
       "      <td>71</td>\n",
       "      <td>82</td>\n",
       "      <td>41</td>\n",
       "      <td>47</td>\n",
       "      <td>30</td>\n",
       "      <td>35</td>\n",
       "      <td>2504.0</td>\n",
       "      <td>518</td>\n",
       "      <td>589</td>\n",
       "      <td>89</td>\n",
       "      <td>38</td>\n",
       "      <td>1822</td>\n",
       "    </tr>\n",
       "  </tbody>\n",
       "</table>\n",
       "</div>"
      ],
      "text/plain": [
       "   id_temporada equipo  posicion_tabla  edad  partidos_jugados  partidos  \\\n",
       "0            21    LAL              13    39                71        82   \n",
       "\n",
       "   victorias_cons  victorias  derrotas_sufridas  derrotas  minutos  rebotes  \\\n",
       "0              41         47                 30        35   2504.0      518   \n",
       "\n",
       "   asistencias  robos  bloqueos  puntos  \n",
       "0          589     89        38    1822  "
      ]
     },
     "execution_count": 16,
     "metadata": {},
     "output_type": "execute_result"
    }
   ],
   "source": [
    "ultima_temp_lj"
   ]
  },
  {
   "cell_type": "code",
   "execution_count": 17,
   "metadata": {},
   "outputs": [],
   "source": [
    "cursor = conexion.cursor()\n",
    "query_EDA_8 = \"\"\"\n",
    "SELECT tm.id_temporada, trm.team_code, t.posicion , player_age, t.partidos, trm.gp AS partidos_jugados, trm.min AS minutos_jugados, trm.reb, trm.ast, trm.stl, trm.blk, trm.pts, t.victorias, t.derrotas \n",
    "FROM temporadas_mj tm \n",
    "INNER JOIN temp_regular_mj trm \n",
    "ON tm.id_temporada = trm.id_temporada \n",
    "INNER JOIN franquicias f \n",
    "ON f.team_code = tm.team_code \n",
    "INNER JOIN tabla_2003 t \n",
    "ON f.team_code = t.team_code \n",
    "WHERE tm.season = '2002-03';\n",
    "\"\"\"\n",
    "\n",
    "cursor.execute(query_EDA_8)\n",
    "ultima_temp_mj = pd.DataFrame(cursor.fetchall(), columns= ['id_temporada', 'equipo', 'posicion_tabla' ,'edad', 'partidos_jugados', 'partidos' , 'minutos', 'rebotes', 'asistencias', 'robos', 'bloqueos', 'puntos', 'victorias', 'derrotas'])"
   ]
  },
  {
   "cell_type": "code",
   "execution_count": 18,
   "metadata": {},
   "outputs": [
    {
     "data": {
      "text/html": [
       "<div>\n",
       "<style scoped>\n",
       "    .dataframe tbody tr th:only-of-type {\n",
       "        vertical-align: middle;\n",
       "    }\n",
       "\n",
       "    .dataframe tbody tr th {\n",
       "        vertical-align: top;\n",
       "    }\n",
       "\n",
       "    .dataframe thead th {\n",
       "        text-align: right;\n",
       "    }\n",
       "</style>\n",
       "<table border=\"1\" class=\"dataframe\">\n",
       "  <thead>\n",
       "    <tr style=\"text-align: right;\">\n",
       "      <th></th>\n",
       "      <th>id_temporada</th>\n",
       "      <th>equipo</th>\n",
       "      <th>posicion_tabla</th>\n",
       "      <th>edad</th>\n",
       "      <th>partidos_jugados</th>\n",
       "      <th>partidos</th>\n",
       "      <th>minutos</th>\n",
       "      <th>rebotes</th>\n",
       "      <th>asistencias</th>\n",
       "      <th>robos</th>\n",
       "      <th>bloqueos</th>\n",
       "      <th>puntos</th>\n",
       "      <th>victorias</th>\n",
       "      <th>derrotas</th>\n",
       "    </tr>\n",
       "  </thead>\n",
       "  <tbody>\n",
       "    <tr>\n",
       "      <th>0</th>\n",
       "      <td>15</td>\n",
       "      <td>WAS</td>\n",
       "      <td>21</td>\n",
       "      <td>40</td>\n",
       "      <td>82</td>\n",
       "      <td>82</td>\n",
       "      <td>3029.0</td>\n",
       "      <td>497</td>\n",
       "      <td>311</td>\n",
       "      <td>123</td>\n",
       "      <td>39</td>\n",
       "      <td>1640</td>\n",
       "      <td>35</td>\n",
       "      <td>47</td>\n",
       "    </tr>\n",
       "  </tbody>\n",
       "</table>\n",
       "</div>"
      ],
      "text/plain": [
       "   id_temporada equipo  posicion_tabla  edad  partidos_jugados  partidos  \\\n",
       "0            15    WAS              21    40                82        82   \n",
       "\n",
       "   minutos  rebotes  asistencias  robos  bloqueos  puntos  victorias  derrotas  \n",
       "0   3029.0      497          311    123        39    1640         35        47  "
      ]
     },
     "execution_count": 18,
     "metadata": {},
     "output_type": "execute_result"
    }
   ],
   "source": [
    "ultima_temp_mj"
   ]
  },
  {
   "cell_type": "code",
   "execution_count": 19,
   "metadata": {},
   "outputs": [],
   "source": [
    "cursor = conexion.cursor()\n",
    "query_EDA_9 = \"\"\"SELECT team_code, sum(gp) AS partidos, count(id_temporada) AS temporadas, sum(pts) AS puntos_aportados, round(avg(gp))\n",
    "FROM temp_regular_lj trl \n",
    "GROUP BY team_code ;\"\"\"\n",
    "\n",
    "cursor.execute(query_EDA_9)\n",
    "partidos_equip_lj = pd.DataFrame(cursor.fetchall(), columns= ['equipo', 'partidos', 'temporadas', 'puntos', 'promedio_partidos_jugados'])"
   ]
  },
  {
   "cell_type": "code",
   "execution_count": 20,
   "metadata": {},
   "outputs": [
    {
     "data": {
      "text/html": [
       "<div>\n",
       "<style scoped>\n",
       "    .dataframe tbody tr th:only-of-type {\n",
       "        vertical-align: middle;\n",
       "    }\n",
       "\n",
       "    .dataframe tbody tr th {\n",
       "        vertical-align: top;\n",
       "    }\n",
       "\n",
       "    .dataframe thead th {\n",
       "        text-align: right;\n",
       "    }\n",
       "</style>\n",
       "<table border=\"1\" class=\"dataframe\">\n",
       "  <thead>\n",
       "    <tr style=\"text-align: right;\">\n",
       "      <th></th>\n",
       "      <th>equipo</th>\n",
       "      <th>partidos</th>\n",
       "      <th>temporadas</th>\n",
       "      <th>puntos</th>\n",
       "      <th>promedio_partidos_jugados</th>\n",
       "    </tr>\n",
       "  </thead>\n",
       "  <tbody>\n",
       "    <tr>\n",
       "      <th>0</th>\n",
       "      <td>LAL</td>\n",
       "      <td>349</td>\n",
       "      <td>6</td>\n",
       "      <td>9436</td>\n",
       "      <td>58</td>\n",
       "    </tr>\n",
       "    <tr>\n",
       "      <th>1</th>\n",
       "      <td>CLE</td>\n",
       "      <td>849</td>\n",
       "      <td>11</td>\n",
       "      <td>23119</td>\n",
       "      <td>77</td>\n",
       "    </tr>\n",
       "    <tr>\n",
       "      <th>2</th>\n",
       "      <td>MIA</td>\n",
       "      <td>294</td>\n",
       "      <td>4</td>\n",
       "      <td>7919</td>\n",
       "      <td>74</td>\n",
       "    </tr>\n",
       "  </tbody>\n",
       "</table>\n",
       "</div>"
      ],
      "text/plain": [
       "  equipo  partidos  temporadas  puntos promedio_partidos_jugados\n",
       "0    LAL       349           6    9436                        58\n",
       "1    CLE       849          11   23119                        77\n",
       "2    MIA       294           4    7919                        74"
      ]
     },
     "execution_count": 20,
     "metadata": {},
     "output_type": "execute_result"
    }
   ],
   "source": [
    "partidos_equip_lj"
   ]
  },
  {
   "cell_type": "code",
   "execution_count": 21,
   "metadata": {},
   "outputs": [],
   "source": [
    "cursor = conexion.cursor()\n",
    "query_EDA_10 = \"\"\"SELECT team_code, sum(gp) partidos, count(id_temporada) AS temporadas, sum(pts) AS puntos_aportados, round(avg(gp))\n",
    "FROM temp_regular_mj trm\n",
    "GROUP BY team_code ; ;\"\"\"\n",
    "\n",
    "cursor.execute(query_EDA_10)\n",
    "partidos_equip_mj = pd.DataFrame(cursor.fetchall(), columns= ['equipo', 'partidos', 'temporadas', 'puntos', 'promedio_partidos_jugados'])"
   ]
  },
  {
   "cell_type": "code",
   "execution_count": 22,
   "metadata": {},
   "outputs": [
    {
     "data": {
      "text/html": [
       "<div>\n",
       "<style scoped>\n",
       "    .dataframe tbody tr th:only-of-type {\n",
       "        vertical-align: middle;\n",
       "    }\n",
       "\n",
       "    .dataframe tbody tr th {\n",
       "        vertical-align: top;\n",
       "    }\n",
       "\n",
       "    .dataframe thead th {\n",
       "        text-align: right;\n",
       "    }\n",
       "</style>\n",
       "<table border=\"1\" class=\"dataframe\">\n",
       "  <thead>\n",
       "    <tr style=\"text-align: right;\">\n",
       "      <th></th>\n",
       "      <th>equipo</th>\n",
       "      <th>partidos</th>\n",
       "      <th>temporadas</th>\n",
       "      <th>puntos</th>\n",
       "      <th>promedio_partidos_jugados</th>\n",
       "    </tr>\n",
       "  </thead>\n",
       "  <tbody>\n",
       "    <tr>\n",
       "      <th>0</th>\n",
       "      <td>WAS</td>\n",
       "      <td>142</td>\n",
       "      <td>2</td>\n",
       "      <td>3015</td>\n",
       "      <td>71</td>\n",
       "    </tr>\n",
       "    <tr>\n",
       "      <th>1</th>\n",
       "      <td>CHI</td>\n",
       "      <td>930</td>\n",
       "      <td>13</td>\n",
       "      <td>29277</td>\n",
       "      <td>72</td>\n",
       "    </tr>\n",
       "  </tbody>\n",
       "</table>\n",
       "</div>"
      ],
      "text/plain": [
       "  equipo  partidos  temporadas  puntos promedio_partidos_jugados\n",
       "0    WAS       142           2    3015                        71\n",
       "1    CHI       930          13   29277                        72"
      ]
     },
     "execution_count": 22,
     "metadata": {},
     "output_type": "execute_result"
    }
   ],
   "source": [
    "partidos_equip_mj"
   ]
  },
  {
   "cell_type": "code",
   "execution_count": 23,
   "metadata": {},
   "outputs": [],
   "source": [
    "cursor = conexion.cursor()\n",
    "query_EDA_11 = \"\"\"SELECT \n",
    "    team_code,\n",
    "    COUNT(CASE WHEN id_resultado = 0 THEN 1 END) AS contendiente,\n",
    "    COUNT(CASE WHEN id_resultado = 1 THEN 1 END) AS campeonato,\n",
    "    COUNT(CASE WHEN id_resultado = 2 THEN 1 END) AS finalista\n",
    "FROM \n",
    "    playoffs_lj\n",
    "GROUP BY \n",
    "    team_code;\"\"\"\n",
    "\n",
    "cursor.execute(query_EDA_11)\n",
    "campeonatos_equip_lj = pd.DataFrame(cursor.fetchall(), columns= ['equipo', 'contendiente', 'campeonato', 'finalista'])"
   ]
  },
  {
   "cell_type": "code",
   "execution_count": 24,
   "metadata": {},
   "outputs": [
    {
     "data": {
      "text/html": [
       "<div>\n",
       "<style scoped>\n",
       "    .dataframe tbody tr th:only-of-type {\n",
       "        vertical-align: middle;\n",
       "    }\n",
       "\n",
       "    .dataframe tbody tr th {\n",
       "        vertical-align: top;\n",
       "    }\n",
       "\n",
       "    .dataframe thead th {\n",
       "        text-align: right;\n",
       "    }\n",
       "</style>\n",
       "<table border=\"1\" class=\"dataframe\">\n",
       "  <thead>\n",
       "    <tr style=\"text-align: right;\">\n",
       "      <th></th>\n",
       "      <th>equipo</th>\n",
       "      <th>contendiente</th>\n",
       "      <th>campeonato</th>\n",
       "      <th>finalista</th>\n",
       "    </tr>\n",
       "  </thead>\n",
       "  <tbody>\n",
       "    <tr>\n",
       "      <th>0</th>\n",
       "      <td>LAL</td>\n",
       "      <td>3</td>\n",
       "      <td>1</td>\n",
       "      <td>0</td>\n",
       "    </tr>\n",
       "    <tr>\n",
       "      <th>1</th>\n",
       "      <td>CLE</td>\n",
       "      <td>4</td>\n",
       "      <td>1</td>\n",
       "      <td>4</td>\n",
       "    </tr>\n",
       "    <tr>\n",
       "      <th>2</th>\n",
       "      <td>MIA</td>\n",
       "      <td>0</td>\n",
       "      <td>2</td>\n",
       "      <td>2</td>\n",
       "    </tr>\n",
       "  </tbody>\n",
       "</table>\n",
       "</div>"
      ],
      "text/plain": [
       "  equipo  contendiente  campeonato  finalista\n",
       "0    LAL             3           1          0\n",
       "1    CLE             4           1          4\n",
       "2    MIA             0           2          2"
      ]
     },
     "execution_count": 24,
     "metadata": {},
     "output_type": "execute_result"
    }
   ],
   "source": [
    "campeonatos_equip_lj"
   ]
  },
  {
   "cell_type": "code",
   "execution_count": 25,
   "metadata": {},
   "outputs": [],
   "source": [
    "cursor = conexion.cursor()\n",
    "query_EDA_12 = \"\"\"SELECT team_code,\n",
    "\tcount(CASE WHEN id_resultado = 0 THEN 1 end) AS contendiente,\n",
    "\tcount(CASE WHEN id_resultado = 1 THEN 1 end) AS campeonato\n",
    "FROM playoffs_mj pm \n",
    "GROUP BY team_code ;\"\"\"\n",
    "\n",
    "cursor.execute(query_EDA_12)\n",
    "campeonatos_equip_mj = pd.DataFrame(cursor.fetchall(), columns= ['equipo', 'contendiente', 'campeonato'])"
   ]
  },
  {
   "cell_type": "code",
   "execution_count": 26,
   "metadata": {},
   "outputs": [
    {
     "data": {
      "text/html": [
       "<div>\n",
       "<style scoped>\n",
       "    .dataframe tbody tr th:only-of-type {\n",
       "        vertical-align: middle;\n",
       "    }\n",
       "\n",
       "    .dataframe tbody tr th {\n",
       "        vertical-align: top;\n",
       "    }\n",
       "\n",
       "    .dataframe thead th {\n",
       "        text-align: right;\n",
       "    }\n",
       "</style>\n",
       "<table border=\"1\" class=\"dataframe\">\n",
       "  <thead>\n",
       "    <tr style=\"text-align: right;\">\n",
       "      <th></th>\n",
       "      <th>equipo</th>\n",
       "      <th>contendiente</th>\n",
       "      <th>campeonato</th>\n",
       "    </tr>\n",
       "  </thead>\n",
       "  <tbody>\n",
       "    <tr>\n",
       "      <th>0</th>\n",
       "      <td>CHI</td>\n",
       "      <td>7</td>\n",
       "      <td>6</td>\n",
       "    </tr>\n",
       "  </tbody>\n",
       "</table>\n",
       "</div>"
      ],
      "text/plain": [
       "  equipo  contendiente  campeonato\n",
       "0    CHI             7           6"
      ]
     },
     "execution_count": 26,
     "metadata": {},
     "output_type": "execute_result"
    }
   ],
   "source": [
    "campeonatos_equip_mj"
   ]
  },
  {
   "cell_type": "code",
   "execution_count": 27,
   "metadata": {},
   "outputs": [],
   "source": [
    "cursor = conexion.cursor()\n",
    "query_EDA_13 = \"\"\"SELECT tl.id_temporada , tl.team_code, gp, w, l, w_l_pct , round(min) , fg_pct , reb, ast, blk, pts\n",
    "FROM temp_regular_lj trl \n",
    "INNER JOIN temporadas_lj tl \n",
    "ON trl.id_temporada = tl.id_temporada \n",
    ";\n",
    "\"\"\"\n",
    "\n",
    "cursor.execute(query_EDA_13)\n",
    "temp_regular_stats_lj = pd.DataFrame(cursor.fetchall(), columns= ['id_temporada', 'equipo', 'partidos_jugados', 'victorias', 'derrotas', 'w_l_pct', 'min', 'fg_pct', 'reb', 'ast', 'blk', 'pts'])"
   ]
  },
  {
   "cell_type": "code",
   "execution_count": 28,
   "metadata": {},
   "outputs": [
    {
     "data": {
      "text/html": [
       "<div>\n",
       "<style scoped>\n",
       "    .dataframe tbody tr th:only-of-type {\n",
       "        vertical-align: middle;\n",
       "    }\n",
       "\n",
       "    .dataframe tbody tr th {\n",
       "        vertical-align: top;\n",
       "    }\n",
       "\n",
       "    .dataframe thead th {\n",
       "        text-align: right;\n",
       "    }\n",
       "</style>\n",
       "<table border=\"1\" class=\"dataframe\">\n",
       "  <thead>\n",
       "    <tr style=\"text-align: right;\">\n",
       "      <th></th>\n",
       "      <th>id_temporada</th>\n",
       "      <th>equipo</th>\n",
       "      <th>partidos_jugados</th>\n",
       "      <th>victorias</th>\n",
       "      <th>derrotas</th>\n",
       "      <th>w_l_pct</th>\n",
       "      <th>min</th>\n",
       "      <th>fg_pct</th>\n",
       "      <th>reb</th>\n",
       "      <th>ast</th>\n",
       "      <th>blk</th>\n",
       "      <th>pts</th>\n",
       "    </tr>\n",
       "  </thead>\n",
       "  <tbody>\n",
       "    <tr>\n",
       "      <th>0</th>\n",
       "      <td>1</td>\n",
       "      <td>CLE</td>\n",
       "      <td>79</td>\n",
       "      <td>33</td>\n",
       "      <td>46</td>\n",
       "      <td>0.418</td>\n",
       "      <td>3127.0</td>\n",
       "      <td>0.417</td>\n",
       "      <td>432</td>\n",
       "      <td>465</td>\n",
       "      <td>58</td>\n",
       "      <td>1654</td>\n",
       "    </tr>\n",
       "    <tr>\n",
       "      <th>1</th>\n",
       "      <td>2</td>\n",
       "      <td>CLE</td>\n",
       "      <td>80</td>\n",
       "      <td>41</td>\n",
       "      <td>39</td>\n",
       "      <td>0.513</td>\n",
       "      <td>3384.0</td>\n",
       "      <td>0.472</td>\n",
       "      <td>588</td>\n",
       "      <td>577</td>\n",
       "      <td>52</td>\n",
       "      <td>2175</td>\n",
       "    </tr>\n",
       "    <tr>\n",
       "      <th>2</th>\n",
       "      <td>3</td>\n",
       "      <td>CLE</td>\n",
       "      <td>79</td>\n",
       "      <td>47</td>\n",
       "      <td>32</td>\n",
       "      <td>0.595</td>\n",
       "      <td>3361.0</td>\n",
       "      <td>0.480</td>\n",
       "      <td>556</td>\n",
       "      <td>521</td>\n",
       "      <td>66</td>\n",
       "      <td>2478</td>\n",
       "    </tr>\n",
       "    <tr>\n",
       "      <th>3</th>\n",
       "      <td>4</td>\n",
       "      <td>CLE</td>\n",
       "      <td>78</td>\n",
       "      <td>47</td>\n",
       "      <td>31</td>\n",
       "      <td>0.603</td>\n",
       "      <td>3190.0</td>\n",
       "      <td>0.476</td>\n",
       "      <td>526</td>\n",
       "      <td>470</td>\n",
       "      <td>55</td>\n",
       "      <td>2132</td>\n",
       "    </tr>\n",
       "    <tr>\n",
       "      <th>4</th>\n",
       "      <td>5</td>\n",
       "      <td>CLE</td>\n",
       "      <td>75</td>\n",
       "      <td>45</td>\n",
       "      <td>30</td>\n",
       "      <td>0.600</td>\n",
       "      <td>3027.0</td>\n",
       "      <td>0.484</td>\n",
       "      <td>592</td>\n",
       "      <td>539</td>\n",
       "      <td>81</td>\n",
       "      <td>2250</td>\n",
       "    </tr>\n",
       "  </tbody>\n",
       "</table>\n",
       "</div>"
      ],
      "text/plain": [
       "   id_temporada equipo  partidos_jugados  victorias  derrotas  w_l_pct  \\\n",
       "0             1    CLE                79         33        46    0.418   \n",
       "1             2    CLE                80         41        39    0.513   \n",
       "2             3    CLE                79         47        32    0.595   \n",
       "3             4    CLE                78         47        31    0.603   \n",
       "4             5    CLE                75         45        30    0.600   \n",
       "\n",
       "      min  fg_pct  reb  ast  blk   pts  \n",
       "0  3127.0   0.417  432  465   58  1654  \n",
       "1  3384.0   0.472  588  577   52  2175  \n",
       "2  3361.0   0.480  556  521   66  2478  \n",
       "3  3190.0   0.476  526  470   55  2132  \n",
       "4  3027.0   0.484  592  539   81  2250  "
      ]
     },
     "execution_count": 28,
     "metadata": {},
     "output_type": "execute_result"
    }
   ],
   "source": [
    "temp_regular_stats_lj.head()"
   ]
  },
  {
   "cell_type": "code",
   "execution_count": 62,
   "metadata": {},
   "outputs": [
    {
     "data": {
      "text/html": [
       "<div>\n",
       "<style scoped>\n",
       "    .dataframe tbody tr th:only-of-type {\n",
       "        vertical-align: middle;\n",
       "    }\n",
       "\n",
       "    .dataframe tbody tr th {\n",
       "        vertical-align: top;\n",
       "    }\n",
       "\n",
       "    .dataframe thead th {\n",
       "        text-align: right;\n",
       "    }\n",
       "</style>\n",
       "<table border=\"1\" class=\"dataframe\">\n",
       "  <thead>\n",
       "    <tr style=\"text-align: right;\">\n",
       "      <th></th>\n",
       "      <th>equipo</th>\n",
       "      <th>id_temporada</th>\n",
       "    </tr>\n",
       "  </thead>\n",
       "  <tbody>\n",
       "    <tr>\n",
       "      <th>0</th>\n",
       "      <td>CLE</td>\n",
       "      <td>11</td>\n",
       "    </tr>\n",
       "    <tr>\n",
       "      <th>1</th>\n",
       "      <td>LAL</td>\n",
       "      <td>6</td>\n",
       "    </tr>\n",
       "    <tr>\n",
       "      <th>2</th>\n",
       "      <td>MIA</td>\n",
       "      <td>4</td>\n",
       "    </tr>\n",
       "  </tbody>\n",
       "</table>\n",
       "</div>"
      ],
      "text/plain": [
       "  equipo  id_temporada\n",
       "0    CLE            11\n",
       "1    LAL             6\n",
       "2    MIA             4"
      ]
     },
     "execution_count": 62,
     "metadata": {},
     "output_type": "execute_result"
    }
   ],
   "source": [
    "conteo_temporadas_lj = temp_regular_stats_lj.groupby('equipo')['id_temporada'].count().reset_index()\n",
    "conteo_temporadas_lj"
   ]
  },
  {
   "cell_type": "code",
   "execution_count": 29,
   "metadata": {},
   "outputs": [],
   "source": [
    "cursor = conexion.cursor()\n",
    "query_EDA_14 = \"\"\"SELECT tm.id_temporada, tm.team_code , gp , round(min), fg_pct, reb, ast, blk, pts\n",
    "FROM temp_regular_mj trm \n",
    "INNER JOIN temporadas_mj tm \n",
    "ON trm.id_temporada = tm.id_temporada \n",
    ";\n",
    "\"\"\"\n",
    "\n",
    "cursor.execute(query_EDA_14)\n",
    "temp_regular_stats_mj = pd.DataFrame(cursor.fetchall(), columns= ['id_temporada', 'equipo', 'partidos_jugados', 'minutos', 'fg_pct', 'reb', 'ast', 'blk', 'pts' ])"
   ]
  },
  {
   "cell_type": "code",
   "execution_count": 30,
   "metadata": {},
   "outputs": [
    {
     "data": {
      "text/html": [
       "<div>\n",
       "<style scoped>\n",
       "    .dataframe tbody tr th:only-of-type {\n",
       "        vertical-align: middle;\n",
       "    }\n",
       "\n",
       "    .dataframe tbody tr th {\n",
       "        vertical-align: top;\n",
       "    }\n",
       "\n",
       "    .dataframe thead th {\n",
       "        text-align: right;\n",
       "    }\n",
       "</style>\n",
       "<table border=\"1\" class=\"dataframe\">\n",
       "  <thead>\n",
       "    <tr style=\"text-align: right;\">\n",
       "      <th></th>\n",
       "      <th>id_temporada</th>\n",
       "      <th>equipo</th>\n",
       "      <th>partidos_jugados</th>\n",
       "      <th>minutos</th>\n",
       "      <th>fg_pct</th>\n",
       "      <th>reb</th>\n",
       "      <th>ast</th>\n",
       "      <th>blk</th>\n",
       "      <th>pts</th>\n",
       "    </tr>\n",
       "  </thead>\n",
       "  <tbody>\n",
       "    <tr>\n",
       "      <th>0</th>\n",
       "      <td>1</td>\n",
       "      <td>CHI</td>\n",
       "      <td>82</td>\n",
       "      <td>3144.0</td>\n",
       "      <td>0.515</td>\n",
       "      <td>534</td>\n",
       "      <td>481</td>\n",
       "      <td>69</td>\n",
       "      <td>2313</td>\n",
       "    </tr>\n",
       "    <tr>\n",
       "      <th>1</th>\n",
       "      <td>2</td>\n",
       "      <td>CHI</td>\n",
       "      <td>18</td>\n",
       "      <td>451.0</td>\n",
       "      <td>0.457</td>\n",
       "      <td>64</td>\n",
       "      <td>53</td>\n",
       "      <td>21</td>\n",
       "      <td>408</td>\n",
       "    </tr>\n",
       "    <tr>\n",
       "      <th>2</th>\n",
       "      <td>3</td>\n",
       "      <td>CHI</td>\n",
       "      <td>82</td>\n",
       "      <td>3281.0</td>\n",
       "      <td>0.482</td>\n",
       "      <td>430</td>\n",
       "      <td>377</td>\n",
       "      <td>125</td>\n",
       "      <td>3041</td>\n",
       "    </tr>\n",
       "    <tr>\n",
       "      <th>3</th>\n",
       "      <td>4</td>\n",
       "      <td>CHI</td>\n",
       "      <td>82</td>\n",
       "      <td>3311.0</td>\n",
       "      <td>0.535</td>\n",
       "      <td>449</td>\n",
       "      <td>485</td>\n",
       "      <td>131</td>\n",
       "      <td>2868</td>\n",
       "    </tr>\n",
       "    <tr>\n",
       "      <th>4</th>\n",
       "      <td>5</td>\n",
       "      <td>CHI</td>\n",
       "      <td>81</td>\n",
       "      <td>3255.0</td>\n",
       "      <td>0.538</td>\n",
       "      <td>652</td>\n",
       "      <td>650</td>\n",
       "      <td>65</td>\n",
       "      <td>2633</td>\n",
       "    </tr>\n",
       "  </tbody>\n",
       "</table>\n",
       "</div>"
      ],
      "text/plain": [
       "   id_temporada equipo  partidos_jugados  minutos  fg_pct  reb  ast  blk   pts\n",
       "0             1    CHI                82   3144.0   0.515  534  481   69  2313\n",
       "1             2    CHI                18    451.0   0.457   64   53   21   408\n",
       "2             3    CHI                82   3281.0   0.482  430  377  125  3041\n",
       "3             4    CHI                82   3311.0   0.535  449  485  131  2868\n",
       "4             5    CHI                81   3255.0   0.538  652  650   65  2633"
      ]
     },
     "execution_count": 30,
     "metadata": {},
     "output_type": "execute_result"
    }
   ],
   "source": [
    "temp_regular_stats_mj.head()"
   ]
  },
  {
   "cell_type": "code",
   "execution_count": 66,
   "metadata": {},
   "outputs": [
    {
     "data": {
      "text/html": [
       "<div>\n",
       "<style scoped>\n",
       "    .dataframe tbody tr th:only-of-type {\n",
       "        vertical-align: middle;\n",
       "    }\n",
       "\n",
       "    .dataframe tbody tr th {\n",
       "        vertical-align: top;\n",
       "    }\n",
       "\n",
       "    .dataframe thead th {\n",
       "        text-align: right;\n",
       "    }\n",
       "</style>\n",
       "<table border=\"1\" class=\"dataframe\">\n",
       "  <thead>\n",
       "    <tr style=\"text-align: right;\">\n",
       "      <th></th>\n",
       "      <th>equipo</th>\n",
       "      <th>id_temporada</th>\n",
       "    </tr>\n",
       "  </thead>\n",
       "  <tbody>\n",
       "    <tr>\n",
       "      <th>0</th>\n",
       "      <td>CHI</td>\n",
       "      <td>13</td>\n",
       "    </tr>\n",
       "    <tr>\n",
       "      <th>1</th>\n",
       "      <td>WAS</td>\n",
       "      <td>2</td>\n",
       "    </tr>\n",
       "  </tbody>\n",
       "</table>\n",
       "</div>"
      ],
      "text/plain": [
       "  equipo  id_temporada\n",
       "0    CHI            13\n",
       "1    WAS             2"
      ]
     },
     "execution_count": 66,
     "metadata": {},
     "output_type": "execute_result"
    }
   ],
   "source": [
    "conteo_temporadas_mj = temp_regular_stats_mj.groupby('equipo')['id_temporada'].count().reset_index()\n",
    "conteo_temporadas_mj"
   ]
  },
  {
   "cell_type": "code",
   "execution_count": 31,
   "metadata": {},
   "outputs": [],
   "source": [
    "cursor = conexion.cursor()\n",
    "query_EDA_15 = \"\"\"SELECT id_temporada , team_code, g, min, fg_pct , reb, ast , stl, blk, pts, id_resultado \n",
    "FROM playoffs_mj pm ;\n",
    ";\n",
    "\"\"\"\n",
    "\n",
    "cursor.execute(query_EDA_15)\n",
    "temp_playoffs_stats_mj = pd.DataFrame(cursor.fetchall(), columns= ['id_temp', 'equipo', 'partidos', 'prom_minutos', 'fg_pct', 'prom_reb', 'prom_ast', 'prom_stl', 'prom_blk', 'prom_pts', 'id_resultado'])"
   ]
  },
  {
   "cell_type": "code",
   "execution_count": 32,
   "metadata": {},
   "outputs": [
    {
     "data": {
      "text/html": [
       "<div>\n",
       "<style scoped>\n",
       "    .dataframe tbody tr th:only-of-type {\n",
       "        vertical-align: middle;\n",
       "    }\n",
       "\n",
       "    .dataframe tbody tr th {\n",
       "        vertical-align: top;\n",
       "    }\n",
       "\n",
       "    .dataframe thead th {\n",
       "        text-align: right;\n",
       "    }\n",
       "</style>\n",
       "<table border=\"1\" class=\"dataframe\">\n",
       "  <thead>\n",
       "    <tr style=\"text-align: right;\">\n",
       "      <th></th>\n",
       "      <th>id_temp</th>\n",
       "      <th>equipo</th>\n",
       "      <th>partidos</th>\n",
       "      <th>prom_minutos</th>\n",
       "      <th>fg_pct</th>\n",
       "      <th>prom_reb</th>\n",
       "      <th>prom_ast</th>\n",
       "      <th>prom_stl</th>\n",
       "      <th>prom_blk</th>\n",
       "      <th>prom_pts</th>\n",
       "      <th>id_resultado</th>\n",
       "    </tr>\n",
       "  </thead>\n",
       "  <tbody>\n",
       "    <tr>\n",
       "      <th>0</th>\n",
       "      <td>1</td>\n",
       "      <td>CHI</td>\n",
       "      <td>4</td>\n",
       "      <td>42.8</td>\n",
       "      <td>0.436</td>\n",
       "      <td>5.8</td>\n",
       "      <td>8.5</td>\n",
       "      <td>2.8</td>\n",
       "      <td>1.0</td>\n",
       "      <td>29.3</td>\n",
       "      <td>0</td>\n",
       "    </tr>\n",
       "    <tr>\n",
       "      <th>1</th>\n",
       "      <td>2</td>\n",
       "      <td>CHI</td>\n",
       "      <td>3</td>\n",
       "      <td>45.0</td>\n",
       "      <td>0.505</td>\n",
       "      <td>6.3</td>\n",
       "      <td>5.7</td>\n",
       "      <td>2.3</td>\n",
       "      <td>1.3</td>\n",
       "      <td>43.7</td>\n",
       "      <td>0</td>\n",
       "    </tr>\n",
       "    <tr>\n",
       "      <th>2</th>\n",
       "      <td>3</td>\n",
       "      <td>CHI</td>\n",
       "      <td>3</td>\n",
       "      <td>42.7</td>\n",
       "      <td>0.417</td>\n",
       "      <td>7.0</td>\n",
       "      <td>6.0</td>\n",
       "      <td>2.0</td>\n",
       "      <td>2.3</td>\n",
       "      <td>35.7</td>\n",
       "      <td>0</td>\n",
       "    </tr>\n",
       "    <tr>\n",
       "      <th>3</th>\n",
       "      <td>4</td>\n",
       "      <td>CHI</td>\n",
       "      <td>10</td>\n",
       "      <td>42.7</td>\n",
       "      <td>0.531</td>\n",
       "      <td>7.1</td>\n",
       "      <td>4.7</td>\n",
       "      <td>2.4</td>\n",
       "      <td>1.1</td>\n",
       "      <td>36.3</td>\n",
       "      <td>0</td>\n",
       "    </tr>\n",
       "    <tr>\n",
       "      <th>4</th>\n",
       "      <td>5</td>\n",
       "      <td>CHI</td>\n",
       "      <td>17</td>\n",
       "      <td>42.2</td>\n",
       "      <td>0.510</td>\n",
       "      <td>7.0</td>\n",
       "      <td>7.6</td>\n",
       "      <td>2.5</td>\n",
       "      <td>0.8</td>\n",
       "      <td>34.8</td>\n",
       "      <td>0</td>\n",
       "    </tr>\n",
       "  </tbody>\n",
       "</table>\n",
       "</div>"
      ],
      "text/plain": [
       "   id_temp equipo  partidos  prom_minutos  fg_pct  prom_reb  prom_ast  \\\n",
       "0        1    CHI         4          42.8   0.436       5.8       8.5   \n",
       "1        2    CHI         3          45.0   0.505       6.3       5.7   \n",
       "2        3    CHI         3          42.7   0.417       7.0       6.0   \n",
       "3        4    CHI        10          42.7   0.531       7.1       4.7   \n",
       "4        5    CHI        17          42.2   0.510       7.0       7.6   \n",
       "\n",
       "   prom_stl  prom_blk  prom_pts  id_resultado  \n",
       "0       2.8       1.0      29.3             0  \n",
       "1       2.3       1.3      43.7             0  \n",
       "2       2.0       2.3      35.7             0  \n",
       "3       2.4       1.1      36.3             0  \n",
       "4       2.5       0.8      34.8             0  "
      ]
     },
     "execution_count": 32,
     "metadata": {},
     "output_type": "execute_result"
    }
   ],
   "source": [
    "temp_playoffs_stats_mj.head()"
   ]
  },
  {
   "cell_type": "code",
   "execution_count": 33,
   "metadata": {},
   "outputs": [],
   "source": [
    "cursor = conexion.cursor()\n",
    "query_EDA_16 = \"\"\"SELECT id_temporada, team_code,g, min, fg_pct , reb, ast, stl, blk, pts, id_resultado \n",
    "FROM playoffs_lj pl ;\"\"\"\n",
    "\n",
    "cursor.execute(query_EDA_16)\n",
    "temp_playoffs_stats_lj = pd.DataFrame(cursor.fetchall(), columns= ['id_temp', 'equipo', 'partidos', 'prom_minutos', 'fg_pct', 'prom_reb', 'prom_ast', 'prom_stl', 'prom_blk', 'prom_pts', 'id_resultado'])"
   ]
  },
  {
   "cell_type": "code",
   "execution_count": 34,
   "metadata": {},
   "outputs": [
    {
     "data": {
      "text/html": [
       "<div>\n",
       "<style scoped>\n",
       "    .dataframe tbody tr th:only-of-type {\n",
       "        vertical-align: middle;\n",
       "    }\n",
       "\n",
       "    .dataframe tbody tr th {\n",
       "        vertical-align: top;\n",
       "    }\n",
       "\n",
       "    .dataframe thead th {\n",
       "        text-align: right;\n",
       "    }\n",
       "</style>\n",
       "<table border=\"1\" class=\"dataframe\">\n",
       "  <thead>\n",
       "    <tr style=\"text-align: right;\">\n",
       "      <th></th>\n",
       "      <th>id_temp</th>\n",
       "      <th>equipo</th>\n",
       "      <th>partidos</th>\n",
       "      <th>prom_minutos</th>\n",
       "      <th>fg_pct</th>\n",
       "      <th>prom_reb</th>\n",
       "      <th>prom_ast</th>\n",
       "      <th>prom_stl</th>\n",
       "      <th>prom_blk</th>\n",
       "      <th>prom_pts</th>\n",
       "      <th>id_resultado</th>\n",
       "    </tr>\n",
       "  </thead>\n",
       "  <tbody>\n",
       "    <tr>\n",
       "      <th>0</th>\n",
       "      <td>3</td>\n",
       "      <td>CLE</td>\n",
       "      <td>13</td>\n",
       "      <td>46.5</td>\n",
       "      <td>0.476</td>\n",
       "      <td>8.1</td>\n",
       "      <td>5.8</td>\n",
       "      <td>1.4</td>\n",
       "      <td>0.7</td>\n",
       "      <td>30.8</td>\n",
       "      <td>0</td>\n",
       "    </tr>\n",
       "    <tr>\n",
       "      <th>1</th>\n",
       "      <td>4</td>\n",
       "      <td>CLE</td>\n",
       "      <td>20</td>\n",
       "      <td>44.7</td>\n",
       "      <td>0.416</td>\n",
       "      <td>8.1</td>\n",
       "      <td>8.0</td>\n",
       "      <td>1.7</td>\n",
       "      <td>0.5</td>\n",
       "      <td>25.1</td>\n",
       "      <td>2</td>\n",
       "    </tr>\n",
       "    <tr>\n",
       "      <th>2</th>\n",
       "      <td>5</td>\n",
       "      <td>CLE</td>\n",
       "      <td>13</td>\n",
       "      <td>42.5</td>\n",
       "      <td>0.411</td>\n",
       "      <td>7.8</td>\n",
       "      <td>7.6</td>\n",
       "      <td>1.8</td>\n",
       "      <td>1.3</td>\n",
       "      <td>28.2</td>\n",
       "      <td>0</td>\n",
       "    </tr>\n",
       "    <tr>\n",
       "      <th>3</th>\n",
       "      <td>6</td>\n",
       "      <td>CLE</td>\n",
       "      <td>14</td>\n",
       "      <td>41.4</td>\n",
       "      <td>0.510</td>\n",
       "      <td>9.1</td>\n",
       "      <td>7.3</td>\n",
       "      <td>1.6</td>\n",
       "      <td>0.9</td>\n",
       "      <td>35.3</td>\n",
       "      <td>0</td>\n",
       "    </tr>\n",
       "    <tr>\n",
       "      <th>4</th>\n",
       "      <td>7</td>\n",
       "      <td>CLE</td>\n",
       "      <td>11</td>\n",
       "      <td>41.8</td>\n",
       "      <td>0.502</td>\n",
       "      <td>9.3</td>\n",
       "      <td>7.6</td>\n",
       "      <td>1.7</td>\n",
       "      <td>1.8</td>\n",
       "      <td>29.1</td>\n",
       "      <td>0</td>\n",
       "    </tr>\n",
       "    <tr>\n",
       "      <th>5</th>\n",
       "      <td>8</td>\n",
       "      <td>MIA</td>\n",
       "      <td>21</td>\n",
       "      <td>43.9</td>\n",
       "      <td>0.466</td>\n",
       "      <td>8.4</td>\n",
       "      <td>5.9</td>\n",
       "      <td>1.7</td>\n",
       "      <td>1.2</td>\n",
       "      <td>23.7</td>\n",
       "      <td>2</td>\n",
       "    </tr>\n",
       "    <tr>\n",
       "      <th>6</th>\n",
       "      <td>9</td>\n",
       "      <td>MIA</td>\n",
       "      <td>23</td>\n",
       "      <td>42.7</td>\n",
       "      <td>0.500</td>\n",
       "      <td>9.7</td>\n",
       "      <td>5.6</td>\n",
       "      <td>1.9</td>\n",
       "      <td>0.7</td>\n",
       "      <td>30.3</td>\n",
       "      <td>1</td>\n",
       "    </tr>\n",
       "    <tr>\n",
       "      <th>7</th>\n",
       "      <td>10</td>\n",
       "      <td>MIA</td>\n",
       "      <td>23</td>\n",
       "      <td>41.7</td>\n",
       "      <td>0.491</td>\n",
       "      <td>8.4</td>\n",
       "      <td>6.6</td>\n",
       "      <td>1.8</td>\n",
       "      <td>0.8</td>\n",
       "      <td>25.9</td>\n",
       "      <td>1</td>\n",
       "    </tr>\n",
       "    <tr>\n",
       "      <th>8</th>\n",
       "      <td>11</td>\n",
       "      <td>MIA</td>\n",
       "      <td>20</td>\n",
       "      <td>38.2</td>\n",
       "      <td>0.565</td>\n",
       "      <td>7.1</td>\n",
       "      <td>4.8</td>\n",
       "      <td>1.8</td>\n",
       "      <td>0.6</td>\n",
       "      <td>27.4</td>\n",
       "      <td>2</td>\n",
       "    </tr>\n",
       "    <tr>\n",
       "      <th>9</th>\n",
       "      <td>12</td>\n",
       "      <td>CLE</td>\n",
       "      <td>20</td>\n",
       "      <td>42.2</td>\n",
       "      <td>0.417</td>\n",
       "      <td>11.3</td>\n",
       "      <td>8.5</td>\n",
       "      <td>1.7</td>\n",
       "      <td>1.1</td>\n",
       "      <td>30.1</td>\n",
       "      <td>2</td>\n",
       "    </tr>\n",
       "    <tr>\n",
       "      <th>10</th>\n",
       "      <td>13</td>\n",
       "      <td>CLE</td>\n",
       "      <td>21</td>\n",
       "      <td>39.1</td>\n",
       "      <td>0.525</td>\n",
       "      <td>9.5</td>\n",
       "      <td>7.6</td>\n",
       "      <td>2.3</td>\n",
       "      <td>1.3</td>\n",
       "      <td>26.3</td>\n",
       "      <td>1</td>\n",
       "    </tr>\n",
       "    <tr>\n",
       "      <th>11</th>\n",
       "      <td>14</td>\n",
       "      <td>CLE</td>\n",
       "      <td>18</td>\n",
       "      <td>41.3</td>\n",
       "      <td>0.565</td>\n",
       "      <td>9.1</td>\n",
       "      <td>7.8</td>\n",
       "      <td>1.9</td>\n",
       "      <td>1.3</td>\n",
       "      <td>32.8</td>\n",
       "      <td>2</td>\n",
       "    </tr>\n",
       "    <tr>\n",
       "      <th>12</th>\n",
       "      <td>15</td>\n",
       "      <td>CLE</td>\n",
       "      <td>22</td>\n",
       "      <td>41.9</td>\n",
       "      <td>0.539</td>\n",
       "      <td>9.1</td>\n",
       "      <td>9.0</td>\n",
       "      <td>1.4</td>\n",
       "      <td>1.0</td>\n",
       "      <td>34.0</td>\n",
       "      <td>2</td>\n",
       "    </tr>\n",
       "    <tr>\n",
       "      <th>13</th>\n",
       "      <td>17</td>\n",
       "      <td>LAL</td>\n",
       "      <td>21</td>\n",
       "      <td>36.3</td>\n",
       "      <td>0.560</td>\n",
       "      <td>10.8</td>\n",
       "      <td>8.8</td>\n",
       "      <td>1.2</td>\n",
       "      <td>0.9</td>\n",
       "      <td>27.6</td>\n",
       "      <td>1</td>\n",
       "    </tr>\n",
       "    <tr>\n",
       "      <th>14</th>\n",
       "      <td>18</td>\n",
       "      <td>LAL</td>\n",
       "      <td>6</td>\n",
       "      <td>37.3</td>\n",
       "      <td>0.474</td>\n",
       "      <td>7.2</td>\n",
       "      <td>8.0</td>\n",
       "      <td>1.5</td>\n",
       "      <td>0.3</td>\n",
       "      <td>23.3</td>\n",
       "      <td>0</td>\n",
       "    </tr>\n",
       "    <tr>\n",
       "      <th>15</th>\n",
       "      <td>20</td>\n",
       "      <td>LAL</td>\n",
       "      <td>16</td>\n",
       "      <td>38.7</td>\n",
       "      <td>0.498</td>\n",
       "      <td>9.9</td>\n",
       "      <td>6.5</td>\n",
       "      <td>1.1</td>\n",
       "      <td>1.1</td>\n",
       "      <td>24.5</td>\n",
       "      <td>0</td>\n",
       "    </tr>\n",
       "    <tr>\n",
       "      <th>16</th>\n",
       "      <td>21</td>\n",
       "      <td>LAL</td>\n",
       "      <td>5</td>\n",
       "      <td>40.8</td>\n",
       "      <td>0.566</td>\n",
       "      <td>6.8</td>\n",
       "      <td>8.8</td>\n",
       "      <td>2.4</td>\n",
       "      <td>1.0</td>\n",
       "      <td>27.8</td>\n",
       "      <td>0</td>\n",
       "    </tr>\n",
       "  </tbody>\n",
       "</table>\n",
       "</div>"
      ],
      "text/plain": [
       "    id_temp equipo  partidos  prom_minutos  fg_pct  prom_reb  prom_ast  \\\n",
       "0         3    CLE        13          46.5   0.476       8.1       5.8   \n",
       "1         4    CLE        20          44.7   0.416       8.1       8.0   \n",
       "2         5    CLE        13          42.5   0.411       7.8       7.6   \n",
       "3         6    CLE        14          41.4   0.510       9.1       7.3   \n",
       "4         7    CLE        11          41.8   0.502       9.3       7.6   \n",
       "5         8    MIA        21          43.9   0.466       8.4       5.9   \n",
       "6         9    MIA        23          42.7   0.500       9.7       5.6   \n",
       "7        10    MIA        23          41.7   0.491       8.4       6.6   \n",
       "8        11    MIA        20          38.2   0.565       7.1       4.8   \n",
       "9        12    CLE        20          42.2   0.417      11.3       8.5   \n",
       "10       13    CLE        21          39.1   0.525       9.5       7.6   \n",
       "11       14    CLE        18          41.3   0.565       9.1       7.8   \n",
       "12       15    CLE        22          41.9   0.539       9.1       9.0   \n",
       "13       17    LAL        21          36.3   0.560      10.8       8.8   \n",
       "14       18    LAL         6          37.3   0.474       7.2       8.0   \n",
       "15       20    LAL        16          38.7   0.498       9.9       6.5   \n",
       "16       21    LAL         5          40.8   0.566       6.8       8.8   \n",
       "\n",
       "    prom_stl  prom_blk  prom_pts  id_resultado  \n",
       "0        1.4       0.7      30.8             0  \n",
       "1        1.7       0.5      25.1             2  \n",
       "2        1.8       1.3      28.2             0  \n",
       "3        1.6       0.9      35.3             0  \n",
       "4        1.7       1.8      29.1             0  \n",
       "5        1.7       1.2      23.7             2  \n",
       "6        1.9       0.7      30.3             1  \n",
       "7        1.8       0.8      25.9             1  \n",
       "8        1.8       0.6      27.4             2  \n",
       "9        1.7       1.1      30.1             2  \n",
       "10       2.3       1.3      26.3             1  \n",
       "11       1.9       1.3      32.8             2  \n",
       "12       1.4       1.0      34.0             2  \n",
       "13       1.2       0.9      27.6             1  \n",
       "14       1.5       0.3      23.3             0  \n",
       "15       1.1       1.1      24.5             0  \n",
       "16       2.4       1.0      27.8             0  "
      ]
     },
     "execution_count": 34,
     "metadata": {},
     "output_type": "execute_result"
    }
   ],
   "source": [
    "temp_playoffs_stats_lj"
   ]
  },
  {
   "cell_type": "code",
   "execution_count": 103,
   "metadata": {},
   "outputs": [],
   "source": [
    "cursor = conexion.cursor()\n",
    "query_EDA_17 = \"\"\"SELECT tl.team_code, count(pl.id_resultado) AS campeonatos, f.champ\n",
    "FROM temp_regular_lj trl \n",
    "INNER JOIN temporadas_lj tl \n",
    "ON trl.id_temporada = tl.id_temporada \n",
    "INNER JOIN franquicias f \n",
    "ON tl.team_code = f.team_code \n",
    "INNER JOIN tabla_2024 t \n",
    "ON f.team_code = t.team_code \n",
    "INNER JOIN playoffs_lj pl \n",
    "ON tl.id_temporada = pl.id_temporada\n",
    "WHERE pl.id_resultado = 1\n",
    "GROUP BY tl.team_code, f.champ ; ;\"\"\"\n",
    "\n",
    "cursor.execute(query_EDA_17)\n",
    "anillo_franquicia_lj = pd.DataFrame(cursor.fetchall(), columns= ['team_code', 'anillo_aportado', 'campeonatos'])"
   ]
  },
  {
   "cell_type": "code",
   "execution_count": 104,
   "metadata": {},
   "outputs": [
    {
     "data": {
      "text/html": [
       "<div>\n",
       "<style scoped>\n",
       "    .dataframe tbody tr th:only-of-type {\n",
       "        vertical-align: middle;\n",
       "    }\n",
       "\n",
       "    .dataframe tbody tr th {\n",
       "        vertical-align: top;\n",
       "    }\n",
       "\n",
       "    .dataframe thead th {\n",
       "        text-align: right;\n",
       "    }\n",
       "</style>\n",
       "<table border=\"1\" class=\"dataframe\">\n",
       "  <thead>\n",
       "    <tr style=\"text-align: right;\">\n",
       "      <th></th>\n",
       "      <th>team_code</th>\n",
       "      <th>anillo_aportado</th>\n",
       "      <th>campeonatos</th>\n",
       "    </tr>\n",
       "  </thead>\n",
       "  <tbody>\n",
       "    <tr>\n",
       "      <th>0</th>\n",
       "      <td>CLE</td>\n",
       "      <td>1</td>\n",
       "      <td>1</td>\n",
       "    </tr>\n",
       "    <tr>\n",
       "      <th>1</th>\n",
       "      <td>LAL</td>\n",
       "      <td>1</td>\n",
       "      <td>17</td>\n",
       "    </tr>\n",
       "    <tr>\n",
       "      <th>2</th>\n",
       "      <td>MIA</td>\n",
       "      <td>2</td>\n",
       "      <td>3</td>\n",
       "    </tr>\n",
       "  </tbody>\n",
       "</table>\n",
       "</div>"
      ],
      "text/plain": [
       "  team_code  anillo_aportado  campeonatos\n",
       "0       CLE                1            1\n",
       "1       LAL                1           17\n",
       "2       MIA                2            3"
      ]
     },
     "execution_count": 104,
     "metadata": {},
     "output_type": "execute_result"
    }
   ],
   "source": [
    "anillo_franquicia_lj"
   ]
  },
  {
   "cell_type": "code",
   "execution_count": 99,
   "metadata": {},
   "outputs": [],
   "source": [
    "cursor = conexion.cursor()\n",
    "query_EDA_18 = \"\"\"SELECT \n",
    "    tm.team_code, \n",
    "    count(pm.id_resultado) AS campeonatos, \n",
    "    f.champ \n",
    "FROM \n",
    "    temp_regular_mj trm \n",
    "INNER JOIN \n",
    "    temporadas_mj tm ON trm.id_temporada = tm.id_temporada \n",
    "INNER JOIN \n",
    "    franquicias f ON tm.team_code = f.team_code \n",
    "INNER JOIN \n",
    "    tabla_2003 t ON f.team_code = t.team_code \n",
    "INNER JOIN \n",
    "    playoffs_mj pm ON tm.id_temporada = pm.id_temporada \n",
    "WHERE \n",
    "    pm.id_resultado = 1 \n",
    "GROUP BY \n",
    "    tm.team_code, f.champ;\"\"\"\n",
    "\n",
    "cursor.execute(query_EDA_18)\n",
    "anillo_franquicia_mj = pd.DataFrame(cursor.fetchall(), columns= ['team_code', 'anillo_aportado', 'campeonatos'])"
   ]
  },
  {
   "cell_type": "code",
   "execution_count": 100,
   "metadata": {},
   "outputs": [
    {
     "data": {
      "text/html": [
       "<div>\n",
       "<style scoped>\n",
       "    .dataframe tbody tr th:only-of-type {\n",
       "        vertical-align: middle;\n",
       "    }\n",
       "\n",
       "    .dataframe tbody tr th {\n",
       "        vertical-align: top;\n",
       "    }\n",
       "\n",
       "    .dataframe thead th {\n",
       "        text-align: right;\n",
       "    }\n",
       "</style>\n",
       "<table border=\"1\" class=\"dataframe\">\n",
       "  <thead>\n",
       "    <tr style=\"text-align: right;\">\n",
       "      <th></th>\n",
       "      <th>team_code</th>\n",
       "      <th>anillo_aportado</th>\n",
       "      <th>campeonatos</th>\n",
       "    </tr>\n",
       "  </thead>\n",
       "  <tbody>\n",
       "    <tr>\n",
       "      <th>0</th>\n",
       "      <td>CHI</td>\n",
       "      <td>6</td>\n",
       "      <td>6</td>\n",
       "    </tr>\n",
       "  </tbody>\n",
       "</table>\n",
       "</div>"
      ],
      "text/plain": [
       "  team_code  anillo_aportado  campeonatos\n",
       "0       CHI                6            6"
      ]
     },
     "execution_count": 100,
     "metadata": {},
     "output_type": "execute_result"
    }
   ],
   "source": [
    "anillo_franquicia_mj"
   ]
  },
  {
   "cell_type": "markdown",
   "metadata": {},
   "source": [
    "# Visualizaciones"
   ]
  },
  {
   "cell_type": "markdown",
   "metadata": {},
   "source": [
    "### Puntos y porcentaje de efectividad"
   ]
  },
  {
   "cell_type": "code",
   "execution_count": 35,
   "metadata": {},
   "outputs": [
    {
     "data": {
      "image/png": "[encoded data removed]",
      "text/plain": [
       "<Figure size 1200x600 with 2 Axes>"
      ]
     },
     "metadata": {},
     "output_type": "display_data"
    }
   ],
   "source": [
    "fig, ax1 = plt.subplots(figsize=(12, 6))\n",
    "\n",
    "ax1.plot(temp_camp_lj['id_temporada'], temp_camp_lj['puntos'], label='Puntos LJ', color='blue', marker='o')\n",
    "ax1.plot(temp_camp_mj['id_temporada'], temp_camp_mj['puntos'], label='Puntos MJ', color='red', marker='o')\n",
    "ax1.set_xlabel('Temporada')\n",
    "ax1.set_ylabel('Puntos')\n",
    "ax1.tick_params(axis='y')\n",
    "ax1.legend(loc=\"upper left\")\n",
    "\n",
    "# Crear un segundo eje para el porcentaje de tiros de campo (fg_pct)\n",
    "ax2 = ax1.twinx()\n",
    "ax2.plot(temp_camp_lj['id_temporada'], temp_camp_lj['fg_pct'], label='FG% LJ', color='blue', linestyle='--')\n",
    "ax2.plot(temp_camp_mj['id_temporada'], temp_camp_mj['fg_pct'], label='FG% MJ', color='red', linestyle='--')\n",
    "ax2.set_ylabel('Porcentaje FG')\n",
    "ax2.tick_params(axis='y')\n",
    "ax2.legend(loc=\"upper right\")\n",
    "\n",
    "plt.title('Comparación de Puntos y FG% por Temporada de Campeonato entre LeBron James y Michael Jordan')\n",
    "plt.show()\n"
   ]
  },
  {
   "cell_type": "markdown",
   "metadata": {},
   "source": [
    "Se puede ver que en relación a sus temporadas de campeonatos, MJ obtuvo más puntos (por encima de 30) en promedio mientras que en su primer campeonato sí tuvo un promedio de puntos mayor a 30. \n",
    "\n",
    "Sin embargo, LJ obtuvo mejor porcentaje de tiros de campo en sus campeonatos (todos por encima de 0.50, a excepción de 1) mientras que Jordan en su primer campeonato sí tuvo un porcentaje mayor a 0.50 pero no continuó en los demás."
   ]
  },
  {
   "cell_type": "markdown",
   "metadata": {},
   "source": [
    "### Salarios LeBron en el tiempo"
   ]
  },
  {
   "cell_type": "code",
   "execution_count": 36,
   "metadata": {},
   "outputs": [
    {
     "data": {
      "image/png": "[encoded data removed]",
      "text/plain": [
       "<Figure size 1000x500 with 1 Axes>"
      ]
     },
     "metadata": {},
     "output_type": "display_data"
    }
   ],
   "source": [
    "plt.figure(figsize=(10, 5))\n",
    "\n",
    "plt.plot(sal_lj_temp['temporada'], sal_lj_temp['salario_actualidad'] / 1e6, label='Salario Actualidad', marker='o')\n",
    "\n",
    "plt.xlabel('Temporada')\n",
    "plt.ylabel('Salario MM(USD)')\n",
    "plt.title('Evolución del Salario de LeBron James por Temporada')\n",
    "plt.xticks(rotation=45)  \n",
    "plt.legend()\n",
    "\n",
    "plt.tight_layout()  \n",
    "plt.show()\n"
   ]
  },
  {
   "cell_type": "markdown",
   "metadata": {},
   "source": [
    "En cuanto a salario a través del tiempo, puedo observar que en las 4 primeras temporadas el salario no era de gran elevación pero sí hubo un incremento notable entre la temporada 2006-07 y 2007-08 ya que fue la primera temporada onde LeBron pudo avanzar hasta las finales con los Cleveland Cavaliers.\n",
    "\n",
    "Se puede ver un ligero descenso entre la séptima y ocatava temporada, justo cuando cambia de equipo a los Miami Heat. En su estancia en los Heat, obtuvo dos títulos 2012 y 2013. Aquí no hay un aumento considerable ya que sigue como tal el aumento en base a lo que venía logrando. Venía de perder una final en el 2011 y luego pierde otra en el 2014 antes de regresa nuevamente a Cleveland.\n",
    "\n",
    "Nuevamente el aumento sigue siendo gradual, hasta que en el 2016 consigue el primer y único anillo de los Cavs y por ende se puede presenciar un aumento nuevamente considerable a la siguiente temporada. En el 2018, se va a su último equipo pero el aumento salarial no es notorio. Incluso, luego de haber ganado el campeonato en la temporada 2019-20 no hubo diferencia mayor.\n",
    "\n"
   ]
  },
  {
   "cell_type": "code",
   "execution_count": 37,
   "metadata": {},
   "outputs": [
    {
     "data": {
      "image/png": "[encoded data removed]",
      "text/plain": [
       "<Figure size 1200x600 with 1 Axes>"
      ]
     },
     "metadata": {},
     "output_type": "display_data"
    }
   ],
   "source": [
    "plt.figure(figsize=(12, 6))\n",
    "\n",
    "# Graficar salario y salario_actualidad\n",
    "plt.plot(sal_mj_temp['temporada'], sal_mj_temp['salario_actualidad'] / 1e6, label='Salario Actualidad', color='red' ,marker='o')\n",
    "\n",
    "\n",
    "plt.xlabel('Temporada')\n",
    "plt.ylabel('Salario (millones de USD)')\n",
    "plt.title('Evolución del Salario de Michael Jordan por Temporada')\n",
    "plt.xticks(rotation=45)  # Rotar etiquetas del eje x para mejorar legibilidad\n",
    "plt.legend()\n",
    "\n",
    "# Mostrar gráfico\n",
    "plt.tight_layout()  # Ajustar el diseño para evitar superposición\n",
    "plt.show()\n"
   ]
  },
  {
   "cell_type": "markdown",
   "metadata": {},
   "source": [
    "Nota: solamente pude conseguir los datos históricos desde la temporada del 90-91. Esta fue la época donde floreció la carrera de Jordan. Ya en el inicio de la década Jordan tenía cierta importancia en la liga pero aún no había conseguido nada. \n",
    "\n",
    "En sus primeros 3 títulos (91-93) Jordan estaba en un rango bastante alto, se puede ver que no se presenta la temporada del 93-94 porque Jordan tuvo su primer retiro en esta época. Al volver de lleno a la NBA, en su primera temporada completa logró obtener su 4 anillo. Fruto de esto se puede ver el pico ascendente en su salario para la temporada 96-97, que luego subiría un poco más en su última temporada en los Bulls."
   ]
  },
  {
   "cell_type": "code",
   "execution_count": 38,
   "metadata": {},
   "outputs": [
    {
     "data": {
      "image/png": "[encoded data removed]",
      "text/plain": [
       "<Figure size 800x500 with 1 Axes>"
      ]
     },
     "metadata": {},
     "output_type": "display_data"
    }
   ],
   "source": [
    "metrics = ['Partidos Jugados', 'Victorias', 'Derrotas']\n",
    "values_mj = [82, 35, 47]  \n",
    "values_lj = [71, 47, 35]  \n",
    "\n",
    "x_positions = [0, 1, 2]  \n",
    "\n",
    "width = 0.3\n",
    "\n",
    "fig, ax = plt.subplots(figsize=(8, 5))\n",
    "\n",
    "bars_mj = ax.bar([x - width/2 for x in x_positions], values_mj, width, label='Michael Jordan', color='red')\n",
    "bars_lj = ax.bar([x + width/2 for x in x_positions], values_lj, width, label='LeBron James', color='blue')\n",
    "\n",
    "ax.set_xlabel('Estadísticas de Partido')\n",
    "ax.set_ylabel('Valores')\n",
    "ax.set_title('Comparación resultados en última temporada: Jordan vs LeBron')\n",
    "ax.set_xticks(x_positions)\n",
    "ax.set_xticklabels(metrics)\n",
    "ax.legend()\n",
    "\n",
    "for bar in bars_mj + bars_lj:\n",
    "    yval = bar.get_height()\n",
    "    ax.text(bar.get_x() + bar.get_width() / 2, yval, int(yval), ha='center', va='bottom')\n",
    "\n",
    "plt.show()\n"
   ]
  },
  {
   "cell_type": "markdown",
   "metadata": {},
   "source": [
    "Se puede observar la influencia de cada uno en su última temporada:\n",
    "- LeBron jugó menos partidos que Jordan (71) con 39 años, logrando 47 victorias y 35 derrotas en estos partidos en los que jugó.\n",
    "- Jordan por su parte jugó los 82 partidos, obteniendo la victoria en 35 partidos mientras que sufrió más derrotas 47. Cabe destacar que Jordan había regresado por segunda vez del retiro."
   ]
  },
  {
   "cell_type": "code",
   "execution_count": 39,
   "metadata": {},
   "outputs": [
    {
     "data": {
      "image/png": "[encoded data removed]",
      "text/plain": [
       "<Figure size 640x480 with 1 Axes>"
      ]
     },
     "metadata": {},
     "output_type": "display_data"
    }
   ],
   "source": [
    "sns.barplot(y='partidos', data=partidos_equip_lj, hue='equipo')\n",
    "\n",
    "plt.title('Partidos disputados LeBron James')\n",
    "plt.ylabel('Partidos disputados')\n",
    "plt.tight_layout()\n",
    "\n",
    "for container in plt.gca().containers:\n",
    "    plt.gca().bar_label(container, label_type='edge', padding=3, fontsize=10)"
   ]
  },
  {
   "cell_type": "code",
   "execution_count": 48,
   "metadata": {},
   "outputs": [
    {
     "data": {
      "text/plain": [
       "equipo\n",
       "CLE    56.903485\n",
       "LAL    23.391421\n",
       "MIA    19.705094\n",
       "Name: partidos, dtype: float64"
      ]
     },
     "execution_count": 48,
     "metadata": {},
     "output_type": "execute_result"
    }
   ],
   "source": [
    "partidos_por_equipo = partidos_equip_lj.groupby('equipo')['partidos'].sum() # agrupo sus partidos por equip\n",
    "porcentajes_por_equipo = (partidos_por_equipo / partidos_por_equipo.sum()) * 100 #busco sus porcentajes\n",
    "porcentajes_por_equipo\n"
   ]
  },
  {
   "cell_type": "markdown",
   "metadata": {},
   "source": [
    "Partidos de LeBron:\n",
    "- De todos sus partidos disputados hasta la temporada 2023-24, LeBron James disputó más del 50% para los Cleveland Cavs entre 2 momentos distintos. \n",
    "- Luego sus demás partidos van en un 23% para los Lakers y casi un 20% para los Miami Heat."
   ]
  },
  {
   "cell_type": "markdown",
   "metadata": {},
   "source": [
    "Temporadas de Jordan por equipo"
   ]
  },
  {
   "cell_type": "code",
   "execution_count": 49,
   "metadata": {},
   "outputs": [
    {
     "data": {
      "image/png": "[encoded data removed]",
      "text/plain": [
       "<Figure size 640x480 with 1 Axes>"
      ]
     },
     "metadata": {},
     "output_type": "display_data"
    }
   ],
   "source": [
    "sns.barplot(y='partidos', data=partidos_equip_mj, hue='equipo')\n",
    "\n",
    "plt.title('Partidos disputados Michael Jordan')\n",
    "plt.ylabel('Partidos disputados')\n",
    "plt.tight_layout()\n",
    "\n",
    "for container in plt.gca().containers:\n",
    "    plt.gca().bar_label(container, label_type='edge', padding=3, fontsize=10)"
   ]
  },
  {
   "cell_type": "code",
   "execution_count": 51,
   "metadata": {},
   "outputs": [
    {
     "data": {
      "text/plain": [
       "equipo\n",
       "CHI    86.753731\n",
       "WAS    13.246269\n",
       "Name: partidos, dtype: float64"
      ]
     },
     "execution_count": 51,
     "metadata": {},
     "output_type": "execute_result"
    }
   ],
   "source": [
    "porcentajes_equipo_mj = partidos_equip_mj.groupby('equipo')['partidos'].sum()\n",
    "porcentaje_MJ = (porcentajes_equipo_mj/porcentajes_equipo_mj.sum()) * 100\n",
    "porcentaje_MJ"
   ]
  },
  {
   "cell_type": "markdown",
   "metadata": {},
   "source": [
    "Michael Jordan, leyenda vida de los Chicago Bulls, representó a este equipo por más del 85% de sus partidos jugados en la liga. En sus 2 temporadas de regreso, del segundo retiro, acumuló 142 partidos para Washington. De esta forma distribuyó su participación en la NBA."
   ]
  },
  {
   "cell_type": "markdown",
   "metadata": {},
   "source": [
    "## Resultados en finales: LeBron James"
   ]
  },
  {
   "cell_type": "code",
   "execution_count": 69,
   "metadata": {},
   "outputs": [
    {
     "data": {
      "image/png": "[encoded data removed]",
      "text/plain": [
       "<Figure size 1000x600 with 1 Axes>"
      ]
     },
     "metadata": {},
     "output_type": "display_data"
    }
   ],
   "source": [
    "df_largo_lj = campeonatos_equip_lj.melt(id_vars='equipo', \n",
    "                                     var_name='categoria', \n",
    "                                     value_name='cantidad')\n",
    "\n",
    "plt.figure(figsize=(10, 6))\n",
    "sns.barplot(data=df_largo_lj, x='equipo', y='cantidad', hue='categoria')\n",
    "\n",
    "plt.title('Resultados en finales por equipo', fontsize=14)\n",
    "plt.xlabel('Equipo', fontsize=12)\n",
    "plt.ylabel('Cantidad', fontsize=12)\n",
    "plt.legend(title='Categoría', fontsize=10)\n",
    "plt.xticks(rotation=0)\n",
    "\n",
    "plt.show()\n"
   ]
  },
  {
   "cell_type": "markdown",
   "metadata": {},
   "source": [
    "Aquí podemos ver la distribución de los resultados de Playoffs en las temporadas en las que estuvo en carrera al título. Debajo dejo la gráfica que demuestra las temporadas jugadas en cada equipo para hacer un contexto de esto. \n",
    "- Durante su tiempo en LAL: ganó un campeonato y fue contendiente en 3 temporadas.\n",
    "- Para Cleveland: fue contendiente en 4 ocasiones, sin embargo llegó a perder hasta en 4 ocasiones también. Solo en una fue campeón con el equipo que le dio su primera oportunidad en la NBA y le dio el único título que llevan hoy día.\n",
    "- Para MIA, ganó dos campeonatos y perdió 2 finales."
   ]
  },
  {
   "cell_type": "code",
   "execution_count": 77,
   "metadata": {},
   "outputs": [
    {
     "data": {
      "text/plain": [
       "([0, 1, 2], [Text(0, 0, 'CLE'), Text(1, 0, 'LAL'), Text(2, 0, 'MIA')])"
      ]
     },
     "execution_count": 77,
     "metadata": {},
     "output_type": "execute_result"
    },
    {
     "data": {
      "image/png": "[encoded data removed]",
      "text/plain": [
       "<Figure size 640x480 with 1 Axes>"
      ]
     },
     "metadata": {},
     "output_type": "display_data"
    }
   ],
   "source": [
    "sns.barplot(y='id_temporada', x='equipo',hue='equipo' ,data=conteo_temporadas_lj)\n",
    "\n",
    "plt.title('Número de temporadas por equipo - LJ', fontsize=14)\n",
    "plt.xlabel('Equipo', fontsize=12)\n",
    "plt.ylabel('Temporadas')\n",
    "plt.xticks(rotation=0)"
   ]
  },
  {
   "cell_type": "markdown",
   "metadata": {},
   "source": [
    "Jugó 11 temporadas en CLE, 6 hasta el día de hoy en LAL y 4 para MIA."
   ]
  },
  {
   "cell_type": "markdown",
   "metadata": {},
   "source": [
    "## Resultados en finales: Michael Jordan"
   ]
  },
  {
   "cell_type": "code",
   "execution_count": 70,
   "metadata": {},
   "outputs": [
    {
     "data": {
      "image/png": "[encoded data removed]",
      "text/plain": [
       "<Figure size 1000x600 with 1 Axes>"
      ]
     },
     "metadata": {},
     "output_type": "display_data"
    }
   ],
   "source": [
    "df_largo_mj = campeonatos_equip_mj.melt(id_vars='equipo', \n",
    "                                     var_name='categoria', \n",
    "                                     value_name='cantidad')\n",
    "\n",
    "plt.figure(figsize=(10, 6))\n",
    "sns.barplot(data=df_largo_mj, x='equipo', y='cantidad', hue='categoria')\n",
    "\n",
    "plt.title('Resultados en finales por equipo', fontsize=14)\n",
    "plt.xlabel('Equipo', fontsize=12)\n",
    "plt.ylabel('Cantidad', fontsize=12)\n",
    "plt.legend(title='Categoría', fontsize=10)\n",
    "plt.xticks(rotation=0)\n",
    "\n",
    "plt.show()"
   ]
  },
  {
   "cell_type": "markdown",
   "metadata": {},
   "source": [
    "En estas dos gráficas, dejo el resultado de las finales en las temporadas en las que avanzó a las finales. Aquí se puede ver claramente que solo ganó finales, y tuvo carrera hacia el título pero no finales perdidas. Cabe destacar que estas temporadas de contendiente fueron sus primeras, en la década de los 80, donde tenía mucha más competencia en la liga, un equipo en construcción y una carrera que venía en ascenso. Estas victorias de campeonato llegarán en la década de los 90 cuando tiene un buen equipo, y ha podido superar dinastías que venían en descenso en la liga.\n",
    "\n",
    "Debajo dejo las temporadas en total por equipo, queda claro que no superó la temporada regular en su breve paso pr Washington."
   ]
  },
  {
   "cell_type": "code",
   "execution_count": 78,
   "metadata": {},
   "outputs": [
    {
     "data": {
      "text/plain": [
       "([0, 1], [Text(0, 0, 'CHI'), Text(1, 0, 'WAS')])"
      ]
     },
     "execution_count": 78,
     "metadata": {},
     "output_type": "execute_result"
    },
    {
     "data": {
      "image/png": "[encoded data removed]",
      "text/plain": [
       "<Figure size 640x480 with 1 Axes>"
      ]
     },
     "metadata": {},
     "output_type": "display_data"
    }
   ],
   "source": [
    "sns.barplot(y='id_temporada', x='equipo',hue='equipo' ,data=conteo_temporadas_mj)\n",
    "\n",
    "plt.title('Temporadas por equipo - MJ', fontsize=14)\n",
    "plt.xlabel('Equipo', fontsize=12)\n",
    "plt.ylabel('Temporadas', fontsize=12)\n",
    "plt.xticks(rotation=0)"
   ]
  },
  {
   "cell_type": "markdown",
   "metadata": {},
   "source": [
    "Jugó 13 temporadas para CHI y apenas 2, en su segundo regreso, para WAS."
   ]
  },
  {
   "cell_type": "markdown",
   "metadata": {},
   "source": [
    "## Temporada regular"
   ]
  },
  {
   "cell_type": "markdown",
   "metadata": {},
   "source": [
    "En temporada regular, vamos a analizar el porcentaje de anotación para cada uno.\n",
    "- A través de un boxplot, vemos la distribución de sus porcentajes de efectividad para ambos jugadores.\n",
    "    - LJ tiene una distribución con una mediana mayor a .50, muy similar a su media total entre todas sus temporadas. Tiene un rango interquartilico bastante cercano, aunque cuenta con un valor atípico. Sin embargo, tiene una media más alta y también una mediana. \n",
    "    - Para MJ, tiene una distribución ligeramente menor en comparación a LeBron y su mediana es cercana pero no llega a 0.50. Sin embargo, esta es mayor a su media por lo que podemos decir que tuvo temporadas donde su FG_PCT efectividad fue ligeramente más baja lo que va acorde con los bigotes que que muestra. \n",
    "    - En general ambos tienen una efectividad bastante superior, pero según los datos LeBron James ha sido un poco más eficaz en general durante las temporadas regulares."
   ]
  },
  {
   "cell_type": "code",
   "execution_count": 79,
   "metadata": {},
   "outputs": [
    {
     "data": {
      "text/plain": [
       "(array([0.4 , 0.42, 0.44, 0.46, 0.48, 0.5 , 0.52, 0.54, 0.56, 0.58]),\n",
       " [Text(0.4, 0, '0.40'),\n",
       "  Text(0.42000000000000004, 0, '0.42'),\n",
       "  Text(0.44, 0, '0.44'),\n",
       "  Text(0.46, 0, '0.46'),\n",
       "  Text(0.48000000000000004, 0, '0.48'),\n",
       "  Text(0.5, 0, '0.50'),\n",
       "  Text(0.52, 0, '0.52'),\n",
       "  Text(0.54, 0, '0.54'),\n",
       "  Text(0.56, 0, '0.56'),\n",
       "  Text(0.5800000000000001, 0, '0.58')])"
      ]
     },
     "execution_count": 79,
     "metadata": {},
     "output_type": "execute_result"
    },
    {
     "data": {
      "image/png": "[encoded data removed]",
      "text/plain": [
       "<Figure size 640x480 with 1 Axes>"
      ]
     },
     "metadata": {},
     "output_type": "display_data"
    }
   ],
   "source": [
    "sns.boxplot(x='fg_pct', data=temp_regular_stats_lj)\n",
    "plt.title('Porentaje de efectividad de anotación de campo - LJ', fontsize=14)\n",
    "plt.xlabel('FG-PCT', fontsize=12)\n",
    "plt.xticks(rotation=0)"
   ]
  },
  {
   "cell_type": "code",
   "execution_count": 80,
   "metadata": {},
   "outputs": [
    {
     "data": {
      "text/plain": [
       "0.5081904761904762"
      ]
     },
     "execution_count": 80,
     "metadata": {},
     "output_type": "execute_result"
    }
   ],
   "source": [
    "temp_regular_stats_lj['fg_pct'].mean()"
   ]
  },
  {
   "cell_type": "code",
   "execution_count": 81,
   "metadata": {},
   "outputs": [
    {
     "data": {
      "text/plain": [
       "(array([0.4 , 0.42, 0.44, 0.46, 0.48, 0.5 , 0.52, 0.54, 0.56]),\n",
       " [Text(0.4, 0, '0.40'),\n",
       "  Text(0.42000000000000004, 0, '0.42'),\n",
       "  Text(0.44, 0, '0.44'),\n",
       "  Text(0.46, 0, '0.46'),\n",
       "  Text(0.48000000000000004, 0, '0.48'),\n",
       "  Text(0.5, 0, '0.50'),\n",
       "  Text(0.52, 0, '0.52'),\n",
       "  Text(0.54, 0, '0.54'),\n",
       "  Text(0.56, 0, '0.56')])"
      ]
     },
     "execution_count": 81,
     "metadata": {},
     "output_type": "execute_result"
    },
    {
     "data": {
      "image/png": "[encoded data removed]",
      "text/plain": [
       "<Figure size 640x480 with 1 Axes>"
      ]
     },
     "metadata": {},
     "output_type": "display_data"
    }
   ],
   "source": [
    "sns.boxplot(x='fg_pct', data=temp_regular_stats_mj)\n",
    "plt.title('Porcentaje de efectividad en tiros de campo - MJ', fontsize=14)\n",
    "plt.xlabel('FG_PCT', fontsize=12)\n",
    "plt.xticks(rotation=0)"
   ]
  },
  {
   "cell_type": "code",
   "execution_count": 82,
   "metadata": {},
   "outputs": [
    {
     "data": {
      "text/plain": [
       "0.4882666666666667"
      ]
     },
     "execution_count": 82,
     "metadata": {},
     "output_type": "execute_result"
    }
   ],
   "source": [
    "temp_regular_stats_mj['fg_pct'].mean()"
   ]
  },
  {
   "cell_type": "code",
   "execution_count": 83,
   "metadata": {},
   "outputs": [
    {
     "data": {
      "text/html": [
       "<div>\n",
       "<style scoped>\n",
       "    .dataframe tbody tr th:only-of-type {\n",
       "        vertical-align: middle;\n",
       "    }\n",
       "\n",
       "    .dataframe tbody tr th {\n",
       "        vertical-align: top;\n",
       "    }\n",
       "\n",
       "    .dataframe thead th {\n",
       "        text-align: right;\n",
       "    }\n",
       "</style>\n",
       "<table border=\"1\" class=\"dataframe\">\n",
       "  <thead>\n",
       "    <tr style=\"text-align: right;\">\n",
       "      <th></th>\n",
       "      <th>id_temporada</th>\n",
       "      <th>partidos_jugados</th>\n",
       "      <th>minutos</th>\n",
       "      <th>fg_pct</th>\n",
       "      <th>reb</th>\n",
       "      <th>ast</th>\n",
       "      <th>blk</th>\n",
       "      <th>pts</th>\n",
       "    </tr>\n",
       "  </thead>\n",
       "  <tbody>\n",
       "    <tr>\n",
       "      <th>count</th>\n",
       "      <td>15.000000</td>\n",
       "      <td>15.000000</td>\n",
       "      <td>15.000000</td>\n",
       "      <td>15.000000</td>\n",
       "      <td>15.000000</td>\n",
       "      <td>15.000000</td>\n",
       "      <td>15.000000</td>\n",
       "      <td>15.000000</td>\n",
       "    </tr>\n",
       "    <tr>\n",
       "      <th>mean</th>\n",
       "      <td>8.000000</td>\n",
       "      <td>71.466667</td>\n",
       "      <td>2733.866667</td>\n",
       "      <td>0.488267</td>\n",
       "      <td>444.800000</td>\n",
       "      <td>375.533333</td>\n",
       "      <td>59.533333</td>\n",
       "      <td>2152.800000</td>\n",
       "    </tr>\n",
       "    <tr>\n",
       "      <th>std</th>\n",
       "      <td>4.472136</td>\n",
       "      <td>22.617524</td>\n",
       "      <td>928.632856</td>\n",
       "      <td>0.042286</td>\n",
       "      <td>159.566914</td>\n",
       "      <td>156.829692</td>\n",
       "      <td>34.112978</td>\n",
       "      <td>816.555501</td>\n",
       "    </tr>\n",
       "    <tr>\n",
       "      <th>min</th>\n",
       "      <td>1.000000</td>\n",
       "      <td>17.000000</td>\n",
       "      <td>451.000000</td>\n",
       "      <td>0.411000</td>\n",
       "      <td>64.000000</td>\n",
       "      <td>53.000000</td>\n",
       "      <td>13.000000</td>\n",
       "      <td>408.000000</td>\n",
       "    </tr>\n",
       "    <tr>\n",
       "      <th>25%</th>\n",
       "      <td>4.500000</td>\n",
       "      <td>79.000000</td>\n",
       "      <td>3031.500000</td>\n",
       "      <td>0.461000</td>\n",
       "      <td>439.500000</td>\n",
       "      <td>310.500000</td>\n",
       "      <td>40.500000</td>\n",
       "      <td>1976.500000</td>\n",
       "    </tr>\n",
       "    <tr>\n",
       "      <th>50%</th>\n",
       "      <td>8.000000</td>\n",
       "      <td>82.000000</td>\n",
       "      <td>3102.000000</td>\n",
       "      <td>0.495000</td>\n",
       "      <td>492.000000</td>\n",
       "      <td>377.000000</td>\n",
       "      <td>54.000000</td>\n",
       "      <td>2431.000000</td>\n",
       "    </tr>\n",
       "    <tr>\n",
       "      <th>75%</th>\n",
       "      <td>11.500000</td>\n",
       "      <td>82.000000</td>\n",
       "      <td>3189.000000</td>\n",
       "      <td>0.522500</td>\n",
       "      <td>528.000000</td>\n",
       "      <td>483.000000</td>\n",
       "      <td>72.000000</td>\n",
       "      <td>2606.500000</td>\n",
       "    </tr>\n",
       "    <tr>\n",
       "      <th>max</th>\n",
       "      <td>15.000000</td>\n",
       "      <td>82.000000</td>\n",
       "      <td>3311.000000</td>\n",
       "      <td>0.539000</td>\n",
       "      <td>652.000000</td>\n",
       "      <td>650.000000</td>\n",
       "      <td>131.000000</td>\n",
       "      <td>3041.000000</td>\n",
       "    </tr>\n",
       "  </tbody>\n",
       "</table>\n",
       "</div>"
      ],
      "text/plain": [
       "       id_temporada  partidos_jugados      minutos     fg_pct         reb  \\\n",
       "count     15.000000         15.000000    15.000000  15.000000   15.000000   \n",
       "mean       8.000000         71.466667  2733.866667   0.488267  444.800000   \n",
       "std        4.472136         22.617524   928.632856   0.042286  159.566914   \n",
       "min        1.000000         17.000000   451.000000   0.411000   64.000000   \n",
       "25%        4.500000         79.000000  3031.500000   0.461000  439.500000   \n",
       "50%        8.000000         82.000000  3102.000000   0.495000  492.000000   \n",
       "75%       11.500000         82.000000  3189.000000   0.522500  528.000000   \n",
       "max       15.000000         82.000000  3311.000000   0.539000  652.000000   \n",
       "\n",
       "              ast         blk          pts  \n",
       "count   15.000000   15.000000    15.000000  \n",
       "mean   375.533333   59.533333  2152.800000  \n",
       "std    156.829692   34.112978   816.555501  \n",
       "min     53.000000   13.000000   408.000000  \n",
       "25%    310.500000   40.500000  1976.500000  \n",
       "50%    377.000000   54.000000  2431.000000  \n",
       "75%    483.000000   72.000000  2606.500000  \n",
       "max    650.000000  131.000000  3041.000000  "
      ]
     },
     "execution_count": 83,
     "metadata": {},
     "output_type": "execute_result"
    }
   ],
   "source": [
    "temp_regular_stats_mj.describe()"
   ]
  },
  {
   "cell_type": "code",
   "execution_count": 84,
   "metadata": {},
   "outputs": [
    {
     "data": {
      "text/html": [
       "<div>\n",
       "<style scoped>\n",
       "    .dataframe tbody tr th:only-of-type {\n",
       "        vertical-align: middle;\n",
       "    }\n",
       "\n",
       "    .dataframe tbody tr th {\n",
       "        vertical-align: top;\n",
       "    }\n",
       "\n",
       "    .dataframe thead th {\n",
       "        text-align: right;\n",
       "    }\n",
       "</style>\n",
       "<table border=\"1\" class=\"dataframe\">\n",
       "  <thead>\n",
       "    <tr style=\"text-align: right;\">\n",
       "      <th></th>\n",
       "      <th>id_temporada</th>\n",
       "      <th>partidos_jugados</th>\n",
       "      <th>victorias</th>\n",
       "      <th>derrotas</th>\n",
       "      <th>w_l_pct</th>\n",
       "      <th>min</th>\n",
       "      <th>fg_pct</th>\n",
       "      <th>reb</th>\n",
       "      <th>ast</th>\n",
       "      <th>blk</th>\n",
       "      <th>pts</th>\n",
       "    </tr>\n",
       "  </thead>\n",
       "  <tbody>\n",
       "    <tr>\n",
       "      <th>count</th>\n",
       "      <td>21.000000</td>\n",
       "      <td>21.000000</td>\n",
       "      <td>21.000000</td>\n",
       "      <td>21.000000</td>\n",
       "      <td>21.000000</td>\n",
       "      <td>21.000000</td>\n",
       "      <td>21.000000</td>\n",
       "      <td>21.000000</td>\n",
       "      <td>21.000000</td>\n",
       "      <td>21.000000</td>\n",
       "      <td>21.000000</td>\n",
       "    </tr>\n",
       "    <tr>\n",
       "      <th>mean</th>\n",
       "      <td>11.000000</td>\n",
       "      <td>71.047619</td>\n",
       "      <td>45.952381</td>\n",
       "      <td>25.095238</td>\n",
       "      <td>0.643333</td>\n",
       "      <td>2695.190476</td>\n",
       "      <td>0.508190</td>\n",
       "      <td>532.619048</td>\n",
       "      <td>524.238095</td>\n",
       "      <td>52.904762</td>\n",
       "      <td>1927.333333</td>\n",
       "    </tr>\n",
       "    <tr>\n",
       "      <th>std</th>\n",
       "      <td>6.204837</td>\n",
       "      <td>10.471276</td>\n",
       "      <td>11.512933</td>\n",
       "      <td>8.496498</td>\n",
       "      <td>0.115023</td>\n",
       "      <td>513.135423</td>\n",
       "      <td>0.035005</td>\n",
       "      <td>84.569780</td>\n",
       "      <td>108.152626</td>\n",
       "      <td>18.321858</td>\n",
       "      <td>328.583830</td>\n",
       "    </tr>\n",
       "    <tr>\n",
       "      <th>min</th>\n",
       "      <td>1.000000</td>\n",
       "      <td>45.000000</td>\n",
       "      <td>25.000000</td>\n",
       "      <td>15.000000</td>\n",
       "      <td>0.418000</td>\n",
       "      <td>1504.000000</td>\n",
       "      <td>0.417000</td>\n",
       "      <td>346.000000</td>\n",
       "      <td>349.000000</td>\n",
       "      <td>25.000000</td>\n",
       "      <td>1126.000000</td>\n",
       "    </tr>\n",
       "    <tr>\n",
       "      <th>25%</th>\n",
       "      <td>6.000000</td>\n",
       "      <td>67.000000</td>\n",
       "      <td>41.000000</td>\n",
       "      <td>17.000000</td>\n",
       "      <td>0.577000</td>\n",
       "      <td>2326.000000</td>\n",
       "      <td>0.488000</td>\n",
       "      <td>465.000000</td>\n",
       "      <td>465.000000</td>\n",
       "      <td>38.000000</td>\n",
       "      <td>1695.000000</td>\n",
       "    </tr>\n",
       "    <tr>\n",
       "      <th>50%</th>\n",
       "      <td>11.000000</td>\n",
       "      <td>76.000000</td>\n",
       "      <td>47.000000</td>\n",
       "      <td>25.000000</td>\n",
       "      <td>0.667000</td>\n",
       "      <td>2877.000000</td>\n",
       "      <td>0.510000</td>\n",
       "      <td>533.000000</td>\n",
       "      <td>521.000000</td>\n",
       "      <td>50.000000</td>\n",
       "      <td>1954.000000</td>\n",
       "    </tr>\n",
       "    <tr>\n",
       "      <th>75%</th>\n",
       "      <td>16.000000</td>\n",
       "      <td>79.000000</td>\n",
       "      <td>52.000000</td>\n",
       "      <td>31.000000</td>\n",
       "      <td>0.726000</td>\n",
       "      <td>3054.000000</td>\n",
       "      <td>0.531000</td>\n",
       "      <td>590.000000</td>\n",
       "      <td>587.000000</td>\n",
       "      <td>66.000000</td>\n",
       "      <td>2175.000000</td>\n",
       "    </tr>\n",
       "    <tr>\n",
       "      <th>max</th>\n",
       "      <td>21.000000</td>\n",
       "      <td>82.000000</td>\n",
       "      <td>66.000000</td>\n",
       "      <td>46.000000</td>\n",
       "      <td>0.815000</td>\n",
       "      <td>3384.000000</td>\n",
       "      <td>0.567000</td>\n",
       "      <td>709.000000</td>\n",
       "      <td>747.000000</td>\n",
       "      <td>93.000000</td>\n",
       "      <td>2478.000000</td>\n",
       "    </tr>\n",
       "  </tbody>\n",
       "</table>\n",
       "</div>"
      ],
      "text/plain": [
       "       id_temporada  partidos_jugados  victorias   derrotas    w_l_pct  \\\n",
       "count     21.000000         21.000000  21.000000  21.000000  21.000000   \n",
       "mean      11.000000         71.047619  45.952381  25.095238   0.643333   \n",
       "std        6.204837         10.471276  11.512933   8.496498   0.115023   \n",
       "min        1.000000         45.000000  25.000000  15.000000   0.418000   \n",
       "25%        6.000000         67.000000  41.000000  17.000000   0.577000   \n",
       "50%       11.000000         76.000000  47.000000  25.000000   0.667000   \n",
       "75%       16.000000         79.000000  52.000000  31.000000   0.726000   \n",
       "max       21.000000         82.000000  66.000000  46.000000   0.815000   \n",
       "\n",
       "               min     fg_pct         reb         ast        blk          pts  \n",
       "count    21.000000  21.000000   21.000000   21.000000  21.000000    21.000000  \n",
       "mean   2695.190476   0.508190  532.619048  524.238095  52.904762  1927.333333  \n",
       "std     513.135423   0.035005   84.569780  108.152626  18.321858   328.583830  \n",
       "min    1504.000000   0.417000  346.000000  349.000000  25.000000  1126.000000  \n",
       "25%    2326.000000   0.488000  465.000000  465.000000  38.000000  1695.000000  \n",
       "50%    2877.000000   0.510000  533.000000  521.000000  50.000000  1954.000000  \n",
       "75%    3054.000000   0.531000  590.000000  587.000000  66.000000  2175.000000  \n",
       "max    3384.000000   0.567000  709.000000  747.000000  93.000000  2478.000000  "
      ]
     },
     "execution_count": 84,
     "metadata": {},
     "output_type": "execute_result"
    }
   ],
   "source": [
    "temp_regular_stats_lj.describe()"
   ]
  },
  {
   "cell_type": "markdown",
   "metadata": {},
   "source": [
    "## Playoffs"
   ]
  },
  {
   "cell_type": "markdown",
   "metadata": {},
   "source": [
    "### LeBron"
   ]
  },
  {
   "cell_type": "markdown",
   "metadata": {},
   "source": [
    "Vemos que en distribución, tenemos datos similares sin embargo nuevamente LeBron James se alza con una mediana mayor a Jordan. Para MJ la media y mediana son casi idénticas, cayendo a un 0.48% de efectividad mientras que LJ tiene una media y una mediana prácticamente en 0.50%. Es necesario comentar que, a diferencia de LJ, Jordan contaba con uno de los mejores equipos de la historia por no decir el mejor. Esto demuestra que a pesar de quizás no tener mejores números podría conseguir títulos con el apoyo de un equipo histórico que consiguió 6 finales de  disputadas entre 1991 y 1998. En el caso de LeBron, solo en un momento formó parte de un equipo épico (Miami Heat) donde alcanzó la final en 4 ocasiones consecutivas de las cuales se llevó 2 campeonatos.\n",
    "\n",
    "- Así mismo, vemos que con el pasar de los años el porcentaje de anotación era igual o mejor que el año anterior con pocas excepciones. Destacando que este llegó a superar el 0.50% con aparente facilidad y mucha repetición. Esto incluso en su última temporada logrando un porcentaje mayor a 0.56%.\n",
    "- En el caso de Jordan, se puede ver un inicio bastante alto pero que luego iba decayendo a medida que pasaban las temporadas, diferente a LeBron que iba subiendo y mejorando sus datos con el paso del tiempo."
   ]
  },
  {
   "cell_type": "code",
   "execution_count": 89,
   "metadata": {},
   "outputs": [
    {
     "data": {
      "text/plain": [
       "<Axes: xlabel='fg_pct'>"
      ]
     },
     "execution_count": 89,
     "metadata": {},
     "output_type": "execute_result"
    },
    {
     "data": {
      "image/png": "[encoded data removed]",
      "text/plain": [
       "<Figure size 640x480 with 1 Axes>"
      ]
     },
     "metadata": {},
     "output_type": "display_data"
    }
   ],
   "source": [
    "sns.boxplot(x='fg_pct',data=temp_playoffs_stats_lj)"
   ]
  },
  {
   "cell_type": "code",
   "execution_count": null,
   "metadata": {},
   "outputs": [
    {
     "data": {
      "text/plain": [
       "<Axes: xlabel='id_temp', ylabel='fg_pct'>"
      ]
     },
     "execution_count": 90,
     "metadata": {},
     "output_type": "execute_result"
    },
    {
     "data": {
      "image/png": "[encoded data removed]",
      "text/plain": [
       "<Figure size 640x480 with 1 Axes>"
      ]
     },
     "metadata": {},
     "output_type": "display_data"
    }
   ],
   "source": [
    "sns.scatterplot(y='fg_pct', x='id_temp' ,data=temp_playoffs_stats_lj)"
   ]
  },
  {
   "cell_type": "code",
   "execution_count": 95,
   "metadata": {},
   "outputs": [
    {
     "data": {
      "text/plain": [
       "count    17.000000\n",
       "mean      0.498882\n",
       "std       0.051837\n",
       "min       0.411000\n",
       "25%       0.474000\n",
       "50%       0.500000\n",
       "75%       0.539000\n",
       "max       0.566000\n",
       "Name: fg_pct, dtype: float64"
      ]
     },
     "execution_count": 95,
     "metadata": {},
     "output_type": "execute_result"
    }
   ],
   "source": [
    "temp_playoffs_stats_lj['fg_pct'].describe()"
   ]
  },
  {
   "cell_type": "markdown",
   "metadata": {},
   "source": [
    "### Jordan"
   ]
  },
  {
   "cell_type": "code",
   "execution_count": 91,
   "metadata": {},
   "outputs": [
    {
     "data": {
      "text/plain": [
       "<Axes: xlabel='id_temp', ylabel='fg_pct'>"
      ]
     },
     "execution_count": 91,
     "metadata": {},
     "output_type": "execute_result"
    },
    {
     "data": {
      "image/png": "[encoded data removed]",
      "text/plain": [
       "<Figure size 640x480 with 1 Axes>"
      ]
     },
     "metadata": {},
     "output_type": "display_data"
    }
   ],
   "source": [
    "sns.scatterplot(y='fg_pct', x='id_temp' ,data=temp_playoffs_stats_mj)"
   ]
  },
  {
   "cell_type": "code",
   "execution_count": 93,
   "metadata": {},
   "outputs": [
    {
     "data": {
      "text/plain": [
       "<Axes: xlabel='fg_pct'>"
      ]
     },
     "execution_count": 93,
     "metadata": {},
     "output_type": "execute_result"
    },
    {
     "data": {
      "image/png": "[encoded data removed]",
      "text/plain": [
       "<Figure size 640x480 with 1 Axes>"
      ]
     },
     "metadata": {},
     "output_type": "display_data"
    }
   ],
   "source": [
    "sns.boxplot(x='fg_pct',data=temp_playoffs_stats_mj)\n"
   ]
  },
  {
   "cell_type": "code",
   "execution_count": 96,
   "metadata": {},
   "outputs": [
    {
     "data": {
      "text/plain": [
       "count    13.000000\n",
       "mean      0.482462\n",
       "std       0.035104\n",
       "min       0.417000\n",
       "25%       0.459000\n",
       "50%       0.484000\n",
       "75%       0.510000\n",
       "max       0.531000\n",
       "Name: fg_pct, dtype: float64"
      ]
     },
     "execution_count": 96,
     "metadata": {},
     "output_type": "execute_result"
    }
   ],
   "source": [
    "temp_playoffs_stats_mj['fg_pct'].describe()"
   ]
  },
  {
   "cell_type": "markdown",
   "metadata": {},
   "source": [
    "## Aportes a franquicias"
   ]
  },
  {
   "cell_type": "markdown",
   "metadata": {},
   "source": [
    "En estas dos gráficas podemos representar el impacto que tuvieron estos jugadores para la historia de las franquicias para las que jugaron."
   ]
  },
  {
   "cell_type": "code",
   "execution_count": null,
   "metadata": {},
   "outputs": [
    {
     "data": {
      "image/png": "[encoded data removed]",
      "text/plain": [
       "<Figure size 1000x700 with 1 Axes>"
      ]
     },
     "metadata": {},
     "output_type": "display_data"
    }
   ],
   "source": [
    "anillo_franquicia_melted = anillo_franquicia_lj.melt(\n",
    "    id_vars='team_code', \n",
    "    value_vars=['anillo_aportado', 'campeonatos'], \n",
    "    var_name='Tipo', \n",
    "    value_name='Cantidad'\n",
    ")\n",
    "\n",
    "plt.figure(figsize=(10, 7))\n",
    "sns.barplot(x='team_code', y='Cantidad', hue='Tipo', data=anillo_franquicia_melted)\n",
    "plt.title('Anillos de LeBron vs Campeonatos de la Franquicia')\n",
    "plt.xlabel('Franquicia', fontsize=12)\n",
    "plt.ylabel('Cantidad', fontsize=12)\n",
    "plt.legend(title='Categoría', fontsize=10)\n",
    "plt.tight_layout()"
   ]
  },
  {
   "cell_type": "markdown",
   "metadata": {},
   "source": [
    "LeBron le otorgó el único anillo que tiene hoy día Cleveland, le otorgó 1 de los 17 anillos de los LAL y 2 de los 3 que tiene Miami Heat."
   ]
  },
  {
   "cell_type": "code",
   "execution_count": 108,
   "metadata": {},
   "outputs": [
    {
     "data": {
      "image/png": "[encoded data removed]",
      "text/plain": [
       "<Figure size 1000x700 with 1 Axes>"
      ]
     },
     "metadata": {},
     "output_type": "display_data"
    }
   ],
   "source": [
    "anillo_franquicia_mj_melted = anillo_franquicia_mj.melt(\n",
    "    id_vars='team_code', \n",
    "    value_vars=['anillo_aportado', 'campeonatos'], \n",
    "    var_name='Tipo', \n",
    "    value_name='Cantidad'\n",
    ")\n",
    "\n",
    "plt.figure(figsize=(10, 7))\n",
    "sns.barplot(x='team_code', y='Cantidad', hue='Tipo', data=anillo_franquicia_mj_melted)\n",
    "plt.title('Anillos de Jordan vs Campeonatos de la Franquicia')\n",
    "plt.xlabel('Franquicia', fontsize=12)\n",
    "plt.ylabel('Cantidad', fontsize=12)\n",
    "plt.legend(title='Categoría', fontsize=10)\n",
    "plt.tight_layout()"
   ]
  },
  {
   "cell_type": "markdown",
   "metadata": {},
   "source": [
    "Aquí se puede ver lo que significó Jordan para CHI, le dio los 6 campeonatos que tiene hoy día."
   ]
  },
  {
   "cell_type": "markdown",
   "metadata": {},
   "source": [
    "# Conclusiones finales"
   ]
  },
  {
   "cell_type": "markdown",
   "metadata": {},
   "source": [
    "# Comparativa entre Michael Jordan (MJ) y LeBron James (LJ)\n",
    "\n",
    "---\n",
    "\n",
    "## **Rendimiento en temporadas de campeonatos**\n",
    "- **Michael Jordan (MJ):**\n",
    "  - Promedió **más de 30 puntos por partido** en sus temporadas de campeonato.\n",
    "  - En su primer campeonato logró un porcentaje de tiros de campo **mayor a 0.50**, pero este porcentaje disminuyó en campeonatos posteriores.\n",
    "\n",
    "- **LeBron James (LJ):**\n",
    "  - Superó consistentemente el **50% de efectividad en tiros de campo** en casi todos sus campeonatos, excepto en uno.\n",
    "  - A nivel de eficiencia en tiros de campo, LeBron tuvo un rendimiento superior en sus temporadas de campeonato en comparación con Jordan.\n",
    "\n",
    "---\n",
    "\n",
    "## **Evolución salarial**\n",
    "- **MJ:**\n",
    "  - Su salario comenzó a aumentar notablemente a partir de su regreso completo en la temporada **1995-96**.\n",
    "  - Los picos salariales más altos ocurrieron en las temporadas **1996-97 y 1997-98**, durante sus últimos años con los Bulls.\n",
    "\n",
    "- **LJ:**\n",
    "  - En sus primeras temporadas, los salarios eran bajos, pero hubo un incremento significativo entre **2006-07 y 2007-08**, tras llegar a las finales con los Cleveland Cavaliers.\n",
    "  - Cambiar a los Miami Heat no trajo un aumento salarial considerable, a pesar de los éxitos en **2012 y 2013**. Los aumentos continuaron de manera gradual.\n",
    "  - Después de ganar el campeonato con los Cavaliers en **2016**, se registró un aumento notable. Sin embargo, no hubo diferencias significativas en su salario tras unirse a los Lakers ni después de ganar el campeonato en **2019-20**.\n",
    "\n",
    "---\n",
    "\n",
    "## **Últimas temporadas**\n",
    "- **MJ:**\n",
    "  - En su última temporada, jugó los **82 partidos completos** a los 39 años con los Wizards, obteniendo **35 victorias y 47 derrotas**.\n",
    "- **LJ:**\n",
    "  - A los 39 años, LeBron jugó **71 partidos** con los Lakers, logrando **47 victorias y 35 derrotas**, un rendimiento superior al de MJ en su última temporada.\n",
    "\n",
    "---\n",
    "\n",
    "## **Distribución de partidos por equipo**\n",
    "- **MJ:**\n",
    "  - Representó a los Chicago Bulls en más del **85% de los partidos** de su carrera, acumulando solo **142 partidos** con los Wizards.\n",
    "- **LJ:**\n",
    "  - Jugó más del **50% de sus partidos** para los Cavaliers (en dos períodos).\n",
    "  - Sus participaciones restantes se dividen entre los Lakers (**23%**) y los Heat (**20%**).\n",
    "\n",
    "---\n",
    "\n",
    "## **Finales y campeonatos**\n",
    "- **MJ:**\n",
    "  - Ganó **6 campeonatos** en todas las finales que disputó (100% de efectividad).\n",
    "  - Logró sus títulos entre **1991 y 1998**, consolidando una de las dinastías más grandes de la historia con un equipo histórico.\n",
    "- **LJ:**\n",
    "  - Llegó a **10 finales**, ganando **4 campeonatos** (2 con Miami, 1 con Cleveland y 1 con los Lakers).\n",
    "  - Experimentó derrotas en finales en todas las franquicias donde jugó, pero alcanzó la cima en momentos clave con equipos en construcción o históricos.\n",
    "\n",
    "---\n",
    "\n",
    "## **Efectividad en tiros de campo (FG%)**\n",
    "- **MJ:**\n",
    "  - Mediana: **49.5%**, Media: **48.83%**.\n",
    "  - Su efectividad inicial fue alta pero decayó a lo largo de los años. Los bigotes del boxplot sugieren algunas temporadas con efectividad ligeramente más baja.\n",
    "  - A pesar de ser ligeramente menos eficiente que LeBron en tiros de campo, MJ compensó con su capacidad de liderar un equipo histórico a múltiples títulos.\n",
    "\n",
    "- **LJ:**\n",
    "  - Mediana: **51%**, Media: **50.82%**.\n",
    "  - Mostró una mejora constante en su FG% con los años, superando con regularidad el **50%** y alcanzando más del **56%** en su última temporada.\n",
    "  - Su distribución de FG% refleja una consistencia impresionante y un valor atípico menor que no afecta significativamente su rendimiento general.\n",
    "\n",
    "---\n",
    "\n",
    "## **Conclusión General**\n",
    "- **Michael Jordan:**\n",
    "  - Fue un anotador prolífico con un impacto increíble en el juego, liderando a los Bulls a una de las mejores eras en la historia del baloncesto. Su efectividad en tiros de campo fue alta, pero no alcanzó la consistencia de LeBron. A pesar de esto, MJ ganó todos los campeonatos que disputó, demostrando un liderazgo excepcional en momentos decisivos.\n",
    "\n",
    "- **LeBron James:**\n",
    "  - Destacó por su **consistencia** y **eficiencia** a lo largo de su carrera, con un FG% superior al de MJ tanto en temporadas regulares como en campeonatos. Aunque no tiene el mismo porcentaje de victorias en finales, LeBron mostró una gran versatilidad y resiliencia al alcanzar éxitos con equipos distintos y en diferentes etapas de su carrera.\n",
    "\n",
    "---\n",
    "\n",
    "Ambos jugadores son ejemplos de excelencia, pero sus logros y estilo de juego resaltan diferentes tipos de grandeza: **la efectividad y longevidad de LeBron** frente a **la capacidad decisiva y dominio de MJ en las finales**. 🏀\n"
   ]
  },
  {
   "cell_type": "markdown",
   "metadata": {},
   "source": []
  }
 ],
 "metadata": {
  "kernelspec": {
   "display_name": "Python 3",
   "language": "python",
   "name": "python3"
  },
  "language_info": {
   "codemirror_mode": {
    "name": "ipython",
    "version": 3
   },
   "file_extension": ".py",
   "mimetype": "text/x-python",
   "name": "python",
   "nbconvert_exporter": "python",
   "pygments_lexer": "ipython3",
   "version": "3.11.9"
  }
 },
 "nbformat": 4,
 "nbformat_minor": 2
}
