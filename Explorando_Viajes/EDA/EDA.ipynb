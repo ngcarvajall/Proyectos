{
 "cells": [
  {
   "cell_type": "code",
   "execution_count": 1,
   "metadata": {},
   "outputs": [],
   "source": [
    "import requests\n",
    "import pandas as pd\n",
    "import time\n",
    "\n",
    "import matplotlib.pyplot as plt\n",
    "import seaborn as sns"
   ]
  },
  {
   "cell_type": "markdown",
   "metadata": {},
   "source": [
    "EDA - Alojamientos Fecha: 25-10-2024 al 28-10-2024\n",
    "Pasos a seguir.\n",
    "* El alojamiento lo he obtenido usando la API de Booking. A través de esta pude extraer los datos con los que estaré trabajando a continuación. En cuanto a los alojamientos, estos ya se han unido en un solo Data Frame. De esta manera, podré comparar en el mismo las cosas directamente. \n",
    "He hecho cierta limpieza a medida que iba dando forma al Data Frame, pero aquí se evaluará mejor formato y descripción de los datos.\n",
    "\n",
    "No tengo nulos ni duplicados.\n",
    "\n",
    "Tengo 40 filas y 9 columnas.\n",
    "\n",
    "El precio medio de hospedaje para estas fechas en Lisboa es de 554€ mientras que en Florencia es de 727€. A esto se suma que el mínimo de hospedaje en Lisboa empieza en 81€ mientras que en Florencia es 145€. También pude observar que la mediana en ambos lugares no es tan distante entre ellos, Florencia: 604.96€ y Lisboa: 514.71€. Sin embargo, tenemos un precio máximo de 1842€ en Florencia y 1001€ en Lisboa. En cuanto a la mediana, en Florencia la mediana es menor que le media debido a que la concentración de precios está más cerca de los precios bajo pero hay valores atípicos que elevan la media ya que son bastante altos (1800€). Con respecto a la mediana de Lisboa, es menor que la media esto porque la concentración de los precios es menor que la media pero al presentarse valores atípicos esta ultima se ve ligeramente elevada que la mediana. \n",
    "\n",
    "Debo señalar que el mínimo de hospedaje en Lisboa empieza en 81€ mientras que en Florencia es 145€.\n",
    "\n",
    "Recalco que la riqueza cultural e histórica de Florencia juega un papel importante ya que algunos alojamientos están bastante cerca de lugares memorables de la ciudad.\n",
    "\n",
    "En cuanto a la calificación promedio, en base a 10, encontré que Florencia tiene una media de 8.77 mientras que Lisboa tiene una de 8.53.\n",
    "En cuanto a la cantidad de reviews, Florencia tiene una media de 1650 que se queda muy distante de la media de Lisboa que se presenta en 3044.\n",
    "* Considerando que los precios son más asequibles para Lisboa, puede que la carga histórica y cultural de Florencia eleve más los precios y que por ende más personas decidan asistir en viajes low-cost a Lisboa.\n"
   ]
  },
  {
   "cell_type": "code",
   "execution_count": 2,
   "metadata": {},
   "outputs": [],
   "source": [
    "df_florencia_lisboa = pd.read_csv('../datos/alojamientos_combinados.csv')"
   ]
  },
  {
   "cell_type": "code",
   "execution_count": 3,
   "metadata": {},
   "outputs": [
    {
     "name": "stdout",
     "output_type": "stream",
     "text": [
      "<class 'pandas.core.frame.DataFrame'>\n",
      "RangeIndex: 40 entries, 0 to 39\n",
      "Data columns (total 9 columns):\n",
      " #   Column               Non-Null Count  Dtype  \n",
      "---  ------               --------------  -----  \n",
      " 0   Ciudad               40 non-null     object \n",
      " 1   Hotel                40 non-null     object \n",
      " 2   Cantidad de reviews  40 non-null     int64  \n",
      " 3   Calificación         40 non-null     float64\n",
      " 4   Precio               40 non-null     float64\n",
      " 5   Entrada desde        40 non-null     object \n",
      " 6   Entrada hasta        40 non-null     object \n",
      " 7   Salida desde         40 non-null     object \n",
      " 8   Salida hasta         40 non-null     object \n",
      "dtypes: float64(2), int64(1), object(6)\n",
      "memory usage: 2.9+ KB\n"
     ]
    }
   ],
   "source": [
    "df_florencia_lisboa.info()"
   ]
  },
  {
   "cell_type": "markdown",
   "metadata": {},
   "source": [
    "Tengo que convertir las horas en formato datetime. Puedo ver que no tengo nulos"
   ]
  },
  {
   "cell_type": "code",
   "execution_count": 4,
   "metadata": {},
   "outputs": [
    {
     "data": {
      "text/plain": [
       "0"
      ]
     },
     "execution_count": 4,
     "metadata": {},
     "output_type": "execute_result"
    }
   ],
   "source": [
    "df_florencia_lisboa.duplicated().sum()"
   ]
  },
  {
   "cell_type": "code",
   "execution_count": 5,
   "metadata": {},
   "outputs": [
    {
     "data": {
      "text/html": [
       "<div>\n",
       "<style scoped>\n",
       "    .dataframe tbody tr th:only-of-type {\n",
       "        vertical-align: middle;\n",
       "    }\n",
       "\n",
       "    .dataframe tbody tr th {\n",
       "        vertical-align: top;\n",
       "    }\n",
       "\n",
       "    .dataframe thead th {\n",
       "        text-align: right;\n",
       "    }\n",
       "</style>\n",
       "<table border=\"1\" class=\"dataframe\">\n",
       "  <thead>\n",
       "    <tr style=\"text-align: right;\">\n",
       "      <th></th>\n",
       "      <th>Ciudad</th>\n",
       "      <th>Hotel</th>\n",
       "      <th>Cantidad de reviews</th>\n",
       "      <th>Calificación</th>\n",
       "      <th>Precio</th>\n",
       "      <th>Entrada desde</th>\n",
       "      <th>Entrada hasta</th>\n",
       "      <th>Salida desde</th>\n",
       "      <th>Salida hasta</th>\n",
       "    </tr>\n",
       "  </thead>\n",
       "  <tbody>\n",
       "    <tr>\n",
       "      <th>0</th>\n",
       "      <td>Florence</td>\n",
       "      <td>Florence Heart Uffizi - Renovated and central</td>\n",
       "      <td>70</td>\n",
       "      <td>9.1</td>\n",
       "      <td>585.000000</td>\n",
       "      <td>15:00</td>\n",
       "      <td>20:00</td>\n",
       "      <td>08:00</td>\n",
       "      <td>10:00</td>\n",
       "    </tr>\n",
       "    <tr>\n",
       "      <th>1</th>\n",
       "      <td>Florence</td>\n",
       "      <td>Appartamento la Ninfea</td>\n",
       "      <td>195</td>\n",
       "      <td>8.9</td>\n",
       "      <td>1842.380000</td>\n",
       "      <td>14:00</td>\n",
       "      <td>19:00</td>\n",
       "      <td>07:00</td>\n",
       "      <td>10:00</td>\n",
       "    </tr>\n",
       "    <tr>\n",
       "      <th>2</th>\n",
       "      <td>Florence</td>\n",
       "      <td>BorgoDeGreci Apartments</td>\n",
       "      <td>468</td>\n",
       "      <td>8.7</td>\n",
       "      <td>590.630000</td>\n",
       "      <td>14:00</td>\n",
       "      <td>00:00</td>\n",
       "      <td>06:00</td>\n",
       "      <td>10:00</td>\n",
       "    </tr>\n",
       "    <tr>\n",
       "      <th>3</th>\n",
       "      <td>Florence</td>\n",
       "      <td>B&amp;B Le Stanze del Duomo</td>\n",
       "      <td>6580</td>\n",
       "      <td>8.5</td>\n",
       "      <td>619.304625</td>\n",
       "      <td>14:00</td>\n",
       "      <td>21:00</td>\n",
       "      <td>08:00</td>\n",
       "      <td>11:00</td>\n",
       "    </tr>\n",
       "    <tr>\n",
       "      <th>4</th>\n",
       "      <td>Florence</td>\n",
       "      <td>Adler Cavalieri Hotel-Private Spa &amp; Gym</td>\n",
       "      <td>3628</td>\n",
       "      <td>8.5</td>\n",
       "      <td>722.000000</td>\n",
       "      <td>15:00</td>\n",
       "      <td>00:00</td>\n",
       "      <td>00:00</td>\n",
       "      <td>12:00</td>\n",
       "    </tr>\n",
       "  </tbody>\n",
       "</table>\n",
       "</div>"
      ],
      "text/plain": [
       "     Ciudad                                          Hotel  \\\n",
       "0  Florence  Florence Heart Uffizi - Renovated and central   \n",
       "1  Florence                         Appartamento la Ninfea   \n",
       "2  Florence                        BorgoDeGreci Apartments   \n",
       "3  Florence                        B&B Le Stanze del Duomo   \n",
       "4  Florence        Adler Cavalieri Hotel-Private Spa & Gym   \n",
       "\n",
       "   Cantidad de reviews  Calificación       Precio Entrada desde Entrada hasta  \\\n",
       "0                   70           9.1   585.000000         15:00         20:00   \n",
       "1                  195           8.9  1842.380000         14:00         19:00   \n",
       "2                  468           8.7   590.630000         14:00         00:00   \n",
       "3                 6580           8.5   619.304625         14:00         21:00   \n",
       "4                 3628           8.5   722.000000         15:00         00:00   \n",
       "\n",
       "  Salida desde Salida hasta  \n",
       "0        08:00        10:00  \n",
       "1        07:00        10:00  \n",
       "2        06:00        10:00  \n",
       "3        08:00        11:00  \n",
       "4        00:00        12:00  "
      ]
     },
     "execution_count": 5,
     "metadata": {},
     "output_type": "execute_result"
    }
   ],
   "source": [
    "df_florencia_lisboa.head()"
   ]
  },
  {
   "cell_type": "code",
   "execution_count": 6,
   "metadata": {},
   "outputs": [],
   "source": [
    "df_florencia_lisboa['Precio'] = df_florencia_lisboa['Precio'].round(2)\n",
    "# quitamos el exceso de ceros en el precio\n",
    "#  redondeo los precios a dos decimales"
   ]
  },
  {
   "cell_type": "code",
   "execution_count": 7,
   "metadata": {},
   "outputs": [
    {
     "data": {
      "text/html": [
       "<div>\n",
       "<style scoped>\n",
       "    .dataframe tbody tr th:only-of-type {\n",
       "        vertical-align: middle;\n",
       "    }\n",
       "\n",
       "    .dataframe tbody tr th {\n",
       "        vertical-align: top;\n",
       "    }\n",
       "\n",
       "    .dataframe thead th {\n",
       "        text-align: right;\n",
       "    }\n",
       "</style>\n",
       "<table border=\"1\" class=\"dataframe\">\n",
       "  <thead>\n",
       "    <tr style=\"text-align: right;\">\n",
       "      <th></th>\n",
       "      <th>Ciudad</th>\n",
       "      <th>Hotel</th>\n",
       "      <th>Cantidad de reviews</th>\n",
       "      <th>Calificación</th>\n",
       "      <th>Precio</th>\n",
       "      <th>Entrada desde</th>\n",
       "      <th>Entrada hasta</th>\n",
       "      <th>Salida desde</th>\n",
       "      <th>Salida hasta</th>\n",
       "    </tr>\n",
       "  </thead>\n",
       "  <tbody>\n",
       "    <tr>\n",
       "      <th>0</th>\n",
       "      <td>Florence</td>\n",
       "      <td>Florence Heart Uffizi - Renovated and central</td>\n",
       "      <td>70</td>\n",
       "      <td>9.1</td>\n",
       "      <td>585.0</td>\n",
       "      <td>15:00</td>\n",
       "      <td>20:00</td>\n",
       "      <td>08:00</td>\n",
       "      <td>10:00</td>\n",
       "    </tr>\n",
       "  </tbody>\n",
       "</table>\n",
       "</div>"
      ],
      "text/plain": [
       "     Ciudad                                          Hotel  \\\n",
       "0  Florence  Florence Heart Uffizi - Renovated and central   \n",
       "\n",
       "   Cantidad de reviews  Calificación  Precio Entrada desde Entrada hasta  \\\n",
       "0                   70           9.1   585.0         15:00         20:00   \n",
       "\n",
       "  Salida desde Salida hasta  \n",
       "0        08:00        10:00  "
      ]
     },
     "execution_count": 7,
     "metadata": {},
     "output_type": "execute_result"
    }
   ],
   "source": [
    "df_florencia_lisboa.head(1)"
   ]
  },
  {
   "cell_type": "code",
   "execution_count": 8,
   "metadata": {},
   "outputs": [
    {
     "data": {
      "text/plain": [
       "(40, 9)"
      ]
     },
     "execution_count": 8,
     "metadata": {},
     "output_type": "execute_result"
    }
   ],
   "source": [
    "df_florencia_lisboa.shape"
   ]
  },
  {
   "cell_type": "code",
   "execution_count": 9,
   "metadata": {},
   "outputs": [
    {
     "data": {
      "text/plain": [
       "Index(['Ciudad', 'Hotel', 'Cantidad de reviews', 'Calificación', 'Precio',\n",
       "       'Entrada desde', 'Entrada hasta', 'Salida desde', 'Salida hasta'],\n",
       "      dtype='object')"
      ]
     },
     "execution_count": 9,
     "metadata": {},
     "output_type": "execute_result"
    }
   ],
   "source": [
    "df_florencia_lisboa.columns"
   ]
  },
  {
   "cell_type": "code",
   "execution_count": 10,
   "metadata": {},
   "outputs": [
    {
     "data": {
      "text/html": [
       "<div>\n",
       "<style scoped>\n",
       "    .dataframe tbody tr th:only-of-type {\n",
       "        vertical-align: middle;\n",
       "    }\n",
       "\n",
       "    .dataframe tbody tr th {\n",
       "        vertical-align: top;\n",
       "    }\n",
       "\n",
       "    .dataframe thead th {\n",
       "        text-align: right;\n",
       "    }\n",
       "</style>\n",
       "<table border=\"1\" class=\"dataframe\">\n",
       "  <thead>\n",
       "    <tr style=\"text-align: right;\">\n",
       "      <th></th>\n",
       "      <th>Cantidad de reviews</th>\n",
       "      <th>Calificación</th>\n",
       "      <th>Precio</th>\n",
       "    </tr>\n",
       "  </thead>\n",
       "  <tbody>\n",
       "    <tr>\n",
       "      <th>count</th>\n",
       "      <td>40.000000</td>\n",
       "      <td>40.000000</td>\n",
       "      <td>40.000000</td>\n",
       "    </tr>\n",
       "    <tr>\n",
       "      <th>mean</th>\n",
       "      <td>2347.700000</td>\n",
       "      <td>8.652500</td>\n",
       "      <td>641.281500</td>\n",
       "    </tr>\n",
       "    <tr>\n",
       "      <th>std</th>\n",
       "      <td>1961.433244</td>\n",
       "      <td>0.479309</td>\n",
       "      <td>341.147894</td>\n",
       "    </tr>\n",
       "    <tr>\n",
       "      <th>min</th>\n",
       "      <td>5.000000</td>\n",
       "      <td>7.200000</td>\n",
       "      <td>81.870000</td>\n",
       "    </tr>\n",
       "    <tr>\n",
       "      <th>25%</th>\n",
       "      <td>821.750000</td>\n",
       "      <td>8.400000</td>\n",
       "      <td>484.857500</td>\n",
       "    </tr>\n",
       "    <tr>\n",
       "      <th>50%</th>\n",
       "      <td>1557.000000</td>\n",
       "      <td>8.700000</td>\n",
       "      <td>587.815000</td>\n",
       "    </tr>\n",
       "    <tr>\n",
       "      <th>75%</th>\n",
       "      <td>3835.750000</td>\n",
       "      <td>8.925000</td>\n",
       "      <td>704.172500</td>\n",
       "    </tr>\n",
       "    <tr>\n",
       "      <th>max</th>\n",
       "      <td>6580.000000</td>\n",
       "      <td>9.500000</td>\n",
       "      <td>1842.380000</td>\n",
       "    </tr>\n",
       "  </tbody>\n",
       "</table>\n",
       "</div>"
      ],
      "text/plain": [
       "       Cantidad de reviews  Calificación       Precio\n",
       "count            40.000000     40.000000    40.000000\n",
       "mean           2347.700000      8.652500   641.281500\n",
       "std            1961.433244      0.479309   341.147894\n",
       "min               5.000000      7.200000    81.870000\n",
       "25%             821.750000      8.400000   484.857500\n",
       "50%            1557.000000      8.700000   587.815000\n",
       "75%            3835.750000      8.925000   704.172500\n",
       "max            6580.000000      9.500000  1842.380000"
      ]
     },
     "execution_count": 10,
     "metadata": {},
     "output_type": "execute_result"
    }
   ],
   "source": [
    "df_florencia_lisboa.describe()"
   ]
  },
  {
   "cell_type": "code",
   "execution_count": 11,
   "metadata": {},
   "outputs": [
    {
     "data": {
      "text/html": [
       "<div>\n",
       "<style scoped>\n",
       "    .dataframe tbody tr th:only-of-type {\n",
       "        vertical-align: middle;\n",
       "    }\n",
       "\n",
       "    .dataframe tbody tr th {\n",
       "        vertical-align: top;\n",
       "    }\n",
       "\n",
       "    .dataframe thead th {\n",
       "        text-align: right;\n",
       "    }\n",
       "</style>\n",
       "<table border=\"1\" class=\"dataframe\">\n",
       "  <thead>\n",
       "    <tr style=\"text-align: right;\">\n",
       "      <th></th>\n",
       "      <th>Ciudad</th>\n",
       "      <th>Hotel</th>\n",
       "      <th>Entrada desde</th>\n",
       "      <th>Entrada hasta</th>\n",
       "      <th>Salida desde</th>\n",
       "      <th>Salida hasta</th>\n",
       "    </tr>\n",
       "  </thead>\n",
       "  <tbody>\n",
       "    <tr>\n",
       "      <th>count</th>\n",
       "      <td>40</td>\n",
       "      <td>40</td>\n",
       "      <td>40</td>\n",
       "      <td>40</td>\n",
       "      <td>40</td>\n",
       "      <td>40</td>\n",
       "    </tr>\n",
       "    <tr>\n",
       "      <th>unique</th>\n",
       "      <td>2</td>\n",
       "      <td>40</td>\n",
       "      <td>7</td>\n",
       "      <td>7</td>\n",
       "      <td>7</td>\n",
       "      <td>5</td>\n",
       "    </tr>\n",
       "    <tr>\n",
       "      <th>top</th>\n",
       "      <td>Florence</td>\n",
       "      <td>Florence Heart Uffizi - Renovated and central</td>\n",
       "      <td>14:00</td>\n",
       "      <td>00:00</td>\n",
       "      <td>00:00</td>\n",
       "      <td>12:00</td>\n",
       "    </tr>\n",
       "    <tr>\n",
       "      <th>freq</th>\n",
       "      <td>20</td>\n",
       "      <td>1</td>\n",
       "      <td>19</td>\n",
       "      <td>27</td>\n",
       "      <td>24</td>\n",
       "      <td>16</td>\n",
       "    </tr>\n",
       "  </tbody>\n",
       "</table>\n",
       "</div>"
      ],
      "text/plain": [
       "          Ciudad                                          Hotel Entrada desde  \\\n",
       "count         40                                             40            40   \n",
       "unique         2                                             40             7   \n",
       "top     Florence  Florence Heart Uffizi - Renovated and central         14:00   \n",
       "freq          20                                              1            19   \n",
       "\n",
       "       Entrada hasta Salida desde Salida hasta  \n",
       "count             40           40           40  \n",
       "unique             7            7            5  \n",
       "top            00:00        00:00        12:00  \n",
       "freq              27           24           16  "
      ]
     },
     "execution_count": 11,
     "metadata": {},
     "output_type": "execute_result"
    }
   ],
   "source": [
    "df_florencia_lisboa.describe(include='O')"
   ]
  },
  {
   "cell_type": "code",
   "execution_count": 12,
   "metadata": {},
   "outputs": [
    {
     "data": {
      "text/html": [
       "<div>\n",
       "<style scoped>\n",
       "    .dataframe tbody tr th:only-of-type {\n",
       "        vertical-align: middle;\n",
       "    }\n",
       "\n",
       "    .dataframe tbody tr th {\n",
       "        vertical-align: top;\n",
       "    }\n",
       "\n",
       "    .dataframe thead th {\n",
       "        text-align: right;\n",
       "    }\n",
       "</style>\n",
       "<table border=\"1\" class=\"dataframe\">\n",
       "  <thead>\n",
       "    <tr style=\"text-align: right;\">\n",
       "      <th></th>\n",
       "      <th>mean</th>\n",
       "      <th>median</th>\n",
       "    </tr>\n",
       "    <tr>\n",
       "      <th>Ciudad</th>\n",
       "      <th></th>\n",
       "      <th></th>\n",
       "    </tr>\n",
       "  </thead>\n",
       "  <tbody>\n",
       "    <tr>\n",
       "      <th>Florence</th>\n",
       "      <td>727.991</td>\n",
       "      <td>604.965</td>\n",
       "    </tr>\n",
       "    <tr>\n",
       "      <th>Lisbon</th>\n",
       "      <td>554.572</td>\n",
       "      <td>514.710</td>\n",
       "    </tr>\n",
       "  </tbody>\n",
       "</table>\n",
       "</div>"
      ],
      "text/plain": [
       "             mean   median\n",
       "Ciudad                    \n",
       "Florence  727.991  604.965\n",
       "Lisbon    554.572  514.710"
      ]
     },
     "execution_count": 12,
     "metadata": {},
     "output_type": "execute_result"
    }
   ],
   "source": [
    "df_florencia_lisboa.groupby('Ciudad')['Precio'].agg(['mean', 'median'])"
   ]
  },
  {
   "cell_type": "code",
   "execution_count": 70,
   "metadata": {},
   "outputs": [
    {
     "data": {
      "text/plain": [
       "Ciudad\n",
       "Florence    8.775\n",
       "Lisbon      8.530\n",
       "Name: Calificación, dtype: float64"
      ]
     },
     "execution_count": 70,
     "metadata": {},
     "output_type": "execute_result"
    }
   ],
   "source": [
    "df_florencia_lisboa.groupby('Ciudad')['Calificación'].mean()"
   ]
  },
  {
   "cell_type": "markdown",
   "metadata": {},
   "source": [
    "El precio medio de hospedaje para estas fechas en Lisboa es de 554€ mientras que en Florencia es de 727€."
   ]
  },
  {
   "cell_type": "code",
   "execution_count": 14,
   "metadata": {},
   "outputs": [
    {
     "data": {
      "text/html": [
       "<div>\n",
       "<style scoped>\n",
       "    .dataframe tbody tr th:only-of-type {\n",
       "        vertical-align: middle;\n",
       "    }\n",
       "\n",
       "    .dataframe tbody tr th {\n",
       "        vertical-align: top;\n",
       "    }\n",
       "\n",
       "    .dataframe thead th {\n",
       "        text-align: right;\n",
       "    }\n",
       "</style>\n",
       "<table border=\"1\" class=\"dataframe\">\n",
       "  <thead>\n",
       "    <tr style=\"text-align: right;\">\n",
       "      <th></th>\n",
       "      <th>Ciudad</th>\n",
       "      <th>Florence</th>\n",
       "      <th>Lisbon</th>\n",
       "    </tr>\n",
       "  </thead>\n",
       "  <tbody>\n",
       "    <tr>\n",
       "      <th rowspan=\"8\" valign=\"top\">Cantidad de reviews</th>\n",
       "      <th>count</th>\n",
       "      <td>20.000000</td>\n",
       "      <td>20.000000</td>\n",
       "    </tr>\n",
       "    <tr>\n",
       "      <th>mean</th>\n",
       "      <td>1650.750000</td>\n",
       "      <td>3044.650000</td>\n",
       "    </tr>\n",
       "    <tr>\n",
       "      <th>std</th>\n",
       "      <td>1678.261942</td>\n",
       "      <td>2014.386710</td>\n",
       "    </tr>\n",
       "    <tr>\n",
       "      <th>min</th>\n",
       "      <td>70.000000</td>\n",
       "      <td>5.000000</td>\n",
       "    </tr>\n",
       "    <tr>\n",
       "      <th>25%</th>\n",
       "      <td>448.750000</td>\n",
       "      <td>1107.250000</td>\n",
       "    </tr>\n",
       "    <tr>\n",
       "      <th>50%</th>\n",
       "      <td>1253.500000</td>\n",
       "      <td>3312.000000</td>\n",
       "    </tr>\n",
       "    <tr>\n",
       "      <th>75%</th>\n",
       "      <td>2116.750000</td>\n",
       "      <td>4820.500000</td>\n",
       "    </tr>\n",
       "    <tr>\n",
       "      <th>max</th>\n",
       "      <td>6580.000000</td>\n",
       "      <td>5874.000000</td>\n",
       "    </tr>\n",
       "    <tr>\n",
       "      <th rowspan=\"8\" valign=\"top\">Calificación</th>\n",
       "      <th>count</th>\n",
       "      <td>20.000000</td>\n",
       "      <td>20.000000</td>\n",
       "    </tr>\n",
       "    <tr>\n",
       "      <th>mean</th>\n",
       "      <td>8.775000</td>\n",
       "      <td>8.530000</td>\n",
       "    </tr>\n",
       "    <tr>\n",
       "      <th>std</th>\n",
       "      <td>0.378188</td>\n",
       "      <td>0.544929</td>\n",
       "    </tr>\n",
       "    <tr>\n",
       "      <th>min</th>\n",
       "      <td>7.800000</td>\n",
       "      <td>7.200000</td>\n",
       "    </tr>\n",
       "    <tr>\n",
       "      <th>25%</th>\n",
       "      <td>8.500000</td>\n",
       "      <td>8.200000</td>\n",
       "    </tr>\n",
       "    <tr>\n",
       "      <th>50%</th>\n",
       "      <td>8.800000</td>\n",
       "      <td>8.600000</td>\n",
       "    </tr>\n",
       "    <tr>\n",
       "      <th>75%</th>\n",
       "      <td>9.025000</td>\n",
       "      <td>8.825000</td>\n",
       "    </tr>\n",
       "    <tr>\n",
       "      <th>max</th>\n",
       "      <td>9.400000</td>\n",
       "      <td>9.500000</td>\n",
       "    </tr>\n",
       "    <tr>\n",
       "      <th rowspan=\"8\" valign=\"top\">Precio</th>\n",
       "      <th>count</th>\n",
       "      <td>20.000000</td>\n",
       "      <td>20.000000</td>\n",
       "    </tr>\n",
       "    <tr>\n",
       "      <th>mean</th>\n",
       "      <td>727.991000</td>\n",
       "      <td>554.572000</td>\n",
       "    </tr>\n",
       "    <tr>\n",
       "      <th>std</th>\n",
       "      <td>412.611753</td>\n",
       "      <td>229.808998</td>\n",
       "    </tr>\n",
       "    <tr>\n",
       "      <th>min</th>\n",
       "      <td>145.000000</td>\n",
       "      <td>81.870000</td>\n",
       "    </tr>\n",
       "    <tr>\n",
       "      <th>25%</th>\n",
       "      <td>555.922500</td>\n",
       "      <td>454.050000</td>\n",
       "    </tr>\n",
       "    <tr>\n",
       "      <th>50%</th>\n",
       "      <td>604.965000</td>\n",
       "      <td>514.710000</td>\n",
       "    </tr>\n",
       "    <tr>\n",
       "      <th>75%</th>\n",
       "      <td>704.172500</td>\n",
       "      <td>672.975000</td>\n",
       "    </tr>\n",
       "    <tr>\n",
       "      <th>max</th>\n",
       "      <td>1842.380000</td>\n",
       "      <td>1001.710000</td>\n",
       "    </tr>\n",
       "  </tbody>\n",
       "</table>\n",
       "</div>"
      ],
      "text/plain": [
       "Ciudad                        Florence       Lisbon\n",
       "Cantidad de reviews count    20.000000    20.000000\n",
       "                    mean   1650.750000  3044.650000\n",
       "                    std    1678.261942  2014.386710\n",
       "                    min      70.000000     5.000000\n",
       "                    25%     448.750000  1107.250000\n",
       "                    50%    1253.500000  3312.000000\n",
       "                    75%    2116.750000  4820.500000\n",
       "                    max    6580.000000  5874.000000\n",
       "Calificación        count    20.000000    20.000000\n",
       "                    mean      8.775000     8.530000\n",
       "                    std       0.378188     0.544929\n",
       "                    min       7.800000     7.200000\n",
       "                    25%       8.500000     8.200000\n",
       "                    50%       8.800000     8.600000\n",
       "                    75%       9.025000     8.825000\n",
       "                    max       9.400000     9.500000\n",
       "Precio              count    20.000000    20.000000\n",
       "                    mean    727.991000   554.572000\n",
       "                    std     412.611753   229.808998\n",
       "                    min     145.000000    81.870000\n",
       "                    25%     555.922500   454.050000\n",
       "                    50%     604.965000   514.710000\n",
       "                    75%     704.172500   672.975000\n",
       "                    max    1842.380000  1001.710000"
      ]
     },
     "execution_count": 14,
     "metadata": {},
     "output_type": "execute_result"
    }
   ],
   "source": [
    "df_florencia_lisboa.groupby('Ciudad').describe().T"
   ]
  },
  {
   "cell_type": "markdown",
   "metadata": {},
   "source": [
    "---\n",
    "* Vuelos a Florencia*"
   ]
  },
  {
   "cell_type": "markdown",
   "metadata": {},
   "source": [
    "A continuación, busco la información sobre los vuelos de MAD-FLR y FLR-MAD durante las fechas del 25-10-2024 al 28-10-2024.\n",
    "\n",
    "En este caso, para Florencia tengo varios horarios duplicados pero destaco el tema de jugar con las combinaciones. Aunque el vuelo de ida pueda repetirse, este tiene una combinación con el vuelo de regreso distinto en todos los caso. Pasa lo mismo con los vuelos duplicados de regreso. \n",
    "\n",
    "Se puede observar claramente con los precios, como cada variación en el horario genera un cambio en los precios. A la vez, aquellos paquetes que hacen escalas, lo que significa una mayor duración del vuelo, tienen un costo menor que aquellos que tienen una trayectoria directa. Esta ruta MAD-FLR tiene una media distinta desde cada ciudad.\n",
    "\n",
    "El precio promedio por ida y vuelta es de 357€ sin considerar aerolíneas. Con una duración de 214 minutos.\n",
    "\n",
    "Podemos ver que los vuelos FLR-MAD tienen un promedio de duración de 163 minutos, mientras que MAD-FLR ascienden a 265 minutos. Esto es visiblemente claro cuando vemos que la duración máxima desde Florencia llega a 284 mientras que saliendo de Madrid puede llegar a 450 minutos. Todo debido a las escalas."
   ]
  },
  {
   "cell_type": "code",
   "execution_count": 15,
   "metadata": {},
   "outputs": [],
   "source": [
    "df_vuelos_florencia = pd.read_csv('../datos/vuelos_florencia_itinerario.csv')"
   ]
  },
  {
   "cell_type": "code",
   "execution_count": 16,
   "metadata": {},
   "outputs": [
    {
     "name": "stdout",
     "output_type": "stream",
     "text": [
      "<class 'pandas.core.frame.DataFrame'>\n",
      "RangeIndex: 20 entries, 0 to 19\n",
      "Data columns (total 10 columns):\n",
      " #   Column           Non-Null Count  Dtype  \n",
      "---  ------           --------------  -----  \n",
      " 0   Costo            20 non-null     float64\n",
      " 1   ID Salida        20 non-null     object \n",
      " 2   Salida           20 non-null     object \n",
      " 3   ID Llegada       20 non-null     object \n",
      " 4   Llegada          20 non-null     object \n",
      " 5   Tiempo           20 non-null     int64  \n",
      " 6   Paradas          20 non-null     int64  \n",
      " 7   Aerolínea        20 non-null     object \n",
      " 8   Hora de Salida   20 non-null     object \n",
      " 9   Hora de Llegada  20 non-null     object \n",
      "dtypes: float64(1), int64(2), object(7)\n",
      "memory usage: 1.7+ KB\n"
     ]
    }
   ],
   "source": [
    "df_vuelos_florencia.info()"
   ]
  },
  {
   "cell_type": "code",
   "execution_count": 17,
   "metadata": {},
   "outputs": [
    {
     "data": {
      "text/html": [
       "<div>\n",
       "<style scoped>\n",
       "    .dataframe tbody tr th:only-of-type {\n",
       "        vertical-align: middle;\n",
       "    }\n",
       "\n",
       "    .dataframe tbody tr th {\n",
       "        vertical-align: top;\n",
       "    }\n",
       "\n",
       "    .dataframe thead th {\n",
       "        text-align: right;\n",
       "    }\n",
       "</style>\n",
       "<table border=\"1\" class=\"dataframe\">\n",
       "  <thead>\n",
       "    <tr style=\"text-align: right;\">\n",
       "      <th></th>\n",
       "      <th>ID Salida</th>\n",
       "      <th>Salida</th>\n",
       "      <th>ID Llegada</th>\n",
       "      <th>Llegada</th>\n",
       "      <th>Aerolínea</th>\n",
       "      <th>Hora de Salida</th>\n",
       "      <th>Hora de Llegada</th>\n",
       "    </tr>\n",
       "  </thead>\n",
       "  <tbody>\n",
       "    <tr>\n",
       "      <th>count</th>\n",
       "      <td>20</td>\n",
       "      <td>20</td>\n",
       "      <td>20</td>\n",
       "      <td>20</td>\n",
       "      <td>20</td>\n",
       "      <td>20</td>\n",
       "      <td>20</td>\n",
       "    </tr>\n",
       "    <tr>\n",
       "      <th>unique</th>\n",
       "      <td>2</td>\n",
       "      <td>2</td>\n",
       "      <td>2</td>\n",
       "      <td>2</td>\n",
       "      <td>3</td>\n",
       "      <td>10</td>\n",
       "      <td>9</td>\n",
       "    </tr>\n",
       "    <tr>\n",
       "      <th>top</th>\n",
       "      <td>MAD</td>\n",
       "      <td>Madrid</td>\n",
       "      <td>FLR</td>\n",
       "      <td>Florence</td>\n",
       "      <td>Vueling Airlines</td>\n",
       "      <td>2024-10-28T12:35:00</td>\n",
       "      <td>2024-10-28T15:05:00</td>\n",
       "    </tr>\n",
       "    <tr>\n",
       "      <th>freq</th>\n",
       "      <td>10</td>\n",
       "      <td>10</td>\n",
       "      <td>10</td>\n",
       "      <td>10</td>\n",
       "      <td>14</td>\n",
       "      <td>7</td>\n",
       "      <td>7</td>\n",
       "    </tr>\n",
       "  </tbody>\n",
       "</table>\n",
       "</div>"
      ],
      "text/plain": [
       "       ID Salida  Salida ID Llegada   Llegada         Aerolínea  \\\n",
       "count         20      20         20        20                20   \n",
       "unique         2       2          2         2                 3   \n",
       "top          MAD  Madrid        FLR  Florence  Vueling Airlines   \n",
       "freq          10      10         10        10                14   \n",
       "\n",
       "             Hora de Salida      Hora de Llegada  \n",
       "count                    20                   20  \n",
       "unique                   10                    9  \n",
       "top     2024-10-28T12:35:00  2024-10-28T15:05:00  \n",
       "freq                      7                    7  "
      ]
     },
     "execution_count": 17,
     "metadata": {},
     "output_type": "execute_result"
    }
   ],
   "source": [
    "df_vuelos_florencia.describe(include='O')"
   ]
  },
  {
   "cell_type": "code",
   "execution_count": 18,
   "metadata": {},
   "outputs": [
    {
     "data": {
      "text/plain": [
       "np.int64(10)"
      ]
     },
     "execution_count": 18,
     "metadata": {},
     "output_type": "execute_result"
    }
   ],
   "source": [
    "df_vuelos_florencia['Hora de Salida'].duplicated().sum()"
   ]
  },
  {
   "cell_type": "code",
   "execution_count": 19,
   "metadata": {},
   "outputs": [
    {
     "data": {
      "text/plain": [
       "np.int64(11)"
      ]
     },
     "execution_count": 19,
     "metadata": {},
     "output_type": "execute_result"
    }
   ],
   "source": [
    "df_vuelos_florencia['Hora de Llegada'].duplicated().sum()"
   ]
  },
  {
   "cell_type": "markdown",
   "metadata": {},
   "source": [
    "En este caso, para Florencia tengo varios horarios duplicados pero destaco el tema de jugar con las combinaciones. Aunque el vuelo de ida pueda repetirse, este tiene una combinación con el vuelo de regreso distinto en todos los caso. Pasa lo mismo con los vuelos duplicados de regreso. \n",
    "\n",
    "Se puede observar claramente con los precios, como cada variación en el horario genera un cambio en los precios. A la vez, aquellos paquetes que hacen escalas, lo que significa una mayor duración del vuelo, tienen un costo menor que aquellos que tienen una trayectoria directa."
   ]
  },
  {
   "cell_type": "code",
   "execution_count": 20,
   "metadata": {},
   "outputs": [
    {
     "data": {
      "text/html": [
       "<div>\n",
       "<style scoped>\n",
       "    .dataframe tbody tr th:only-of-type {\n",
       "        vertical-align: middle;\n",
       "    }\n",
       "\n",
       "    .dataframe tbody tr th {\n",
       "        vertical-align: top;\n",
       "    }\n",
       "\n",
       "    .dataframe thead th {\n",
       "        text-align: right;\n",
       "    }\n",
       "</style>\n",
       "<table border=\"1\" class=\"dataframe\">\n",
       "  <thead>\n",
       "    <tr style=\"text-align: right;\">\n",
       "      <th></th>\n",
       "      <th>Costo</th>\n",
       "      <th>ID Salida</th>\n",
       "      <th>Salida</th>\n",
       "      <th>ID Llegada</th>\n",
       "      <th>Llegada</th>\n",
       "      <th>Tiempo</th>\n",
       "      <th>Paradas</th>\n",
       "      <th>Aerolínea</th>\n",
       "      <th>Hora de Salida</th>\n",
       "      <th>Hora de Llegada</th>\n",
       "    </tr>\n",
       "  </thead>\n",
       "  <tbody>\n",
       "    <tr>\n",
       "      <th>0</th>\n",
       "      <td>428.00</td>\n",
       "      <td>MAD</td>\n",
       "      <td>Madrid</td>\n",
       "      <td>FLR</td>\n",
       "      <td>Florence</td>\n",
       "      <td>140</td>\n",
       "      <td>0</td>\n",
       "      <td>Vueling Airlines</td>\n",
       "      <td>2024-10-25T09:55:00</td>\n",
       "      <td>2024-10-25T12:15:00</td>\n",
       "    </tr>\n",
       "    <tr>\n",
       "      <th>1</th>\n",
       "      <td>428.00</td>\n",
       "      <td>FLR</td>\n",
       "      <td>Florence</td>\n",
       "      <td>MAD</td>\n",
       "      <td>Madrid</td>\n",
       "      <td>150</td>\n",
       "      <td>0</td>\n",
       "      <td>Vueling Airlines</td>\n",
       "      <td>2024-10-28T12:35:00</td>\n",
       "      <td>2024-10-28T15:05:00</td>\n",
       "    </tr>\n",
       "    <tr>\n",
       "      <th>2</th>\n",
       "      <td>429.00</td>\n",
       "      <td>MAD</td>\n",
       "      <td>Madrid</td>\n",
       "      <td>FLR</td>\n",
       "      <td>Florence</td>\n",
       "      <td>140</td>\n",
       "      <td>0</td>\n",
       "      <td>Vueling Airlines</td>\n",
       "      <td>2024-10-25T15:35:00</td>\n",
       "      <td>2024-10-25T17:55:00</td>\n",
       "    </tr>\n",
       "    <tr>\n",
       "      <th>3</th>\n",
       "      <td>429.00</td>\n",
       "      <td>FLR</td>\n",
       "      <td>Florence</td>\n",
       "      <td>MAD</td>\n",
       "      <td>Madrid</td>\n",
       "      <td>150</td>\n",
       "      <td>0</td>\n",
       "      <td>Vueling Airlines</td>\n",
       "      <td>2024-10-28T12:35:00</td>\n",
       "      <td>2024-10-28T15:05:00</td>\n",
       "    </tr>\n",
       "    <tr>\n",
       "      <th>4</th>\n",
       "      <td>290.00</td>\n",
       "      <td>MAD</td>\n",
       "      <td>Madrid</td>\n",
       "      <td>FLR</td>\n",
       "      <td>Florence</td>\n",
       "      <td>250</td>\n",
       "      <td>1</td>\n",
       "      <td>Vueling Airlines</td>\n",
       "      <td>2024-10-25T17:20:00</td>\n",
       "      <td>2024-10-25T21:30:00</td>\n",
       "    </tr>\n",
       "    <tr>\n",
       "      <th>5</th>\n",
       "      <td>290.00</td>\n",
       "      <td>FLR</td>\n",
       "      <td>Florence</td>\n",
       "      <td>MAD</td>\n",
       "      <td>Madrid</td>\n",
       "      <td>150</td>\n",
       "      <td>0</td>\n",
       "      <td>Vueling Airlines</td>\n",
       "      <td>2024-10-28T12:35:00</td>\n",
       "      <td>2024-10-28T15:05:00</td>\n",
       "    </tr>\n",
       "    <tr>\n",
       "      <th>6</th>\n",
       "      <td>281.68</td>\n",
       "      <td>MAD</td>\n",
       "      <td>Madrid</td>\n",
       "      <td>FLR</td>\n",
       "      <td>Florence</td>\n",
       "      <td>300</td>\n",
       "      <td>1</td>\n",
       "      <td>ITA Airways</td>\n",
       "      <td>2024-10-25T05:50:00</td>\n",
       "      <td>2024-10-25T10:50:00</td>\n",
       "    </tr>\n",
       "    <tr>\n",
       "      <th>7</th>\n",
       "      <td>281.68</td>\n",
       "      <td>FLR</td>\n",
       "      <td>Florence</td>\n",
       "      <td>MAD</td>\n",
       "      <td>Madrid</td>\n",
       "      <td>284</td>\n",
       "      <td>1</td>\n",
       "      <td>ITA Airways</td>\n",
       "      <td>2024-10-28T19:15:00</td>\n",
       "      <td>2024-10-28T23:59:00</td>\n",
       "    </tr>\n",
       "    <tr>\n",
       "      <th>8</th>\n",
       "      <td>451.98</td>\n",
       "      <td>MAD</td>\n",
       "      <td>Madrid</td>\n",
       "      <td>FLR</td>\n",
       "      <td>Florence</td>\n",
       "      <td>140</td>\n",
       "      <td>0</td>\n",
       "      <td>Vueling Airlines</td>\n",
       "      <td>2024-10-25T09:55:00</td>\n",
       "      <td>2024-10-25T12:15:00</td>\n",
       "    </tr>\n",
       "    <tr>\n",
       "      <th>9</th>\n",
       "      <td>451.98</td>\n",
       "      <td>FLR</td>\n",
       "      <td>Florence</td>\n",
       "      <td>MAD</td>\n",
       "      <td>Madrid</td>\n",
       "      <td>150</td>\n",
       "      <td>0</td>\n",
       "      <td>Vueling Airlines</td>\n",
       "      <td>2024-10-28T06:15:00</td>\n",
       "      <td>2024-10-28T08:45:00</td>\n",
       "    </tr>\n",
       "    <tr>\n",
       "      <th>10</th>\n",
       "      <td>438.00</td>\n",
       "      <td>MAD</td>\n",
       "      <td>Madrid</td>\n",
       "      <td>FLR</td>\n",
       "      <td>Florence</td>\n",
       "      <td>140</td>\n",
       "      <td>0</td>\n",
       "      <td>Vueling Airlines</td>\n",
       "      <td>2024-10-25T15:35:00</td>\n",
       "      <td>2024-10-25T17:55:00</td>\n",
       "    </tr>\n",
       "    <tr>\n",
       "      <th>11</th>\n",
       "      <td>438.00</td>\n",
       "      <td>FLR</td>\n",
       "      <td>Florence</td>\n",
       "      <td>MAD</td>\n",
       "      <td>Madrid</td>\n",
       "      <td>150</td>\n",
       "      <td>0</td>\n",
       "      <td>Vueling Airlines</td>\n",
       "      <td>2024-10-28T06:15:00</td>\n",
       "      <td>2024-10-28T08:45:00</td>\n",
       "    </tr>\n",
       "    <tr>\n",
       "      <th>12</th>\n",
       "      <td>295.00</td>\n",
       "      <td>MAD</td>\n",
       "      <td>Madrid</td>\n",
       "      <td>FLR</td>\n",
       "      <td>Florence</td>\n",
       "      <td>380</td>\n",
       "      <td>1</td>\n",
       "      <td>Air Europa</td>\n",
       "      <td>2024-10-25T15:10:00</td>\n",
       "      <td>2024-10-25T21:30:00</td>\n",
       "    </tr>\n",
       "    <tr>\n",
       "      <th>13</th>\n",
       "      <td>295.00</td>\n",
       "      <td>FLR</td>\n",
       "      <td>Florence</td>\n",
       "      <td>MAD</td>\n",
       "      <td>Madrid</td>\n",
       "      <td>150</td>\n",
       "      <td>0</td>\n",
       "      <td>Vueling Airlines</td>\n",
       "      <td>2024-10-28T12:35:00</td>\n",
       "      <td>2024-10-28T15:05:00</td>\n",
       "    </tr>\n",
       "    <tr>\n",
       "      <th>14</th>\n",
       "      <td>308.00</td>\n",
       "      <td>MAD</td>\n",
       "      <td>Madrid</td>\n",
       "      <td>FLR</td>\n",
       "      <td>Florence</td>\n",
       "      <td>450</td>\n",
       "      <td>1</td>\n",
       "      <td>ITA Airways</td>\n",
       "      <td>2024-10-25T07:05:00</td>\n",
       "      <td>2024-10-25T14:35:00</td>\n",
       "    </tr>\n",
       "    <tr>\n",
       "      <th>15</th>\n",
       "      <td>308.00</td>\n",
       "      <td>FLR</td>\n",
       "      <td>Florence</td>\n",
       "      <td>MAD</td>\n",
       "      <td>Madrid</td>\n",
       "      <td>150</td>\n",
       "      <td>0</td>\n",
       "      <td>Vueling Airlines</td>\n",
       "      <td>2024-10-28T12:35:00</td>\n",
       "      <td>2024-10-28T15:05:00</td>\n",
       "    </tr>\n",
       "    <tr>\n",
       "      <th>16</th>\n",
       "      <td>316.00</td>\n",
       "      <td>MAD</td>\n",
       "      <td>Madrid</td>\n",
       "      <td>FLR</td>\n",
       "      <td>Florence</td>\n",
       "      <td>300</td>\n",
       "      <td>1</td>\n",
       "      <td>ITA Airways</td>\n",
       "      <td>2024-10-25T05:50:00</td>\n",
       "      <td>2024-10-25T10:50:00</td>\n",
       "    </tr>\n",
       "    <tr>\n",
       "      <th>17</th>\n",
       "      <td>316.00</td>\n",
       "      <td>FLR</td>\n",
       "      <td>Florence</td>\n",
       "      <td>MAD</td>\n",
       "      <td>Madrid</td>\n",
       "      <td>150</td>\n",
       "      <td>0</td>\n",
       "      <td>Vueling Airlines</td>\n",
       "      <td>2024-10-28T12:35:00</td>\n",
       "      <td>2024-10-28T15:05:00</td>\n",
       "    </tr>\n",
       "    <tr>\n",
       "      <th>18</th>\n",
       "      <td>340.00</td>\n",
       "      <td>MAD</td>\n",
       "      <td>Madrid</td>\n",
       "      <td>FLR</td>\n",
       "      <td>Florence</td>\n",
       "      <td>415</td>\n",
       "      <td>1</td>\n",
       "      <td>ITA Airways</td>\n",
       "      <td>2024-10-25T11:35:00</td>\n",
       "      <td>2024-10-25T18:30:00</td>\n",
       "    </tr>\n",
       "    <tr>\n",
       "      <th>19</th>\n",
       "      <td>340.00</td>\n",
       "      <td>FLR</td>\n",
       "      <td>Florence</td>\n",
       "      <td>MAD</td>\n",
       "      <td>Madrid</td>\n",
       "      <td>150</td>\n",
       "      <td>0</td>\n",
       "      <td>Vueling Airlines</td>\n",
       "      <td>2024-10-28T12:35:00</td>\n",
       "      <td>2024-10-28T15:05:00</td>\n",
       "    </tr>\n",
       "  </tbody>\n",
       "</table>\n",
       "</div>"
      ],
      "text/plain": [
       "     Costo ID Salida    Salida ID Llegada   Llegada  Tiempo  Paradas  \\\n",
       "0   428.00       MAD    Madrid        FLR  Florence     140        0   \n",
       "1   428.00       FLR  Florence        MAD    Madrid     150        0   \n",
       "2   429.00       MAD    Madrid        FLR  Florence     140        0   \n",
       "3   429.00       FLR  Florence        MAD    Madrid     150        0   \n",
       "4   290.00       MAD    Madrid        FLR  Florence     250        1   \n",
       "5   290.00       FLR  Florence        MAD    Madrid     150        0   \n",
       "6   281.68       MAD    Madrid        FLR  Florence     300        1   \n",
       "7   281.68       FLR  Florence        MAD    Madrid     284        1   \n",
       "8   451.98       MAD    Madrid        FLR  Florence     140        0   \n",
       "9   451.98       FLR  Florence        MAD    Madrid     150        0   \n",
       "10  438.00       MAD    Madrid        FLR  Florence     140        0   \n",
       "11  438.00       FLR  Florence        MAD    Madrid     150        0   \n",
       "12  295.00       MAD    Madrid        FLR  Florence     380        1   \n",
       "13  295.00       FLR  Florence        MAD    Madrid     150        0   \n",
       "14  308.00       MAD    Madrid        FLR  Florence     450        1   \n",
       "15  308.00       FLR  Florence        MAD    Madrid     150        0   \n",
       "16  316.00       MAD    Madrid        FLR  Florence     300        1   \n",
       "17  316.00       FLR  Florence        MAD    Madrid     150        0   \n",
       "18  340.00       MAD    Madrid        FLR  Florence     415        1   \n",
       "19  340.00       FLR  Florence        MAD    Madrid     150        0   \n",
       "\n",
       "           Aerolínea       Hora de Salida      Hora de Llegada  \n",
       "0   Vueling Airlines  2024-10-25T09:55:00  2024-10-25T12:15:00  \n",
       "1   Vueling Airlines  2024-10-28T12:35:00  2024-10-28T15:05:00  \n",
       "2   Vueling Airlines  2024-10-25T15:35:00  2024-10-25T17:55:00  \n",
       "3   Vueling Airlines  2024-10-28T12:35:00  2024-10-28T15:05:00  \n",
       "4   Vueling Airlines  2024-10-25T17:20:00  2024-10-25T21:30:00  \n",
       "5   Vueling Airlines  2024-10-28T12:35:00  2024-10-28T15:05:00  \n",
       "6        ITA Airways  2024-10-25T05:50:00  2024-10-25T10:50:00  \n",
       "7        ITA Airways  2024-10-28T19:15:00  2024-10-28T23:59:00  \n",
       "8   Vueling Airlines  2024-10-25T09:55:00  2024-10-25T12:15:00  \n",
       "9   Vueling Airlines  2024-10-28T06:15:00  2024-10-28T08:45:00  \n",
       "10  Vueling Airlines  2024-10-25T15:35:00  2024-10-25T17:55:00  \n",
       "11  Vueling Airlines  2024-10-28T06:15:00  2024-10-28T08:45:00  \n",
       "12        Air Europa  2024-10-25T15:10:00  2024-10-25T21:30:00  \n",
       "13  Vueling Airlines  2024-10-28T12:35:00  2024-10-28T15:05:00  \n",
       "14       ITA Airways  2024-10-25T07:05:00  2024-10-25T14:35:00  \n",
       "15  Vueling Airlines  2024-10-28T12:35:00  2024-10-28T15:05:00  \n",
       "16       ITA Airways  2024-10-25T05:50:00  2024-10-25T10:50:00  \n",
       "17  Vueling Airlines  2024-10-28T12:35:00  2024-10-28T15:05:00  \n",
       "18       ITA Airways  2024-10-25T11:35:00  2024-10-25T18:30:00  \n",
       "19  Vueling Airlines  2024-10-28T12:35:00  2024-10-28T15:05:00  "
      ]
     },
     "execution_count": 20,
     "metadata": {},
     "output_type": "execute_result"
    }
   ],
   "source": [
    "df_vuelos_florencia"
   ]
  },
  {
   "cell_type": "code",
   "execution_count": 21,
   "metadata": {},
   "outputs": [
    {
     "data": {
      "text/plain": [
       "Aerolínea\n",
       "Air Europa          295.000000\n",
       "ITA Airways         305.472000\n",
       "Vueling Airlines    380.925714\n",
       "Name: Costo, dtype: float64"
      ]
     },
     "execution_count": 21,
     "metadata": {},
     "output_type": "execute_result"
    }
   ],
   "source": [
    "df_vuelos_florencia.groupby('Aerolínea')['Costo'].mean()"
   ]
  },
  {
   "cell_type": "code",
   "execution_count": 73,
   "metadata": {},
   "outputs": [
    {
     "data": {
      "text/html": [
       "<div>\n",
       "<style scoped>\n",
       "    .dataframe tbody tr th:only-of-type {\n",
       "        vertical-align: middle;\n",
       "    }\n",
       "\n",
       "    .dataframe tbody tr th {\n",
       "        vertical-align: top;\n",
       "    }\n",
       "\n",
       "    .dataframe thead th {\n",
       "        text-align: right;\n",
       "    }\n",
       "</style>\n",
       "<table border=\"1\" class=\"dataframe\">\n",
       "  <thead>\n",
       "    <tr style=\"text-align: right;\">\n",
       "      <th></th>\n",
       "      <th>count</th>\n",
       "      <th>mean</th>\n",
       "      <th>std</th>\n",
       "      <th>min</th>\n",
       "      <th>25%</th>\n",
       "      <th>50%</th>\n",
       "      <th>75%</th>\n",
       "      <th>max</th>\n",
       "    </tr>\n",
       "    <tr>\n",
       "      <th>Salida</th>\n",
       "      <th></th>\n",
       "      <th></th>\n",
       "      <th></th>\n",
       "      <th></th>\n",
       "      <th></th>\n",
       "      <th></th>\n",
       "      <th></th>\n",
       "      <th></th>\n",
       "    </tr>\n",
       "  </thead>\n",
       "  <tbody>\n",
       "    <tr>\n",
       "      <th>Florence</th>\n",
       "      <td>10.0</td>\n",
       "      <td>163.4</td>\n",
       "      <td>42.374521</td>\n",
       "      <td>150.0</td>\n",
       "      <td>150.0</td>\n",
       "      <td>150.0</td>\n",
       "      <td>150.0</td>\n",
       "      <td>284.0</td>\n",
       "    </tr>\n",
       "    <tr>\n",
       "      <th>Madrid</th>\n",
       "      <td>10.0</td>\n",
       "      <td>265.5</td>\n",
       "      <td>122.530042</td>\n",
       "      <td>140.0</td>\n",
       "      <td>140.0</td>\n",
       "      <td>275.0</td>\n",
       "      <td>360.0</td>\n",
       "      <td>450.0</td>\n",
       "    </tr>\n",
       "  </tbody>\n",
       "</table>\n",
       "</div>"
      ],
      "text/plain": [
       "          count   mean         std    min    25%    50%    75%    max\n",
       "Salida                                                               \n",
       "Florence   10.0  163.4   42.374521  150.0  150.0  150.0  150.0  284.0\n",
       "Madrid     10.0  265.5  122.530042  140.0  140.0  275.0  360.0  450.0"
      ]
     },
     "execution_count": 73,
     "metadata": {},
     "output_type": "execute_result"
    }
   ],
   "source": [
    "df_vuelos_florencia.groupby('Salida')['Tiempo'].describe()"
   ]
  },
  {
   "cell_type": "code",
   "execution_count": 22,
   "metadata": {},
   "outputs": [
    {
     "data": {
      "text/plain": [
       "(20, 10)"
      ]
     },
     "execution_count": 22,
     "metadata": {},
     "output_type": "execute_result"
    }
   ],
   "source": [
    "df_vuelos_florencia.shape"
   ]
  },
  {
   "cell_type": "code",
   "execution_count": 23,
   "metadata": {},
   "outputs": [
    {
     "data": {
      "text/plain": [
       "Index(['Costo', 'ID Salida', 'Salida', 'ID Llegada', 'Llegada', 'Tiempo',\n",
       "       'Paradas', 'Aerolínea', 'Hora de Salida', 'Hora de Llegada'],\n",
       "      dtype='object')"
      ]
     },
     "execution_count": 23,
     "metadata": {},
     "output_type": "execute_result"
    }
   ],
   "source": [
    "df_vuelos_florencia.columns"
   ]
  },
  {
   "cell_type": "code",
   "execution_count": 24,
   "metadata": {},
   "outputs": [
    {
     "data": {
      "text/plain": [
       "Aerolínea\n",
       "Vueling Airlines    70.0\n",
       "ITA Airways         25.0\n",
       "Air Europa           5.0\n",
       "Name: proportion, dtype: float64"
      ]
     },
     "execution_count": 24,
     "metadata": {},
     "output_type": "execute_result"
    }
   ],
   "source": [
    "df_vuelos_florencia['Aerolínea'].value_counts(normalize=True) * 100"
   ]
  },
  {
   "cell_type": "markdown",
   "metadata": {},
   "source": [
    "Puedo observar que de las tres aerolíneas, Vueling tiene el 70% de los vuelos que se ofrecen en estas fechas de ida y vuelta. Seguidos de ITA Airways."
   ]
  },
  {
   "cell_type": "code",
   "execution_count": 25,
   "metadata": {},
   "outputs": [
    {
     "data": {
      "text/plain": [
       "np.int64(0)"
      ]
     },
     "execution_count": 25,
     "metadata": {},
     "output_type": "execute_result"
    }
   ],
   "source": [
    "df_vuelos_florencia.duplicated().sum()"
   ]
  },
  {
   "cell_type": "code",
   "execution_count": 81,
   "metadata": {},
   "outputs": [
    {
     "data": {
      "text/html": [
       "<div>\n",
       "<style scoped>\n",
       "    .dataframe tbody tr th:only-of-type {\n",
       "        vertical-align: middle;\n",
       "    }\n",
       "\n",
       "    .dataframe tbody tr th {\n",
       "        vertical-align: top;\n",
       "    }\n",
       "\n",
       "    .dataframe thead th {\n",
       "        text-align: right;\n",
       "    }\n",
       "</style>\n",
       "<table border=\"1\" class=\"dataframe\">\n",
       "  <thead>\n",
       "    <tr style=\"text-align: right;\">\n",
       "      <th></th>\n",
       "      <th>count</th>\n",
       "      <th>mean</th>\n",
       "      <th>std</th>\n",
       "      <th>min</th>\n",
       "      <th>25%</th>\n",
       "      <th>50%</th>\n",
       "      <th>75%</th>\n",
       "      <th>max</th>\n",
       "    </tr>\n",
       "    <tr>\n",
       "      <th>Salida</th>\n",
       "      <th></th>\n",
       "      <th></th>\n",
       "      <th></th>\n",
       "      <th></th>\n",
       "      <th></th>\n",
       "      <th></th>\n",
       "      <th></th>\n",
       "      <th></th>\n",
       "    </tr>\n",
       "  </thead>\n",
       "  <tbody>\n",
       "    <tr>\n",
       "      <th>Florence</th>\n",
       "      <td>10.0</td>\n",
       "      <td>163.4</td>\n",
       "      <td>42.374521</td>\n",
       "      <td>150.0</td>\n",
       "      <td>150.0</td>\n",
       "      <td>150.0</td>\n",
       "      <td>150.0</td>\n",
       "      <td>284.0</td>\n",
       "    </tr>\n",
       "    <tr>\n",
       "      <th>Madrid</th>\n",
       "      <td>10.0</td>\n",
       "      <td>265.5</td>\n",
       "      <td>122.530042</td>\n",
       "      <td>140.0</td>\n",
       "      <td>140.0</td>\n",
       "      <td>275.0</td>\n",
       "      <td>360.0</td>\n",
       "      <td>450.0</td>\n",
       "    </tr>\n",
       "  </tbody>\n",
       "</table>\n",
       "</div>"
      ],
      "text/plain": [
       "          count   mean         std    min    25%    50%    75%    max\n",
       "Salida                                                               \n",
       "Florence   10.0  163.4   42.374521  150.0  150.0  150.0  150.0  284.0\n",
       "Madrid     10.0  265.5  122.530042  140.0  140.0  275.0  360.0  450.0"
      ]
     },
     "execution_count": 81,
     "metadata": {},
     "output_type": "execute_result"
    }
   ],
   "source": [
    "df_vuelos_florencia.groupby('Salida')['Tiempo'].describe()"
   ]
  },
  {
   "cell_type": "code",
   "execution_count": 80,
   "metadata": {},
   "outputs": [
    {
     "data": {
      "text/html": [
       "<div>\n",
       "<style scoped>\n",
       "    .dataframe tbody tr th:only-of-type {\n",
       "        vertical-align: middle;\n",
       "    }\n",
       "\n",
       "    .dataframe tbody tr th {\n",
       "        vertical-align: top;\n",
       "    }\n",
       "\n",
       "    .dataframe thead th {\n",
       "        text-align: right;\n",
       "    }\n",
       "</style>\n",
       "<table border=\"1\" class=\"dataframe\">\n",
       "  <thead>\n",
       "    <tr style=\"text-align: right;\">\n",
       "      <th></th>\n",
       "      <th>Costo</th>\n",
       "      <th>Tiempo</th>\n",
       "      <th>Paradas</th>\n",
       "    </tr>\n",
       "  </thead>\n",
       "  <tbody>\n",
       "    <tr>\n",
       "      <th>count</th>\n",
       "      <td>20.00000</td>\n",
       "      <td>20.000000</td>\n",
       "      <td>20.00000</td>\n",
       "    </tr>\n",
       "    <tr>\n",
       "      <th>mean</th>\n",
       "      <td>357.76600</td>\n",
       "      <td>214.450000</td>\n",
       "      <td>0.35000</td>\n",
       "    </tr>\n",
       "    <tr>\n",
       "      <th>std</th>\n",
       "      <td>68.19356</td>\n",
       "      <td>103.467501</td>\n",
       "      <td>0.48936</td>\n",
       "    </tr>\n",
       "    <tr>\n",
       "      <th>min</th>\n",
       "      <td>281.68000</td>\n",
       "      <td>140.000000</td>\n",
       "      <td>0.00000</td>\n",
       "    </tr>\n",
       "    <tr>\n",
       "      <th>25%</th>\n",
       "      <td>295.00000</td>\n",
       "      <td>150.000000</td>\n",
       "      <td>0.00000</td>\n",
       "    </tr>\n",
       "    <tr>\n",
       "      <th>50%</th>\n",
       "      <td>328.00000</td>\n",
       "      <td>150.000000</td>\n",
       "      <td>0.00000</td>\n",
       "    </tr>\n",
       "    <tr>\n",
       "      <th>75%</th>\n",
       "      <td>429.00000</td>\n",
       "      <td>288.000000</td>\n",
       "      <td>1.00000</td>\n",
       "    </tr>\n",
       "    <tr>\n",
       "      <th>max</th>\n",
       "      <td>451.98000</td>\n",
       "      <td>450.000000</td>\n",
       "      <td>1.00000</td>\n",
       "    </tr>\n",
       "  </tbody>\n",
       "</table>\n",
       "</div>"
      ],
      "text/plain": [
       "           Costo      Tiempo   Paradas\n",
       "count   20.00000   20.000000  20.00000\n",
       "mean   357.76600  214.450000   0.35000\n",
       "std     68.19356  103.467501   0.48936\n",
       "min    281.68000  140.000000   0.00000\n",
       "25%    295.00000  150.000000   0.00000\n",
       "50%    328.00000  150.000000   0.00000\n",
       "75%    429.00000  288.000000   1.00000\n",
       "max    451.98000  450.000000   1.00000"
      ]
     },
     "execution_count": 80,
     "metadata": {},
     "output_type": "execute_result"
    }
   ],
   "source": [
    "df_vuelos_florencia.describe()"
   ]
  },
  {
   "cell_type": "markdown",
   "metadata": {},
   "source": [
    "Podemos ver que los vuelos FLR-MAD tienen un promedio de duración de 163 minutos, mientras que MAD-FLR ascienden a 265 minutos. Esto es visiblemente claro cuando vemos que la duración máxima desde Florencia llega a 284 mientras que saliendo de Madrid puede llegar a 450 minutos. Todo debido a las escalas."
   ]
  },
  {
   "cell_type": "markdown",
   "metadata": {},
   "source": [
    "---\n",
    "A partir de aquí, empiezo a ver los datos para los vuelos a Lisboa.\n",
    "\n",
    "*No hay nulos, aunque sí duplicados. Ocurre lo mismo que para la otra ruta, existen vuelos duplicados pero que se mantienen al venderse dentro de un paquete que varía las horas de regreso.\n",
    "\n",
    "En relación a los vuelos, cuento con 3 opciones de aerolíneas: easyJet (50%), Ryanair (30%) e Iberia (20%). Esto significa que easyJet tiene la mitad de los vuelos de esta ruta MAD-LIS/LIS-MAD.\n",
    "\n",
    "El costo promedio de un vuelo a Lisboa se encuentra en 152.42, cabe resaltar que la mediana de esta ruta es incluso menor (149.17€). Esto muestra que esta es una ruta más accesible y cuenta con menos disturbios, ya que no cuenta con escalas en ninguna de las rutas propuestas.\n",
    "El tiempo es bastante uniforme por la razón de que no tiene escalas, el timpo promedio es de 82.75 que se traduce a 1h 23 min.\n",
    "\n",
    "El costo promedio de un vuelo a Lisboa se encuentra en 152.42, cabe resaltar que la mediana de esta ruta es incluso menor (149.17€). Esto muestra que esta es una ruta más accesible y cuenta con menos disturbios, ya que no cuenta con escalas en ninguna de las rutas propuestas.\n",
    "El tiempo es bastante uniforme por la razón de que no tiene escalas, el timpo promedio es de 82.75 que se traduce a 1h 23 min.\n",
    "\n",
    "Con respecto a las aerolíneas, la que cuenta con un promedio más bajo es Ryanair con 145€.\n",
    "\n",
    "Se puede observar que existe un duplicado, que se repite 4 veces. Este es el caso que muestro arriba: vuelo MAD-LIS, con easyJet, en horario de 22:35 a 22:55. Esto sucede porque este mismo vuelo de ida, cuenta con 4 opciones de vuelo de regreso LIS-MAD. Por lo que, a pesar de estar duplicado, tiene sentido que se mantenga. Además, al ser una combinación de vuelos, la vuelta tiene horarios distintos por lo que se refleja también en su precio. "
   ]
  },
  {
   "cell_type": "code",
   "execution_count": 27,
   "metadata": {},
   "outputs": [],
   "source": [
    "df_vuelos_lisboa = pd.read_csv('../datos/vuelos_lisboa_itinerario.csv')"
   ]
  },
  {
   "cell_type": "code",
   "execution_count": 28,
   "metadata": {},
   "outputs": [
    {
     "data": {
      "text/html": [
       "<div>\n",
       "<style scoped>\n",
       "    .dataframe tbody tr th:only-of-type {\n",
       "        vertical-align: middle;\n",
       "    }\n",
       "\n",
       "    .dataframe tbody tr th {\n",
       "        vertical-align: top;\n",
       "    }\n",
       "\n",
       "    .dataframe thead th {\n",
       "        text-align: right;\n",
       "    }\n",
       "</style>\n",
       "<table border=\"1\" class=\"dataframe\">\n",
       "  <thead>\n",
       "    <tr style=\"text-align: right;\">\n",
       "      <th></th>\n",
       "      <th>Costo</th>\n",
       "      <th>ID Salida</th>\n",
       "      <th>Salida</th>\n",
       "      <th>ID Llegada</th>\n",
       "      <th>Llegada</th>\n",
       "      <th>Tiempo</th>\n",
       "      <th>Paradas</th>\n",
       "      <th>Aerolínea</th>\n",
       "      <th>Hora de Salida</th>\n",
       "      <th>Hora de Llegada</th>\n",
       "    </tr>\n",
       "  </thead>\n",
       "  <tbody>\n",
       "    <tr>\n",
       "      <th>0</th>\n",
       "      <td>154.36</td>\n",
       "      <td>MAD</td>\n",
       "      <td>Madrid</td>\n",
       "      <td>LIS</td>\n",
       "      <td>Lisbon</td>\n",
       "      <td>80</td>\n",
       "      <td>0</td>\n",
       "      <td>easyJet</td>\n",
       "      <td>2024-10-25T22:35:00</td>\n",
       "      <td>2024-10-25T22:55:00</td>\n",
       "    </tr>\n",
       "    <tr>\n",
       "      <th>1</th>\n",
       "      <td>154.36</td>\n",
       "      <td>LIS</td>\n",
       "      <td>Lisbon</td>\n",
       "      <td>MAD</td>\n",
       "      <td>Madrid</td>\n",
       "      <td>80</td>\n",
       "      <td>0</td>\n",
       "      <td>easyJet</td>\n",
       "      <td>2024-10-28T15:05:00</td>\n",
       "      <td>2024-10-28T17:25:00</td>\n",
       "    </tr>\n",
       "    <tr>\n",
       "      <th>2</th>\n",
       "      <td>160.41</td>\n",
       "      <td>MAD</td>\n",
       "      <td>Madrid</td>\n",
       "      <td>LIS</td>\n",
       "      <td>Lisbon</td>\n",
       "      <td>85</td>\n",
       "      <td>0</td>\n",
       "      <td>Iberia</td>\n",
       "      <td>2024-10-25T23:00:00</td>\n",
       "      <td>2024-10-25T23:25:00</td>\n",
       "    </tr>\n",
       "    <tr>\n",
       "      <th>3</th>\n",
       "      <td>160.41</td>\n",
       "      <td>LIS</td>\n",
       "      <td>Lisbon</td>\n",
       "      <td>MAD</td>\n",
       "      <td>Madrid</td>\n",
       "      <td>85</td>\n",
       "      <td>0</td>\n",
       "      <td>Iberia</td>\n",
       "      <td>2024-10-28T12:30:00</td>\n",
       "      <td>2024-10-28T14:55:00</td>\n",
       "    </tr>\n",
       "    <tr>\n",
       "      <th>4</th>\n",
       "      <td>130.80</td>\n",
       "      <td>MAD</td>\n",
       "      <td>Madrid</td>\n",
       "      <td>LIS</td>\n",
       "      <td>Lisbon</td>\n",
       "      <td>85</td>\n",
       "      <td>0</td>\n",
       "      <td>Ryanair</td>\n",
       "      <td>2024-10-25T21:35:00</td>\n",
       "      <td>2024-10-25T22:00:00</td>\n",
       "    </tr>\n",
       "    <tr>\n",
       "      <th>5</th>\n",
       "      <td>130.80</td>\n",
       "      <td>LIS</td>\n",
       "      <td>Lisbon</td>\n",
       "      <td>MAD</td>\n",
       "      <td>Madrid</td>\n",
       "      <td>80</td>\n",
       "      <td>0</td>\n",
       "      <td>Ryanair</td>\n",
       "      <td>2024-10-28T22:00:00</td>\n",
       "      <td>2024-10-29T00:20:00</td>\n",
       "    </tr>\n",
       "    <tr>\n",
       "      <th>6</th>\n",
       "      <td>146.36</td>\n",
       "      <td>MAD</td>\n",
       "      <td>Madrid</td>\n",
       "      <td>LIS</td>\n",
       "      <td>Lisbon</td>\n",
       "      <td>80</td>\n",
       "      <td>0</td>\n",
       "      <td>easyJet</td>\n",
       "      <td>2024-10-25T22:35:00</td>\n",
       "      <td>2024-10-25T22:55:00</td>\n",
       "    </tr>\n",
       "    <tr>\n",
       "      <th>7</th>\n",
       "      <td>146.36</td>\n",
       "      <td>LIS</td>\n",
       "      <td>Lisbon</td>\n",
       "      <td>MAD</td>\n",
       "      <td>Madrid</td>\n",
       "      <td>85</td>\n",
       "      <td>0</td>\n",
       "      <td>easyJet</td>\n",
       "      <td>2024-10-28T20:00:00</td>\n",
       "      <td>2024-10-28T22:25:00</td>\n",
       "    </tr>\n",
       "    <tr>\n",
       "      <th>8</th>\n",
       "      <td>146.36</td>\n",
       "      <td>MAD</td>\n",
       "      <td>Madrid</td>\n",
       "      <td>LIS</td>\n",
       "      <td>Lisbon</td>\n",
       "      <td>80</td>\n",
       "      <td>0</td>\n",
       "      <td>easyJet</td>\n",
       "      <td>2024-10-25T22:35:00</td>\n",
       "      <td>2024-10-25T22:55:00</td>\n",
       "    </tr>\n",
       "    <tr>\n",
       "      <th>9</th>\n",
       "      <td>146.36</td>\n",
       "      <td>LIS</td>\n",
       "      <td>Lisbon</td>\n",
       "      <td>MAD</td>\n",
       "      <td>Madrid</td>\n",
       "      <td>85</td>\n",
       "      <td>0</td>\n",
       "      <td>easyJet</td>\n",
       "      <td>2024-10-28T07:15:00</td>\n",
       "      <td>2024-10-28T09:40:00</td>\n",
       "    </tr>\n",
       "    <tr>\n",
       "      <th>10</th>\n",
       "      <td>187.30</td>\n",
       "      <td>MAD</td>\n",
       "      <td>Madrid</td>\n",
       "      <td>LIS</td>\n",
       "      <td>Lisbon</td>\n",
       "      <td>85</td>\n",
       "      <td>0</td>\n",
       "      <td>easyJet</td>\n",
       "      <td>2024-10-25T09:55:00</td>\n",
       "      <td>2024-10-25T10:20:00</td>\n",
       "    </tr>\n",
       "    <tr>\n",
       "      <th>11</th>\n",
       "      <td>187.30</td>\n",
       "      <td>LIS</td>\n",
       "      <td>Lisbon</td>\n",
       "      <td>MAD</td>\n",
       "      <td>Madrid</td>\n",
       "      <td>80</td>\n",
       "      <td>0</td>\n",
       "      <td>Ryanair</td>\n",
       "      <td>2024-10-28T22:00:00</td>\n",
       "      <td>2024-10-29T00:20:00</td>\n",
       "    </tr>\n",
       "    <tr>\n",
       "      <th>12</th>\n",
       "      <td>173.41</td>\n",
       "      <td>MAD</td>\n",
       "      <td>Madrid</td>\n",
       "      <td>LIS</td>\n",
       "      <td>Lisbon</td>\n",
       "      <td>85</td>\n",
       "      <td>0</td>\n",
       "      <td>Iberia</td>\n",
       "      <td>2024-10-25T23:00:00</td>\n",
       "      <td>2024-10-25T23:25:00</td>\n",
       "    </tr>\n",
       "    <tr>\n",
       "      <th>13</th>\n",
       "      <td>173.41</td>\n",
       "      <td>LIS</td>\n",
       "      <td>Lisbon</td>\n",
       "      <td>MAD</td>\n",
       "      <td>Madrid</td>\n",
       "      <td>85</td>\n",
       "      <td>0</td>\n",
       "      <td>Iberia</td>\n",
       "      <td>2024-10-28T18:45:00</td>\n",
       "      <td>2024-10-28T21:10:00</td>\n",
       "    </tr>\n",
       "    <tr>\n",
       "      <th>14</th>\n",
       "      <td>151.98</td>\n",
       "      <td>MAD</td>\n",
       "      <td>Madrid</td>\n",
       "      <td>LIS</td>\n",
       "      <td>Lisbon</td>\n",
       "      <td>85</td>\n",
       "      <td>0</td>\n",
       "      <td>Ryanair</td>\n",
       "      <td>2024-10-25T21:35:00</td>\n",
       "      <td>2024-10-25T22:00:00</td>\n",
       "    </tr>\n",
       "    <tr>\n",
       "      <th>15</th>\n",
       "      <td>151.98</td>\n",
       "      <td>LIS</td>\n",
       "      <td>Lisbon</td>\n",
       "      <td>MAD</td>\n",
       "      <td>Madrid</td>\n",
       "      <td>80</td>\n",
       "      <td>0</td>\n",
       "      <td>easyJet</td>\n",
       "      <td>2024-10-28T15:05:00</td>\n",
       "      <td>2024-10-28T17:25:00</td>\n",
       "    </tr>\n",
       "    <tr>\n",
       "      <th>16</th>\n",
       "      <td>143.98</td>\n",
       "      <td>MAD</td>\n",
       "      <td>Madrid</td>\n",
       "      <td>LIS</td>\n",
       "      <td>Lisbon</td>\n",
       "      <td>85</td>\n",
       "      <td>0</td>\n",
       "      <td>Ryanair</td>\n",
       "      <td>2024-10-25T21:35:00</td>\n",
       "      <td>2024-10-25T22:00:00</td>\n",
       "    </tr>\n",
       "    <tr>\n",
       "      <th>17</th>\n",
       "      <td>143.98</td>\n",
       "      <td>LIS</td>\n",
       "      <td>Lisbon</td>\n",
       "      <td>MAD</td>\n",
       "      <td>Madrid</td>\n",
       "      <td>85</td>\n",
       "      <td>0</td>\n",
       "      <td>easyJet</td>\n",
       "      <td>2024-10-28T20:00:00</td>\n",
       "      <td>2024-10-28T22:25:00</td>\n",
       "    </tr>\n",
       "    <tr>\n",
       "      <th>18</th>\n",
       "      <td>129.30</td>\n",
       "      <td>MAD</td>\n",
       "      <td>Madrid</td>\n",
       "      <td>LIS</td>\n",
       "      <td>Lisbon</td>\n",
       "      <td>80</td>\n",
       "      <td>0</td>\n",
       "      <td>easyJet</td>\n",
       "      <td>2024-10-25T22:35:00</td>\n",
       "      <td>2024-10-25T22:55:00</td>\n",
       "    </tr>\n",
       "    <tr>\n",
       "      <th>19</th>\n",
       "      <td>129.30</td>\n",
       "      <td>LIS</td>\n",
       "      <td>Lisbon</td>\n",
       "      <td>MAD</td>\n",
       "      <td>Madrid</td>\n",
       "      <td>80</td>\n",
       "      <td>0</td>\n",
       "      <td>Ryanair</td>\n",
       "      <td>2024-10-28T22:00:00</td>\n",
       "      <td>2024-10-29T00:20:00</td>\n",
       "    </tr>\n",
       "  </tbody>\n",
       "</table>\n",
       "</div>"
      ],
      "text/plain": [
       "     Costo ID Salida  Salida ID Llegada Llegada  Tiempo  Paradas Aerolínea  \\\n",
       "0   154.36       MAD  Madrid        LIS  Lisbon      80        0   easyJet   \n",
       "1   154.36       LIS  Lisbon        MAD  Madrid      80        0   easyJet   \n",
       "2   160.41       MAD  Madrid        LIS  Lisbon      85        0    Iberia   \n",
       "3   160.41       LIS  Lisbon        MAD  Madrid      85        0    Iberia   \n",
       "4   130.80       MAD  Madrid        LIS  Lisbon      85        0   Ryanair   \n",
       "5   130.80       LIS  Lisbon        MAD  Madrid      80        0   Ryanair   \n",
       "6   146.36       MAD  Madrid        LIS  Lisbon      80        0   easyJet   \n",
       "7   146.36       LIS  Lisbon        MAD  Madrid      85        0   easyJet   \n",
       "8   146.36       MAD  Madrid        LIS  Lisbon      80        0   easyJet   \n",
       "9   146.36       LIS  Lisbon        MAD  Madrid      85        0   easyJet   \n",
       "10  187.30       MAD  Madrid        LIS  Lisbon      85        0   easyJet   \n",
       "11  187.30       LIS  Lisbon        MAD  Madrid      80        0   Ryanair   \n",
       "12  173.41       MAD  Madrid        LIS  Lisbon      85        0    Iberia   \n",
       "13  173.41       LIS  Lisbon        MAD  Madrid      85        0    Iberia   \n",
       "14  151.98       MAD  Madrid        LIS  Lisbon      85        0   Ryanair   \n",
       "15  151.98       LIS  Lisbon        MAD  Madrid      80        0   easyJet   \n",
       "16  143.98       MAD  Madrid        LIS  Lisbon      85        0   Ryanair   \n",
       "17  143.98       LIS  Lisbon        MAD  Madrid      85        0   easyJet   \n",
       "18  129.30       MAD  Madrid        LIS  Lisbon      80        0   easyJet   \n",
       "19  129.30       LIS  Lisbon        MAD  Madrid      80        0   Ryanair   \n",
       "\n",
       "         Hora de Salida      Hora de Llegada  \n",
       "0   2024-10-25T22:35:00  2024-10-25T22:55:00  \n",
       "1   2024-10-28T15:05:00  2024-10-28T17:25:00  \n",
       "2   2024-10-25T23:00:00  2024-10-25T23:25:00  \n",
       "3   2024-10-28T12:30:00  2024-10-28T14:55:00  \n",
       "4   2024-10-25T21:35:00  2024-10-25T22:00:00  \n",
       "5   2024-10-28T22:00:00  2024-10-29T00:20:00  \n",
       "6   2024-10-25T22:35:00  2024-10-25T22:55:00  \n",
       "7   2024-10-28T20:00:00  2024-10-28T22:25:00  \n",
       "8   2024-10-25T22:35:00  2024-10-25T22:55:00  \n",
       "9   2024-10-28T07:15:00  2024-10-28T09:40:00  \n",
       "10  2024-10-25T09:55:00  2024-10-25T10:20:00  \n",
       "11  2024-10-28T22:00:00  2024-10-29T00:20:00  \n",
       "12  2024-10-25T23:00:00  2024-10-25T23:25:00  \n",
       "13  2024-10-28T18:45:00  2024-10-28T21:10:00  \n",
       "14  2024-10-25T21:35:00  2024-10-25T22:00:00  \n",
       "15  2024-10-28T15:05:00  2024-10-28T17:25:00  \n",
       "16  2024-10-25T21:35:00  2024-10-25T22:00:00  \n",
       "17  2024-10-28T20:00:00  2024-10-28T22:25:00  \n",
       "18  2024-10-25T22:35:00  2024-10-25T22:55:00  \n",
       "19  2024-10-28T22:00:00  2024-10-29T00:20:00  "
      ]
     },
     "execution_count": 28,
     "metadata": {},
     "output_type": "execute_result"
    }
   ],
   "source": [
    "df_vuelos_lisboa "
   ]
  },
  {
   "cell_type": "code",
   "execution_count": 29,
   "metadata": {},
   "outputs": [
    {
     "name": "stdout",
     "output_type": "stream",
     "text": [
      "<class 'pandas.core.frame.DataFrame'>\n",
      "RangeIndex: 20 entries, 0 to 19\n",
      "Data columns (total 10 columns):\n",
      " #   Column           Non-Null Count  Dtype  \n",
      "---  ------           --------------  -----  \n",
      " 0   Costo            20 non-null     float64\n",
      " 1   ID Salida        20 non-null     object \n",
      " 2   Salida           20 non-null     object \n",
      " 3   ID Llegada       20 non-null     object \n",
      " 4   Llegada          20 non-null     object \n",
      " 5   Tiempo           20 non-null     int64  \n",
      " 6   Paradas          20 non-null     int64  \n",
      " 7   Aerolínea        20 non-null     object \n",
      " 8   Hora de Salida   20 non-null     object \n",
      " 9   Hora de Llegada  20 non-null     object \n",
      "dtypes: float64(1), int64(2), object(7)\n",
      "memory usage: 1.7+ KB\n"
     ]
    }
   ],
   "source": [
    "df_vuelos_lisboa.info()"
   ]
  },
  {
   "cell_type": "code",
   "execution_count": 30,
   "metadata": {},
   "outputs": [
    {
     "data": {
      "text/plain": [
       "Aerolínea\n",
       "easyJet    50.0\n",
       "Ryanair    30.0\n",
       "Iberia     20.0\n",
       "Name: proportion, dtype: float64"
      ]
     },
     "execution_count": 30,
     "metadata": {},
     "output_type": "execute_result"
    }
   ],
   "source": [
    "df_vuelos_lisboa['Aerolínea'].value_counts(normalize=True) * 100"
   ]
  },
  {
   "cell_type": "markdown",
   "metadata": {},
   "source": [
    "En relación a los vuelos, cuento con 3 opciones de aerolíneas: easyJet (50%), Ryanair (30%) e Iberia (20%). Esto significa que easyJet tiene la mitad de los vuelos de esta ruta MAD-LIS/LIS-MAD."
   ]
  },
  {
   "cell_type": "code",
   "execution_count": 31,
   "metadata": {},
   "outputs": [],
   "source": [
    "df_vuelos_lisboa['Costo'] = df_vuelos_lisboa['Costo'].round(2)"
   ]
  },
  {
   "cell_type": "code",
   "execution_count": 32,
   "metadata": {},
   "outputs": [
    {
     "data": {
      "text/html": [
       "<div>\n",
       "<style scoped>\n",
       "    .dataframe tbody tr th:only-of-type {\n",
       "        vertical-align: middle;\n",
       "    }\n",
       "\n",
       "    .dataframe tbody tr th {\n",
       "        vertical-align: top;\n",
       "    }\n",
       "\n",
       "    .dataframe thead th {\n",
       "        text-align: right;\n",
       "    }\n",
       "</style>\n",
       "<table border=\"1\" class=\"dataframe\">\n",
       "  <thead>\n",
       "    <tr style=\"text-align: right;\">\n",
       "      <th></th>\n",
       "      <th>Costo</th>\n",
       "      <th>Tiempo</th>\n",
       "      <th>Paradas</th>\n",
       "    </tr>\n",
       "  </thead>\n",
       "  <tbody>\n",
       "    <tr>\n",
       "      <th>count</th>\n",
       "      <td>20.00</td>\n",
       "      <td>20.00</td>\n",
       "      <td>20.0</td>\n",
       "    </tr>\n",
       "    <tr>\n",
       "      <th>mean</th>\n",
       "      <td>152.43</td>\n",
       "      <td>82.75</td>\n",
       "      <td>0.0</td>\n",
       "    </tr>\n",
       "    <tr>\n",
       "      <th>std</th>\n",
       "      <td>17.39</td>\n",
       "      <td>2.55</td>\n",
       "      <td>0.0</td>\n",
       "    </tr>\n",
       "    <tr>\n",
       "      <th>min</th>\n",
       "      <td>129.30</td>\n",
       "      <td>80.00</td>\n",
       "      <td>0.0</td>\n",
       "    </tr>\n",
       "    <tr>\n",
       "      <th>25%</th>\n",
       "      <td>143.98</td>\n",
       "      <td>80.00</td>\n",
       "      <td>0.0</td>\n",
       "    </tr>\n",
       "    <tr>\n",
       "      <th>50%</th>\n",
       "      <td>149.17</td>\n",
       "      <td>85.00</td>\n",
       "      <td>0.0</td>\n",
       "    </tr>\n",
       "    <tr>\n",
       "      <th>75%</th>\n",
       "      <td>160.41</td>\n",
       "      <td>85.00</td>\n",
       "      <td>0.0</td>\n",
       "    </tr>\n",
       "    <tr>\n",
       "      <th>max</th>\n",
       "      <td>187.30</td>\n",
       "      <td>85.00</td>\n",
       "      <td>0.0</td>\n",
       "    </tr>\n",
       "  </tbody>\n",
       "</table>\n",
       "</div>"
      ],
      "text/plain": [
       "        Costo  Tiempo  Paradas\n",
       "count   20.00   20.00     20.0\n",
       "mean   152.43   82.75      0.0\n",
       "std     17.39    2.55      0.0\n",
       "min    129.30   80.00      0.0\n",
       "25%    143.98   80.00      0.0\n",
       "50%    149.17   85.00      0.0\n",
       "75%    160.41   85.00      0.0\n",
       "max    187.30   85.00      0.0"
      ]
     },
     "execution_count": 32,
     "metadata": {},
     "output_type": "execute_result"
    }
   ],
   "source": [
    "df_vuelos_lisboa.describe().round(2)"
   ]
  },
  {
   "cell_type": "code",
   "execution_count": 87,
   "metadata": {},
   "outputs": [
    {
     "data": {
      "text/html": [
       "<div>\n",
       "<style scoped>\n",
       "    .dataframe tbody tr th:only-of-type {\n",
       "        vertical-align: middle;\n",
       "    }\n",
       "\n",
       "    .dataframe tbody tr th {\n",
       "        vertical-align: top;\n",
       "    }\n",
       "\n",
       "    .dataframe thead th {\n",
       "        text-align: right;\n",
       "    }\n",
       "</style>\n",
       "<table border=\"1\" class=\"dataframe\">\n",
       "  <thead>\n",
       "    <tr style=\"text-align: right;\">\n",
       "      <th></th>\n",
       "      <th>count</th>\n",
       "      <th>mean</th>\n",
       "      <th>std</th>\n",
       "      <th>min</th>\n",
       "      <th>25%</th>\n",
       "      <th>50%</th>\n",
       "      <th>75%</th>\n",
       "      <th>max</th>\n",
       "    </tr>\n",
       "    <tr>\n",
       "      <th>Aerolínea</th>\n",
       "      <th></th>\n",
       "      <th></th>\n",
       "      <th></th>\n",
       "      <th></th>\n",
       "      <th></th>\n",
       "      <th></th>\n",
       "      <th></th>\n",
       "      <th></th>\n",
       "    </tr>\n",
       "  </thead>\n",
       "  <tbody>\n",
       "    <tr>\n",
       "      <th>Iberia</th>\n",
       "      <td>4.0</td>\n",
       "      <td>166.910000</td>\n",
       "      <td>7.505553</td>\n",
       "      <td>160.41</td>\n",
       "      <td>160.41</td>\n",
       "      <td>166.91</td>\n",
       "      <td>173.410</td>\n",
       "      <td>173.41</td>\n",
       "    </tr>\n",
       "    <tr>\n",
       "      <th>Ryanair</th>\n",
       "      <td>6.0</td>\n",
       "      <td>145.693333</td>\n",
       "      <td>22.297697</td>\n",
       "      <td>129.30</td>\n",
       "      <td>130.80</td>\n",
       "      <td>137.39</td>\n",
       "      <td>149.980</td>\n",
       "      <td>187.30</td>\n",
       "    </tr>\n",
       "    <tr>\n",
       "      <th>easyJet</th>\n",
       "      <td>10.0</td>\n",
       "      <td>150.672000</td>\n",
       "      <td>14.706169</td>\n",
       "      <td>129.30</td>\n",
       "      <td>146.36</td>\n",
       "      <td>146.36</td>\n",
       "      <td>153.765</td>\n",
       "      <td>187.30</td>\n",
       "    </tr>\n",
       "  </tbody>\n",
       "</table>\n",
       "</div>"
      ],
      "text/plain": [
       "           count        mean        std     min     25%     50%      75%  \\\n",
       "Aerolínea                                                                  \n",
       "Iberia       4.0  166.910000   7.505553  160.41  160.41  166.91  173.410   \n",
       "Ryanair      6.0  145.693333  22.297697  129.30  130.80  137.39  149.980   \n",
       "easyJet     10.0  150.672000  14.706169  129.30  146.36  146.36  153.765   \n",
       "\n",
       "              max  \n",
       "Aerolínea          \n",
       "Iberia     173.41  \n",
       "Ryanair    187.30  \n",
       "easyJet    187.30  "
      ]
     },
     "execution_count": 87,
     "metadata": {},
     "output_type": "execute_result"
    }
   ],
   "source": [
    "df_vuelos_lisboa.groupby('Aerolínea')['Costo'].describe()"
   ]
  },
  {
   "cell_type": "markdown",
   "metadata": {},
   "source": [
    "El costo promedio de un vuelo a Lisboa se encuentra en 152.42, cabe resaltar que la mediana de esta ruta es incluso menor (149.17€). Esto muestra que esta es una ruta más accesible y cuenta con menos disturbios, ya que no cuenta con escalas en ninguna de las rutas propuestas.\n",
    "El tiempo es bastante uniforme por la razón de que no tiene escalas, el timpo promedio es de 82.75 que se traduce a 1h 23 min.\n",
    "\n",
    "Con respecto a las aerolíneas, la que cuenta con un promedio más bajo es Ryanair con 145€."
   ]
  },
  {
   "cell_type": "code",
   "execution_count": 33,
   "metadata": {},
   "outputs": [
    {
     "data": {
      "text/html": [
       "<div>\n",
       "<style scoped>\n",
       "    .dataframe tbody tr th:only-of-type {\n",
       "        vertical-align: middle;\n",
       "    }\n",
       "\n",
       "    .dataframe tbody tr th {\n",
       "        vertical-align: top;\n",
       "    }\n",
       "\n",
       "    .dataframe thead th {\n",
       "        text-align: right;\n",
       "    }\n",
       "</style>\n",
       "<table border=\"1\" class=\"dataframe\">\n",
       "  <thead>\n",
       "    <tr style=\"text-align: right;\">\n",
       "      <th></th>\n",
       "      <th>ID Salida</th>\n",
       "      <th>Salida</th>\n",
       "      <th>ID Llegada</th>\n",
       "      <th>Llegada</th>\n",
       "      <th>Aerolínea</th>\n",
       "      <th>Hora de Salida</th>\n",
       "      <th>Hora de Llegada</th>\n",
       "    </tr>\n",
       "  </thead>\n",
       "  <tbody>\n",
       "    <tr>\n",
       "      <th>count</th>\n",
       "      <td>20</td>\n",
       "      <td>20</td>\n",
       "      <td>20</td>\n",
       "      <td>20</td>\n",
       "      <td>20</td>\n",
       "      <td>20</td>\n",
       "      <td>20</td>\n",
       "    </tr>\n",
       "    <tr>\n",
       "      <th>unique</th>\n",
       "      <td>2</td>\n",
       "      <td>2</td>\n",
       "      <td>2</td>\n",
       "      <td>2</td>\n",
       "      <td>3</td>\n",
       "      <td>10</td>\n",
       "      <td>10</td>\n",
       "    </tr>\n",
       "    <tr>\n",
       "      <th>top</th>\n",
       "      <td>MAD</td>\n",
       "      <td>Madrid</td>\n",
       "      <td>LIS</td>\n",
       "      <td>Lisbon</td>\n",
       "      <td>easyJet</td>\n",
       "      <td>2024-10-25T22:35:00</td>\n",
       "      <td>2024-10-25T22:55:00</td>\n",
       "    </tr>\n",
       "    <tr>\n",
       "      <th>freq</th>\n",
       "      <td>10</td>\n",
       "      <td>10</td>\n",
       "      <td>10</td>\n",
       "      <td>10</td>\n",
       "      <td>10</td>\n",
       "      <td>4</td>\n",
       "      <td>4</td>\n",
       "    </tr>\n",
       "  </tbody>\n",
       "</table>\n",
       "</div>"
      ],
      "text/plain": [
       "       ID Salida  Salida ID Llegada Llegada Aerolínea       Hora de Salida  \\\n",
       "count         20      20         20      20        20                   20   \n",
       "unique         2       2          2       2         3                   10   \n",
       "top          MAD  Madrid        LIS  Lisbon   easyJet  2024-10-25T22:35:00   \n",
       "freq          10      10         10      10        10                    4   \n",
       "\n",
       "            Hora de Llegada  \n",
       "count                    20  \n",
       "unique                   10  \n",
       "top     2024-10-25T22:55:00  \n",
       "freq                      4  "
      ]
     },
     "execution_count": 33,
     "metadata": {},
     "output_type": "execute_result"
    }
   ],
   "source": [
    "df_vuelos_lisboa.describe(include='O')"
   ]
  },
  {
   "cell_type": "code",
   "execution_count": 34,
   "metadata": {},
   "outputs": [
    {
     "data": {
      "text/html": [
       "<div>\n",
       "<style scoped>\n",
       "    .dataframe tbody tr th:only-of-type {\n",
       "        vertical-align: middle;\n",
       "    }\n",
       "\n",
       "    .dataframe tbody tr th {\n",
       "        vertical-align: top;\n",
       "    }\n",
       "\n",
       "    .dataframe thead th {\n",
       "        text-align: right;\n",
       "    }\n",
       "</style>\n",
       "<table border=\"1\" class=\"dataframe\">\n",
       "  <thead>\n",
       "    <tr style=\"text-align: right;\">\n",
       "      <th></th>\n",
       "      <th>Costo</th>\n",
       "      <th>ID Salida</th>\n",
       "      <th>Salida</th>\n",
       "      <th>ID Llegada</th>\n",
       "      <th>Llegada</th>\n",
       "      <th>Tiempo</th>\n",
       "      <th>Paradas</th>\n",
       "      <th>Aerolínea</th>\n",
       "      <th>Hora de Salida</th>\n",
       "      <th>Hora de Llegada</th>\n",
       "    </tr>\n",
       "  </thead>\n",
       "  <tbody>\n",
       "    <tr>\n",
       "      <th>8</th>\n",
       "      <td>146.36</td>\n",
       "      <td>MAD</td>\n",
       "      <td>Madrid</td>\n",
       "      <td>LIS</td>\n",
       "      <td>Lisbon</td>\n",
       "      <td>80</td>\n",
       "      <td>0</td>\n",
       "      <td>easyJet</td>\n",
       "      <td>2024-10-25T22:35:00</td>\n",
       "      <td>2024-10-25T22:55:00</td>\n",
       "    </tr>\n",
       "  </tbody>\n",
       "</table>\n",
       "</div>"
      ],
      "text/plain": [
       "    Costo ID Salida  Salida ID Llegada Llegada  Tiempo  Paradas Aerolínea  \\\n",
       "8  146.36       MAD  Madrid        LIS  Lisbon      80        0   easyJet   \n",
       "\n",
       "        Hora de Salida      Hora de Llegada  \n",
       "8  2024-10-25T22:35:00  2024-10-25T22:55:00  "
      ]
     },
     "execution_count": 34,
     "metadata": {},
     "output_type": "execute_result"
    }
   ],
   "source": [
    "df_vuelos_lisboa[df_vuelos_lisboa.duplicated()]"
   ]
  },
  {
   "cell_type": "markdown",
   "metadata": {},
   "source": [
    "Se puede observar que existe un duplicado, que se repite 4 veces. Este es el caso que muestro arriba: vuelo MAD-LIS, con easyJet, en horario de 22:35 a 22:55. Esto sucede porque este mismo vuelo de ida, cuenta con 4 opciones de vuelo de regreso LIS-MAD. Por lo que, a pesar de estar duplicado, tiene sentido que se mantenga. Además, al ser una combinación de vuelos, la vuelta tiene horarios distintos por lo que se refleja también en su precio. "
   ]
  },
  {
   "cell_type": "markdown",
   "metadata": {},
   "source": [
    "--- \n",
    "Excursiones a Florencia:\n",
    "* Pude observar que la media de las actividades se establece en 81.10€, un poco más alta que la mediana (76.18€). Lo que significa que tengo un poco más de concentración en los valores por debajo de la mediana y cuento con datos atípicos altos que elevan la media. Esto se visualiza en los precios, tenemos un par de actividades que son gratuitas pero también cuento con actividades cercanas a los 200€.\n",
    "\n",
    "Las excursiones con mayor cantidad de participación son las que pertenecen a las Excursiones de un día. Las excursiones con un promedio de costo mayor son los museos y monumentos."
   ]
  },
  {
   "cell_type": "code",
   "execution_count": 35,
   "metadata": {},
   "outputs": [],
   "source": [
    "excursiones_florencia = pd.read_csv('../datos/excursiones_florencia.csv')"
   ]
  },
  {
   "cell_type": "code",
   "execution_count": 36,
   "metadata": {},
   "outputs": [
    {
     "name": "stdout",
     "output_type": "stream",
     "text": [
      "<class 'pandas.core.frame.DataFrame'>\n",
      "RangeIndex: 32 entries, 0 to 31\n",
      "Data columns (total 4 columns):\n",
      " #   Column             Non-Null Count  Dtype  \n",
      "---  ------             --------------  -----  \n",
      " 0   Excursiones        32 non-null     object \n",
      " 1   Tipo de excursión  32 non-null     object \n",
      " 2   Descripción        32 non-null     object \n",
      " 3   Precio             32 non-null     float64\n",
      "dtypes: float64(1), object(3)\n",
      "memory usage: 1.1+ KB\n"
     ]
    }
   ],
   "source": [
    "excursiones_florencia.info()"
   ]
  },
  {
   "cell_type": "code",
   "execution_count": 37,
   "metadata": {},
   "outputs": [
    {
     "data": {
      "text/html": [
       "<div>\n",
       "<style scoped>\n",
       "    .dataframe tbody tr th:only-of-type {\n",
       "        vertical-align: middle;\n",
       "    }\n",
       "\n",
       "    .dataframe tbody tr th {\n",
       "        vertical-align: top;\n",
       "    }\n",
       "\n",
       "    .dataframe thead th {\n",
       "        text-align: right;\n",
       "    }\n",
       "</style>\n",
       "<table border=\"1\" class=\"dataframe\">\n",
       "  <thead>\n",
       "    <tr style=\"text-align: right;\">\n",
       "      <th></th>\n",
       "      <th>count</th>\n",
       "      <th>mean</th>\n",
       "      <th>std</th>\n",
       "      <th>min</th>\n",
       "      <th>25%</th>\n",
       "      <th>50%</th>\n",
       "      <th>75%</th>\n",
       "      <th>max</th>\n",
       "    </tr>\n",
       "  </thead>\n",
       "  <tbody>\n",
       "    <tr>\n",
       "      <th>Precio</th>\n",
       "      <td>32.0</td>\n",
       "      <td>81.1</td>\n",
       "      <td>46.91</td>\n",
       "      <td>0.0</td>\n",
       "      <td>53.12</td>\n",
       "      <td>76.18</td>\n",
       "      <td>114.12</td>\n",
       "      <td>181.0</td>\n",
       "    </tr>\n",
       "  </tbody>\n",
       "</table>\n",
       "</div>"
      ],
      "text/plain": [
       "        count  mean    std  min    25%    50%     75%    max\n",
       "Precio   32.0  81.1  46.91  0.0  53.12  76.18  114.12  181.0"
      ]
     },
     "execution_count": 37,
     "metadata": {},
     "output_type": "execute_result"
    }
   ],
   "source": [
    "excursiones_florencia.describe().round(2).T"
   ]
  },
  {
   "cell_type": "markdown",
   "metadata": {},
   "source": [
    "Pude observar que la media de las actividades se establece en 81.10€, un poco más alta que la mediana (76.18€). Lo que significa que tengo un poco más de concentración en los valores por debajo de la mediana y cuento con datos atípicos altos que elevan la media. Esto se visualiza en los precios, tenemos un par de actividades que son gratuitas pero también cuento con actividades cercanas a los 200€."
   ]
  },
  {
   "cell_type": "code",
   "execution_count": 38,
   "metadata": {},
   "outputs": [
    {
     "data": {
      "text/plain": [
       "Tipo de excursión\n",
       "Excursiones de un día         37.500\n",
       "Museos y Monumentos           18.750\n",
       "Experiencias Gastronómicas    12.500\n",
       "Visitas Guiadas                9.375\n",
       "Tours a pie                    6.250\n",
       "Free Tours                     3.125\n",
       "Tours en Bus turístico         3.125\n",
       "Tours en Bicicleta             3.125\n",
       "Espectáculos                   3.125\n",
       "Traslados Aeropuertos          3.125\n",
       "Name: proportion, dtype: float64"
      ]
     },
     "execution_count": 38,
     "metadata": {},
     "output_type": "execute_result"
    }
   ],
   "source": [
    "excursiones_florencia['Tipo de excursión'].value_counts(normalize=True) * 100"
   ]
  },
  {
   "cell_type": "code",
   "execution_count": 91,
   "metadata": {},
   "outputs": [
    {
     "data": {
      "text/plain": [
       "Tipo de excursión\n",
       "Museos y Monumentos           111.733333\n",
       "Experiencias Gastronómicas     96.887500\n",
       "Excursiones de un día          93.195833\n",
       "Visitas Guiadas                69.083333\n",
       "Traslados Aeropuertos          62.000000\n",
       "Tours en Bicicleta             55.000000\n",
       "Tours en Bus turístico         28.750000\n",
       "Espectáculos                   25.000000\n",
       "Tours a pie                    20.500000\n",
       "Free Tours                      0.000000\n",
       "Name: Precio, dtype: float64"
      ]
     },
     "execution_count": 91,
     "metadata": {},
     "output_type": "execute_result"
    }
   ],
   "source": [
    "excursiones_florencia.groupby('Tipo de excursión')['Precio'].mean().sort_values(ascending=False)"
   ]
  },
  {
   "cell_type": "markdown",
   "metadata": {},
   "source": [
    "---\n",
    "* Excursión hacia Lisboa:\n",
    "- No tengo nulos ni duplicados\n",
    "- En este caso, las excursiones de Lisboa tienen una media de costo en 59.13€, ligeramente más baja que la mediana (61.45€). Lo que quiere decir que tengo valores atípicos bajos pero una concentración de valores por encima de los 61€ euros. Esto se traduce a una mayor cantidad de excursiones a menor costo.\n",
    "- Las excursiones de un día toman la mayor cantidad de proporción de las actividades disponibles. A la vez estas tienen un promedio de costo mayor que las demás.\n",
    "- "
   ]
  },
  {
   "cell_type": "code",
   "execution_count": 40,
   "metadata": {},
   "outputs": [],
   "source": [
    "excursiones_lisboa = pd.read_csv('../datos/excursiones_lisboa.csv')"
   ]
  },
  {
   "cell_type": "code",
   "execution_count": 41,
   "metadata": {},
   "outputs": [
    {
     "data": {
      "text/plain": [
       "Index(['Excursiones', 'Tipo de excursión', 'Descripción', 'Precio',\n",
       "       'Duración'],\n",
       "      dtype='object')"
      ]
     },
     "execution_count": 41,
     "metadata": {},
     "output_type": "execute_result"
    }
   ],
   "source": [
    "excursiones_lisboa.columns"
   ]
  },
  {
   "cell_type": "code",
   "execution_count": 42,
   "metadata": {},
   "outputs": [
    {
     "name": "stdout",
     "output_type": "stream",
     "text": [
      "<class 'pandas.core.frame.DataFrame'>\n",
      "RangeIndex: 27 entries, 0 to 26\n",
      "Data columns (total 5 columns):\n",
      " #   Column             Non-Null Count  Dtype  \n",
      "---  ------             --------------  -----  \n",
      " 0   Excursiones        27 non-null     object \n",
      " 1   Tipo de excursión  27 non-null     object \n",
      " 2   Descripción        27 non-null     object \n",
      " 3   Precio             27 non-null     float64\n",
      " 4   Duración           27 non-null     object \n",
      "dtypes: float64(1), object(4)\n",
      "memory usage: 1.2+ KB\n"
     ]
    }
   ],
   "source": [
    "excursiones_lisboa.info()"
   ]
  },
  {
   "cell_type": "code",
   "execution_count": 43,
   "metadata": {},
   "outputs": [
    {
     "data": {
      "text/html": [
       "<div>\n",
       "<style scoped>\n",
       "    .dataframe tbody tr th:only-of-type {\n",
       "        vertical-align: middle;\n",
       "    }\n",
       "\n",
       "    .dataframe tbody tr th {\n",
       "        vertical-align: top;\n",
       "    }\n",
       "\n",
       "    .dataframe thead th {\n",
       "        text-align: right;\n",
       "    }\n",
       "</style>\n",
       "<table border=\"1\" class=\"dataframe\">\n",
       "  <thead>\n",
       "    <tr style=\"text-align: right;\">\n",
       "      <th></th>\n",
       "      <th>count</th>\n",
       "      <th>mean</th>\n",
       "      <th>std</th>\n",
       "      <th>min</th>\n",
       "      <th>25%</th>\n",
       "      <th>50%</th>\n",
       "      <th>75%</th>\n",
       "      <th>max</th>\n",
       "    </tr>\n",
       "  </thead>\n",
       "  <tbody>\n",
       "    <tr>\n",
       "      <th>Precio</th>\n",
       "      <td>27.0</td>\n",
       "      <td>59.13</td>\n",
       "      <td>27.54</td>\n",
       "      <td>20.0</td>\n",
       "      <td>31.85</td>\n",
       "      <td>61.45</td>\n",
       "      <td>83.5</td>\n",
       "      <td>104.6</td>\n",
       "    </tr>\n",
       "  </tbody>\n",
       "</table>\n",
       "</div>"
      ],
      "text/plain": [
       "        count   mean    std   min    25%    50%   75%    max\n",
       "Precio   27.0  59.13  27.54  20.0  31.85  61.45  83.5  104.6"
      ]
     },
     "execution_count": 43,
     "metadata": {},
     "output_type": "execute_result"
    }
   ],
   "source": [
    "excursiones_lisboa.describe().round(2).T"
   ]
  },
  {
   "cell_type": "markdown",
   "metadata": {},
   "source": [
    "En este caso, las excursiones de Lisboa tienen una media de costo en 59.13€, ligeramente más baja que la mediana (61.45€). Lo que quiere decir que tengo valores atípicos bajos pero una concentración de valores por encima de los 61€ euros. Esto se traduce a una mayor cantidad de excursiones a menor costo."
   ]
  },
  {
   "cell_type": "code",
   "execution_count": 44,
   "metadata": {},
   "outputs": [
    {
     "data": {
      "text/plain": [
       "Tipo de excursión\n",
       "Excursiones de un día         29.63\n",
       "Visitas Guiadas               18.52\n",
       "Paseos en barco               11.11\n",
       "Experiencias Gastronómicas     7.41\n",
       "Espectáculos                   7.41\n",
       "Tours en Bus turístico         7.41\n",
       "Pases turísticos               3.70\n",
       "Traslados Aeropuertos          3.70\n",
       "Tours a pie                    3.70\n",
       "Tours en Bicicleta             3.70\n",
       "Alquiler de Vehículos          3.70\n",
       "Name: proportion, dtype: float64"
      ]
     },
     "execution_count": 44,
     "metadata": {},
     "output_type": "execute_result"
    }
   ],
   "source": [
    "excursiones_lisboa['Tipo de excursión'].value_counts(normalize=True).mul(100).round(2)"
   ]
  },
  {
   "cell_type": "code",
   "execution_count": 92,
   "metadata": {},
   "outputs": [
    {
     "data": {
      "text/plain": [
       "Tipo de excursión\n",
       "Excursiones de un día         82.90625\n",
       "Paseos en barco               62.40000\n",
       "Visitas Guiadas               61.34000\n",
       "Espectáculos                  55.00000\n",
       "Experiencias Gastronómicas    54.60000\n",
       "Tours a pie                   52.30000\n",
       "Traslados Aeropuertos         34.00000\n",
       "Tours en Bicicleta            33.70000\n",
       "Tours en Bus turístico        28.87500\n",
       "Alquiler de Vehículos         22.50000\n",
       "Pases turísticos              20.00000\n",
       "Name: Precio, dtype: float64"
      ]
     },
     "execution_count": 92,
     "metadata": {},
     "output_type": "execute_result"
    }
   ],
   "source": [
    "excursiones_lisboa.groupby('Tipo de excursión')['Precio'].mean().sort_values(ascending=False)"
   ]
  },
  {
   "cell_type": "code",
   "execution_count": 46,
   "metadata": {},
   "outputs": [
    {
     "data": {
      "text/html": [
       "<div>\n",
       "<style scoped>\n",
       "    .dataframe tbody tr th:only-of-type {\n",
       "        vertical-align: middle;\n",
       "    }\n",
       "\n",
       "    .dataframe tbody tr th {\n",
       "        vertical-align: top;\n",
       "    }\n",
       "\n",
       "    .dataframe thead th {\n",
       "        text-align: right;\n",
       "    }\n",
       "</style>\n",
       "<table border=\"1\" class=\"dataframe\">\n",
       "  <thead>\n",
       "    <tr style=\"text-align: right;\">\n",
       "      <th></th>\n",
       "      <th>Excursiones</th>\n",
       "      <th>Tipo de excursión</th>\n",
       "      <th>Descripción</th>\n",
       "      <th>Precio</th>\n",
       "      <th>Duración</th>\n",
       "    </tr>\n",
       "  </thead>\n",
       "  <tbody>\n",
       "    <tr>\n",
       "      <th>0</th>\n",
       "      <td>Visita guiada por Lisboa con entradas</td>\n",
       "      <td>Visitas Guiadas</td>\n",
       "      <td>Recorrido guiado por Lisboa con entradas y tra...</td>\n",
       "      <td>39.95</td>\n",
       "      <td>4 horas</td>\n",
       "    </tr>\n",
       "    <tr>\n",
       "      <th>1</th>\n",
       "      <td>Recorrido de un día a  Óbidos y Fátima</td>\n",
       "      <td>Excursiones de un día</td>\n",
       "      <td>Excursión de un día a Fátima y a las ciudades ...</td>\n",
       "      <td>73.20</td>\n",
       "      <td>10 horas</td>\n",
       "    </tr>\n",
       "    <tr>\n",
       "      <th>2</th>\n",
       "      <td>Excursión a Sintra, Cascais + Quinta da Regaleira</td>\n",
       "      <td>Excursiones de un día</td>\n",
       "      <td>Explore Sintra  y descubra Palacios espectacul...</td>\n",
       "      <td>94.15</td>\n",
       "      <td>9 horas</td>\n",
       "    </tr>\n",
       "    <tr>\n",
       "      <th>3</th>\n",
       "      <td>Lisbon City Card</td>\n",
       "      <td>Pases turísticos</td>\n",
       "      <td>Esta tarjeta ofrece pases y entradas de 24, 4...</td>\n",
       "      <td>20.00</td>\n",
       "      <td>De 1 a 3 días</td>\n",
       "    </tr>\n",
       "    <tr>\n",
       "      <th>4</th>\n",
       "      <td>Tour por Sintra, Cabo da Roca, Cascais y Estoril</td>\n",
       "      <td>Excursiones de un día</td>\n",
       "      <td>Excursión a Sintra en Portugal... Más información</td>\n",
       "      <td>61.45</td>\n",
       "      <td>5 horas</td>\n",
       "    </tr>\n",
       "    <tr>\n",
       "      <th>5</th>\n",
       "      <td>Lisboa por la noche con cena y show de fado in...</td>\n",
       "      <td>Espectáculos</td>\n",
       "      <td>Después de cenar una cena tipica portuguesa en...</td>\n",
       "      <td>89.20</td>\n",
       "      <td>3 horas 30 minutos</td>\n",
       "    </tr>\n",
       "    <tr>\n",
       "      <th>6</th>\n",
       "      <td>Tour a pie por los barrios de Alfama, Chiado y...</td>\n",
       "      <td>Visitas Guiadas</td>\n",
       "      <td>Un tour a pie que le permitirá conocer las his...</td>\n",
       "      <td>58.00</td>\n",
       "      <td>3 horas</td>\n",
       "    </tr>\n",
       "    <tr>\n",
       "      <th>7</th>\n",
       "      <td>Recorrido en autobús con paradas libres por Li...</td>\n",
       "      <td>Tours en Bus turístico</td>\n",
       "      <td>Explore Lisboa  a su ritmo en este recorrido t...</td>\n",
       "      <td>27.75</td>\n",
       "      <td>flexible</td>\n",
       "    </tr>\n",
       "    <tr>\n",
       "      <th>8</th>\n",
       "      <td>Tour de medio día a Fatima</td>\n",
       "      <td>Tours a pie</td>\n",
       "      <td>Este tour a Fatima de medio dia le lleva a con...</td>\n",
       "      <td>52.30</td>\n",
       "      <td>5 horas</td>\n",
       "    </tr>\n",
       "    <tr>\n",
       "      <th>9</th>\n",
       "      <td>Excursión por el Sendero Templario  y Tomar</td>\n",
       "      <td>Excursiones de un día</td>\n",
       "      <td>Esta excursión le lleva por  los lugares en lo...</td>\n",
       "      <td>85.00</td>\n",
       "      <td>9 horas</td>\n",
       "    </tr>\n",
       "    <tr>\n",
       "      <th>10</th>\n",
       "      <td>Recorrido guiado por Sintra, Cascais y el Pala...</td>\n",
       "      <td>Excursiones de un día</td>\n",
       "      <td>Visite Sintra y su Palacio da Pena de cuento d...</td>\n",
       "      <td>80.90</td>\n",
       "      <td>9 horas</td>\n",
       "    </tr>\n",
       "    <tr>\n",
       "      <th>11</th>\n",
       "      <td>Traslados privados desde el Aeropuerto a Lisboa</td>\n",
       "      <td>Traslados Aeropuertos</td>\n",
       "      <td>Traslados desde el Aeropuerto al centro o vice...</td>\n",
       "      <td>34.00</td>\n",
       "      <td>15 minutos</td>\n",
       "    </tr>\n",
       "    <tr>\n",
       "      <th>12</th>\n",
       "      <td>Espectáculo de fado en Lisboa: ‘Fado in Chiado’</td>\n",
       "      <td>Espectáculos</td>\n",
       "      <td>Fado en Chiado es un espectáculo de fado en di...</td>\n",
       "      <td>20.80</td>\n",
       "      <td>60 minutos</td>\n",
       "    </tr>\n",
       "    <tr>\n",
       "      <th>13</th>\n",
       "      <td>Excursión de un día a Évora</td>\n",
       "      <td>Excursiones de un día</td>\n",
       "      <td>Excursión guiada en minibús a una de las princ...</td>\n",
       "      <td>78.95</td>\n",
       "      <td>9 horas</td>\n",
       "    </tr>\n",
       "    <tr>\n",
       "      <th>14</th>\n",
       "      <td>Paseo turístico en barco con paradas libres po...</td>\n",
       "      <td>Paseos en barco</td>\n",
       "      <td>Paseo turístico en barco con paradas libres po...</td>\n",
       "      <td>27.75</td>\n",
       "      <td>flexible</td>\n",
       "    </tr>\n",
       "    <tr>\n",
       "      <th>15</th>\n",
       "      <td>Paseo en barco por Lisboa con avistamiento de ...</td>\n",
       "      <td>Paseos en barco</td>\n",
       "      <td>Embarque en Lisboa en un RIB (Barco semirrígid...</td>\n",
       "      <td>64.45</td>\n",
       "      <td>3 horas</td>\n",
       "    </tr>\n",
       "    <tr>\n",
       "      <th>16</th>\n",
       "      <td>Tour en Tuk Tuk por Lisboa</td>\n",
       "      <td>Visitas Guiadas</td>\n",
       "      <td>Disfrute de lo mejor de dos grandes colinas de...</td>\n",
       "      <td>76.95</td>\n",
       "      <td>Flexible</td>\n",
       "    </tr>\n",
       "    <tr>\n",
       "      <th>17</th>\n",
       "      <td>Tour guiado por Belém en segway</td>\n",
       "      <td>Visitas Guiadas</td>\n",
       "      <td>Únase a nosotros en un paseo impresionante en ...</td>\n",
       "      <td>88.20</td>\n",
       "      <td>2 horas 30 minutos</td>\n",
       "    </tr>\n",
       "    <tr>\n",
       "      <th>18</th>\n",
       "      <td>Hard Rock Cafe Lisboa</td>\n",
       "      <td>Experiencias Gastronómicas</td>\n",
       "      <td>Hard Rock Cafe  es el mejor descubrimiento de ...</td>\n",
       "      <td>27.20</td>\n",
       "      <td>2 horas</td>\n",
       "    </tr>\n",
       "    <tr>\n",
       "      <th>19</th>\n",
       "      <td>Excursión en bicicleta eléctrica a las colinas...</td>\n",
       "      <td>Tours en Bicicleta</td>\n",
       "      <td>Dice la leyenda que Lisboa fue construida sobr...</td>\n",
       "      <td>33.70</td>\n",
       "      <td>2 horas 30 minutos</td>\n",
       "    </tr>\n",
       "    <tr>\n",
       "      <th>20</th>\n",
       "      <td>Tour por Lisboa en Segway</td>\n",
       "      <td>Visitas Guiadas</td>\n",
       "      <td>Los segways son vehículos futuristas de auto-e...</td>\n",
       "      <td>43.60</td>\n",
       "      <td>1 hora 30 minutos</td>\n",
       "    </tr>\n",
       "    <tr>\n",
       "      <th>21</th>\n",
       "      <td>Arrabida  y Sesimbra Tour enológico para grupo...</td>\n",
       "      <td>Excursiones de un día</td>\n",
       "      <td>Disfrute de una escapada de un día para grupos...</td>\n",
       "      <td>85.00</td>\n",
       "      <td>8 horas</td>\n",
       "    </tr>\n",
       "    <tr>\n",
       "      <th>22</th>\n",
       "      <td>Tour privado de vinos y tapas por Lisboa</td>\n",
       "      <td>Experiencias Gastronómicas</td>\n",
       "      <td>En este tour privado de 2 horas, hemos combina...</td>\n",
       "      <td>82.00</td>\n",
       "      <td>2 horas</td>\n",
       "    </tr>\n",
       "    <tr>\n",
       "      <th>23</th>\n",
       "      <td>Excursión de GoCar guiado por GPS por Lisboa</td>\n",
       "      <td>Alquiler de Vehículos</td>\n",
       "      <td>El GoCar, es muy  fácil y divertido de conduci...</td>\n",
       "      <td>22.50</td>\n",
       "      <td>De 1 a 7 horas</td>\n",
       "    </tr>\n",
       "    <tr>\n",
       "      <th>24</th>\n",
       "      <td>Visita turística de 1’5 horas en el Bús anfibi...</td>\n",
       "      <td>Tours en Bus turístico</td>\n",
       "      <td>A bordo de nuestro vehículo anfibio, podra adm...</td>\n",
       "      <td>30.00</td>\n",
       "      <td>1 hora 30 minutos</td>\n",
       "    </tr>\n",
       "    <tr>\n",
       "      <th>25</th>\n",
       "      <td>Arrábida Dolphins y Jeep Safari</td>\n",
       "      <td>Paseos en barco</td>\n",
       "      <td>Impresionante safari en jeep por las montañas ...</td>\n",
       "      <td>95.00</td>\n",
       "      <td>8 horas</td>\n",
       "    </tr>\n",
       "    <tr>\n",
       "      <th>26</th>\n",
       "      <td>Tres ciudades en un día: Oporto, Nazaré y Óbid...</td>\n",
       "      <td>Excursiones de un día</td>\n",
       "      <td>Tres ciudades en un día: Oporto, Nazaré y Óbid...</td>\n",
       "      <td>104.60</td>\n",
       "      <td>12 horas</td>\n",
       "    </tr>\n",
       "  </tbody>\n",
       "</table>\n",
       "</div>"
      ],
      "text/plain": [
       "                                          Excursiones  \\\n",
       "0               Visita guiada por Lisboa con entradas   \n",
       "1              Recorrido de un día a  Óbidos y Fátima   \n",
       "2   Excursión a Sintra, Cascais + Quinta da Regaleira   \n",
       "3                                    Lisbon City Card   \n",
       "4    Tour por Sintra, Cabo da Roca, Cascais y Estoril   \n",
       "5   Lisboa por la noche con cena y show de fado in...   \n",
       "6   Tour a pie por los barrios de Alfama, Chiado y...   \n",
       "7   Recorrido en autobús con paradas libres por Li...   \n",
       "8                          Tour de medio día a Fatima   \n",
       "9         Excursión por el Sendero Templario  y Tomar   \n",
       "10  Recorrido guiado por Sintra, Cascais y el Pala...   \n",
       "11    Traslados privados desde el Aeropuerto a Lisboa   \n",
       "12    Espectáculo de fado en Lisboa: ‘Fado in Chiado’   \n",
       "13                        Excursión de un día a Évora   \n",
       "14  Paseo turístico en barco con paradas libres po...   \n",
       "15  Paseo en barco por Lisboa con avistamiento de ...   \n",
       "16                         Tour en Tuk Tuk por Lisboa   \n",
       "17                    Tour guiado por Belém en segway   \n",
       "18                              Hard Rock Cafe Lisboa   \n",
       "19  Excursión en bicicleta eléctrica a las colinas...   \n",
       "20                          Tour por Lisboa en Segway   \n",
       "21  Arrabida  y Sesimbra Tour enológico para grupo...   \n",
       "22           Tour privado de vinos y tapas por Lisboa   \n",
       "23       Excursión de GoCar guiado por GPS por Lisboa   \n",
       "24  Visita turística de 1’5 horas en el Bús anfibi...   \n",
       "25                    Arrábida Dolphins y Jeep Safari   \n",
       "26  Tres ciudades en un día: Oporto, Nazaré y Óbid...   \n",
       "\n",
       "             Tipo de excursión  \\\n",
       "0              Visitas Guiadas   \n",
       "1        Excursiones de un día   \n",
       "2        Excursiones de un día   \n",
       "3             Pases turísticos   \n",
       "4        Excursiones de un día   \n",
       "5                 Espectáculos   \n",
       "6              Visitas Guiadas   \n",
       "7       Tours en Bus turístico   \n",
       "8                  Tours a pie   \n",
       "9        Excursiones de un día   \n",
       "10       Excursiones de un día   \n",
       "11       Traslados Aeropuertos   \n",
       "12                Espectáculos   \n",
       "13       Excursiones de un día   \n",
       "14             Paseos en barco   \n",
       "15             Paseos en barco   \n",
       "16             Visitas Guiadas   \n",
       "17             Visitas Guiadas   \n",
       "18  Experiencias Gastronómicas   \n",
       "19          Tours en Bicicleta   \n",
       "20             Visitas Guiadas   \n",
       "21       Excursiones de un día   \n",
       "22  Experiencias Gastronómicas   \n",
       "23       Alquiler de Vehículos   \n",
       "24      Tours en Bus turístico   \n",
       "25             Paseos en barco   \n",
       "26       Excursiones de un día   \n",
       "\n",
       "                                          Descripción  Precio  \\\n",
       "0   Recorrido guiado por Lisboa con entradas y tra...   39.95   \n",
       "1   Excursión de un día a Fátima y a las ciudades ...   73.20   \n",
       "2   Explore Sintra  y descubra Palacios espectacul...   94.15   \n",
       "3    Esta tarjeta ofrece pases y entradas de 24, 4...   20.00   \n",
       "4   Excursión a Sintra en Portugal... Más información   61.45   \n",
       "5   Después de cenar una cena tipica portuguesa en...   89.20   \n",
       "6   Un tour a pie que le permitirá conocer las his...   58.00   \n",
       "7   Explore Lisboa  a su ritmo en este recorrido t...   27.75   \n",
       "8   Este tour a Fatima de medio dia le lleva a con...   52.30   \n",
       "9   Esta excursión le lleva por  los lugares en lo...   85.00   \n",
       "10  Visite Sintra y su Palacio da Pena de cuento d...   80.90   \n",
       "11  Traslados desde el Aeropuerto al centro o vice...   34.00   \n",
       "12  Fado en Chiado es un espectáculo de fado en di...   20.80   \n",
       "13  Excursión guiada en minibús a una de las princ...   78.95   \n",
       "14  Paseo turístico en barco con paradas libres po...   27.75   \n",
       "15  Embarque en Lisboa en un RIB (Barco semirrígid...   64.45   \n",
       "16  Disfrute de lo mejor de dos grandes colinas de...   76.95   \n",
       "17  Únase a nosotros en un paseo impresionante en ...   88.20   \n",
       "18  Hard Rock Cafe  es el mejor descubrimiento de ...   27.20   \n",
       "19  Dice la leyenda que Lisboa fue construida sobr...   33.70   \n",
       "20  Los segways son vehículos futuristas de auto-e...   43.60   \n",
       "21  Disfrute de una escapada de un día para grupos...   85.00   \n",
       "22  En este tour privado de 2 horas, hemos combina...   82.00   \n",
       "23  El GoCar, es muy  fácil y divertido de conduci...   22.50   \n",
       "24  A bordo de nuestro vehículo anfibio, podra adm...   30.00   \n",
       "25  Impresionante safari en jeep por las montañas ...   95.00   \n",
       "26  Tres ciudades en un día: Oporto, Nazaré y Óbid...  104.60   \n",
       "\n",
       "              Duración  \n",
       "0              4 horas  \n",
       "1             10 horas  \n",
       "2              9 horas  \n",
       "3        De 1 a 3 días  \n",
       "4              5 horas  \n",
       "5   3 horas 30 minutos  \n",
       "6              3 horas  \n",
       "7             flexible  \n",
       "8              5 horas  \n",
       "9              9 horas  \n",
       "10             9 horas  \n",
       "11          15 minutos  \n",
       "12          60 minutos  \n",
       "13             9 horas  \n",
       "14            flexible  \n",
       "15             3 horas  \n",
       "16            Flexible  \n",
       "17  2 horas 30 minutos  \n",
       "18             2 horas  \n",
       "19  2 horas 30 minutos  \n",
       "20   1 hora 30 minutos  \n",
       "21             8 horas  \n",
       "22             2 horas  \n",
       "23      De 1 a 7 horas  \n",
       "24   1 hora 30 minutos  \n",
       "25             8 horas  \n",
       "26            12 horas  "
      ]
     },
     "execution_count": 46,
     "metadata": {},
     "output_type": "execute_result"
    }
   ],
   "source": [
    "excursiones_lisboa"
   ]
  },
  {
   "cell_type": "markdown",
   "metadata": {},
   "source": [
    "--- \n",
    "*Visualización"
   ]
  },
  {
   "cell_type": "markdown",
   "metadata": {},
   "source": [
    "Vuelos para Florencia y Lisboa"
   ]
  },
  {
   "cell_type": "code",
   "execution_count": 47,
   "metadata": {},
   "outputs": [],
   "source": [
    "cantidad_vuelos = df_vuelos_florencia['Aerolínea'].value_counts()\n",
    "aerolineas = df_vuelos_florencia['Aerolínea'].unique()\n",
    "colores1 = [\"c\", \"cadetblue\", \"mediumseagreen\"]\n",
    "colores2 = [\"darkorange\", \"g\", 'teal']\n"
   ]
  },
  {
   "cell_type": "code",
   "execution_count": 48,
   "metadata": {},
   "outputs": [
    {
     "data": {
      "text/plain": [
       "Text(0.5, 1.0, 'Proporción de aerolíneas ruta MAD-FLR')"
      ]
     },
     "execution_count": 48,
     "metadata": {},
     "output_type": "execute_result"
    },
    {
     "data": {
      "image/png": "[encoded data removed]",
      "text/plain": [
       "<Figure size 640x480 with 1 Axes>"
      ]
     },
     "metadata": {},
     "output_type": "display_data"
    }
   ],
   "source": [
    "plt.pie(cantidad_vuelos, labels=aerolineas, data=df_vuelos_florencia, autopct='%1.1f%%', colors=colores1)\n",
    "plt.title('Proporción de aerolíneas ruta MAD-FLR')"
   ]
  },
  {
   "cell_type": "markdown",
   "metadata": {},
   "source": [
    "En esta visualización se puede observa la distribución de los vuelos en la RUTA MAD-FLR. Alto dominio de Vueling Airlines."
   ]
  },
  {
   "cell_type": "code",
   "execution_count": 49,
   "metadata": {},
   "outputs": [],
   "source": [
    "cantidad_vuelos_lis = df_vuelos_lisboa['Aerolínea'].value_counts()\n",
    "aerolineas_lis = df_vuelos_lisboa['Aerolínea'].unique()"
   ]
  },
  {
   "cell_type": "code",
   "execution_count": 50,
   "metadata": {},
   "outputs": [
    {
     "data": {
      "text/plain": [
       "Text(0.5, 1.0, 'Proporción de vuelos MAD-LIS')"
      ]
     },
     "execution_count": 50,
     "metadata": {},
     "output_type": "execute_result"
    },
    {
     "data": {
      "image/png": "[encoded data removed]",
      "text/plain": [
       "<Figure size 640x480 with 1 Axes>"
      ]
     },
     "metadata": {},
     "output_type": "display_data"
    }
   ],
   "source": [
    "plt.pie(cantidad_vuelos_lis, labels=aerolineas_lis, data=df_vuelos_lisboa, autopct='%1.1f%%', colors=colores2)\n",
    "plt.title('Proporción de vuelos MAD-LIS')"
   ]
  },
  {
   "cell_type": "markdown",
   "metadata": {},
   "source": [
    "Aquí se puede visualizar la distribución de las aerolíneas para la ruta MAD-LIS."
   ]
  },
  {
   "cell_type": "code",
   "execution_count": 51,
   "metadata": {},
   "outputs": [
    {
     "name": "stderr",
     "output_type": "stream",
     "text": [
      "C:\\Users\\DELL\\AppData\\Local\\Temp\\ipykernel_7936\\3879771835.py:1: FutureWarning: \n",
      "\n",
      "Passing `palette` without assigning `hue` is deprecated and will be removed in v0.14.0. Assign the `x` variable to `hue` and set `legend=False` for the same effect.\n",
      "\n",
      "  sns.barplot(x = \"Aerolínea\",\n"
     ]
    },
    {
     "data": {
      "text/plain": [
       "Text(0.5, 1.0, 'Costo promedio por aerolínea MAD-FLR')"
      ]
     },
     "execution_count": 51,
     "metadata": {},
     "output_type": "execute_result"
    },
    {
     "data": {
      "image/png": "[encoded data removed]",
      "text/plain": [
       "<Figure size 640x480 with 1 Axes>"
      ]
     },
     "metadata": {},
     "output_type": "display_data"
    }
   ],
   "source": [
    "sns.barplot(x = \"Aerolínea\", \n",
    "              y = 'Costo',\n",
    "              data = df_vuelos_florencia, \n",
    "              palette=colores1)\n",
    "plt.title('Costo promedio por aerolínea MAD-FLR')"
   ]
  },
  {
   "cell_type": "markdown",
   "metadata": {},
   "source": [
    "Tengo la media de las dos principales aerolíneas, pero Air Europa no cuenta como media porque solo aparece una vez dentro de un paquete. Esto nos destaca donde se encuentra la media de precio por cada aerolínea."
   ]
  },
  {
   "cell_type": "code",
   "execution_count": 52,
   "metadata": {},
   "outputs": [
    {
     "name": "stderr",
     "output_type": "stream",
     "text": [
      "C:\\Users\\DELL\\AppData\\Local\\Temp\\ipykernel_7936\\157670056.py:1: FutureWarning: \n",
      "\n",
      "Passing `palette` without assigning `hue` is deprecated and will be removed in v0.14.0. Assign the `x` variable to `hue` and set `legend=False` for the same effect.\n",
      "\n",
      "  sns.barplot(x = \"Aerolínea\",\n"
     ]
    },
    {
     "data": {
      "text/plain": [
       "Text(0.5, 1.0, 'Costo promedio por aerolínea MAD-LIS')"
      ]
     },
     "execution_count": 52,
     "metadata": {},
     "output_type": "execute_result"
    },
    {
     "data": {
      "image/png": "[encoded data removed]",
      "text/plain": [
       "<Figure size 640x480 with 1 Axes>"
      ]
     },
     "metadata": {},
     "output_type": "display_data"
    }
   ],
   "source": [
    "sns.barplot(x = \"Aerolínea\", \n",
    "              y = 'Costo',\n",
    "              data = df_vuelos_lisboa, \n",
    "              palette=colores2)\n",
    "plt.title('Costo promedio por aerolínea MAD-LIS')"
   ]
  },
  {
   "cell_type": "markdown",
   "metadata": {},
   "source": [
    "Hace referencia a la tabla ya presentada anteriormente."
   ]
  },
  {
   "cell_type": "code",
   "execution_count": 53,
   "metadata": {},
   "outputs": [
    {
     "data": {
      "text/plain": [
       "Text(0.5, 1.0, 'Número de paradas por aerolínea MAD-FLR')"
      ]
     },
     "execution_count": 53,
     "metadata": {},
     "output_type": "execute_result"
    },
    {
     "data": {
      "image/png": "[encoded data removed]",
      "text/plain": [
       "<Figure size 640x480 with 1 Axes>"
      ]
     },
     "metadata": {},
     "output_type": "display_data"
    }
   ],
   "source": [
    "sns.countplot(x = \"Aerolínea\", \n",
    "              data = df_vuelos_florencia, \n",
    "              palette=[\"#33B5FF\", \"#FFBB33\"], \n",
    "              hue = \"Paradas\")\n",
    "plt.title('Número de paradas por aerolínea MAD-FLR')"
   ]
  },
  {
   "cell_type": "markdown",
   "metadata": {},
   "source": [
    "Este gráfico demuestra que para Florencia puedo tomar en cuenta las paradas y el tiempo de vuelo como se ve afectado. Solo lo hago para Florencia porque el Lisboa, todos los vuelos encontrados son directos"
   ]
  },
  {
   "cell_type": "markdown",
   "metadata": {},
   "source": [
    "*Hospedajes"
   ]
  },
  {
   "cell_type": "markdown",
   "metadata": {},
   "source": [
    "Debajo mostraré la relación que existe entre los precios de hospedaje de ambas ciudades y su calificación (en base 10)."
   ]
  },
  {
   "cell_type": "code",
   "execution_count": 54,
   "metadata": {},
   "outputs": [
    {
     "data": {
      "text/plain": [
       "<Axes: xlabel='Calificación', ylabel='Precio'>"
      ]
     },
     "execution_count": 54,
     "metadata": {},
     "output_type": "execute_result"
    },
    {
     "data": {
      "image/png": "[encoded data removed]",
      "text/plain": [
       "<Figure size 640x480 with 1 Axes>"
      ]
     },
     "metadata": {},
     "output_type": "display_data"
    }
   ],
   "source": [
    "sns.scatterplot(x = \"Calificación\", # variable que queremos en el eje x\n",
    "                y = \"Precio\", # variable que queremos en el eje y\n",
    "                data = df_florencia_lisboa, # conjunto de datos de donde vienen los datos\n",
    "                hue = \"Ciudad\", # de que queremos que dependa el color de los puntos\n",
    "                palette= \"cubehelix\", # color de los puntos\n",
    "                s = 20) # tamaño de los puntos"
   ]
  },
  {
   "cell_type": "markdown",
   "metadata": {},
   "source": [
    "Gráfico de dispersión donde se muestra la relación entre el Rating de cada hospedaje en relación al precio del mismo. A medida que el rating aumenta, se ve un ligero aumento en el precio."
   ]
  },
  {
   "cell_type": "markdown",
   "metadata": {},
   "source": [
    "Al perder las llamadas de la API, no pude agrandar la muestra."
   ]
  },
  {
   "cell_type": "code",
   "execution_count": 55,
   "metadata": {},
   "outputs": [
    {
     "name": "stderr",
     "output_type": "stream",
     "text": [
      "C:\\Users\\DELL\\AppData\\Local\\Temp\\ipykernel_7936\\862146273.py:1: FutureWarning: \n",
      "\n",
      "Passing `palette` without assigning `hue` is deprecated and will be removed in v0.14.0. Assign the `x` variable to `hue` and set `legend=False` for the same effect.\n",
      "\n",
      "  sns.boxplot(x = \"Ciudad\",\n"
     ]
    },
    {
     "data": {
      "text/plain": [
       "Text(0.5, 1.0, 'Boxplot por ciudades')"
      ]
     },
     "execution_count": 55,
     "metadata": {},
     "output_type": "execute_result"
    },
    {
     "data": {
      "image/png": "[encoded data removed]",
      "text/plain": [
       "<Figure size 640x480 with 1 Axes>"
      ]
     },
     "metadata": {},
     "output_type": "display_data"
    }
   ],
   "source": [
    "sns.boxplot(x = \"Ciudad\",\n",
    "            y = \"Precio\",\n",
    "            data = df_florencia_lisboa, \n",
    "            palette = 'viridis');\n",
    "plt.title('Boxplot por ciudades')"
   ]
  },
  {
   "cell_type": "markdown",
   "metadata": {},
   "source": [
    "Boxplot: podemos ver desde el percentil 25% hasta el 75% de ambas ciudades y sus alojamientos. Se puede ver una continuación de lo visto en las tablas, existe una concentración de precios para Florencia pero cuenta con datos atípicos muy por encima de su mediana lo que hace que su media suba por encima de su mediana. Mientras que en el caso de Lisboa, su media es apenas superior a su mediana donde se encuentra una mayor concentración."
   ]
  },
  {
   "cell_type": "code",
   "execution_count": 56,
   "metadata": {},
   "outputs": [
    {
     "name": "stderr",
     "output_type": "stream",
     "text": [
      "C:\\Users\\DELL\\AppData\\Local\\Temp\\ipykernel_7936\\3362341638.py:1: FutureWarning: \n",
      "\n",
      "Passing `palette` without assigning `hue` is deprecated and will be removed in v0.14.0. Assign the `x` variable to `hue` and set `legend=False` for the same effect.\n",
      "\n",
      "  sns.barplot(x = \"Ciudad\",\n"
     ]
    },
    {
     "data": {
      "text/plain": [
       "Text(0.5, 1.0, 'Costo promedio por hospedaje 25-28 de octubre')"
      ]
     },
     "execution_count": 56,
     "metadata": {},
     "output_type": "execute_result"
    },
    {
     "data": {
      "image/png": "[encoded data removed]",
      "text/plain": [
       "<Figure size 640x480 with 1 Axes>"
      ]
     },
     "metadata": {},
     "output_type": "display_data"
    }
   ],
   "source": [
    "sns.barplot(x = \"Ciudad\", \n",
    "              y = 'Precio',\n",
    "              data = df_florencia_lisboa, \n",
    "              palette='viridis')\n",
    "plt.title('Costo promedio por hospedaje 25-28 de octubre')"
   ]
  },
  {
   "cell_type": "markdown",
   "metadata": {},
   "source": [
    "Anotaciones"
   ]
  },
  {
   "cell_type": "markdown",
   "metadata": {},
   "source": [
    "* Excursiones"
   ]
  },
  {
   "cell_type": "code",
   "execution_count": 58,
   "metadata": {},
   "outputs": [
    {
     "name": "stderr",
     "output_type": "stream",
     "text": [
      "C:\\Users\\DELL\\AppData\\Local\\Temp\\ipykernel_7936\\2626008194.py:1: UserWarning: \n",
      "The palette list has fewer values (2) than needed (10) and will cycle, which may produce an uninterpretable plot.\n",
      "  sns.countplot(x = \"Tipo de excursión\",\n"
     ]
    },
    {
     "data": {
      "text/plain": [
       "([0, 1, 2, 3, 4, 5, 6, 7, 8, 9],\n",
       " [Text(0, 0, 'Excursiones de un día'),\n",
       "  Text(1, 0, 'Museos y Monumentos'),\n",
       "  Text(2, 0, 'Tours a pie'),\n",
       "  Text(3, 0, 'Free Tours'),\n",
       "  Text(4, 0, 'Tours en Bus turístico'),\n",
       "  Text(5, 0, 'Experiencias Gastronómicas'),\n",
       "  Text(6, 0, 'Visitas Guiadas'),\n",
       "  Text(7, 0, 'Tours en Bicicleta'),\n",
       "  Text(8, 0, 'Espectáculos'),\n",
       "  Text(9, 0, 'Traslados Aeropuertos')])"
      ]
     },
     "execution_count": 58,
     "metadata": {},
     "output_type": "execute_result"
    },
    {
     "data": {
      "image/png": "[encoded data removed]",
      "text/plain": [
       "<Figure size 640x480 with 1 Axes>"
      ]
     },
     "metadata": {},
     "output_type": "display_data"
    }
   ],
   "source": [
    "sns.countplot(x = \"Tipo de excursión\", \n",
    "              data = excursiones_florencia, \n",
    "              palette=[\"#FFDAC1\", \"#59A14F\"], \n",
    "              hue = \"Tipo de excursión\")\n",
    "plt.title('Excursiones en Florencia')\n",
    "plt.ylabel('Cantidad')\n",
    "plt.xlabel('')\n",
    "plt.xticks(rotation=60)"
   ]
  },
  {
   "cell_type": "code",
   "execution_count": 59,
   "metadata": {},
   "outputs": [
    {
     "name": "stderr",
     "output_type": "stream",
     "text": [
      "C:\\Users\\DELL\\AppData\\Local\\Temp\\ipykernel_7936\\4263993969.py:1: UserWarning: \n",
      "The palette list has fewer values (2) than needed (11) and will cycle, which may produce an uninterpretable plot.\n",
      "  sns.countplot(x = \"Tipo de excursión\",\n"
     ]
    },
    {
     "data": {
      "text/plain": [
       "([0, 1, 2, 3, 4, 5, 6, 7, 8, 9, 10],\n",
       " [Text(0, 0, 'Visitas Guiadas'),\n",
       "  Text(1, 0, 'Excursiones de un día'),\n",
       "  Text(2, 0, 'Pases turísticos'),\n",
       "  Text(3, 0, 'Espectáculos'),\n",
       "  Text(4, 0, 'Tours en Bus turístico'),\n",
       "  Text(5, 0, 'Tours a pie'),\n",
       "  Text(6, 0, 'Traslados Aeropuertos'),\n",
       "  Text(7, 0, 'Paseos en barco'),\n",
       "  Text(8, 0, 'Experiencias Gastronómicas'),\n",
       "  Text(9, 0, 'Tours en Bicicleta'),\n",
       "  Text(10, 0, 'Alquiler de Vehículos')])"
      ]
     },
     "execution_count": 59,
     "metadata": {},
     "output_type": "execute_result"
    },
    {
     "data": {
      "image/png": "[encoded data removed]",
      "text/plain": [
       "<Figure size 640x480 with 1 Axes>"
      ]
     },
     "metadata": {},
     "output_type": "display_data"
    }
   ],
   "source": [
    "sns.countplot(x = \"Tipo de excursión\", \n",
    "              data = excursiones_lisboa, \n",
    "              palette=[\"#FF6F61\", \"#92A8D1\"], \n",
    "              hue = \"Tipo de excursión\")\n",
    "plt.title('Excursiones en Lisboa')\n",
    "plt.ylabel('Cantidad')\n",
    "plt.xlabel('')\n",
    "plt.xticks(rotation=60)"
   ]
  },
  {
   "cell_type": "code",
   "execution_count": 60,
   "metadata": {},
   "outputs": [
    {
     "name": "stderr",
     "output_type": "stream",
     "text": [
      "C:\\Users\\DELL\\AppData\\Local\\Temp\\ipykernel_7936\\3026289306.py:1: FutureWarning: \n",
      "\n",
      "Passing `palette` without assigning `hue` is deprecated and will be removed in v0.14.0. Assign the `x` variable to `hue` and set `legend=False` for the same effect.\n",
      "\n",
      "  sns.barplot(x = \"Tipo de excursión\",\n",
      "C:\\Users\\DELL\\AppData\\Local\\Temp\\ipykernel_7936\\3026289306.py:1: UserWarning: \n",
      "The palette list has fewer values (5) than needed (10) and will cycle, which may produce an uninterpretable plot.\n",
      "  sns.barplot(x = \"Tipo de excursión\",\n"
     ]
    },
    {
     "data": {
      "text/plain": [
       "([0, 1, 2, 3, 4, 5, 6, 7, 8, 9],\n",
       " [Text(0, 0, 'Excursiones de un día'),\n",
       "  Text(1, 0, 'Museos y Monumentos'),\n",
       "  Text(2, 0, 'Tours a pie'),\n",
       "  Text(3, 0, 'Free Tours'),\n",
       "  Text(4, 0, 'Tours en Bus turístico'),\n",
       "  Text(5, 0, 'Experiencias Gastronómicas'),\n",
       "  Text(6, 0, 'Visitas Guiadas'),\n",
       "  Text(7, 0, 'Tours en Bicicleta'),\n",
       "  Text(8, 0, 'Espectáculos'),\n",
       "  Text(9, 0, 'Traslados Aeropuertos')])"
      ]
     },
     "execution_count": 60,
     "metadata": {},
     "output_type": "execute_result"
    },
    {
     "data": {
      "image/png": "[encoded data removed]",
      "text/plain": [
       "<Figure size 640x480 with 1 Axes>"
      ]
     },
     "metadata": {},
     "output_type": "display_data"
    }
   ],
   "source": [
    "sns.barplot(x = \"Tipo de excursión\", \n",
    "              y = 'Precio',\n",
    "              data = excursiones_florencia, \n",
    "              palette=['#004d00', '#006600', '#008000', '#339933', '#66b266'])\n",
    "plt.title('Precio medio por tipo de actividad FLR')\n",
    "plt.xticks(rotation=60)"
   ]
  },
  {
   "cell_type": "markdown",
   "metadata": {},
   "source": [
    "Se puede observar que su índice de certeza esta en un rango muy abierto ya que cuenta con una muestra pequeña donde los valores del precio entre ellos dista mucho. Mientras que aquellos donde el indice de confianza se ve más reducido es porque tienen mas actividades y los precios son mas regulares entre ellos."
   ]
  },
  {
   "cell_type": "markdown",
   "metadata": {},
   "source": [
    "Con 95% de certeza, la media está en esos intervalos"
   ]
  },
  {
   "cell_type": "code",
   "execution_count": 61,
   "metadata": {},
   "outputs": [
    {
     "name": "stderr",
     "output_type": "stream",
     "text": [
      "C:\\Users\\DELL\\AppData\\Local\\Temp\\ipykernel_7936\\2269571236.py:1: FutureWarning: \n",
      "\n",
      "Passing `palette` without assigning `hue` is deprecated and will be removed in v0.14.0. Assign the `x` variable to `hue` and set `legend=False` for the same effect.\n",
      "\n",
      "  sns.barplot(x = \"Tipo de excursión\",\n",
      "C:\\Users\\DELL\\AppData\\Local\\Temp\\ipykernel_7936\\2269571236.py:1: UserWarning: \n",
      "The palette list has fewer values (5) than needed (11) and will cycle, which may produce an uninterpretable plot.\n",
      "  sns.barplot(x = \"Tipo de excursión\",\n"
     ]
    },
    {
     "data": {
      "text/plain": [
       "([0, 1, 2, 3, 4, 5, 6, 7, 8, 9, 10],\n",
       " [Text(0, 0, 'Visitas Guiadas'),\n",
       "  Text(1, 0, 'Excursiones de un día'),\n",
       "  Text(2, 0, 'Pases turísticos'),\n",
       "  Text(3, 0, 'Espectáculos'),\n",
       "  Text(4, 0, 'Tours en Bus turístico'),\n",
       "  Text(5, 0, 'Tours a pie'),\n",
       "  Text(6, 0, 'Traslados Aeropuertos'),\n",
       "  Text(7, 0, 'Paseos en barco'),\n",
       "  Text(8, 0, 'Experiencias Gastronómicas'),\n",
       "  Text(9, 0, 'Tours en Bicicleta'),\n",
       "  Text(10, 0, 'Alquiler de Vehículos')])"
      ]
     },
     "execution_count": 61,
     "metadata": {},
     "output_type": "execute_result"
    },
    {
     "data": {
      "image/png": "[encoded data removed]",
      "text/plain": [
       "<Figure size 640x480 with 1 Axes>"
      ]
     },
     "metadata": {},
     "output_type": "display_data"
    }
   ],
   "source": [
    "sns.barplot(x = \"Tipo de excursión\", \n",
    "              y = 'Precio',\n",
    "              data = excursiones_lisboa, \n",
    "              palette=['#FFB3BA', '#FFDFBA', '#FFFFBA', '#BAFFC9', '#BAE1FF'])\n",
    "plt.title('Precio medio por tipo de actividad LIS')\n",
    "plt.xticks(rotation=60)"
   ]
  },
  {
   "cell_type": "markdown",
   "metadata": {},
   "source": [
    "Se puede observar que su índice de certeza esta en un rango muy abierto ya que cuenta con una muestra pequeña donde los valores del precio entre ellos dista mucho. Mientras que aquellos donde el indice de confianza se ve más reducido es porque tienen mas actividades y los precios son mas regulares entre ellos."
   ]
  },
  {
   "cell_type": "code",
   "execution_count": 62,
   "metadata": {},
   "outputs": [
    {
     "data": {
      "text/html": [
       "<div>\n",
       "<style scoped>\n",
       "    .dataframe tbody tr th:only-of-type {\n",
       "        vertical-align: middle;\n",
       "    }\n",
       "\n",
       "    .dataframe tbody tr th {\n",
       "        vertical-align: top;\n",
       "    }\n",
       "\n",
       "    .dataframe thead th {\n",
       "        text-align: right;\n",
       "    }\n",
       "</style>\n",
       "<table border=\"1\" class=\"dataframe\">\n",
       "  <thead>\n",
       "    <tr style=\"text-align: right;\">\n",
       "      <th></th>\n",
       "      <th>Precio</th>\n",
       "    </tr>\n",
       "  </thead>\n",
       "  <tbody>\n",
       "    <tr>\n",
       "      <th>count</th>\n",
       "      <td>3.000000</td>\n",
       "    </tr>\n",
       "    <tr>\n",
       "      <th>mean</th>\n",
       "      <td>62.400000</td>\n",
       "    </tr>\n",
       "    <tr>\n",
       "      <th>std</th>\n",
       "      <td>33.671835</td>\n",
       "    </tr>\n",
       "    <tr>\n",
       "      <th>min</th>\n",
       "      <td>27.750000</td>\n",
       "    </tr>\n",
       "    <tr>\n",
       "      <th>25%</th>\n",
       "      <td>46.100000</td>\n",
       "    </tr>\n",
       "    <tr>\n",
       "      <th>50%</th>\n",
       "      <td>64.450000</td>\n",
       "    </tr>\n",
       "    <tr>\n",
       "      <th>75%</th>\n",
       "      <td>79.725000</td>\n",
       "    </tr>\n",
       "    <tr>\n",
       "      <th>max</th>\n",
       "      <td>95.000000</td>\n",
       "    </tr>\n",
       "  </tbody>\n",
       "</table>\n",
       "</div>"
      ],
      "text/plain": [
       "          Precio\n",
       "count   3.000000\n",
       "mean   62.400000\n",
       "std    33.671835\n",
       "min    27.750000\n",
       "25%    46.100000\n",
       "50%    64.450000\n",
       "75%    79.725000\n",
       "max    95.000000"
      ]
     },
     "execution_count": 62,
     "metadata": {},
     "output_type": "execute_result"
    }
   ],
   "source": [
    "excursiones_lisboa[excursiones_lisboa['Tipo de excursión']=='Paseos en barco'].describe()"
   ]
  },
  {
   "cell_type": "code",
   "execution_count": 63,
   "metadata": {},
   "outputs": [
    {
     "data": {
      "text/plain": [
       "Index(['Costo', 'ID Salida', 'Salida', 'ID Llegada', 'Llegada', 'Tiempo',\n",
       "       'Paradas', 'Aerolínea', 'Hora de Salida', 'Hora de Llegada'],\n",
       "      dtype='object')"
      ]
     },
     "execution_count": 63,
     "metadata": {},
     "output_type": "execute_result"
    }
   ],
   "source": [
    "df_vuelos_florencia.columns"
   ]
  },
  {
   "cell_type": "code",
   "execution_count": 64,
   "metadata": {},
   "outputs": [
    {
     "data": {
      "text/html": [
       "<div>\n",
       "<style scoped>\n",
       "    .dataframe tbody tr th:only-of-type {\n",
       "        vertical-align: middle;\n",
       "    }\n",
       "\n",
       "    .dataframe tbody tr th {\n",
       "        vertical-align: top;\n",
       "    }\n",
       "\n",
       "    .dataframe thead th {\n",
       "        text-align: right;\n",
       "    }\n",
       "</style>\n",
       "<table border=\"1\" class=\"dataframe\">\n",
       "  <thead>\n",
       "    <tr style=\"text-align: right;\">\n",
       "      <th></th>\n",
       "      <th>Costo</th>\n",
       "      <th>ID Salida</th>\n",
       "      <th>Salida</th>\n",
       "      <th>ID Llegada</th>\n",
       "      <th>Llegada</th>\n",
       "      <th>Tiempo</th>\n",
       "      <th>Paradas</th>\n",
       "      <th>Aerolínea</th>\n",
       "      <th>Hora de Salida</th>\n",
       "      <th>Hora de Llegada</th>\n",
       "    </tr>\n",
       "  </thead>\n",
       "  <tbody>\n",
       "    <tr>\n",
       "      <th>0</th>\n",
       "      <td>428.00</td>\n",
       "      <td>MAD</td>\n",
       "      <td>Madrid</td>\n",
       "      <td>FLR</td>\n",
       "      <td>Florence</td>\n",
       "      <td>140</td>\n",
       "      <td>0</td>\n",
       "      <td>Vueling Airlines</td>\n",
       "      <td>2024-10-25T09:55:00</td>\n",
       "      <td>2024-10-25T12:15:00</td>\n",
       "    </tr>\n",
       "    <tr>\n",
       "      <th>1</th>\n",
       "      <td>428.00</td>\n",
       "      <td>FLR</td>\n",
       "      <td>Florence</td>\n",
       "      <td>MAD</td>\n",
       "      <td>Madrid</td>\n",
       "      <td>150</td>\n",
       "      <td>0</td>\n",
       "      <td>Vueling Airlines</td>\n",
       "      <td>2024-10-28T12:35:00</td>\n",
       "      <td>2024-10-28T15:05:00</td>\n",
       "    </tr>\n",
       "    <tr>\n",
       "      <th>2</th>\n",
       "      <td>429.00</td>\n",
       "      <td>MAD</td>\n",
       "      <td>Madrid</td>\n",
       "      <td>FLR</td>\n",
       "      <td>Florence</td>\n",
       "      <td>140</td>\n",
       "      <td>0</td>\n",
       "      <td>Vueling Airlines</td>\n",
       "      <td>2024-10-25T15:35:00</td>\n",
       "      <td>2024-10-25T17:55:00</td>\n",
       "    </tr>\n",
       "    <tr>\n",
       "      <th>3</th>\n",
       "      <td>429.00</td>\n",
       "      <td>FLR</td>\n",
       "      <td>Florence</td>\n",
       "      <td>MAD</td>\n",
       "      <td>Madrid</td>\n",
       "      <td>150</td>\n",
       "      <td>0</td>\n",
       "      <td>Vueling Airlines</td>\n",
       "      <td>2024-10-28T12:35:00</td>\n",
       "      <td>2024-10-28T15:05:00</td>\n",
       "    </tr>\n",
       "    <tr>\n",
       "      <th>4</th>\n",
       "      <td>290.00</td>\n",
       "      <td>MAD</td>\n",
       "      <td>Madrid</td>\n",
       "      <td>FLR</td>\n",
       "      <td>Florence</td>\n",
       "      <td>250</td>\n",
       "      <td>1</td>\n",
       "      <td>Vueling Airlines</td>\n",
       "      <td>2024-10-25T17:20:00</td>\n",
       "      <td>2024-10-25T21:30:00</td>\n",
       "    </tr>\n",
       "    <tr>\n",
       "      <th>5</th>\n",
       "      <td>290.00</td>\n",
       "      <td>FLR</td>\n",
       "      <td>Florence</td>\n",
       "      <td>MAD</td>\n",
       "      <td>Madrid</td>\n",
       "      <td>150</td>\n",
       "      <td>0</td>\n",
       "      <td>Vueling Airlines</td>\n",
       "      <td>2024-10-28T12:35:00</td>\n",
       "      <td>2024-10-28T15:05:00</td>\n",
       "    </tr>\n",
       "    <tr>\n",
       "      <th>6</th>\n",
       "      <td>281.68</td>\n",
       "      <td>MAD</td>\n",
       "      <td>Madrid</td>\n",
       "      <td>FLR</td>\n",
       "      <td>Florence</td>\n",
       "      <td>300</td>\n",
       "      <td>1</td>\n",
       "      <td>ITA Airways</td>\n",
       "      <td>2024-10-25T05:50:00</td>\n",
       "      <td>2024-10-25T10:50:00</td>\n",
       "    </tr>\n",
       "    <tr>\n",
       "      <th>7</th>\n",
       "      <td>281.68</td>\n",
       "      <td>FLR</td>\n",
       "      <td>Florence</td>\n",
       "      <td>MAD</td>\n",
       "      <td>Madrid</td>\n",
       "      <td>284</td>\n",
       "      <td>1</td>\n",
       "      <td>ITA Airways</td>\n",
       "      <td>2024-10-28T19:15:00</td>\n",
       "      <td>2024-10-28T23:59:00</td>\n",
       "    </tr>\n",
       "    <tr>\n",
       "      <th>8</th>\n",
       "      <td>451.98</td>\n",
       "      <td>MAD</td>\n",
       "      <td>Madrid</td>\n",
       "      <td>FLR</td>\n",
       "      <td>Florence</td>\n",
       "      <td>140</td>\n",
       "      <td>0</td>\n",
       "      <td>Vueling Airlines</td>\n",
       "      <td>2024-10-25T09:55:00</td>\n",
       "      <td>2024-10-25T12:15:00</td>\n",
       "    </tr>\n",
       "    <tr>\n",
       "      <th>9</th>\n",
       "      <td>451.98</td>\n",
       "      <td>FLR</td>\n",
       "      <td>Florence</td>\n",
       "      <td>MAD</td>\n",
       "      <td>Madrid</td>\n",
       "      <td>150</td>\n",
       "      <td>0</td>\n",
       "      <td>Vueling Airlines</td>\n",
       "      <td>2024-10-28T06:15:00</td>\n",
       "      <td>2024-10-28T08:45:00</td>\n",
       "    </tr>\n",
       "    <tr>\n",
       "      <th>10</th>\n",
       "      <td>438.00</td>\n",
       "      <td>MAD</td>\n",
       "      <td>Madrid</td>\n",
       "      <td>FLR</td>\n",
       "      <td>Florence</td>\n",
       "      <td>140</td>\n",
       "      <td>0</td>\n",
       "      <td>Vueling Airlines</td>\n",
       "      <td>2024-10-25T15:35:00</td>\n",
       "      <td>2024-10-25T17:55:00</td>\n",
       "    </tr>\n",
       "    <tr>\n",
       "      <th>11</th>\n",
       "      <td>438.00</td>\n",
       "      <td>FLR</td>\n",
       "      <td>Florence</td>\n",
       "      <td>MAD</td>\n",
       "      <td>Madrid</td>\n",
       "      <td>150</td>\n",
       "      <td>0</td>\n",
       "      <td>Vueling Airlines</td>\n",
       "      <td>2024-10-28T06:15:00</td>\n",
       "      <td>2024-10-28T08:45:00</td>\n",
       "    </tr>\n",
       "    <tr>\n",
       "      <th>12</th>\n",
       "      <td>295.00</td>\n",
       "      <td>MAD</td>\n",
       "      <td>Madrid</td>\n",
       "      <td>FLR</td>\n",
       "      <td>Florence</td>\n",
       "      <td>380</td>\n",
       "      <td>1</td>\n",
       "      <td>Air Europa</td>\n",
       "      <td>2024-10-25T15:10:00</td>\n",
       "      <td>2024-10-25T21:30:00</td>\n",
       "    </tr>\n",
       "    <tr>\n",
       "      <th>13</th>\n",
       "      <td>295.00</td>\n",
       "      <td>FLR</td>\n",
       "      <td>Florence</td>\n",
       "      <td>MAD</td>\n",
       "      <td>Madrid</td>\n",
       "      <td>150</td>\n",
       "      <td>0</td>\n",
       "      <td>Vueling Airlines</td>\n",
       "      <td>2024-10-28T12:35:00</td>\n",
       "      <td>2024-10-28T15:05:00</td>\n",
       "    </tr>\n",
       "    <tr>\n",
       "      <th>14</th>\n",
       "      <td>308.00</td>\n",
       "      <td>MAD</td>\n",
       "      <td>Madrid</td>\n",
       "      <td>FLR</td>\n",
       "      <td>Florence</td>\n",
       "      <td>450</td>\n",
       "      <td>1</td>\n",
       "      <td>ITA Airways</td>\n",
       "      <td>2024-10-25T07:05:00</td>\n",
       "      <td>2024-10-25T14:35:00</td>\n",
       "    </tr>\n",
       "    <tr>\n",
       "      <th>15</th>\n",
       "      <td>308.00</td>\n",
       "      <td>FLR</td>\n",
       "      <td>Florence</td>\n",
       "      <td>MAD</td>\n",
       "      <td>Madrid</td>\n",
       "      <td>150</td>\n",
       "      <td>0</td>\n",
       "      <td>Vueling Airlines</td>\n",
       "      <td>2024-10-28T12:35:00</td>\n",
       "      <td>2024-10-28T15:05:00</td>\n",
       "    </tr>\n",
       "    <tr>\n",
       "      <th>16</th>\n",
       "      <td>316.00</td>\n",
       "      <td>MAD</td>\n",
       "      <td>Madrid</td>\n",
       "      <td>FLR</td>\n",
       "      <td>Florence</td>\n",
       "      <td>300</td>\n",
       "      <td>1</td>\n",
       "      <td>ITA Airways</td>\n",
       "      <td>2024-10-25T05:50:00</td>\n",
       "      <td>2024-10-25T10:50:00</td>\n",
       "    </tr>\n",
       "    <tr>\n",
       "      <th>17</th>\n",
       "      <td>316.00</td>\n",
       "      <td>FLR</td>\n",
       "      <td>Florence</td>\n",
       "      <td>MAD</td>\n",
       "      <td>Madrid</td>\n",
       "      <td>150</td>\n",
       "      <td>0</td>\n",
       "      <td>Vueling Airlines</td>\n",
       "      <td>2024-10-28T12:35:00</td>\n",
       "      <td>2024-10-28T15:05:00</td>\n",
       "    </tr>\n",
       "    <tr>\n",
       "      <th>18</th>\n",
       "      <td>340.00</td>\n",
       "      <td>MAD</td>\n",
       "      <td>Madrid</td>\n",
       "      <td>FLR</td>\n",
       "      <td>Florence</td>\n",
       "      <td>415</td>\n",
       "      <td>1</td>\n",
       "      <td>ITA Airways</td>\n",
       "      <td>2024-10-25T11:35:00</td>\n",
       "      <td>2024-10-25T18:30:00</td>\n",
       "    </tr>\n",
       "    <tr>\n",
       "      <th>19</th>\n",
       "      <td>340.00</td>\n",
       "      <td>FLR</td>\n",
       "      <td>Florence</td>\n",
       "      <td>MAD</td>\n",
       "      <td>Madrid</td>\n",
       "      <td>150</td>\n",
       "      <td>0</td>\n",
       "      <td>Vueling Airlines</td>\n",
       "      <td>2024-10-28T12:35:00</td>\n",
       "      <td>2024-10-28T15:05:00</td>\n",
       "    </tr>\n",
       "  </tbody>\n",
       "</table>\n",
       "</div>"
      ],
      "text/plain": [
       "     Costo ID Salida    Salida ID Llegada   Llegada  Tiempo  Paradas  \\\n",
       "0   428.00       MAD    Madrid        FLR  Florence     140        0   \n",
       "1   428.00       FLR  Florence        MAD    Madrid     150        0   \n",
       "2   429.00       MAD    Madrid        FLR  Florence     140        0   \n",
       "3   429.00       FLR  Florence        MAD    Madrid     150        0   \n",
       "4   290.00       MAD    Madrid        FLR  Florence     250        1   \n",
       "5   290.00       FLR  Florence        MAD    Madrid     150        0   \n",
       "6   281.68       MAD    Madrid        FLR  Florence     300        1   \n",
       "7   281.68       FLR  Florence        MAD    Madrid     284        1   \n",
       "8   451.98       MAD    Madrid        FLR  Florence     140        0   \n",
       "9   451.98       FLR  Florence        MAD    Madrid     150        0   \n",
       "10  438.00       MAD    Madrid        FLR  Florence     140        0   \n",
       "11  438.00       FLR  Florence        MAD    Madrid     150        0   \n",
       "12  295.00       MAD    Madrid        FLR  Florence     380        1   \n",
       "13  295.00       FLR  Florence        MAD    Madrid     150        0   \n",
       "14  308.00       MAD    Madrid        FLR  Florence     450        1   \n",
       "15  308.00       FLR  Florence        MAD    Madrid     150        0   \n",
       "16  316.00       MAD    Madrid        FLR  Florence     300        1   \n",
       "17  316.00       FLR  Florence        MAD    Madrid     150        0   \n",
       "18  340.00       MAD    Madrid        FLR  Florence     415        1   \n",
       "19  340.00       FLR  Florence        MAD    Madrid     150        0   \n",
       "\n",
       "           Aerolínea       Hora de Salida      Hora de Llegada  \n",
       "0   Vueling Airlines  2024-10-25T09:55:00  2024-10-25T12:15:00  \n",
       "1   Vueling Airlines  2024-10-28T12:35:00  2024-10-28T15:05:00  \n",
       "2   Vueling Airlines  2024-10-25T15:35:00  2024-10-25T17:55:00  \n",
       "3   Vueling Airlines  2024-10-28T12:35:00  2024-10-28T15:05:00  \n",
       "4   Vueling Airlines  2024-10-25T17:20:00  2024-10-25T21:30:00  \n",
       "5   Vueling Airlines  2024-10-28T12:35:00  2024-10-28T15:05:00  \n",
       "6        ITA Airways  2024-10-25T05:50:00  2024-10-25T10:50:00  \n",
       "7        ITA Airways  2024-10-28T19:15:00  2024-10-28T23:59:00  \n",
       "8   Vueling Airlines  2024-10-25T09:55:00  2024-10-25T12:15:00  \n",
       "9   Vueling Airlines  2024-10-28T06:15:00  2024-10-28T08:45:00  \n",
       "10  Vueling Airlines  2024-10-25T15:35:00  2024-10-25T17:55:00  \n",
       "11  Vueling Airlines  2024-10-28T06:15:00  2024-10-28T08:45:00  \n",
       "12        Air Europa  2024-10-25T15:10:00  2024-10-25T21:30:00  \n",
       "13  Vueling Airlines  2024-10-28T12:35:00  2024-10-28T15:05:00  \n",
       "14       ITA Airways  2024-10-25T07:05:00  2024-10-25T14:35:00  \n",
       "15  Vueling Airlines  2024-10-28T12:35:00  2024-10-28T15:05:00  \n",
       "16       ITA Airways  2024-10-25T05:50:00  2024-10-25T10:50:00  \n",
       "17  Vueling Airlines  2024-10-28T12:35:00  2024-10-28T15:05:00  \n",
       "18       ITA Airways  2024-10-25T11:35:00  2024-10-25T18:30:00  \n",
       "19  Vueling Airlines  2024-10-28T12:35:00  2024-10-28T15:05:00  "
      ]
     },
     "execution_count": 64,
     "metadata": {},
     "output_type": "execute_result"
    }
   ],
   "source": [
    "df_vuelos_florencia"
   ]
  },
  {
   "cell_type": "code",
   "execution_count": 65,
   "metadata": {},
   "outputs": [
    {
     "data": {
      "text/html": [
       "<div>\n",
       "<style scoped>\n",
       "    .dataframe tbody tr th:only-of-type {\n",
       "        vertical-align: middle;\n",
       "    }\n",
       "\n",
       "    .dataframe tbody tr th {\n",
       "        vertical-align: top;\n",
       "    }\n",
       "\n",
       "    .dataframe thead th {\n",
       "        text-align: right;\n",
       "    }\n",
       "</style>\n",
       "<table border=\"1\" class=\"dataframe\">\n",
       "  <thead>\n",
       "    <tr style=\"text-align: right;\">\n",
       "      <th></th>\n",
       "      <th>count</th>\n",
       "      <th>mean</th>\n",
       "      <th>std</th>\n",
       "      <th>min</th>\n",
       "      <th>25%</th>\n",
       "      <th>50%</th>\n",
       "      <th>75%</th>\n",
       "      <th>max</th>\n",
       "    </tr>\n",
       "    <tr>\n",
       "      <th>Salida</th>\n",
       "      <th></th>\n",
       "      <th></th>\n",
       "      <th></th>\n",
       "      <th></th>\n",
       "      <th></th>\n",
       "      <th></th>\n",
       "      <th></th>\n",
       "      <th></th>\n",
       "    </tr>\n",
       "  </thead>\n",
       "  <tbody>\n",
       "    <tr>\n",
       "      <th>Florence</th>\n",
       "      <td>10.0</td>\n",
       "      <td>163.4</td>\n",
       "      <td>42.374521</td>\n",
       "      <td>150.0</td>\n",
       "      <td>150.0</td>\n",
       "      <td>150.0</td>\n",
       "      <td>150.0</td>\n",
       "      <td>284.0</td>\n",
       "    </tr>\n",
       "    <tr>\n",
       "      <th>Madrid</th>\n",
       "      <td>10.0</td>\n",
       "      <td>265.5</td>\n",
       "      <td>122.530042</td>\n",
       "      <td>140.0</td>\n",
       "      <td>140.0</td>\n",
       "      <td>275.0</td>\n",
       "      <td>360.0</td>\n",
       "      <td>450.0</td>\n",
       "    </tr>\n",
       "  </tbody>\n",
       "</table>\n",
       "</div>"
      ],
      "text/plain": [
       "          count   mean         std    min    25%    50%    75%    max\n",
       "Salida                                                               \n",
       "Florence   10.0  163.4   42.374521  150.0  150.0  150.0  150.0  284.0\n",
       "Madrid     10.0  265.5  122.530042  140.0  140.0  275.0  360.0  450.0"
      ]
     },
     "execution_count": 65,
     "metadata": {},
     "output_type": "execute_result"
    }
   ],
   "source": [
    "df_vuelos_florencia.groupby('Salida')['Tiempo'].describe()"
   ]
  },
  {
   "cell_type": "code",
   "execution_count": 67,
   "metadata": {},
   "outputs": [
    {
     "data": {
      "text/plain": [
       "Text(0.5, 1.0, 'Duración promedio de vuelo desde')"
      ]
     },
     "execution_count": 67,
     "metadata": {},
     "output_type": "execute_result"
    },
    {
     "data": {
      "image/png": "[encoded data removed]",
      "text/plain": [
       "<Figure size 640x480 with 1 Axes>"
      ]
     },
     "metadata": {},
     "output_type": "display_data"
    }
   ],
   "source": [
    "sns.barplot(y = 'Tiempo', data=df_vuelos_florencia, x= 'Salida')\n",
    "plt.title('Duración promedio de vuelo desde')"
   ]
  },
  {
   "cell_type": "markdown",
   "metadata": {},
   "source": [
    "Este tiempo tiene una media distinta porque esta ruta de viaje suele tener escalas."
   ]
  },
  {
   "cell_type": "code",
   "execution_count": 68,
   "metadata": {},
   "outputs": [
    {
     "data": {
      "text/plain": [
       "Text(0.5, 1.0, 'Duración promedio de vuelo desde')"
      ]
     },
     "execution_count": 68,
     "metadata": {},
     "output_type": "execute_result"
    },
    {
     "data": {
      "image/png": "[encoded data removed]",
      "text/plain": [
       "<Figure size 640x480 with 1 Axes>"
      ]
     },
     "metadata": {},
     "output_type": "display_data"
    }
   ],
   "source": [
    "sns.barplot(y = 'Tiempo', data=df_vuelos_lisboa, x= 'Salida')\n",
    "plt.title('Duración promedio de vuelo desde')"
   ]
  },
  {
   "cell_type": "markdown",
   "metadata": {},
   "source": [
    "Esta ruta no suele tener escalas, no tiene más que el promedio de su mismo recorrido."
   ]
  }
 ],
 "metadata": {
  "kernelspec": {
   "display_name": "Python 3",
   "language": "python",
   "name": "python3"
  },
  "language_info": {
   "codemirror_mode": {
    "name": "ipython",
    "version": 3
   },
   "file_extension": ".py",
   "mimetype": "text/x-python",
   "name": "python",
   "nbconvert_exporter": "python",
   "pygments_lexer": "ipython3",
   "version": "3.11.9"
  }
 },
 "nbformat": 4,
 "nbformat_minor": 2
}
