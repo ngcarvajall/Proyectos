{
 "cells": [
  {
   "cell_type": "code",
   "execution_count": 8,
   "metadata": {},
   "outputs": [],
   "source": [
    "import requests\n",
    "import pandas as pd\n",
    "import dotenv as dotenv\n",
    "import os\n"
   ]
  },
  {
   "cell_type": "code",
   "execution_count": 6,
   "metadata": {},
   "outputs": [],
   "source": [
    "dotenv.load_dotenv()\n",
    "api_key_booking=os.getenv(\"api_key_booking\")"
   ]
  },
  {
   "cell_type": "code",
   "execution_count": 41,
   "metadata": {},
   "outputs": [],
   "source": [
    "import requests\n",
    "#hago mi rquest\n",
    "url = \"https://booking-com15.p.rapidapi.com/api/v1/hotels/searchHotels\"\n",
    "\n",
    "querystring = {\"dest_id\":\"-117543\",\"search_type\":\"CITY\",\"arrival_date\":\"2024-10-25\",\"departure_date\":\"2024-10-28\",\"adults\":\"1\",\"room_qty\":\"1\",\"page_number\":\"1\",\"units\":\"metric\",\"temperature_unit\":\"c\",\"languagecode\":\"en-us\",\"currency_code\":\"EUR\"}\n",
    "\n",
    "headers = {\n",
    "\t\"x-rapidapi-key\": api_key_booking,\n",
    "\t\"x-rapidapi-host\": \"booking-com15.p.rapidapi.com\"\n",
    "}\n",
    "\n",
    "response = requests.get(url, headers=headers, params=querystring)\n",
    "\n",
    "datos= response.json()"
   ]
  },
  {
   "cell_type": "code",
   "execution_count": 43,
   "metadata": {},
   "outputs": [],
   "source": [
    "clean = datos['data']\n",
    "#empiezo a adentrarme en mis diccionarios"
   ]
  },
  {
   "cell_type": "code",
   "execution_count": 44,
   "metadata": {},
   "outputs": [
    {
     "data": {
      "text/plain": [
       "dict_keys(['hotels', 'meta', 'appear'])"
      ]
     },
     "execution_count": 44,
     "metadata": {},
     "output_type": "execute_result"
    }
   ],
   "source": [
    "#busco mis keys\n",
    "clean.keys()"
   ]
  },
  {
   "cell_type": "code",
   "execution_count": 45,
   "metadata": {},
   "outputs": [],
   "source": [
    "#al encontrar la info, paso a seguir buscando\n",
    "hoteles = clean['hotels']"
   ]
  },
  {
   "cell_type": "code",
   "execution_count": 48,
   "metadata": {},
   "outputs": [
    {
     "data": {
      "text/plain": [
       "'Florence Heart Uffizi - Renovated and central'"
      ]
     },
     "execution_count": 48,
     "metadata": {},
     "output_type": "execute_result"
    }
   ],
   "source": [
    "#saco el nombre\n",
    "hoteles[0]['property']['name']"
   ]
  },
  {
   "cell_type": "code",
   "execution_count": 49,
   "metadata": {},
   "outputs": [
    {
     "data": {
      "text/plain": [
       "70"
      ]
     },
     "execution_count": 49,
     "metadata": {},
     "output_type": "execute_result"
    }
   ],
   "source": [
    "#saco la cantidad de reviews\n",
    "hoteles[0]['property']['reviewCount']"
   ]
  },
  {
   "cell_type": "code",
   "execution_count": 50,
   "metadata": {},
   "outputs": [
    {
     "data": {
      "text/plain": [
       "9.1"
      ]
     },
     "execution_count": 50,
     "metadata": {},
     "output_type": "execute_result"
    }
   ],
   "source": [
    "#saco el score\n",
    "hoteles[0]['property']['reviewScore']"
   ]
  },
  {
   "cell_type": "code",
   "execution_count": 51,
   "metadata": {},
   "outputs": [
    {
     "data": {
      "text/plain": [
       "585"
      ]
     },
     "execution_count": 51,
     "metadata": {},
     "output_type": "execute_result"
    }
   ],
   "source": [
    "# precio por las noches\n",
    "hoteles[0]['property']['priceBreakdown']['grossPrice']['value']"
   ]
  },
  {
   "cell_type": "code",
   "execution_count": 59,
   "metadata": {},
   "outputs": [
    {
     "data": {
      "text/plain": [
       "'15:00'"
      ]
     },
     "execution_count": 59,
     "metadata": {},
     "output_type": "execute_result"
    }
   ],
   "source": [
    "hoteles[0]['property']['checkin']['fromTime']"
   ]
  },
  {
   "cell_type": "code",
   "execution_count": 60,
   "metadata": {},
   "outputs": [
    {
     "data": {
      "text/plain": [
       "'20:00'"
      ]
     },
     "execution_count": 60,
     "metadata": {},
     "output_type": "execute_result"
    }
   ],
   "source": [
    "hoteles[0]['property']['checkin']['untilTime']"
   ]
  },
  {
   "cell_type": "code",
   "execution_count": 61,
   "metadata": {},
   "outputs": [
    {
     "data": {
      "text/plain": [
       "'08:00'"
      ]
     },
     "execution_count": 61,
     "metadata": {},
     "output_type": "execute_result"
    }
   ],
   "source": [
    "hoteles[0]['property']['checkout']['fromTime']"
   ]
  },
  {
   "cell_type": "code",
   "execution_count": 62,
   "metadata": {},
   "outputs": [
    {
     "data": {
      "text/plain": [
       "'10:00'"
      ]
     },
     "execution_count": 62,
     "metadata": {},
     "output_type": "execute_result"
    }
   ],
   "source": [
    "hoteles[0]['property']['checkout']['untilTime']"
   ]
  },
  {
   "cell_type": "code",
   "execution_count": 63,
   "metadata": {},
   "outputs": [],
   "source": [
    "#lista vacía para meter cosas\n",
    "lista_datos_dicc = []\n",
    "for i in range(0,(len(hoteles))):\n",
    "     ciudad = hoteles[i]['property']['wishlistName']\n",
    "     nombre = hoteles[i]['property']['name']\n",
    "     reviewcount = hoteles[i]['property']['reviewCount']\n",
    "     reviewscore = hoteles[i]['property']['reviewScore']\n",
    "     precio = hoteles[i]['property']['priceBreakdown']['grossPrice']['value']\n",
    "     hora_entrada1 = hoteles[i]['property']['checkin']['fromTime']\n",
    "     hora_entrada2 = hoteles[i]['property']['checkin']['untilTime']\n",
    "     hora_salida1 = hoteles[i]['property']['checkout']['fromTime']\n",
    "     hora_salida2 = hoteles[i]['property']['checkout']['untilTime']\n",
    "     dicc = {\n",
    "     'Ciudad': ciudad,\n",
    "     'Hotel': nombre,\n",
    "     'Cantidad de reviews':reviewcount,\n",
    "     'Calificación': reviewscore,\n",
    "     'Precio': precio,\n",
    "     'Entrada desde': hora_entrada1,\n",
    "     'Entrada hasta': hora_entrada2,\n",
    "     'Salida desde': hora_salida1,\n",
    "     'Salida hasta': hora_salida2}\n",
    "     lista_datos_dicc.append(dicc)"
   ]
  },
  {
   "cell_type": "code",
   "execution_count": 64,
   "metadata": {},
   "outputs": [],
   "source": [
    "df = pd.DataFrame(lista_datos_dicc)"
   ]
  },
  {
   "cell_type": "code",
   "execution_count": 72,
   "metadata": {},
   "outputs": [
    {
     "data": {
      "text/plain": [
       "Ciudad                  object\n",
       "Hotel                   object\n",
       "Cantidad de reviews      int64\n",
       "Calificación           float64\n",
       "Precio                 float64\n",
       "Entrada desde           object\n",
       "Entrada hasta           object\n",
       "Salida desde            object\n",
       "Salida hasta            object\n",
       "dtype: object"
      ]
     },
     "execution_count": 72,
     "metadata": {},
     "output_type": "execute_result"
    }
   ],
   "source": [
    "df.dtypes"
   ]
  },
  {
   "cell_type": "code",
   "execution_count": 74,
   "metadata": {},
   "outputs": [],
   "source": [
    "df.to_csv('datos/alojamientos_florencia.csv', index=False)"
   ]
  },
  {
   "cell_type": "code",
   "execution_count": 1,
   "metadata": {},
   "outputs": [],
   "source": [
    "import requests\n",
    "\n",
    "url = \"https://booking-com15.p.rapidapi.com/api/v1/hotels/searchHotels\"\n",
    "\n",
    "querystring = {\"dest_id\":\"-2167973\",\"search_type\":\"CITY\",\"arrival_date\":\"2024-10-25\",\"departure_date\":\"2024-10-28\",\"adults\":\"1\",\"room_qty\":\"1\",\"page_number\":\"1\",\"units\":\"metric\",\"temperature_unit\":\"c\",\"languagecode\":\"en-us\",\"currency_code\":\"EUR\"}\n",
    "\n",
    "headers = {\n",
    "\t\"x-rapidapi-key\": api_key_booking,\n",
    "\t\"x-rapidapi-host\": \"booking-com15.p.rapidapi.com\"\n",
    "}\n",
    "\n",
    "response = requests.get(url, headers=headers, params=querystring)\n",
    "\n",
    "datos_lisboa = response.json()"
   ]
  },
  {
   "cell_type": "code",
   "execution_count": 8,
   "metadata": {},
   "outputs": [],
   "source": [
    "hoteles_lisboa = datos_lisboa['data']['hotels']"
   ]
  },
  {
   "cell_type": "code",
   "execution_count": 38,
   "metadata": {},
   "outputs": [
    {
     "data": {
      "text/plain": [
       "20"
      ]
     },
     "execution_count": 38,
     "metadata": {},
     "output_type": "execute_result"
    }
   ],
   "source": [
    "len(hoteles_lisboa)"
   ]
  },
  {
   "cell_type": "code",
   "execution_count": 12,
   "metadata": {},
   "outputs": [
    {
     "data": {
      "text/plain": [
       "dict_keys(['reviewScoreWord', 'accuratePropertyClass', 'latitude', 'position', 'qualityClass', 'wishlistName', 'countryCode', 'optOutFromGalleryChanges', 'reviewCount', 'longitude', 'checkin', 'checkinDate', 'currency', 'ufi', 'rankingPosition', 'blockIds', 'checkoutDate', 'name', 'mainPhotoId', 'photoUrls', 'isFirstPage', 'priceBreakdown', 'checkout', 'id', 'reviewScore', 'propertyClass'])"
      ]
     },
     "execution_count": 12,
     "metadata": {},
     "output_type": "execute_result"
    }
   ],
   "source": [
    "hoteles_lisboa[0]['property'].keys()"
   ]
  },
  {
   "cell_type": "code",
   "execution_count": 10,
   "metadata": {},
   "outputs": [
    {
     "data": {
      "text/plain": [
       "'Quarto com Varanda e WC Partilhado no Chiado Lisboa Centro Histórico de Lisboa'"
      ]
     },
     "execution_count": 10,
     "metadata": {},
     "output_type": "execute_result"
    }
   ],
   "source": [
    "hoteles_lisboa[0]['property']['wishlistName']\n",
    "hoteles_lisboa[0]['property']['name']\n",
    "hoteles_lisboa[0]['property']['reviewCount']\n",
    "hoteles_lisboa[0]['property']['reviewScore']\n",
    "hoteles_lisboa[0]['property']['priceBreakdown']['grossPrice']['value']"
   ]
  },
  {
   "cell_type": "code",
   "execution_count": 67,
   "metadata": {},
   "outputs": [],
   "source": [
    "lista_dicc_lisboa = []\n",
    "for i in range(0,(len(hoteles_lisboa))):\n",
    "     city = hoteles_lisboa[i]['property']['wishlistName']\n",
    "     name = hoteles_lisboa[i]['property']['name']\n",
    "     rc = hoteles_lisboa[i]['property']['reviewCount']\n",
    "     rsc = hoteles_lisboa[i]['property']['reviewScore']\n",
    "     price = hoteles_lisboa[i]['property']['priceBreakdown']['grossPrice']['value']\n",
    "     hora_entradal = hoteles_lisboa[i]['property']['checkin']['fromTime']\n",
    "     hora_entradal2 = hoteles_lisboa[i]['property']['checkin']['untilTime']\n",
    "     hora_salidal = hoteles_lisboa[i]['property']['checkout']['fromTime']\n",
    "     hora_salidal2 = hoteles_lisboa[i]['property']['checkout']['untilTime']\n",
    "     diccionario = {\n",
    "     'Ciudad': city,\n",
    "     'Hotel': name,\n",
    "     'Cantidad de reviews':rc,\n",
    "     'Calificación': rsc,\n",
    "     'Precio': price,\n",
    "     'Entrada desde': hora_entradal,\n",
    "     'Entrada hasta': hora_entradal2,\n",
    "     'Salida desde': hora_salidal,\n",
    "     'Salida hasta': hora_salidal2}\n",
    "     lista_dicc_lisboa.append(diccionario)"
   ]
  },
  {
   "cell_type": "code",
   "execution_count": 68,
   "metadata": {},
   "outputs": [],
   "source": [
    "df_lisboa = pd.DataFrame(lista_dicc_lisboa)"
   ]
  },
  {
   "cell_type": "code",
   "execution_count": 71,
   "metadata": {},
   "outputs": [
    {
     "data": {
      "text/plain": [
       "Ciudad                  object\n",
       "Hotel                   object\n",
       "Cantidad de reviews      int64\n",
       "Calificación           float64\n",
       "Precio                 float64\n",
       "Entrada desde           object\n",
       "Entrada hasta           object\n",
       "Salida desde            object\n",
       "Salida hasta            object\n",
       "dtype: object"
      ]
     },
     "execution_count": 71,
     "metadata": {},
     "output_type": "execute_result"
    }
   ],
   "source": [
    "df_lisboa.dtypes"
   ]
  },
  {
   "cell_type": "code",
   "execution_count": 73,
   "metadata": {},
   "outputs": [],
   "source": [
    "df_lisboa.to_csv('datos/alojamientos_lisboa.csv', index=False)"
   ]
  },
  {
   "cell_type": "code",
   "execution_count": 75,
   "metadata": {},
   "outputs": [],
   "source": [
    "df_vacio = pd.DataFrame()\n",
    "\n",
    "df_vacio = pd.concat([df_vacio,df,df_lisboa],ignore_index=True)"
   ]
  },
  {
   "cell_type": "code",
   "execution_count": 77,
   "metadata": {},
   "outputs": [],
   "source": [
    "df_vacio.to_csv('datos/alojamientos_combinados.csv', index=False)"
   ]
  },
  {
   "cell_type": "code",
   "execution_count": null,
   "metadata": {},
   "outputs": [],
   "source": []
  }
 ],
 "metadata": {
  "kernelspec": {
   "display_name": "Python 3",
   "language": "python",
   "name": "python3"
  },
  "language_info": {
   "codemirror_mode": {
    "name": "ipython",
    "version": 3
   },
   "file_extension": ".py",
   "mimetype": "text/x-python",
   "name": "python",
   "nbconvert_exporter": "python",
   "pygments_lexer": "ipython3",
   "version": "3.11.9"
  }
 },
 "nbformat": 4,
 "nbformat_minor": 2
}
