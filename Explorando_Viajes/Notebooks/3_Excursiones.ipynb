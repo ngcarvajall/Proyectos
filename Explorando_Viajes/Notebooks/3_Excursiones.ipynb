{
 "cells": [
  {
   "cell_type": "code",
   "execution_count": 1,
   "metadata": {},
   "outputs": [],
   "source": [
    "# Importamos las librerías que necesitamos\n",
    "\n",
    "# Librerías de extracción de datos\n",
    "# -----------------------------------------------------------------------\n",
    "\n",
    "# Importaciones:\n",
    "# Beautifulsoup\n",
    "from bs4 import BeautifulSoup\n",
    "\n",
    "# Requests\n",
    "import requests\n",
    "\n",
    "import pandas as pd\n",
    "import numpy as np\n",
    "\n",
    "from time import sleep\n",
    "\n",
    "# Importar librerías para automatización de navegadores web con Selenium\n",
    "# -----------------------------------------------------------------------\n",
    "from selenium import webdriver  # Selenium es una herramienta para automatizar la interacción con navegadores web.\n",
    "from webdriver_manager.chrome import ChromeDriverManager  # ChromeDriverManager gestiona la instalación del controlador de Chrome.\n",
    "from selenium.webdriver.common.keys import Keys  # Keys es útil para simular eventos de teclado en Selenium.\n",
    "from selenium.webdriver.support.ui import Select  # Select se utiliza para interactuar con elementos <select> en páginas web.\n",
    "from selenium.webdriver.support.ui import WebDriverWait\n",
    "from selenium.webdriver.support import expected_conditions as EC\n",
    "from selenium.common.exceptions import NoSuchElementException # Excepciones comunes de selenium que nos podemos encontrar "
   ]
  },
  {
   "cell_type": "code",
   "execution_count": 2,
   "metadata": {},
   "outputs": [],
   "source": [
    "### casi todas lo hacen así, puede que otra no porque percibe las cookies como otra capa\n",
    "driver = webdriver.Chrome()\n",
    "url_wunder = \"https://www.guias.travel/tour/\"\n",
    "driver.get(url_wunder)\n",
    "# colocar prints\n",
    "driver.maximize_window()\n",
    "driver.implicitly_wait(5) ### es como un sleep, pero aquí va a intentar lo siguiente durante el tiempo que le digo\n",
    "#aceptamos las cookies\n",
    "### para las cookies\n",
    "### el tiempo de python puede ser diferente al navegador"
   ]
  },
  {
   "cell_type": "code",
   "execution_count": 126,
   "metadata": {},
   "outputs": [],
   "source": [
    "try: \n",
    "    driver.find_element(\"css selector\", '#search-form-input').click()\n",
    "except:\n",
    "    print('No encuentro el botón')\n",
    "\n",
    "driver.find_element('css selector', '#search-form-input').send_keys('florencia', Keys.ENTER)"
   ]
  },
  {
   "cell_type": "code",
   "execution_count": 127,
   "metadata": {},
   "outputs": [],
   "source": [
    "for i in range(5):  # Número de veces que deseas hacer scroll\n",
    "    driver.execute_script(\"window.scrollBy(0, 1000);\")  # Desplazarse 1000 píxeles hacia abajo\n",
    "    sleep(1)  # Esperar un segundo entre cada scroll"
   ]
  },
  {
   "cell_type": "code",
   "execution_count": 128,
   "metadata": {},
   "outputs": [],
   "source": [
    "try: \n",
    "    driver.find_element(\"css selector\", '#more_tours > span').click()\n",
    "except:\n",
    "    print('No encuentro el botón')"
   ]
  },
  {
   "cell_type": "code",
   "execution_count": 129,
   "metadata": {},
   "outputs": [],
   "source": [
    "for i in range(5):  # Número de veces que deseas hacer scroll\n",
    "    driver.execute_script(\"window.scrollBy(0, 1000);\")  # Desplazarse 1000 píxeles hacia abajo\n",
    "    sleep(1)  # Esperar un segundo entre cada scroll"
   ]
  },
  {
   "cell_type": "code",
   "execution_count": 130,
   "metadata": {},
   "outputs": [],
   "source": [
    "sopa_excursiones = BeautifulSoup(driver.page_source)\n"
   ]
  },
  {
   "cell_type": "code",
   "execution_count": 131,
   "metadata": {},
   "outputs": [],
   "source": [
    "lista_paquetes = sopa_excursiones.findAll('div', {'class': 'strip_all_tour_list'})\n",
    "\n",
    "# div, class: \n",
    "# body > div.container.margin_60.tours_archive_container > div > div.col-lg-9.col-md-8 > div.tour-list > a:nth-child(1) > div > div"
   ]
  },
  {
   "cell_type": "code",
   "execution_count": 140,
   "metadata": {},
   "outputs": [
    {
     "data": {
      "text/plain": [
       "32"
      ]
     },
     "execution_count": 140,
     "metadata": {},
     "output_type": "execute_result"
    }
   ],
   "source": [
    "excursiones = [viaje.find('h2').getText() for viaje in lista_paquetes]\n",
    "len(excursiones)"
   ]
  },
  {
   "cell_type": "code",
   "execution_count": 141,
   "metadata": {},
   "outputs": [
    {
     "data": {
      "text/plain": [
       "32"
      ]
     },
     "execution_count": 141,
     "metadata": {},
     "output_type": "execute_result"
    }
   ],
   "source": [
    "tipo_excursion = [excursion.find('h3').getText() for excursion in lista_paquetes]\n",
    "len(tipo_excursion)"
   ]
  },
  {
   "cell_type": "code",
   "execution_count": 142,
   "metadata": {},
   "outputs": [
    {
     "data": {
      "text/plain": [
       "32"
      ]
     },
     "execution_count": 142,
     "metadata": {},
     "output_type": "execute_result"
    }
   ],
   "source": [
    "descripcion = [desc.find('p').getText() for desc in lista_paquetes]\n",
    "len(descripcion)"
   ]
  },
  {
   "cell_type": "code",
   "execution_count": 135,
   "metadata": {},
   "outputs": [],
   "source": [
    "lista_precios = sopa_excursiones.findAll('div', {'class': 'price_container'})\n",
    "precios_generales = [precio.getText() for precio in lista_precios]"
   ]
  },
  {
   "cell_type": "code",
   "execution_count": 240,
   "metadata": {},
   "outputs": [
    {
     "data": {
      "text/plain": [
       "30"
      ]
     },
     "execution_count": 240,
     "metadata": {},
     "output_type": "execute_result"
    }
   ],
   "source": [
    "lista_duration_florencia = sopa_excursiones('div', {'class': \"tduration\"})\n",
    "duracion_florencia = [dur.getText().strip() for dur in lista_duration_florencia]\n",
    "duracion_florencia\n",
    "\n",
    "#rango desde 0 al tamaño de mi lista\n",
    "#itero sobre cada indice\n",
    "#busco solo los indices impares, si es así lo guardo en mi lista nueva\n",
    "dflorencia_unicas = [duracion_florencia[i] for i in range(len(duracion_florencia)) if i % 2 == 1]\n",
    "len(dflorencia_unicas)"
   ]
  },
  {
   "cell_type": "code",
   "execution_count": 325,
   "metadata": {},
   "outputs": [
    {
     "data": {
      "text/plain": [
       "60"
      ]
     },
     "execution_count": 325,
     "metadata": {},
     "output_type": "execute_result"
    }
   ],
   "source": [
    "len(duracion_florencia)"
   ]
  },
  {
   "cell_type": "code",
   "execution_count": 307,
   "metadata": {},
   "outputs": [],
   "source": [
    "#creamos lista vacía\n",
    "precios = []\n",
    "\n",
    "for precio in lista_precios:\n",
    "    #buscame el precio, que ya viene con descuento\n",
    "    precio_normal = precio.find('div', class_='normal_price')\n",
    "\n",
    "    # si lo encuentra, añade\n",
    "    if precio_normal:\n",
    "        precios.append(precio_normal.text.strip())\n",
    "       \n",
    "    # de esta forma puedo buscar en los que no tienen una div clara, que no se han tocado\n",
    "    else:\n",
    "        sup_precio = precio.find('sup')\n",
    "        span_precio = precio.find('span')\n",
    "        \n",
    "        # busca el precio en sup, y lo limpia\n",
    "        if span_precio:\n",
    "            precios.append(span_precio.text.strip())\n",
    "        # para todo lo demás, gratis\n",
    "        else:\n",
    "            precios.append('Gratis')\n"
   ]
  },
  {
   "cell_type": "code",
   "execution_count": 262,
   "metadata": {},
   "outputs": [],
   "source": [
    "diccionario = {'Excursiones': excursiones, 'Tipo de excursión': tipo_excursion, 'Descripción': descripcion, 'Precio': precios}\n",
    "df = pd.DataFrame(diccionario)"
   ]
  },
  {
   "cell_type": "code",
   "execution_count": 310,
   "metadata": {},
   "outputs": [],
   "source": [
    "df['Precio'] = df['Precio'].str.replace('€', '').replace('¡Gratis!', '0.00')"
   ]
  },
  {
   "cell_type": "code",
   "execution_count": 312,
   "metadata": {},
   "outputs": [],
   "source": [
    "#buscamos un parentesis dentro del cual buscamos el signo negativom seguido de un numero de uno o más digitos acompañado del porcentaje, cierra parentesis  sigue el espacio\n",
    "df['Precio'] = df['Precio'].str.replace(r'\\(-\\d+%\\)\\s*', '', regex=True)\n",
    "\n",
    "# Convertimos la columna a tipo float después de eliminar los porcentajes\n",
    "df['Precio'] = df['Precio'].astype(float)\n",
    "\n",
    "#cambiar formato"
   ]
  },
  {
   "cell_type": "code",
   "execution_count": 329,
   "metadata": {},
   "outputs": [],
   "source": [
    "df.to_csv('datos/excursiones_florencia.csv', index=False)"
   ]
  },
  {
   "cell_type": "markdown",
   "metadata": {},
   "source": [
    "Ahora vamos a buscar todo para Lisboa"
   ]
  },
  {
   "cell_type": "code",
   "execution_count": 175,
   "metadata": {},
   "outputs": [],
   "source": [
    "### casi todas lo hacen así, puede que otra no porque percibe las cookies como otra capa\n",
    "driver = webdriver.Chrome()\n",
    "url_wunder = \"https://www.guias.travel/tour/\"\n",
    "driver.get(url_wunder)\n",
    "# colocar prints\n",
    "driver.maximize_window()\n",
    "driver.implicitly_wait(5) ### es como un sleep, pero aquí va a intentar lo siguiente durante el tiempo que le digo\n",
    "#aceptamos las cookies\n",
    "### para las cookies\n",
    "### el tiempo de python puede ser diferente al navegador"
   ]
  },
  {
   "cell_type": "code",
   "execution_count": 176,
   "metadata": {},
   "outputs": [],
   "source": [
    "try: \n",
    "    driver.find_element(\"css selector\", '#search-form-input').click()\n",
    "except:\n",
    "    print('No encuentro el botón')\n",
    "\n",
    "driver.find_element('css selector', '#search-form-input').send_keys('lisboa', Keys.ENTER)"
   ]
  },
  {
   "cell_type": "code",
   "execution_count": 177,
   "metadata": {},
   "outputs": [],
   "source": [
    "for i in range(6):  # Número de veces que deseas hacer scroll\n",
    "    driver.execute_script(\"window.scrollBy(0, 1000);\")  # Desplazarse 1000 píxeles hacia abajo\n",
    "    sleep(1)  # Esperar un segundo entre cada scroll"
   ]
  },
  {
   "cell_type": "code",
   "execution_count": 178,
   "metadata": {},
   "outputs": [],
   "source": [
    "sleep(3)\n",
    "try: \n",
    "    driver.find_element(\"css selector\", '#more_tours > span').click()\n",
    "except:\n",
    "    print('No encuentro el botón')"
   ]
  },
  {
   "cell_type": "code",
   "execution_count": 179,
   "metadata": {},
   "outputs": [],
   "source": [
    "for i in range(2):  # Número de veces que deseas hacer scroll\n",
    "    driver.execute_script(\"window.scrollBy(0, 1000);\")  # Desplazarse 1000 píxeles hacia abajo\n",
    "    sleep(1)  # Esperar un segundo entre cada scroll"
   ]
  },
  {
   "cell_type": "code",
   "execution_count": 180,
   "metadata": {},
   "outputs": [],
   "source": [
    "sopa_lisboa = BeautifulSoup(driver.page_source)"
   ]
  },
  {
   "cell_type": "code",
   "execution_count": 198,
   "metadata": {},
   "outputs": [
    {
     "data": {
      "text/plain": [
       "<div class=\"strip_all_tour_list\" data-wow-delay=\"0.1s\">\n",
       "<div class=\"row tour_list_item\">\n",
       "<div class=\"col-lg-4 col-md-4 col-sm-4\">\n",
       "<div class=\"img_list\">\n",
       "<!-- <div class=\"ribbon popular\" ></div> -->\n",
       "<img src=\"https://www.guias.travel/wp-content/uploads/2019/04/1-castle-335040_1280-pixabay-400x267.jpg\" src-backup=\"https://www.guias.travel/wp-content/uploads/2019/04/1-castle-335040_1280-pixabay-400x267.jpg\"/>\n",
       "</div>\n",
       "<h3 class=\"category mobile\"><i class=\"icon-user-4\"></i>Visitas Guiadas</h3>\n",
       "</div>\n",
       "<div class=\"clearfix visible-xs-block\"></div>\n",
       "<div class=\"col-lg-6 col-md-6 col-sm-6\">\n",
       "<div class=\"tour_list_desc\">\n",
       "<h3 class=\"category desktop\"><i class=\"icon-user-4\"></i>Visitas Guiadas</h3>\n",
       "<h2>Visita guiada por Lisboa con entradas</h2>\n",
       "<div class=\"cancelacion-gratuita\">Cancelación gratuita</div>\n",
       "<div class=\"price_list mobile\">\n",
       "<div class=\"tour_featured\">\n",
       "<div class=\"tduration\">\n",
       "<i class=\"icon-clock-3\"></i>\n",
       "<span>4 horas</span>\n",
       "</div>\n",
       "<div class=\"tlang\">\n",
       "<i class=\"icon-comment-3\"></i>\n",
       "<span>Español                                        </span>\n",
       "</div>\n",
       "</div>\n",
       "</div>\n",
       "<div class=\"rating\">\n",
       "<img class=\"icon-smile voted\" src=\"https://www.guias.travel/wp-content/themes/citytours-child/img/star.png\" src-backup=\"https://www.guias.travel/wp-content/themes/citytours-child/img/star.png\"/><img class=\"icon-smile voted\" src=\"https://www.guias.travel/wp-content/themes/citytours-child/img/star.png\" src-backup=\"https://www.guias.travel/wp-content/themes/citytours-child/img/star.png\"/><img class=\"icon-smile voted\" src=\"https://www.guias.travel/wp-content/themes/citytours-child/img/star.png\" src-backup=\"https://www.guias.travel/wp-content/themes/citytours-child/img/star.png\"/><img class=\"icon-smile voted\" src=\"https://www.guias.travel/wp-content/themes/citytours-child/img/star.png\" src-backup=\"https://www.guias.travel/wp-content/themes/citytours-child/img/star.png\"/><img class=\"icon-smile voted\" src=\"https://www.guias.travel/wp-content/themes/citytours-child/img/star.png\" src-backup=\"https://www.guias.travel/wp-content/themes/citytours-child/img/star.png\"/> <small>9,8 / 10</small>\n",
       "<span>(667 Opiniones)</span>\n",
       "</div>\n",
       "<p>Recorrido guiado por Lisboa con entradas y transporte, cruzaremos el puente Vasco da Gamma, visitaremos la... <span class=\"moreinfo\">Más información</span></p>\n",
       "</div>\n",
       "</div>\n",
       "<div class=\"col-lg-2 col-md-2 col-sm-2 desktop\">\n",
       "<div class=\"price_list\">\n",
       "<div class=\"tour_featured\">\n",
       "<div class=\"tduration\">\n",
       "<i class=\"icon-clock-3\"></i>\n",
       "<span>4 horas</span>\n",
       "</div>\n",
       "<div class=\"tlang\">\n",
       "<i class=\"icon-comment-3\"></i>\n",
       "<span>Español                                        </span>\n",
       "</div>\n",
       "</div>\n",
       "<div class=\"price_container\">\n",
       "<span><sup></sup>39.95</span><span>€</span> <!--<div class=\"incluido\">(impuestos y tasas incluidos)</div>-->\n",
       "<p><span class=\"btn_1 tour_view_more\">Ver más</span></p>\n",
       "</div>\n",
       "</div>\n",
       "</div>\n",
       "</div>\n",
       "</div>"
      ]
     },
     "execution_count": 198,
     "metadata": {},
     "output_type": "execute_result"
    }
   ],
   "source": [
    "lista_paquetes_lisboa = sopa_lisboa.findAll('div', {'class': 'strip_all_tour_list'})\n"
   ]
  },
  {
   "cell_type": "code",
   "execution_count": 182,
   "metadata": {},
   "outputs": [
    {
     "data": {
      "text/plain": [
       "27"
      ]
     },
     "execution_count": 182,
     "metadata": {},
     "output_type": "execute_result"
    }
   ],
   "source": [
    "excursiones_lisboa = [viaje.find('h2').getText() for viaje in lista_paquetes_lisboa]\n",
    "len(excursiones_lisboa)"
   ]
  },
  {
   "cell_type": "code",
   "execution_count": 183,
   "metadata": {},
   "outputs": [
    {
     "data": {
      "text/plain": [
       "27"
      ]
     },
     "execution_count": 183,
     "metadata": {},
     "output_type": "execute_result"
    }
   ],
   "source": [
    "tipo_excursion_lisboa = [excursion.find('h3').getText() for excursion in lista_paquetes_lisboa]\n",
    "len(tipo_excursion_lisboa)"
   ]
  },
  {
   "cell_type": "code",
   "execution_count": 184,
   "metadata": {},
   "outputs": [
    {
     "data": {
      "text/plain": [
       "27"
      ]
     },
     "execution_count": 184,
     "metadata": {},
     "output_type": "execute_result"
    }
   ],
   "source": [
    "descripcion_lisboa = [desc.find('p').getText() for desc in lista_paquetes_lisboa]\n",
    "len(descripcion_lisboa)"
   ]
  },
  {
   "cell_type": "code",
   "execution_count": 268,
   "metadata": {},
   "outputs": [
    {
     "data": {
      "text/plain": [
       "['39.95€',\n",
       " '73.20€',\n",
       " '94.15€',\n",
       " '20.00€',\n",
       " '61.45€',\n",
       " '89.20€',\n",
       " '58.00€',\n",
       " '27.75€',\n",
       " '52.30€',\n",
       " '85.00€',\n",
       " '80.90€',\n",
       " '34.00€',\n",
       " '20.80€',\n",
       " '78.95€',\n",
       " '27.75€',\n",
       " '64.45€',\n",
       " '76.95€',\n",
       " '88.20€',\n",
       " '27.20€',\n",
       " '33.70€',\n",
       " '43.60€',\n",
       " '85.00€',\n",
       " '82.00€',\n",
       " '22.50€',\n",
       " '30.00€',\n",
       " '95.00€',\n",
       " '104.60€']"
      ]
     },
     "execution_count": 268,
     "metadata": {},
     "output_type": "execute_result"
    }
   ],
   "source": [
    "lista_precios_lisboa = sopa_lisboa.findAll('div', {'class': 'price_container'})\n",
    "precios_lisboa = [p.getText().strip().replace( ' \\nVer más', '') for p in lista_precios_lisboa]"
   ]
  },
  {
   "cell_type": "code",
   "execution_count": 229,
   "metadata": {},
   "outputs": [
    {
     "data": {
      "text/plain": [
       "['4 horas',\n",
       " '4 horas',\n",
       " '10 horas',\n",
       " '10 horas',\n",
       " '9 horas',\n",
       " '9 horas',\n",
       " 'De 1 a 3 días',\n",
       " 'De 1 a 3 días',\n",
       " '5 horas',\n",
       " '5 horas',\n",
       " '3 horas 30 minutos',\n",
       " '3 horas 30 minutos',\n",
       " '3 horas',\n",
       " '3 horas',\n",
       " 'flexible',\n",
       " 'flexible',\n",
       " '5 horas',\n",
       " '5 horas',\n",
       " '9 horas',\n",
       " '9 horas',\n",
       " '9 horas',\n",
       " '9 horas',\n",
       " '15 minutos',\n",
       " '15 minutos',\n",
       " '60 minutos',\n",
       " '60 minutos',\n",
       " '9 horas',\n",
       " '9 horas',\n",
       " 'flexible',\n",
       " 'flexible',\n",
       " '3 horas',\n",
       " '3 horas',\n",
       " 'Flexible',\n",
       " 'Flexible',\n",
       " '2 horas 30 minutos',\n",
       " '2 horas 30 minutos',\n",
       " '2 horas',\n",
       " '2 horas',\n",
       " '2 horas 30 minutos',\n",
       " '2 horas 30 minutos',\n",
       " '1 hora 30 minutos',\n",
       " '1 hora 30 minutos',\n",
       " '8 horas',\n",
       " '8 horas',\n",
       " '2 horas',\n",
       " '2 horas',\n",
       " 'De 1 a 7 horas',\n",
       " 'De 1 a 7 horas',\n",
       " '1 hora 30 minutos',\n",
       " '1 hora 30 minutos',\n",
       " '8 horas',\n",
       " '8 horas',\n",
       " '12 horas',\n",
       " '12 horas']"
      ]
     },
     "execution_count": 229,
     "metadata": {},
     "output_type": "execute_result"
    }
   ],
   "source": [
    "lista_duracion = sopa_lisboa('div', {'class': \"tduration\"})\n",
    "duraciones_lisboa = [dur.getText().strip() for dur in lista_duracion]"
   ]
  },
  {
   "cell_type": "code",
   "execution_count": 230,
   "metadata": {},
   "outputs": [
    {
     "name": "stdout",
     "output_type": "stream",
     "text": [
      "['4 horas', '10 horas', '9 horas', 'De 1 a 3 días', '5 horas', '3 horas 30 minutos', '3 horas', 'flexible', '5 horas', '9 horas', '9 horas', '15 minutos', '60 minutos', '9 horas', 'flexible', '3 horas', 'Flexible', '2 horas 30 minutos', '2 horas', '2 horas 30 minutos', '1 hora 30 minutos', '8 horas', '2 horas', 'De 1 a 7 horas', '1 hora 30 minutos', '8 horas', '12 horas']\n"
     ]
    }
   ],
   "source": [
    "#rango desde 0 al tamaño de mi lista\n",
    "#itero sobre cada indice\n",
    "#busco solo los indices impares, si es así lo guardo en mi lista nueva. \n",
    "duraciones_unicas = [duraciones_lisboa[i] for i in range(len(duraciones_lisboa)) if i % 2 == 1]"
   ]
  },
  {
   "cell_type": "code",
   "execution_count": 231,
   "metadata": {},
   "outputs": [
    {
     "data": {
      "text/plain": [
       "27"
      ]
     },
     "execution_count": 231,
     "metadata": {},
     "output_type": "execute_result"
    }
   ],
   "source": [
    "len(duraciones_unicas)"
   ]
  },
  {
   "cell_type": "code",
   "execution_count": 333,
   "metadata": {},
   "outputs": [],
   "source": [
    "diccionario_lisboa = {'Excursiones': excursiones_lisboa, 'Tipo de excursión': tipo_excursion_lisboa, 'Descripción': descripcion_lisboa, 'Precio': precios_lisboa, 'Duración':duraciones_unicas}\n",
    "df_lisboa = pd.DataFrame(diccionario_lisboa)"
   ]
  },
  {
   "cell_type": "code",
   "execution_count": 335,
   "metadata": {},
   "outputs": [],
   "source": [
    "df_lisboa['Precio'] = df_lisboa['Precio'].str.replace('€', '').astype(float)\n",
    "#cambiar el formato"
   ]
  },
  {
   "cell_type": "code",
   "execution_count": 337,
   "metadata": {},
   "outputs": [],
   "source": [
    "df_lisboa.to_csv('datos/excursiones_lisboa.csv', index=False)"
   ]
  },
  {
   "cell_type": "code",
   "execution_count": 332,
   "metadata": {},
   "outputs": [
    {
     "data": {
      "text/plain": [
       "Excursiones            object\n",
       "Tipo de excursioón     object\n",
       "Descripción            object\n",
       "Precio                float64\n",
       "Duración               object\n",
       "dtype: object"
      ]
     },
     "execution_count": 332,
     "metadata": {},
     "output_type": "execute_result"
    }
   ],
   "source": [
    "df_lisboa.dtypes"
   ]
  }
 ],
 "metadata": {
  "kernelspec": {
   "display_name": "Python 3",
   "language": "python",
   "name": "python3"
  },
  "language_info": {
   "codemirror_mode": {
    "name": "ipython",
    "version": 3
   },
   "file_extension": ".py",
   "mimetype": "text/x-python",
   "name": "python",
   "nbconvert_exporter": "python",
   "pygments_lexer": "ipython3",
   "version": "3.11.9"
  }
 },
 "nbformat": 4,
 "nbformat_minor": 2
}
