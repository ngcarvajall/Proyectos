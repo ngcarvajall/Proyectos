{
 "cells": [
  {
   "cell_type": "code",
   "execution_count": 1,
   "metadata": {},
   "outputs": [],
   "source": [
    "import pandas as pd\n",
    "import numpy as np\n",
    "import matplotlib.pyplot as plt\n",
    "import seaborn as sns"
   ]
  },
  {
   "cell_type": "code",
   "execution_count": 2,
   "metadata": {},
   "outputs": [],
   "source": [
    "### para llmar funciones\n",
    "import sys\n",
    "sys.path.append('../')\n",
    "from src import soporte_limpieza as sl"
   ]
  },
  {
   "cell_type": "code",
   "execution_count": 3,
   "metadata": {},
   "outputs": [],
   "source": [
    "pd.set_option('display.max_columns', None)"
   ]
  },
  {
   "cell_type": "code",
   "execution_count": 4,
   "metadata": {},
   "outputs": [],
   "source": [
    "### esto para llama funciones\n",
    "### df['nombrecolumnanueva'] = df['col'].apply(sl.sumar)\n"
   ]
  },
  {
   "cell_type": "code",
   "execution_count": 5,
   "metadata": {},
   "outputs": [
    {
     "name": "stderr",
     "output_type": "stream",
     "text": [
      "C:\\Users\\DELL\\AppData\\Local\\Temp\\ipykernel_5596\\1337882092.py:3: UserWarning: Parsing dates in %d/%m/%Y format when dayfirst=False (the default) was specified. Pass `dayfirst=True` or specify a format to silence this warning.\n",
      "  df_2013 = pd.read_csv(\"../datos/datos-2013.csv\", delimiter=\";\", parse_dates=['DATA LANÇAMENTO'])\n",
      "C:\\Users\\DELL\\AppData\\Local\\Temp\\ipykernel_5596\\1337882092.py:4: UserWarning: Parsing dates in %d/%m/%Y format when dayfirst=False (the default) was specified. Pass `dayfirst=True` or specify a format to silence this warning.\n",
      "  df_2014 = pd.read_csv(\"../datos/datos-2014.csv\", delimiter=\";\", parse_dates=['DATA LANÇAMENTO'])\n",
      "C:\\Users\\DELL\\AppData\\Local\\Temp\\ipykernel_5596\\1337882092.py:5: UserWarning: Parsing dates in %d/%m/%Y format when dayfirst=False (the default) was specified. Pass `dayfirst=True` or specify a format to silence this warning.\n",
      "  df_2015 = pd.read_csv(\"../datos/datos-2015.csv\", delimiter=\";\", parse_dates=['DATA LANÇAMENTO'])\n"
     ]
    },
    {
     "name": "stderr",
     "output_type": "stream",
     "text": [
      "C:\\Users\\DELL\\AppData\\Local\\Temp\\ipykernel_5596\\1337882092.py:7: UserWarning: Parsing dates in %d/%m/%Y format when dayfirst=False (the default) was specified. Pass `dayfirst=True` or specify a format to silence this warning.\n",
      "  df_2017 = pd.read_csv(\"../datos/datos-2017.csv\", delimiter=\";\", parse_dates=['DATA LANÇAMENTO'])\n",
      "C:\\Users\\DELL\\AppData\\Local\\Temp\\ipykernel_5596\\1337882092.py:8: UserWarning: Parsing dates in %d/%m/%Y format when dayfirst=False (the default) was specified. Pass `dayfirst=True` or specify a format to silence this warning.\n",
      "  df_2018 = pd.read_csv(\"../datos/datos-2018.csv\", delimiter=\";\", parse_dates=['DATA LANÇAMENTO'])\n",
      "C:\\Users\\DELL\\AppData\\Local\\Temp\\ipykernel_5596\\1337882092.py:10: UserWarning: Parsing dates in %d/%m/%Y format when dayfirst=False (the default) was specified. Pass `dayfirst=True` or specify a format to silence this warning.\n",
      "  df_2020 = pd.read_csv(\"../datos/datos-2020.csv\", delimiter=\";\", parse_dates=['DATA LANÇAMENTO'])\n",
      "C:\\Users\\DELL\\AppData\\Local\\Temp\\ipykernel_5596\\1337882092.py:11: UserWarning: Parsing dates in %d/%m/%Y format when dayfirst=False (the default) was specified. Pass `dayfirst=True` or specify a format to silence this warning.\n",
      "  df_2021 = pd.read_csv(\"../datos/datos-2021.csv\", delimiter=\";\", parse_dates=['DATA LANÇAMENTO'])\n"
     ]
    }
   ],
   "source": [
    "### Importación de los archivos\n",
    "\n",
    "df_2013 = pd.read_csv(\"../datos/datos-2013.csv\", delimiter=\";\", parse_dates=['DATA LANÇAMENTO'])\n",
    "df_2014 = pd.read_csv(\"../datos/datos-2014.csv\", delimiter=\";\", parse_dates=['DATA LANÇAMENTO'])\n",
    "df_2015 = pd.read_csv(\"../datos/datos-2015.csv\", delimiter=\";\", parse_dates=['DATA LANÇAMENTO'])\n",
    "df_2016 = pd.read_csv(\"../datos/datos-2016.csv\", delimiter=\";\", parse_dates=['DATA LANÇAMENTO']) \n",
    "df_2017 = pd.read_csv(\"../datos/datos-2017.csv\", delimiter=\";\", parse_dates=['DATA LANÇAMENTO']) \n",
    "df_2018 = pd.read_csv(\"../datos/datos-2018.csv\", delimiter=\";\", parse_dates=['DATA LANÇAMENTO']) \n",
    "df_2019 = pd.read_csv(\"../datos/datos-2019.csv\", delimiter=\";\", parse_dates=['DATA LANÇAMENTO']) \n",
    "df_2020 = pd.read_csv(\"../datos/datos-2020.csv\", delimiter=\";\", parse_dates=['DATA LANÇAMENTO']) \n",
    "df_2021 = pd.read_csv(\"../datos/datos-2021.csv\", delimiter=\";\", parse_dates=['DATA LANÇAMENTO']) "
   ]
  },
  {
   "cell_type": "markdown",
   "metadata": {},
   "source": [
    "* EDA INICIAL\n",
    "\n",
    "Comprobamos que el número de columnas fuera igual en todos los dataframes.\n",
    "\n",
    "Nos dimos cuenta de que los ingresos y las fechas estaban en formato object. Además las fechas de 2016 y 2019 estaban ordenadas en día, mes y año en lugar de año, mes y día.\n",
    "\n",
    "Nos dimos cuenta de que utilizando los códigos podríamos rellenar algunos nan de los nombres de organizaciones y viceversa, usando nombres hemos rellenado códigos.\n",
    "\n",
    "Nos dimos cuenta que algunas columnas ya incluían un valor de Sem informaçao donde podíamos agrupar con los nan pues reflejan lo mismo.\n",
    "\n",
    "Después de importar los Data Frames de manera individual, hemos creado una lista con esos años para aplicarla en el mergeo. De esta forma tenemos todos los años completos. \n",
    "\n",
    "Hemos identificado los tipos de datos que tenemos en nuestro csv para saber cuáles modificar para poder trabajar con ellos."
   ]
  },
  {
   "cell_type": "code",
   "execution_count": 6,
   "metadata": {},
   "outputs": [
    {
     "data": {
      "text/plain": [
       "0        2016-04-04\n",
       "1        2016-12-08\n",
       "2        2016-08-22\n",
       "3        2016-03-21\n",
       "4        2016-11-04\n",
       "            ...    \n",
       "194528   2016-01-11\n",
       "194529   2016-01-21\n",
       "194530   2016-01-20\n",
       "194531   2016-02-26\n",
       "194532   2016-01-13\n",
       "Name: DATA LANÇAMENTO, Length: 194533, dtype: datetime64[ns]"
      ]
     },
     "execution_count": 6,
     "metadata": {},
     "output_type": "execute_result"
    }
   ],
   "source": [
    "df_2019[\"DATA LANÇAMENTO\"] = pd.to_datetime(df_2019[\"DATA LANÇAMENTO\"], format=\"%d/%m/%Y\")\n",
    "df_2019[\"DATA LANÇAMENTO\"]  #cambio a fecha\n",
    "\n",
    "df_2016[\"DATA LANÇAMENTO\"] = pd.to_datetime(df_2016[\"DATA LANÇAMENTO\"], format=\"%d/%m/%Y\")\n",
    "df_2016[\"DATA LANÇAMENTO\"]  #cambio a fecha\n",
    "\n",
    "### esto debido a que no todas tenían el mismo formato"
   ]
  },
  {
   "cell_type": "code",
   "execution_count": 7,
   "metadata": {},
   "outputs": [],
   "source": [
    "### llena los años\n",
    "\n",
    "listadf = [df_2013, df_2014, df_2015, df_2016, df_2017, df_2018, df_2019, df_2020, df_2021]\n",
    "lista_años = [2013,2014,2015,2016,2017,2018,2019,2020,2021]\n",
    "def fillyear(df,year):\n",
    "    df['ANO EXERCÍCIO'] = df['ANO EXERCÍCIO'].fillna(year)\n",
    "    return df"
   ]
  },
  {
   "cell_type": "code",
   "execution_count": 8,
   "metadata": {},
   "outputs": [],
   "source": [
    "listadf_anos =list(map(fillyear, listadf, lista_años))"
   ]
  },
  {
   "cell_type": "code",
   "execution_count": 9,
   "metadata": {},
   "outputs": [],
   "source": [
    "df_llena = pd.concat(listadf_anos).reset_index(drop=True)\n",
    "df_llena['ANO EXERCÍCIO'] = df_llena['ANO EXERCÍCIO'].astype(int)\n"
   ]
  },
  {
   "cell_type": "code",
   "execution_count": 10,
   "metadata": {},
   "outputs": [
    {
     "name": "stderr",
     "output_type": "stream",
     "text": [
      "C:\\Users\\DELL\\AppData\\Local\\Temp\\ipykernel_5596\\3588227548.py:3: FutureWarning: Series.fillna with 'method' is deprecated and will raise in a future version. Use obj.ffill() or obj.bfill() instead.\n",
      "  df_llena['NOME ÓRGÃO SUPERIOR'] = df_llena.groupby('CÓDIGO ÓRGÃO SUPERIOR')['NOME ÓRGÃO SUPERIOR'].transform(lambda x: x.fillna(method='ffill'))\n"
     ]
    },
    {
     "name": "stdout",
     "output_type": "stream",
     "text": [
      "<class 'pandas.core.series.Series'>\n",
      "RangeIndex: 1026299 entries, 0 to 1026298\n",
      "Series name: NOME ÓRGÃO SUPERIOR\n",
      "Non-Null Count   Dtype \n",
      "--------------   ----- \n",
      "995921 non-null  object\n",
      "dtypes: object(1)\n",
      "memory usage: 7.8+ MB\n"
     ]
    },
    {
     "name": "stderr",
     "output_type": "stream",
     "text": [
      "C:\\Users\\DELL\\AppData\\Local\\Temp\\ipykernel_5596\\3588227548.py:6: FutureWarning: Series.fillna with 'method' is deprecated and will raise in a future version. Use obj.ffill() or obj.bfill() instead.\n",
      "  df_llena['NOME ÓRGÃO'] = df_llena.groupby('CÓDIGO ÓRGÃO')['NOME ÓRGÃO'].transform(lambda x: x.fillna(method='ffill'))\n"
     ]
    },
    {
     "name": "stdout",
     "output_type": "stream",
     "text": [
      "<class 'pandas.core.series.Series'>\n",
      "RangeIndex: 1026299 entries, 0 to 1026298\n",
      "Series name: NOME ÓRGÃO\n",
      "Non-Null Count    Dtype \n",
      "--------------    ----- \n",
      "1001164 non-null  object\n",
      "dtypes: object(1)\n",
      "memory usage: 7.8+ MB\n"
     ]
    },
    {
     "name": "stderr",
     "output_type": "stream",
     "text": [
      "C:\\Users\\DELL\\AppData\\Local\\Temp\\ipykernel_5596\\3588227548.py:9: FutureWarning: Series.fillna with 'method' is deprecated and will raise in a future version. Use obj.ffill() or obj.bfill() instead.\n",
      "  df_llena['CÓDIGO UNIDADE GESTORA'] = df_llena.groupby('NOME UNIDADE GESTORA')['CÓDIGO UNIDADE GESTORA'].transform(lambda x: x.fillna(method='ffill'))\n"
     ]
    },
    {
     "data": {
      "text/plain": [
       "0          110060.0\n",
       "1          110060.0\n",
       "2          110060.0\n",
       "3          110060.0\n",
       "4          110060.0\n",
       "             ...   \n",
       "1026294    243001.0\n",
       "1026295    243001.0\n",
       "1026296    243001.0\n",
       "1026297    243001.0\n",
       "1026298    243001.0\n",
       "Name: CÓDIGO UNIDADE GESTORA, Length: 1026299, dtype: float64"
      ]
     },
     "execution_count": 10,
     "metadata": {},
     "output_type": "execute_result"
    }
   ],
   "source": [
    "### aquí voy rellenando los nombres en base a sus respectivos códigos\n",
    "\n",
    "df_llena['NOME ÓRGÃO SUPERIOR'] = df_llena.groupby('CÓDIGO ÓRGÃO SUPERIOR')['NOME ÓRGÃO SUPERIOR'].transform(lambda x: x.fillna(method='ffill'))\n",
    "df_llena['NOME ÓRGÃO SUPERIOR'].info() #Columna codigo y nombre\n",
    "\n",
    "df_llena['NOME ÓRGÃO'] = df_llena.groupby('CÓDIGO ÓRGÃO')['NOME ÓRGÃO'].transform(lambda x: x.fillna(method='ffill'))\n",
    "df_llena['NOME ÓRGÃO'].info() #Columna codigo y nombre\n",
    "\n",
    "df_llena['CÓDIGO UNIDADE GESTORA'] = df_llena.groupby('NOME UNIDADE GESTORA')['CÓDIGO UNIDADE GESTORA'].transform(lambda x: x.fillna(method='ffill'))\n",
    "df_llena['CÓDIGO UNIDADE GESTORA'] #Columna codigo y nombre"
   ]
  },
  {
   "cell_type": "code",
   "execution_count": 11,
   "metadata": {},
   "outputs": [
    {
     "data": {
      "text/html": [
       "<div>\n",
       "<style scoped>\n",
       "    .dataframe tbody tr th:only-of-type {\n",
       "        vertical-align: middle;\n",
       "    }\n",
       "\n",
       "    .dataframe tbody tr th {\n",
       "        vertical-align: top;\n",
       "    }\n",
       "\n",
       "    .dataframe thead th {\n",
       "        text-align: right;\n",
       "    }\n",
       "</style>\n",
       "<table border=\"1\" class=\"dataframe\">\n",
       "  <thead>\n",
       "    <tr style=\"text-align: right;\">\n",
       "      <th></th>\n",
       "      <th>CÓDIGO ÓRGÃO SUPERIOR</th>\n",
       "      <th>NOME ÓRGÃO SUPERIOR</th>\n",
       "      <th>CÓDIGO ÓRGÃO</th>\n",
       "      <th>NOME ÓRGÃO</th>\n",
       "      <th>CÓDIGO UNIDADE GESTORA</th>\n",
       "      <th>NOME UNIDADE GESTORA</th>\n",
       "      <th>CATEGORIA ECONÔMICA</th>\n",
       "      <th>ORIGEM RECEITA</th>\n",
       "      <th>ESPÉCIE RECEITA</th>\n",
       "      <th>DETALHAMENTO</th>\n",
       "      <th>VALOR PREVISTO ATUALIZADO</th>\n",
       "      <th>VALOR LANÇADO</th>\n",
       "      <th>VALOR REALIZADO</th>\n",
       "      <th>PERCENTUAL REALIZADO</th>\n",
       "      <th>DATA LANÇAMENTO</th>\n",
       "      <th>ANO EXERCÍCIO</th>\n",
       "    </tr>\n",
       "  </thead>\n",
       "  <tbody>\n",
       "    <tr>\n",
       "      <th>874789</th>\n",
       "      <td>32000.0</td>\n",
       "      <td>Ministério de Minas e Energia</td>\n",
       "      <td>32205.0</td>\n",
       "      <td>Agência Nacional do Petróleo, Gás Natural e Bi...</td>\n",
       "      <td>323030.0</td>\n",
       "      <td>AG. NAC.DO PETROLEO GAS NAT.E BIOCOM</td>\n",
       "      <td>Receitas Correntes</td>\n",
       "      <td>Outras Receitas Correntes</td>\n",
       "      <td>Multas administrativas, contratuais e judicia</td>\n",
       "      <td>MULTAS PREVISTAS EM LEGISL.ESPECIFICA-DIV.AT.</td>\n",
       "      <td>0,00</td>\n",
       "      <td>0,00</td>\n",
       "      <td>170655,19</td>\n",
       "      <td>0,00</td>\n",
       "      <td>2020-02-20</td>\n",
       "      <td>2020</td>\n",
       "    </tr>\n",
       "    <tr>\n",
       "      <th>859885</th>\n",
       "      <td>30000.0</td>\n",
       "      <td>Ministério da Justiça e Segurança Pública</td>\n",
       "      <td>30912.0</td>\n",
       "      <td>Fundo Nacional Antidrogas</td>\n",
       "      <td>200246.0</td>\n",
       "      <td>FUNDO NACIONAL ANTIDROGAS</td>\n",
       "      <td>Receitas Correntes</td>\n",
       "      <td>Impostos, Taxas e Contribuições de Melhoria</td>\n",
       "      <td>NaN</td>\n",
       "      <td>TX.CONTROLE E FISCALIZ.PROD.QUÍMICOS-PRINC.</td>\n",
       "      <td>0,00</td>\n",
       "      <td>0,00</td>\n",
       "      <td>27204,28</td>\n",
       "      <td>0,00</td>\n",
       "      <td>2020-03-13</td>\n",
       "      <td>2020</td>\n",
       "    </tr>\n",
       "    <tr>\n",
       "      <th>500911</th>\n",
       "      <td>26000.0</td>\n",
       "      <td>Ministério da Educação</td>\n",
       "      <td>26264.0</td>\n",
       "      <td>Universidade Federal Rural do Semi-Árido</td>\n",
       "      <td>153033.0</td>\n",
       "      <td>UNIVERSIDADE FEDERAL RURAL DO SEMI-ARIDO - RN</td>\n",
       "      <td>Receitas Correntes</td>\n",
       "      <td>Receita Agropecuária</td>\n",
       "      <td>Receita Agropecuária</td>\n",
       "      <td>RECEITA AGROPECUÁRIA-PRINCIPAL</td>\n",
       "      <td>0,00</td>\n",
       "      <td>0,00</td>\n",
       "      <td>828,00</td>\n",
       "      <td>0,00</td>\n",
       "      <td>2018-08-08</td>\n",
       "      <td>2018</td>\n",
       "    </tr>\n",
       "    <tr>\n",
       "      <th>430066</th>\n",
       "      <td>25000.0</td>\n",
       "      <td>Ministério da Economia</td>\n",
       "      <td>25000.0</td>\n",
       "      <td>Ministério da Economia - Unidades com vínculo ...</td>\n",
       "      <td>170013.0</td>\n",
       "      <td>SETORIAL ORCAMENTARIA E FINANCEIRA / ME</td>\n",
       "      <td>Receitas Correntes</td>\n",
       "      <td>Receita de Serviços</td>\n",
       "      <td>Serviços e Atividades Financeiras</td>\n",
       "      <td>RETORNO DE OP.,JUR.E ENC.FINANCEIROS-PRINC.</td>\n",
       "      <td>0,00</td>\n",
       "      <td>0,00</td>\n",
       "      <td>56780280,20</td>\n",
       "      <td>0,00</td>\n",
       "      <td>2018-04-27</td>\n",
       "      <td>2018</td>\n",
       "    </tr>\n",
       "    <tr>\n",
       "      <th>521986</th>\n",
       "      <td>26000.0</td>\n",
       "      <td>Ministério da Educação</td>\n",
       "      <td>26290.0</td>\n",
       "      <td>Instituto Nacional de Estudos e Pesquisas Educ...</td>\n",
       "      <td>153978.0</td>\n",
       "      <td>INST.NACIONAL DE EST.E PESQUISAS EDUCACIONAIS</td>\n",
       "      <td>Receitas Correntes</td>\n",
       "      <td>Impostos, Taxas e Contribuições de Melhoria</td>\n",
       "      <td>Taxas</td>\n",
       "      <td>TAXAS INSPEÇÃO,CONTROLE E FISCALIZAÇÃO-PRINC.</td>\n",
       "      <td>0,00</td>\n",
       "      <td>0,00</td>\n",
       "      <td>19488,00</td>\n",
       "      <td>0,00</td>\n",
       "      <td>2018-05-30</td>\n",
       "      <td>2018</td>\n",
       "    </tr>\n",
       "  </tbody>\n",
       "</table>\n",
       "</div>"
      ],
      "text/plain": [
       "        CÓDIGO ÓRGÃO SUPERIOR                        NOME ÓRGÃO SUPERIOR  \\\n",
       "874789                32000.0              Ministério de Minas e Energia   \n",
       "859885                30000.0  Ministério da Justiça e Segurança Pública   \n",
       "500911                26000.0                     Ministério da Educação   \n",
       "430066                25000.0                     Ministério da Economia   \n",
       "521986                26000.0                     Ministério da Educação   \n",
       "\n",
       "        CÓDIGO ÓRGÃO                                         NOME ÓRGÃO  \\\n",
       "874789       32205.0  Agência Nacional do Petróleo, Gás Natural e Bi...   \n",
       "859885       30912.0                          Fundo Nacional Antidrogas   \n",
       "500911       26264.0           Universidade Federal Rural do Semi-Árido   \n",
       "430066       25000.0  Ministério da Economia - Unidades com vínculo ...   \n",
       "521986       26290.0  Instituto Nacional de Estudos e Pesquisas Educ...   \n",
       "\n",
       "        CÓDIGO UNIDADE GESTORA                           NOME UNIDADE GESTORA  \\\n",
       "874789                323030.0           AG. NAC.DO PETROLEO GAS NAT.E BIOCOM   \n",
       "859885                200246.0                      FUNDO NACIONAL ANTIDROGAS   \n",
       "500911                153033.0  UNIVERSIDADE FEDERAL RURAL DO SEMI-ARIDO - RN   \n",
       "430066                170013.0        SETORIAL ORCAMENTARIA E FINANCEIRA / ME   \n",
       "521986                153978.0  INST.NACIONAL DE EST.E PESQUISAS EDUCACIONAIS   \n",
       "\n",
       "       CATEGORIA ECONÔMICA                               ORIGEM RECEITA  \\\n",
       "874789  Receitas Correntes                    Outras Receitas Correntes   \n",
       "859885  Receitas Correntes  Impostos, Taxas e Contribuições de Melhoria   \n",
       "500911  Receitas Correntes                         Receita Agropecuária   \n",
       "430066  Receitas Correntes                          Receita de Serviços   \n",
       "521986  Receitas Correntes  Impostos, Taxas e Contribuições de Melhoria   \n",
       "\n",
       "                                      ESPÉCIE RECEITA  \\\n",
       "874789  Multas administrativas, contratuais e judicia   \n",
       "859885                                            NaN   \n",
       "500911                           Receita Agropecuária   \n",
       "430066              Serviços e Atividades Financeiras   \n",
       "521986                                          Taxas   \n",
       "\n",
       "                                         DETALHAMENTO  \\\n",
       "874789  MULTAS PREVISTAS EM LEGISL.ESPECIFICA-DIV.AT.   \n",
       "859885    TX.CONTROLE E FISCALIZ.PROD.QUÍMICOS-PRINC.   \n",
       "500911                 RECEITA AGROPECUÁRIA-PRINCIPAL   \n",
       "430066    RETORNO DE OP.,JUR.E ENC.FINANCEIROS-PRINC.   \n",
       "521986  TAXAS INSPEÇÃO,CONTROLE E FISCALIZAÇÃO-PRINC.   \n",
       "\n",
       "       VALOR PREVISTO ATUALIZADO VALOR LANÇADO VALOR REALIZADO  \\\n",
       "874789                      0,00          0,00       170655,19   \n",
       "859885                      0,00          0,00        27204,28   \n",
       "500911                      0,00          0,00          828,00   \n",
       "430066                      0,00          0,00     56780280,20   \n",
       "521986                      0,00          0,00        19488,00   \n",
       "\n",
       "       PERCENTUAL REALIZADO DATA LANÇAMENTO  ANO EXERCÍCIO  \n",
       "874789                 0,00      2020-02-20           2020  \n",
       "859885                 0,00      2020-03-13           2020  \n",
       "500911                 0,00      2018-08-08           2018  \n",
       "430066                 0,00      2018-04-27           2018  \n",
       "521986                 0,00      2018-05-30           2018  "
      ]
     },
     "execution_count": 11,
     "metadata": {},
     "output_type": "execute_result"
    }
   ],
   "source": [
    "df_llena.sample(5)"
   ]
  },
  {
   "cell_type": "code",
   "execution_count": 12,
   "metadata": {},
   "outputs": [],
   "source": [
    "df_llena['PERCENTUAL REALIZADO'] = df_llena['PERCENTUAL REALIZADO'].str.replace(',', '.')\n",
    "df_llena[\"PERCENTUAL REALIZADO\"] = df_llena[\"PERCENTUAL REALIZADO\"].astype(float) ### convierto esta columna a float"
   ]
  },
  {
   "cell_type": "code",
   "execution_count": 13,
   "metadata": {},
   "outputs": [
    {
     "data": {
      "text/plain": [
       "np.int64(172)"
      ]
     },
     "execution_count": 13,
     "metadata": {},
     "output_type": "execute_result"
    }
   ],
   "source": [
    "df_llena.duplicated().sum()"
   ]
  },
  {
   "cell_type": "code",
   "execution_count": 14,
   "metadata": {},
   "outputs": [],
   "source": [
    "df_llena.drop_duplicates(keep= \"first\", inplace=True) ### elimina los duplicados y se queda con el indice lista del ultimo"
   ]
  },
  {
   "cell_type": "code",
   "execution_count": 15,
   "metadata": {},
   "outputs": [
    {
     "data": {
      "text/plain": [
       "np.int64(0)"
      ]
     },
     "execution_count": 15,
     "metadata": {},
     "output_type": "execute_result"
    }
   ],
   "source": [
    "df_llena.duplicated().sum()"
   ]
  },
  {
   "cell_type": "code",
   "execution_count": 16,
   "metadata": {},
   "outputs": [],
   "source": [
    "df_llena['VALOR PREVISTO ATUALIZADO'] = df_llena['VALOR PREVISTO ATUALIZADO'].str.replace(',', '.')\n",
    "df_llena[\"VALOR PREVISTO ATUALIZADO\"] = df_llena[\"VALOR PREVISTO ATUALIZADO\"].astype(float)\n",
    "\n",
    "df_llena['VALOR LANÇADO'] = df_llena['VALOR LANÇADO'].str.replace(',', '.')\n",
    "df_llena[\"VALOR LANÇADO\"] = df_llena[\"VALOR LANÇADO\"].astype(float)\n",
    "\n",
    "df_llena['VALOR REALIZADO'] = df_llena['VALOR REALIZADO'].str.replace(',', '.')\n",
    "df_llena[\"VALOR REALIZADO\"] = df_llena[\"VALOR REALIZADO\"].astype(float)\n",
    "\n",
    "### convierto estas columnas a float"
   ]
  },
  {
   "cell_type": "code",
   "execution_count": 17,
   "metadata": {},
   "outputs": [
    {
     "data": {
      "text/plain": [
       "895138    0.0\n",
       "326143    0.0\n",
       "901673    0.0\n",
       "980497    0.0\n",
       "715358    0.0\n",
       "Name: VALOR PREVISTO ATUALIZADO, dtype: float64"
      ]
     },
     "execution_count": 17,
     "metadata": {},
     "output_type": "execute_result"
    }
   ],
   "source": [
    "df_llena['VALOR PREVISTO ATUALIZADO'].sample(5)"
   ]
  },
  {
   "cell_type": "code",
   "execution_count": 18,
   "metadata": {},
   "outputs": [
    {
     "data": {
      "text/plain": [
       "np.int64(0)"
      ]
     },
     "execution_count": 18,
     "metadata": {},
     "output_type": "execute_result"
    }
   ],
   "source": [
    "df_llena.duplicated().sum()"
   ]
  },
  {
   "cell_type": "code",
   "execution_count": 19,
   "metadata": {},
   "outputs": [
    {
     "data": {
      "text/html": [
       "<div>\n",
       "<style scoped>\n",
       "    .dataframe tbody tr th:only-of-type {\n",
       "        vertical-align: middle;\n",
       "    }\n",
       "\n",
       "    .dataframe tbody tr th {\n",
       "        vertical-align: top;\n",
       "    }\n",
       "\n",
       "    .dataframe thead th {\n",
       "        text-align: right;\n",
       "    }\n",
       "</style>\n",
       "<table border=\"1\" class=\"dataframe\">\n",
       "  <thead>\n",
       "    <tr style=\"text-align: right;\">\n",
       "      <th></th>\n",
       "      <th>CÓDIGO ÓRGÃO SUPERIOR</th>\n",
       "      <th>NOME ÓRGÃO SUPERIOR</th>\n",
       "      <th>CÓDIGO ÓRGÃO</th>\n",
       "      <th>NOME ÓRGÃO</th>\n",
       "      <th>CÓDIGO UNIDADE GESTORA</th>\n",
       "      <th>NOME UNIDADE GESTORA</th>\n",
       "      <th>CATEGORIA ECONÔMICA</th>\n",
       "      <th>ORIGEM RECEITA</th>\n",
       "      <th>ESPÉCIE RECEITA</th>\n",
       "      <th>DETALHAMENTO</th>\n",
       "      <th>VALOR PREVISTO ATUALIZADO</th>\n",
       "      <th>VALOR LANÇADO</th>\n",
       "      <th>VALOR REALIZADO</th>\n",
       "      <th>PERCENTUAL REALIZADO</th>\n",
       "      <th>DATA LANÇAMENTO</th>\n",
       "      <th>ANO EXERCÍCIO</th>\n",
       "    </tr>\n",
       "  </thead>\n",
       "  <tbody>\n",
       "  </tbody>\n",
       "</table>\n",
       "</div>"
      ],
      "text/plain": [
       "Empty DataFrame\n",
       "Columns: [CÓDIGO ÓRGÃO SUPERIOR, NOME ÓRGÃO SUPERIOR, CÓDIGO ÓRGÃO, NOME ÓRGÃO, CÓDIGO UNIDADE GESTORA, NOME UNIDADE GESTORA, CATEGORIA ECONÔMICA, ORIGEM RECEITA, ESPÉCIE RECEITA, DETALHAMENTO, VALOR PREVISTO ATUALIZADO, VALOR LANÇADO, VALOR REALIZADO, PERCENTUAL REALIZADO, DATA LANÇAMENTO, ANO EXERCÍCIO]\n",
       "Index: []"
      ]
     },
     "execution_count": 19,
     "metadata": {},
     "output_type": "execute_result"
    }
   ],
   "source": [
    "df_llena[df_llena.duplicated(keep=False)]"
   ]
  },
  {
   "cell_type": "code",
   "execution_count": 20,
   "metadata": {},
   "outputs": [
    {
     "name": "stdout",
     "output_type": "stream",
     "text": [
      "<class 'pandas.core.frame.DataFrame'>\n",
      "Index: 1026127 entries, 0 to 1026298\n",
      "Data columns (total 16 columns):\n",
      " #   Column                     Non-Null Count    Dtype         \n",
      "---  ------                     --------------    -----         \n",
      " 0   CÓDIGO ÓRGÃO SUPERIOR      995768 non-null   float64       \n",
      " 1   NOME ÓRGÃO SUPERIOR        995749 non-null   object        \n",
      " 2   CÓDIGO ÓRGÃO               1001010 non-null  float64       \n",
      " 3   NOME ÓRGÃO                 1000992 non-null  object        \n",
      " 4   CÓDIGO UNIDADE GESTORA     1006636 non-null  float64       \n",
      " 5   NOME UNIDADE GESTORA       1006648 non-null  object        \n",
      " 6   CATEGORIA ECONÔMICA        1007149 non-null  object        \n",
      " 7   ORIGEM RECEITA             987710 non-null   object        \n",
      " 8   ESPÉCIE RECEITA            994200 non-null   object        \n",
      " 9   DETALHAMENTO               996791 non-null   object        \n",
      " 10  VALOR PREVISTO ATUALIZADO  974812 non-null   float64       \n",
      " 11  VALOR LANÇADO              999708 non-null   float64       \n",
      " 12  VALOR REALIZADO            986708 non-null   float64       \n",
      " 13  PERCENTUAL REALIZADO       1001993 non-null  float64       \n",
      " 14  DATA LANÇAMENTO            1002467 non-null  datetime64[ns]\n",
      " 15  ANO EXERCÍCIO              1026127 non-null  int64         \n",
      "dtypes: datetime64[ns](1), float64(7), int64(1), object(7)\n",
      "memory usage: 133.1+ MB\n"
     ]
    }
   ],
   "source": [
    "df_llena.info()"
   ]
  },
  {
   "cell_type": "code",
   "execution_count": 21,
   "metadata": {},
   "outputs": [
    {
     "data": {
      "text/plain": [
       "CATEGORIA ECONÔMICA\n",
       "Receitas Correntes                           961360\n",
       "Receitas de Capital                           29523\n",
       "Receitas Correntes - intra-orçamentárias      15924\n",
       "Sem informação                                  252\n",
       "Receitas de Capital - intra-orçamentárias        90\n",
       "Name: count, dtype: int64"
      ]
     },
     "execution_count": 21,
     "metadata": {},
     "output_type": "execute_result"
    }
   ],
   "source": [
    "df_llena['CATEGORIA ECONÔMICA'].value_counts()"
   ]
  },
  {
   "cell_type": "code",
   "execution_count": 22,
   "metadata": {},
   "outputs": [
    {
     "data": {
      "text/plain": [
       "np.int64(18978)"
      ]
     },
     "execution_count": 22,
     "metadata": {},
     "output_type": "execute_result"
    }
   ],
   "source": [
    "df_llena['CATEGORIA ECONÔMICA'].isna().sum()"
   ]
  },
  {
   "cell_type": "code",
   "execution_count": 23,
   "metadata": {},
   "outputs": [],
   "source": [
    "df_llena['CATEGORIA ECONÔMICA'] = df_llena['CATEGORIA ECONÔMICA'].fillna('Sem informação')\n"
   ]
  },
  {
   "cell_type": "code",
   "execution_count": 24,
   "metadata": {},
   "outputs": [],
   "source": [
    "df_llena['ORIGEM RECEITA'] = df_llena['ORIGEM RECEITA'].fillna('Sem informação')\n",
    "###"
   ]
  },
  {
   "cell_type": "code",
   "execution_count": 25,
   "metadata": {},
   "outputs": [],
   "source": [
    "df_llena['ESPÉCIE RECEITA'] = df_llena['ESPÉCIE RECEITA'].fillna('Sem informação')"
   ]
  },
  {
   "cell_type": "code",
   "execution_count": 26,
   "metadata": {},
   "outputs": [],
   "source": [
    "df_llena['DETALHAMENTO'] = df_llena['DETALHAMENTO'].fillna('Sem informação')"
   ]
  },
  {
   "cell_type": "code",
   "execution_count": 27,
   "metadata": {},
   "outputs": [],
   "source": [
    "df_llena['NOME ÓRGÃO SUPERIOR'] = df_llena['NOME ÓRGÃO SUPERIOR'].fillna('Sem informação')\n",
    "df_llena['NOME ÓRGÃO'] = df_llena['NOME ÓRGÃO'].fillna('Sem informação')\n",
    "df_llena['NOME UNIDADE GESTORA'] = df_llena['NOME UNIDADE GESTORA'].fillna('Sem informação')"
   ]
  },
  {
   "cell_type": "code",
   "execution_count": 28,
   "metadata": {},
   "outputs": [],
   "source": [
    "df_llena['CÓDIGO ÓRGÃO SUPERIOR'] = df_llena['CÓDIGO ÓRGÃO SUPERIOR'].fillna(value=0000)\n",
    "df_llena['CÓDIGO ÓRGÃO'] = df_llena['CÓDIGO ÓRGÃO'].fillna(value=0000)\n",
    "df_llena['CÓDIGO UNIDADE GESTORA'] = df_llena['CÓDIGO UNIDADE GESTORA'].fillna(value=0000)"
   ]
  },
  {
   "cell_type": "code",
   "execution_count": 29,
   "metadata": {},
   "outputs": [
    {
     "data": {
      "text/plain": [
       "CÓDIGO ÓRGÃO SUPERIOR               float64\n",
       "NOME ÓRGÃO SUPERIOR                  object\n",
       "CÓDIGO ÓRGÃO                        float64\n",
       "NOME ÓRGÃO                           object\n",
       "CÓDIGO UNIDADE GESTORA              float64\n",
       "NOME UNIDADE GESTORA                 object\n",
       "CATEGORIA ECONÔMICA                  object\n",
       "ORIGEM RECEITA                       object\n",
       "ESPÉCIE RECEITA                      object\n",
       "DETALHAMENTO                         object\n",
       "VALOR PREVISTO ATUALIZADO           float64\n",
       "VALOR LANÇADO                       float64\n",
       "VALOR REALIZADO                     float64\n",
       "PERCENTUAL REALIZADO                float64\n",
       "DATA LANÇAMENTO              datetime64[ns]\n",
       "ANO EXERCÍCIO                         int64\n",
       "dtype: object"
      ]
     },
     "execution_count": 29,
     "metadata": {},
     "output_type": "execute_result"
    }
   ],
   "source": [
    "df_llena.dtypes"
   ]
  },
  {
   "cell_type": "code",
   "execution_count": 30,
   "metadata": {},
   "outputs": [
    {
     "data": {
      "text/plain": [
       "array(['Receitas Correntes', 'Receitas de Capital', 'Sem informação',\n",
       "       'Receitas Correntes - intra-orçamentárias',\n",
       "       'Receitas de Capital - intra-orçamentárias'], dtype=object)"
      ]
     },
     "execution_count": 30,
     "metadata": {},
     "output_type": "execute_result"
    }
   ],
   "source": [
    "df_llena['CATEGORIA ECONÔMICA'].unique()"
   ]
  },
  {
   "cell_type": "code",
   "execution_count": 31,
   "metadata": {},
   "outputs": [],
   "source": [
    "### diccionario funcional\n",
    "\n",
    "# nuevas_columnas = {i : i.lower() for i in df_2013.columns}\n",
    "# df_2013.rename(nuevas_columnas, inplace= True, axis = 1) \n",
    "\n",
    "# cambio_nombre_columnas = {\n",
    "#     'código órgão superior':'codigo_entidad',\n",
    "#     'nome órgão superior':'nombre_entidad',\n",
    "#     'código órgão':'codigo_especifica',\n",
    "#     'nome órgão':'nombre_entidad_especifica',\n",
    "#     'código unidade gestora':'codigo_unidad_gestora',\n",
    "#     'nome unidade gestora':'nombre_unidad_gestora',\n",
    "#     'categoria econômica':'clasificacion_ingresos',\n",
    "#     'origem receita':'fuente_ingreso',\n",
    "#     'espécie receita':'tipo_ingreso',\n",
    "#     'detalhamento':'detalle_ingreso',\n",
    "#     'valor previsto atualizado':'monto_previsto_actualizado',\n",
    "#     'valor lançado':'monto_lanzado',\n",
    "#     'valor realizado':'monto_recaudado',\n",
    "#     'percentual realizado':'porcentaje_recaudado',\n",
    "#     'data lançamento':'fecha_lanzamiento',\n",
    "#     'ano exercício':'anio_ejercicio'\n",
    "# }\n",
    "\n",
    "# df_2013.rename(columns = cambio_nombre_columnas,inplace= True)"
   ]
  },
  {
   "cell_type": "code",
   "execution_count": 32,
   "metadata": {},
   "outputs": [
    {
     "data": {
      "text/plain": [
       "CÓDIGO ÓRGÃO SUPERIOR            0\n",
       "NOME ÓRGÃO SUPERIOR              0\n",
       "CÓDIGO ÓRGÃO                     0\n",
       "NOME ÓRGÃO                       0\n",
       "CÓDIGO UNIDADE GESTORA           0\n",
       "NOME UNIDADE GESTORA             0\n",
       "CATEGORIA ECONÔMICA              0\n",
       "ORIGEM RECEITA                   0\n",
       "ESPÉCIE RECEITA                  0\n",
       "DETALHAMENTO                     0\n",
       "VALOR PREVISTO ATUALIZADO    51315\n",
       "VALOR LANÇADO                26419\n",
       "VALOR REALIZADO              39419\n",
       "PERCENTUAL REALIZADO         24134\n",
       "DATA LANÇAMENTO              23660\n",
       "ANO EXERCÍCIO                    0\n",
       "dtype: int64"
      ]
     },
     "execution_count": 32,
     "metadata": {},
     "output_type": "execute_result"
    }
   ],
   "source": [
    "df_llena.isnull().sum()"
   ]
  },
  {
   "cell_type": "code",
   "execution_count": 33,
   "metadata": {},
   "outputs": [
    {
     "data": {
      "text/plain": [
       "array(['Receitas Correntes', 'Receitas de Capital', 'Sem informação',\n",
       "       'Receitas Correntes - intra-orçamentárias',\n",
       "       'Receitas de Capital - intra-orçamentárias'], dtype=object)"
      ]
     },
     "execution_count": 33,
     "metadata": {},
     "output_type": "execute_result"
    }
   ],
   "source": [
    "df_llena['CATEGORIA ECONÔMICA'].unique()"
   ]
  },
  {
   "cell_type": "code",
   "execution_count": 34,
   "metadata": {},
   "outputs": [
    {
     "data": {
      "text/html": [
       "<div>\n",
       "<style scoped>\n",
       "    .dataframe tbody tr th:only-of-type {\n",
       "        vertical-align: middle;\n",
       "    }\n",
       "\n",
       "    .dataframe tbody tr th {\n",
       "        vertical-align: top;\n",
       "    }\n",
       "\n",
       "    .dataframe thead th {\n",
       "        text-align: right;\n",
       "    }\n",
       "</style>\n",
       "<table border=\"1\" class=\"dataframe\">\n",
       "  <thead>\n",
       "    <tr style=\"text-align: right;\">\n",
       "      <th></th>\n",
       "      <th>CÓDIGO ÓRGÃO SUPERIOR</th>\n",
       "      <th>CÓDIGO ÓRGÃO</th>\n",
       "      <th>CÓDIGO UNIDADE GESTORA</th>\n",
       "      <th>VALOR PREVISTO ATUALIZADO</th>\n",
       "      <th>VALOR LANÇADO</th>\n",
       "      <th>VALOR REALIZADO</th>\n",
       "      <th>PERCENTUAL REALIZADO</th>\n",
       "      <th>DATA LANÇAMENTO</th>\n",
       "      <th>ANO EXERCÍCIO</th>\n",
       "    </tr>\n",
       "  </thead>\n",
       "  <tbody>\n",
       "    <tr>\n",
       "      <th>count</th>\n",
       "      <td>1.026127e+06</td>\n",
       "      <td>1.026127e+06</td>\n",
       "      <td>1.026127e+06</td>\n",
       "      <td>9.748120e+05</td>\n",
       "      <td>9.997080e+05</td>\n",
       "      <td>9.867080e+05</td>\n",
       "      <td>1.001993e+06</td>\n",
       "      <td>1002467</td>\n",
       "      <td>1.026127e+06</td>\n",
       "    </tr>\n",
       "    <tr>\n",
       "      <th>mean</th>\n",
       "      <td>3.110542e+04</td>\n",
       "      <td>3.066897e+04</td>\n",
       "      <td>2.268448e+05</td>\n",
       "      <td>2.866320e+07</td>\n",
       "      <td>5.277697e+06</td>\n",
       "      <td>2.499055e+07</td>\n",
       "      <td>8.220896e+01</td>\n",
       "      <td>2018-09-20 04:04:29.177539328</td>\n",
       "      <td>2.018226e+03</td>\n",
       "    </tr>\n",
       "    <tr>\n",
       "      <th>min</th>\n",
       "      <td>0.000000e+00</td>\n",
       "      <td>0.000000e+00</td>\n",
       "      <td>0.000000e+00</td>\n",
       "      <td>-2.147737e+08</td>\n",
       "      <td>-1.483473e+11</td>\n",
       "      <td>-1.562859e+11</td>\n",
       "      <td>-1.145520e+05</td>\n",
       "      <td>2013-12-31 00:00:00</td>\n",
       "      <td>2.013000e+03</td>\n",
       "    </tr>\n",
       "    <tr>\n",
       "      <th>25%</th>\n",
       "      <td>2.500000e+04</td>\n",
       "      <td>2.500000e+04</td>\n",
       "      <td>1.531670e+05</td>\n",
       "      <td>0.000000e+00</td>\n",
       "      <td>0.000000e+00</td>\n",
       "      <td>2.609375e+02</td>\n",
       "      <td>0.000000e+00</td>\n",
       "      <td>2017-03-30 00:00:00</td>\n",
       "      <td>2.017000e+03</td>\n",
       "    </tr>\n",
       "    <tr>\n",
       "      <th>50%</th>\n",
       "      <td>2.600000e+04</td>\n",
       "      <td>2.629100e+04</td>\n",
       "      <td>1.680020e+05</td>\n",
       "      <td>0.000000e+00</td>\n",
       "      <td>0.000000e+00</td>\n",
       "      <td>3.028885e+03</td>\n",
       "      <td>0.000000e+00</td>\n",
       "      <td>2018-08-29 00:00:00</td>\n",
       "      <td>2.018000e+03</td>\n",
       "    </tr>\n",
       "    <tr>\n",
       "      <th>75%</th>\n",
       "      <td>3.600000e+04</td>\n",
       "      <td>3.490200e+04</td>\n",
       "      <td>2.500880e+05</td>\n",
       "      <td>0.000000e+00</td>\n",
       "      <td>0.000000e+00</td>\n",
       "      <td>4.095573e+04</td>\n",
       "      <td>0.000000e+00</td>\n",
       "      <td>2020-02-12 00:00:00</td>\n",
       "      <td>2.020000e+03</td>\n",
       "    </tr>\n",
       "    <tr>\n",
       "      <th>max</th>\n",
       "      <td>8.100000e+04</td>\n",
       "      <td>9.121400e+04</td>\n",
       "      <td>9.130010e+05</td>\n",
       "      <td>1.603522e+12</td>\n",
       "      <td>3.571607e+11</td>\n",
       "      <td>7.711177e+11</td>\n",
       "      <td>7.236377e+07</td>\n",
       "      <td>2021-12-03 00:00:00</td>\n",
       "      <td>2.021000e+03</td>\n",
       "    </tr>\n",
       "    <tr>\n",
       "      <th>std</th>\n",
       "      <td>1.178324e+04</td>\n",
       "      <td>1.135066e+04</td>\n",
       "      <td>1.461997e+05</td>\n",
       "      <td>3.479226e+09</td>\n",
       "      <td>8.171592e+08</td>\n",
       "      <td>1.418152e+09</td>\n",
       "      <td>7.234290e+04</td>\n",
       "      <td>NaN</td>\n",
       "      <td>1.737983e+00</td>\n",
       "    </tr>\n",
       "  </tbody>\n",
       "</table>\n",
       "</div>"
      ],
      "text/plain": [
       "       CÓDIGO ÓRGÃO SUPERIOR  CÓDIGO ÓRGÃO  CÓDIGO UNIDADE GESTORA  \\\n",
       "count           1.026127e+06  1.026127e+06            1.026127e+06   \n",
       "mean            3.110542e+04  3.066897e+04            2.268448e+05   \n",
       "min             0.000000e+00  0.000000e+00            0.000000e+00   \n",
       "25%             2.500000e+04  2.500000e+04            1.531670e+05   \n",
       "50%             2.600000e+04  2.629100e+04            1.680020e+05   \n",
       "75%             3.600000e+04  3.490200e+04            2.500880e+05   \n",
       "max             8.100000e+04  9.121400e+04            9.130010e+05   \n",
       "std             1.178324e+04  1.135066e+04            1.461997e+05   \n",
       "\n",
       "       VALOR PREVISTO ATUALIZADO  VALOR LANÇADO  VALOR REALIZADO  \\\n",
       "count               9.748120e+05   9.997080e+05     9.867080e+05   \n",
       "mean                2.866320e+07   5.277697e+06     2.499055e+07   \n",
       "min                -2.147737e+08  -1.483473e+11    -1.562859e+11   \n",
       "25%                 0.000000e+00   0.000000e+00     2.609375e+02   \n",
       "50%                 0.000000e+00   0.000000e+00     3.028885e+03   \n",
       "75%                 0.000000e+00   0.000000e+00     4.095573e+04   \n",
       "max                 1.603522e+12   3.571607e+11     7.711177e+11   \n",
       "std                 3.479226e+09   8.171592e+08     1.418152e+09   \n",
       "\n",
       "       PERCENTUAL REALIZADO                DATA LANÇAMENTO  ANO EXERCÍCIO  \n",
       "count          1.001993e+06                        1002467   1.026127e+06  \n",
       "mean           8.220896e+01  2018-09-20 04:04:29.177539328   2.018226e+03  \n",
       "min           -1.145520e+05            2013-12-31 00:00:00   2.013000e+03  \n",
       "25%            0.000000e+00            2017-03-30 00:00:00   2.017000e+03  \n",
       "50%            0.000000e+00            2018-08-29 00:00:00   2.018000e+03  \n",
       "75%            0.000000e+00            2020-02-12 00:00:00   2.020000e+03  \n",
       "max            7.236377e+07            2021-12-03 00:00:00   2.021000e+03  \n",
       "std            7.234290e+04                            NaN   1.737983e+00  "
      ]
     },
     "execution_count": 34,
     "metadata": {},
     "output_type": "execute_result"
    }
   ],
   "source": [
    "df_llena.describe()"
   ]
  },
  {
   "cell_type": "code",
   "execution_count": 35,
   "metadata": {},
   "outputs": [
    {
     "data": {
      "text/plain": [
       "CÓDIGO ÓRGÃO SUPERIOR               float64\n",
       "NOME ÓRGÃO SUPERIOR                  object\n",
       "CÓDIGO ÓRGÃO                        float64\n",
       "NOME ÓRGÃO                           object\n",
       "CÓDIGO UNIDADE GESTORA              float64\n",
       "NOME UNIDADE GESTORA                 object\n",
       "CATEGORIA ECONÔMICA                  object\n",
       "ORIGEM RECEITA                       object\n",
       "ESPÉCIE RECEITA                      object\n",
       "DETALHAMENTO                         object\n",
       "VALOR PREVISTO ATUALIZADO           float64\n",
       "VALOR LANÇADO                       float64\n",
       "VALOR REALIZADO                     float64\n",
       "PERCENTUAL REALIZADO                float64\n",
       "DATA LANÇAMENTO              datetime64[ns]\n",
       "ANO EXERCÍCIO                         int64\n",
       "dtype: object"
      ]
     },
     "execution_count": 35,
     "metadata": {},
     "output_type": "execute_result"
    }
   ],
   "source": [
    "df_llena.dtypes"
   ]
  },
  {
   "cell_type": "code",
   "execution_count": 36,
   "metadata": {},
   "outputs": [
    {
     "data": {
      "text/plain": [
       "np.int64(0)"
      ]
     },
     "execution_count": 36,
     "metadata": {},
     "output_type": "execute_result"
    }
   ],
   "source": [
    "df_llena['ESPÉCIE RECEITA'].isna().sum()"
   ]
  },
  {
   "cell_type": "markdown",
   "metadata": {},
   "source": [
    "*** Hemos tomado los datos nulos y los hemos sumado a la categoría de Sem información. De esta forma no asumimos la categoría ya que no tenemos la certeza de donde puede venir (varible categoría económica/variable origem receita/)\n",
    "\n",
    "*** Hemos imputado valores de las 6 primeras columnas (códigos-nombres) utilizando la forma de rellenar esa información haciendo uso de la relación que llevan coódigo-nombre. \n",
    "\n",
    "*** En las primeras 6 columnas pudieramos contemplar la posibilidad de abrir un nuevo valor (Sem informacion) debido a que aun habiendo imputado, quedan algunos datos nulos.\n",
    "    * Hemos decidido abrir esa alternativa.\n",
    "\n",
    "*** Hemos decidido eliminar la columna de 'Percentual Realizado' ya que decidimos hacer una columna nueva (Porcentaje Ejecutado). De esta forma pudimos sacar el porcentaje de manera manual, y recuperar unos 30,000 valores perdidos. \n",
    "\n"
   ]
  },
  {
   "cell_type": "code",
   "execution_count": 37,
   "metadata": {},
   "outputs": [
    {
     "data": {
      "text/plain": [
       "703720          Receita de Serviços\n",
       "227571          Receita de Serviços\n",
       "645024          Receita Patrimonial\n",
       "825190    Outras Receitas Correntes\n",
       "749471    Outras Receitas Correntes\n",
       "Name: ORIGEM RECEITA, dtype: object"
      ]
     },
     "execution_count": 37,
     "metadata": {},
     "output_type": "execute_result"
    }
   ],
   "source": [
    "df_llena['ORIGEM RECEITA'].sample(5)"
   ]
  },
  {
   "cell_type": "code",
   "execution_count": 38,
   "metadata": {},
   "outputs": [
    {
     "data": {
      "text/plain": [
       "array(['Outras Receitas Correntes', 'Receita de Serviços',\n",
       "       'Transferências de Capital', 'Alienação de Bens',\n",
       "       'Receita Agropecuária', 'Transferências Correntes',\n",
       "       'Receita Patrimonial', 'Operações de Crédito',\n",
       "       'Impostos, Taxas e Contribuições de Melhoria', 'Sem informação',\n",
       "       'Amortizações de Empréstimos', 'Contribuições',\n",
       "       'Receita Industrial', 'Outras Receitas de Capital',\n",
       "       'Receitas Correntes - a classificar'], dtype=object)"
      ]
     },
     "execution_count": 38,
     "metadata": {},
     "output_type": "execute_result"
    }
   ],
   "source": [
    "df_llena['ORIGEM RECEITA'].unique()"
   ]
  },
  {
   "cell_type": "code",
   "execution_count": 39,
   "metadata": {},
   "outputs": [
    {
     "data": {
      "text/plain": [
       "np.int64(32172)"
      ]
     },
     "execution_count": 39,
     "metadata": {},
     "output_type": "execute_result"
    }
   ],
   "source": [
    "a = df_llena['ESPÉCIE RECEITA'] == 'Sem informação'\n",
    "a.sum()"
   ]
  },
  {
   "cell_type": "code",
   "execution_count": 40,
   "metadata": {},
   "outputs": [
    {
     "data": {
      "text/plain": [
       "np.int64(994752)"
      ]
     },
     "execution_count": 40,
     "metadata": {},
     "output_type": "execute_result"
    }
   ],
   "source": [
    "a = df_llena['PERCENTUAL REALIZADO'] == 0\n",
    "a.sum()\n"
   ]
  },
  {
   "cell_type": "code",
   "execution_count": 41,
   "metadata": {},
   "outputs": [
    {
     "data": {
      "text/plain": [
       "(1026127,)"
      ]
     },
     "execution_count": 41,
     "metadata": {},
     "output_type": "execute_result"
    }
   ],
   "source": [
    "df_llena['PERCENTUAL REALIZADO'].shape"
   ]
  },
  {
   "cell_type": "code",
   "execution_count": 42,
   "metadata": {},
   "outputs": [
    {
     "data": {
      "text/plain": [
       "500701    0.0\n",
       "453579    0.0\n",
       "823175    0.0\n",
       "559346    0.0\n",
       "427256    0.0\n",
       "591587    0.0\n",
       "858652    0.0\n",
       "682546    0.0\n",
       "563496    0.0\n",
       "463149    0.0\n",
       "Name: PERCENTUAL REALIZADO, dtype: float64"
      ]
     },
     "execution_count": 42,
     "metadata": {},
     "output_type": "execute_result"
    }
   ],
   "source": [
    "df_llena['PERCENTUAL REALIZADO'].sample(10)"
   ]
  },
  {
   "cell_type": "code",
   "execution_count": 43,
   "metadata": {},
   "outputs": [
    {
     "data": {
      "text/plain": [
       "np.int64(20214)"
      ]
     },
     "execution_count": 43,
     "metadata": {},
     "output_type": "execute_result"
    }
   ],
   "source": [
    "b = df_llena['VALOR REALIZADO'] == 0\n",
    "b.sum()"
   ]
  },
  {
   "cell_type": "code",
   "execution_count": 44,
   "metadata": {},
   "outputs": [],
   "source": [
    "### divisor para el porcentaje\n",
    "c = df_llena['VALOR PREVISTO ATUALIZADO'] == 0"
   ]
  },
  {
   "cell_type": "code",
   "execution_count": 45,
   "metadata": {},
   "outputs": [
    {
     "data": {
      "text/plain": [
       "np.int64(955962)"
      ]
     },
     "execution_count": 45,
     "metadata": {},
     "output_type": "execute_result"
    }
   ],
   "source": [
    "c.sum()"
   ]
  },
  {
   "cell_type": "code",
   "execution_count": 46,
   "metadata": {},
   "outputs": [],
   "source": [
    "def calcular_porcentaje(realizado, previsto):\n",
    "    if pd.isna(realizado) or pd.isna(previsto):\n",
    "        return 0\n",
    "    try:\n",
    "        return (realizado / previsto) * 100 if previsto != 0 else 0\n",
    "    except Exception as e:\n",
    "        return 0\n",
    "\n",
    "df_llena['PORCENTAJE EJECUTADO'] = df_llena.apply(\n",
    "    lambda row: calcular_porcentaje(row['VALOR REALIZADO'], row['VALOR PREVISTO ATUALIZADO']),\n",
    "    axis=1\n",
    ")"
   ]
  },
  {
   "cell_type": "code",
   "execution_count": 47,
   "metadata": {},
   "outputs": [
    {
     "data": {
      "text/plain": [
       "CÓDIGO ÓRGÃO SUPERIOR            0\n",
       "NOME ÓRGÃO SUPERIOR              0\n",
       "CÓDIGO ÓRGÃO                     0\n",
       "NOME ÓRGÃO                       0\n",
       "CÓDIGO UNIDADE GESTORA           0\n",
       "NOME UNIDADE GESTORA             0\n",
       "CATEGORIA ECONÔMICA              0\n",
       "ORIGEM RECEITA                   0\n",
       "ESPÉCIE RECEITA                  0\n",
       "DETALHAMENTO                     0\n",
       "VALOR PREVISTO ATUALIZADO    51315\n",
       "VALOR LANÇADO                26419\n",
       "VALOR REALIZADO              39419\n",
       "PERCENTUAL REALIZADO         24134\n",
       "DATA LANÇAMENTO              23660\n",
       "ANO EXERCÍCIO                    0\n",
       "PORCENTAJE EJECUTADO             0\n",
       "dtype: int64"
      ]
     },
     "execution_count": 47,
     "metadata": {},
     "output_type": "execute_result"
    }
   ],
   "source": [
    "df_llena.isna().sum()"
   ]
  },
  {
   "cell_type": "code",
   "execution_count": 48,
   "metadata": {},
   "outputs": [],
   "source": [
    "df_llena.drop(columns= [\"PERCENTUAL REALIZADO\"], inplace= True)"
   ]
  },
  {
   "cell_type": "code",
   "execution_count": 49,
   "metadata": {},
   "outputs": [
    {
     "data": {
      "text/plain": [
       "np.int64(1017290)"
      ]
     },
     "execution_count": 49,
     "metadata": {},
     "output_type": "execute_result"
    }
   ],
   "source": [
    "m = df_llena['PORCENTAJE EJECUTADO'] == 0\n",
    "m.sum()"
   ]
  },
  {
   "cell_type": "code",
   "execution_count": 50,
   "metadata": {},
   "outputs": [
    {
     "data": {
      "text/plain": [
       "(1026127, 16)"
      ]
     },
     "execution_count": 50,
     "metadata": {},
     "output_type": "execute_result"
    }
   ],
   "source": [
    "df_llena.shape"
   ]
  },
  {
   "cell_type": "code",
   "execution_count": 51,
   "metadata": {},
   "outputs": [
    {
     "data": {
      "text/plain": [
       "CÓDIGO ÓRGÃO SUPERIOR            0\n",
       "NOME ÓRGÃO SUPERIOR              0\n",
       "CÓDIGO ÓRGÃO                     0\n",
       "NOME ÓRGÃO                       0\n",
       "CÓDIGO UNIDADE GESTORA           0\n",
       "NOME UNIDADE GESTORA             0\n",
       "CATEGORIA ECONÔMICA              0\n",
       "ORIGEM RECEITA                   0\n",
       "ESPÉCIE RECEITA                  0\n",
       "DETALHAMENTO                     0\n",
       "VALOR PREVISTO ATUALIZADO    51315\n",
       "VALOR LANÇADO                26419\n",
       "VALOR REALIZADO              39419\n",
       "DATA LANÇAMENTO              23660\n",
       "ANO EXERCÍCIO                    0\n",
       "PORCENTAJE EJECUTADO             0\n",
       "dtype: int64"
      ]
     },
     "execution_count": 51,
     "metadata": {},
     "output_type": "execute_result"
    }
   ],
   "source": [
    "df_llena.isna().sum()"
   ]
  },
  {
   "cell_type": "code",
   "execution_count": 52,
   "metadata": {},
   "outputs": [],
   "source": [
    "df_llena_sinnull = df_llena.dropna()"
   ]
  },
  {
   "cell_type": "code",
   "execution_count": 53,
   "metadata": {},
   "outputs": [
    {
     "data": {
      "text/plain": [
       "CÓDIGO ÓRGÃO SUPERIOR            0\n",
       "NOME ÓRGÃO SUPERIOR              0\n",
       "CÓDIGO ÓRGÃO                     0\n",
       "NOME ÓRGÃO                       0\n",
       "CÓDIGO UNIDADE GESTORA           0\n",
       "NOME UNIDADE GESTORA             0\n",
       "CATEGORIA ECONÔMICA              0\n",
       "ORIGEM RECEITA                   0\n",
       "ESPÉCIE RECEITA                  0\n",
       "DETALHAMENTO                     0\n",
       "VALOR PREVISTO ATUALIZADO    51315\n",
       "VALOR LANÇADO                26419\n",
       "VALOR REALIZADO              39419\n",
       "DATA LANÇAMENTO              23660\n",
       "ANO EXERCÍCIO                    0\n",
       "PORCENTAJE EJECUTADO             0\n",
       "dtype: int64"
      ]
     },
     "execution_count": 53,
     "metadata": {},
     "output_type": "execute_result"
    }
   ],
   "source": [
    "df_llena.isna().sum()"
   ]
  },
  {
   "cell_type": "markdown",
   "metadata": {},
   "source": [
    "*** Eliminación de nulos*** "
   ]
  },
  {
   "cell_type": "code",
   "execution_count": 54,
   "metadata": {},
   "outputs": [
    {
     "data": {
      "text/plain": [
       "CÓDIGO ÓRGÃO SUPERIOR        0\n",
       "NOME ÓRGÃO SUPERIOR          0\n",
       "CÓDIGO ÓRGÃO                 0\n",
       "NOME ÓRGÃO                   0\n",
       "CÓDIGO UNIDADE GESTORA       0\n",
       "NOME UNIDADE GESTORA         0\n",
       "CATEGORIA ECONÔMICA          0\n",
       "ORIGEM RECEITA               0\n",
       "ESPÉCIE RECEITA              0\n",
       "DETALHAMENTO                 0\n",
       "VALOR PREVISTO ATUALIZADO    0\n",
       "VALOR LANÇADO                0\n",
       "VALOR REALIZADO              0\n",
       "DATA LANÇAMENTO              0\n",
       "ANO EXERCÍCIO                0\n",
       "PORCENTAJE EJECUTADO         0\n",
       "dtype: int64"
      ]
     },
     "execution_count": 54,
     "metadata": {},
     "output_type": "execute_result"
    }
   ],
   "source": [
    "df_llena_sinnull.isna().sum()"
   ]
  },
  {
   "cell_type": "code",
   "execution_count": 55,
   "metadata": {},
   "outputs": [],
   "source": [
    "df_llena.to_csv(\"../datos/df_llena.csv\")\n"
   ]
  },
  {
   "cell_type": "code",
   "execution_count": 56,
   "metadata": {},
   "outputs": [],
   "source": [
    "df_llena_sinnull.to_csv(\"../datos/df_llena_sinnull.csv\")"
   ]
  },
  {
   "cell_type": "code",
   "execution_count": 57,
   "metadata": {},
   "outputs": [],
   "source": [
    "df_nonull_prueba = df_llena_sinnull.groupby('CATEGORIA ECONÔMICA')[['VALOR REALIZADO']].sum()"
   ]
  },
  {
   "cell_type": "code",
   "execution_count": 58,
   "metadata": {},
   "outputs": [
    {
     "data": {
      "text/html": [
       "<div>\n",
       "<style scoped>\n",
       "    .dataframe tbody tr th:only-of-type {\n",
       "        vertical-align: middle;\n",
       "    }\n",
       "\n",
       "    .dataframe tbody tr th {\n",
       "        vertical-align: top;\n",
       "    }\n",
       "\n",
       "    .dataframe thead th {\n",
       "        text-align: right;\n",
       "    }\n",
       "</style>\n",
       "<table border=\"1\" class=\"dataframe\">\n",
       "  <thead>\n",
       "    <tr style=\"text-align: right;\">\n",
       "      <th></th>\n",
       "      <th>VALOR REALIZADO</th>\n",
       "    </tr>\n",
       "    <tr>\n",
       "      <th>CATEGORIA ECONÔMICA</th>\n",
       "      <th></th>\n",
       "    </tr>\n",
       "  </thead>\n",
       "  <tbody>\n",
       "    <tr>\n",
       "      <th>Receitas Correntes</th>\n",
       "      <td>10709876136199.71</td>\n",
       "    </tr>\n",
       "    <tr>\n",
       "      <th>Receitas Correntes - intra-orçamentárias</th>\n",
       "      <td>264709125592.66</td>\n",
       "    </tr>\n",
       "    <tr>\n",
       "      <th>Receitas de Capital</th>\n",
       "      <td>11048919012876.93</td>\n",
       "    </tr>\n",
       "    <tr>\n",
       "      <th>Receitas de Capital - intra-orçamentárias</th>\n",
       "      <td>20096501112.78</td>\n",
       "    </tr>\n",
       "    <tr>\n",
       "      <th>Sem informação</th>\n",
       "      <td>293449378625.07</td>\n",
       "    </tr>\n",
       "  </tbody>\n",
       "</table>\n",
       "</div>"
      ],
      "text/plain": [
       "                                             VALOR REALIZADO\n",
       "CATEGORIA ECONÔMICA                                         \n",
       "Receitas Correntes                         10709876136199.71\n",
       "Receitas Correntes - intra-orçamentárias     264709125592.66\n",
       "Receitas de Capital                        11048919012876.93\n",
       "Receitas de Capital - intra-orçamentárias     20096501112.78\n",
       "Sem informação                               293449378625.07"
      ]
     },
     "execution_count": 58,
     "metadata": {},
     "output_type": "execute_result"
    }
   ],
   "source": [
    "df_nonull_prueba['VALOR REALIZADO'] = df_nonull_prueba['VALOR REALIZADO'].apply(lambda x: '{:.2f}'.format(x))\n",
    "\n",
    "df_nonull_prueba"
   ]
  },
  {
   "cell_type": "code",
   "execution_count": 59,
   "metadata": {},
   "outputs": [],
   "source": [
    "idx = df_llena[df_llena['NOME ÓRGÃO SUPERIOR'] == 'Sem informação'].index[0]\n",
    "df_llena.at[idx, 'NOME ÓRGÃO SUPERIOR'] = 'Advocacia-Geral da União'"
   ]
  },
  {
   "cell_type": "code",
   "execution_count": 60,
   "metadata": {},
   "outputs": [
    {
     "data": {
      "text/html": [
       "<div>\n",
       "<style scoped>\n",
       "    .dataframe tbody tr th:only-of-type {\n",
       "        vertical-align: middle;\n",
       "    }\n",
       "\n",
       "    .dataframe tbody tr th {\n",
       "        vertical-align: top;\n",
       "    }\n",
       "\n",
       "    .dataframe thead th {\n",
       "        text-align: right;\n",
       "    }\n",
       "</style>\n",
       "<table border=\"1\" class=\"dataframe\">\n",
       "  <thead>\n",
       "    <tr style=\"text-align: right;\">\n",
       "      <th></th>\n",
       "      <th>CÓDIGO ÓRGÃO SUPERIOR</th>\n",
       "      <th>NOME ÓRGÃO SUPERIOR</th>\n",
       "      <th>CÓDIGO ÓRGÃO</th>\n",
       "      <th>NOME ÓRGÃO</th>\n",
       "      <th>CÓDIGO UNIDADE GESTORA</th>\n",
       "      <th>NOME UNIDADE GESTORA</th>\n",
       "      <th>CATEGORIA ECONÔMICA</th>\n",
       "      <th>ORIGEM RECEITA</th>\n",
       "      <th>ESPÉCIE RECEITA</th>\n",
       "      <th>DETALHAMENTO</th>\n",
       "      <th>VALOR PREVISTO ATUALIZADO</th>\n",
       "      <th>VALOR LANÇADO</th>\n",
       "      <th>VALOR REALIZADO</th>\n",
       "      <th>DATA LANÇAMENTO</th>\n",
       "      <th>ANO EXERCÍCIO</th>\n",
       "      <th>PORCENTAJE EJECUTADO</th>\n",
       "    </tr>\n",
       "  </thead>\n",
       "  <tbody>\n",
       "    <tr>\n",
       "      <th>0</th>\n",
       "      <td>63000.0</td>\n",
       "      <td>Advocacia-Geral da União</td>\n",
       "      <td>63000.0</td>\n",
       "      <td>Advocacia-Geral da União - Unidades com víncul...</td>\n",
       "      <td>110060.0</td>\n",
       "      <td>COORD. GERAL DE ORC. FIN. E ANAL. CONT. - AGU</td>\n",
       "      <td>Receitas Correntes</td>\n",
       "      <td>Outras Receitas Correntes</td>\n",
       "      <td>Bens, Direitos e Valores Incorporados ao Patr</td>\n",
       "      <td>REC.DIVIDA ATIVA NAO TRIBUTARIA DE OUTRAS REC</td>\n",
       "      <td>0.0</td>\n",
       "      <td>0.0</td>\n",
       "      <td>1297.13</td>\n",
       "      <td>2013-12-31</td>\n",
       "      <td>2013</td>\n",
       "      <td>0.0</td>\n",
       "    </tr>\n",
       "  </tbody>\n",
       "</table>\n",
       "</div>"
      ],
      "text/plain": [
       "   CÓDIGO ÓRGÃO SUPERIOR       NOME ÓRGÃO SUPERIOR  CÓDIGO ÓRGÃO  \\\n",
       "0                63000.0  Advocacia-Geral da União       63000.0   \n",
       "\n",
       "                                          NOME ÓRGÃO  CÓDIGO UNIDADE GESTORA  \\\n",
       "0  Advocacia-Geral da União - Unidades com víncul...                110060.0   \n",
       "\n",
       "                            NOME UNIDADE GESTORA CATEGORIA ECONÔMICA  \\\n",
       "0  COORD. GERAL DE ORC. FIN. E ANAL. CONT. - AGU  Receitas Correntes   \n",
       "\n",
       "              ORIGEM RECEITA                                ESPÉCIE RECEITA  \\\n",
       "0  Outras Receitas Correntes  Bens, Direitos e Valores Incorporados ao Patr   \n",
       "\n",
       "                                    DETALHAMENTO  VALOR PREVISTO ATUALIZADO  \\\n",
       "0  REC.DIVIDA ATIVA NAO TRIBUTARIA DE OUTRAS REC                        0.0   \n",
       "\n",
       "   VALOR LANÇADO  VALOR REALIZADO DATA LANÇAMENTO  ANO EXERCÍCIO  \\\n",
       "0            0.0          1297.13      2013-12-31           2013   \n",
       "\n",
       "   PORCENTAJE EJECUTADO  \n",
       "0                   0.0  "
      ]
     },
     "execution_count": 60,
     "metadata": {},
     "output_type": "execute_result"
    }
   ],
   "source": [
    "df_llena.head(1)"
   ]
  },
  {
   "cell_type": "code",
   "execution_count": 61,
   "metadata": {},
   "outputs": [],
   "source": [
    "df_llena_sinnull.reset_index(drop=True, inplace=True)"
   ]
  },
  {
   "cell_type": "code",
   "execution_count": 62,
   "metadata": {},
   "outputs": [],
   "source": [
    "# en Git haced este comando:\n",
    "# git lfs install\n",
    "# os pondrá git lfs initialized\n",
    "# Iros a la carpeta de vuestro repo y poner:\n",
    "# git lfs track \"*.csv\"\n",
    "# os pondrá Tracking \"csv\"\n",
    "# Y ya haceís\n",
    "# git add .\n",
    "# git commit -m \"Tu mensaje favorito\"\n",
    "# git push\n",
    "# tarda un poco más pero vamos a mi me ha funcionado para subirlo"
   ]
  },
  {
   "cell_type": "markdown",
   "metadata": {},
   "source": [
    "* EDA"
   ]
  },
  {
   "cell_type": "code",
   "execution_count": 78,
   "metadata": {},
   "outputs": [
    {
     "name": "stdout",
     "output_type": "stream",
     "text": [
      "<class 'pandas.core.frame.DataFrame'>\n",
      "RangeIndex: 892276 entries, 0 to 892275\n",
      "Data columns (total 16 columns):\n",
      " #   Column                     Non-Null Count   Dtype         \n",
      "---  ------                     --------------   -----         \n",
      " 0   CÓDIGO ÓRGÃO SUPERIOR      892276 non-null  float64       \n",
      " 1   NOME ÓRGÃO SUPERIOR        892276 non-null  object        \n",
      " 2   CÓDIGO ÓRGÃO               892276 non-null  float64       \n",
      " 3   NOME ÓRGÃO                 892276 non-null  object        \n",
      " 4   CÓDIGO UNIDADE GESTORA     892276 non-null  float64       \n",
      " 5   NOME UNIDADE GESTORA       892276 non-null  object        \n",
      " 6   CATEGORIA ECONÔMICA        892276 non-null  object        \n",
      " 7   ORIGEM RECEITA             892276 non-null  object        \n",
      " 8   ESPÉCIE RECEITA            892276 non-null  object        \n",
      " 9   DETALHAMENTO               892276 non-null  object        \n",
      " 10  VALOR PREVISTO ATUALIZADO  892276 non-null  float64       \n",
      " 11  VALOR LANÇADO              892276 non-null  float64       \n",
      " 12  VALOR REALIZADO            892276 non-null  float64       \n",
      " 13  DATA LANÇAMENTO            892276 non-null  datetime64[ns]\n",
      " 14  ANO EXERCÍCIO              892276 non-null  int64         \n",
      " 15  PORCENTAJE EJECUTADO       892276 non-null  float64       \n",
      "dtypes: datetime64[ns](1), float64(7), int64(1), object(7)\n",
      "memory usage: 108.9+ MB\n"
     ]
    }
   ],
   "source": [
    "df_llena_sinnull.info()"
   ]
  },
  {
   "cell_type": "code",
   "execution_count": 79,
   "metadata": {},
   "outputs": [
    {
     "data": {
      "text/plain": [
       "(892276, 16)"
      ]
     },
     "execution_count": 79,
     "metadata": {},
     "output_type": "execute_result"
    }
   ],
   "source": [
    "df_llena_sinnull.shape"
   ]
  },
  {
   "cell_type": "code",
   "execution_count": 80,
   "metadata": {},
   "outputs": [
    {
     "data": {
      "text/plain": [
       "Index(['CÓDIGO ÓRGÃO SUPERIOR', 'NOME ÓRGÃO SUPERIOR', 'CÓDIGO ÓRGÃO',\n",
       "       'NOME ÓRGÃO', 'CÓDIGO UNIDADE GESTORA', 'NOME UNIDADE GESTORA',\n",
       "       'CATEGORIA ECONÔMICA', 'ORIGEM RECEITA', 'ESPÉCIE RECEITA',\n",
       "       'DETALHAMENTO', 'VALOR PREVISTO ATUALIZADO', 'VALOR LANÇADO',\n",
       "       'VALOR REALIZADO', 'DATA LANÇAMENTO', 'ANO EXERCÍCIO',\n",
       "       'PORCENTAJE EJECUTADO'],\n",
       "      dtype='object')"
      ]
     },
     "execution_count": 80,
     "metadata": {},
     "output_type": "execute_result"
    }
   ],
   "source": [
    "df_llena_sinnull.columns"
   ]
  },
  {
   "cell_type": "code",
   "execution_count": 81,
   "metadata": {},
   "outputs": [
    {
     "data": {
      "text/html": [
       "<div>\n",
       "<style scoped>\n",
       "    .dataframe tbody tr th:only-of-type {\n",
       "        vertical-align: middle;\n",
       "    }\n",
       "\n",
       "    .dataframe tbody tr th {\n",
       "        vertical-align: top;\n",
       "    }\n",
       "\n",
       "    .dataframe thead th {\n",
       "        text-align: right;\n",
       "    }\n",
       "</style>\n",
       "<table border=\"1\" class=\"dataframe\">\n",
       "  <thead>\n",
       "    <tr style=\"text-align: right;\">\n",
       "      <th></th>\n",
       "      <th>count</th>\n",
       "      <th>mean</th>\n",
       "      <th>min</th>\n",
       "      <th>25%</th>\n",
       "      <th>50%</th>\n",
       "      <th>75%</th>\n",
       "      <th>max</th>\n",
       "      <th>std</th>\n",
       "    </tr>\n",
       "  </thead>\n",
       "  <tbody>\n",
       "    <tr>\n",
       "      <th>CÓDIGO ÓRGÃO SUPERIOR</th>\n",
       "      <td>892276.0</td>\n",
       "      <td>31107.184324</td>\n",
       "      <td>0.0</td>\n",
       "      <td>25000.0</td>\n",
       "      <td>26000.0</td>\n",
       "      <td>36000.0</td>\n",
       "      <td>81000.0</td>\n",
       "      <td>11791.470156</td>\n",
       "    </tr>\n",
       "    <tr>\n",
       "      <th>CÓDIGO ÓRGÃO</th>\n",
       "      <td>892276.0</td>\n",
       "      <td>30669.240741</td>\n",
       "      <td>0.0</td>\n",
       "      <td>25000.0</td>\n",
       "      <td>26291.0</td>\n",
       "      <td>34902.0</td>\n",
       "      <td>91214.0</td>\n",
       "      <td>11363.09748</td>\n",
       "    </tr>\n",
       "    <tr>\n",
       "      <th>CÓDIGO UNIDADE GESTORA</th>\n",
       "      <td>892276.0</td>\n",
       "      <td>226846.177831</td>\n",
       "      <td>0.0</td>\n",
       "      <td>153167.0</td>\n",
       "      <td>168002.0</td>\n",
       "      <td>250088.0</td>\n",
       "      <td>913001.0</td>\n",
       "      <td>146200.593063</td>\n",
       "    </tr>\n",
       "    <tr>\n",
       "      <th>VALOR PREVISTO ATUALIZADO</th>\n",
       "      <td>892276.0</td>\n",
       "      <td>28699243.639438</td>\n",
       "      <td>-214773743.0</td>\n",
       "      <td>0.0</td>\n",
       "      <td>0.0</td>\n",
       "      <td>0.0</td>\n",
       "      <td>1603521711208.0</td>\n",
       "      <td>3590222820.179151</td>\n",
       "    </tr>\n",
       "    <tr>\n",
       "      <th>VALOR LANÇADO</th>\n",
       "      <td>892276.0</td>\n",
       "      <td>2886809.335874</td>\n",
       "      <td>-148347267246.910004</td>\n",
       "      <td>0.0</td>\n",
       "      <td>0.0</td>\n",
       "      <td>0.0</td>\n",
       "      <td>357160677863.969971</td>\n",
       "      <td>735083182.729464</td>\n",
       "    </tr>\n",
       "    <tr>\n",
       "      <th>VALOR REALIZADO</th>\n",
       "      <td>892276.0</td>\n",
       "      <td>25033790.166279</td>\n",
       "      <td>-156285934188.029999</td>\n",
       "      <td>263.25</td>\n",
       "      <td>3045.0</td>\n",
       "      <td>41162.38</td>\n",
       "      <td>771117711060.949951</td>\n",
       "      <td>1458431969.948495</td>\n",
       "    </tr>\n",
       "    <tr>\n",
       "      <th>DATA LANÇAMENTO</th>\n",
       "      <td>892276</td>\n",
       "      <td>2018-09-24 21:17:05.295311360</td>\n",
       "      <td>2013-12-31 00:00:00</td>\n",
       "      <td>2017-03-30 00:00:00</td>\n",
       "      <td>2018-09-05 00:00:00</td>\n",
       "      <td>2020-02-20 00:00:00</td>\n",
       "      <td>2021-12-03 00:00:00</td>\n",
       "      <td>NaN</td>\n",
       "    </tr>\n",
       "    <tr>\n",
       "      <th>ANO EXERCÍCIO</th>\n",
       "      <td>892276.0</td>\n",
       "      <td>2018.237367</td>\n",
       "      <td>2013.0</td>\n",
       "      <td>2017.0</td>\n",
       "      <td>2018.0</td>\n",
       "      <td>2020.0</td>\n",
       "      <td>2021.0</td>\n",
       "      <td>1.74351</td>\n",
       "    </tr>\n",
       "    <tr>\n",
       "      <th>PORCENTAJE EJECUTADO</th>\n",
       "      <td>892276.0</td>\n",
       "      <td>9.123469</td>\n",
       "      <td>-114551.929134</td>\n",
       "      <td>0.0</td>\n",
       "      <td>0.0</td>\n",
       "      <td>0.0</td>\n",
       "      <td>1873159.053435</td>\n",
       "      <td>2734.095689</td>\n",
       "    </tr>\n",
       "  </tbody>\n",
       "</table>\n",
       "</div>"
      ],
      "text/plain": [
       "                              count                           mean  \\\n",
       "CÓDIGO ÓRGÃO SUPERIOR      892276.0                   31107.184324   \n",
       "CÓDIGO ÓRGÃO               892276.0                   30669.240741   \n",
       "CÓDIGO UNIDADE GESTORA     892276.0                  226846.177831   \n",
       "VALOR PREVISTO ATUALIZADO  892276.0                28699243.639438   \n",
       "VALOR LANÇADO              892276.0                 2886809.335874   \n",
       "VALOR REALIZADO            892276.0                25033790.166279   \n",
       "DATA LANÇAMENTO              892276  2018-09-24 21:17:05.295311360   \n",
       "ANO EXERCÍCIO              892276.0                    2018.237367   \n",
       "PORCENTAJE EJECUTADO       892276.0                       9.123469   \n",
       "\n",
       "                                           min                  25%  \\\n",
       "CÓDIGO ÓRGÃO SUPERIOR                      0.0              25000.0   \n",
       "CÓDIGO ÓRGÃO                               0.0              25000.0   \n",
       "CÓDIGO UNIDADE GESTORA                     0.0             153167.0   \n",
       "VALOR PREVISTO ATUALIZADO         -214773743.0                  0.0   \n",
       "VALOR LANÇADO             -148347267246.910004                  0.0   \n",
       "VALOR REALIZADO           -156285934188.029999               263.25   \n",
       "DATA LANÇAMENTO            2013-12-31 00:00:00  2017-03-30 00:00:00   \n",
       "ANO EXERCÍCIO                           2013.0               2017.0   \n",
       "PORCENTAJE EJECUTADO            -114551.929134                  0.0   \n",
       "\n",
       "                                           50%                  75%  \\\n",
       "CÓDIGO ÓRGÃO SUPERIOR                  26000.0              36000.0   \n",
       "CÓDIGO ÓRGÃO                           26291.0              34902.0   \n",
       "CÓDIGO UNIDADE GESTORA                168002.0             250088.0   \n",
       "VALOR PREVISTO ATUALIZADO                  0.0                  0.0   \n",
       "VALOR LANÇADO                              0.0                  0.0   \n",
       "VALOR REALIZADO                         3045.0             41162.38   \n",
       "DATA LANÇAMENTO            2018-09-05 00:00:00  2020-02-20 00:00:00   \n",
       "ANO EXERCÍCIO                           2018.0               2020.0   \n",
       "PORCENTAJE EJECUTADO                       0.0                  0.0   \n",
       "\n",
       "                                           max                std  \n",
       "CÓDIGO ÓRGÃO SUPERIOR                  81000.0       11791.470156  \n",
       "CÓDIGO ÓRGÃO                           91214.0        11363.09748  \n",
       "CÓDIGO UNIDADE GESTORA                913001.0      146200.593063  \n",
       "VALOR PREVISTO ATUALIZADO      1603521711208.0  3590222820.179151  \n",
       "VALOR LANÇADO              357160677863.969971   735083182.729464  \n",
       "VALOR REALIZADO            771117711060.949951  1458431969.948495  \n",
       "DATA LANÇAMENTO            2021-12-03 00:00:00                NaN  \n",
       "ANO EXERCÍCIO                           2021.0            1.74351  \n",
       "PORCENTAJE EJECUTADO            1873159.053435        2734.095689  "
      ]
     },
     "execution_count": 81,
     "metadata": {},
     "output_type": "execute_result"
    }
   ],
   "source": [
    "df_llena_sinnull.describe().T"
   ]
  },
  {
   "cell_type": "code",
   "execution_count": 82,
   "metadata": {},
   "outputs": [
    {
     "data": {
      "text/html": [
       "<div>\n",
       "<style scoped>\n",
       "    .dataframe tbody tr th:only-of-type {\n",
       "        vertical-align: middle;\n",
       "    }\n",
       "\n",
       "    .dataframe tbody tr th {\n",
       "        vertical-align: top;\n",
       "    }\n",
       "\n",
       "    .dataframe thead th {\n",
       "        text-align: right;\n",
       "    }\n",
       "</style>\n",
       "<table border=\"1\" class=\"dataframe\">\n",
       "  <thead>\n",
       "    <tr style=\"text-align: right;\">\n",
       "      <th></th>\n",
       "      <th>NOME ÓRGÃO SUPERIOR</th>\n",
       "      <th>NOME ÓRGÃO</th>\n",
       "      <th>NOME UNIDADE GESTORA</th>\n",
       "      <th>CATEGORIA ECONÔMICA</th>\n",
       "      <th>ORIGEM RECEITA</th>\n",
       "      <th>ESPÉCIE RECEITA</th>\n",
       "      <th>DETALHAMENTO</th>\n",
       "    </tr>\n",
       "  </thead>\n",
       "  <tbody>\n",
       "    <tr>\n",
       "      <th>count</th>\n",
       "      <td>892276</td>\n",
       "      <td>892276</td>\n",
       "      <td>892276</td>\n",
       "      <td>892276</td>\n",
       "      <td>892276</td>\n",
       "      <td>892276</td>\n",
       "      <td>892276</td>\n",
       "    </tr>\n",
       "    <tr>\n",
       "      <th>unique</th>\n",
       "      <td>26</td>\n",
       "      <td>288</td>\n",
       "      <td>357</td>\n",
       "      <td>5</td>\n",
       "      <td>15</td>\n",
       "      <td>62</td>\n",
       "      <td>1865</td>\n",
       "    </tr>\n",
       "    <tr>\n",
       "      <th>top</th>\n",
       "      <td>Ministério da Educação</td>\n",
       "      <td>Ministério da Economia - Unidades com vínculo ...</td>\n",
       "      <td>SETORIAL ORCAMENTARIA E FINANCEIRA / ME</td>\n",
       "      <td>Receitas Correntes</td>\n",
       "      <td>Outras Receitas Correntes</td>\n",
       "      <td>Serviços Administrativos e Comerciais Gerais</td>\n",
       "      <td>SERV.ADMINISTRAT.E COMERCIAIS GERAIS-PRINC.</td>\n",
       "    </tr>\n",
       "    <tr>\n",
       "      <th>freq</th>\n",
       "      <td>304912</td>\n",
       "      <td>101192</td>\n",
       "      <td>92616</td>\n",
       "      <td>835888</td>\n",
       "      <td>270138</td>\n",
       "      <td>234291</td>\n",
       "      <td>134279</td>\n",
       "    </tr>\n",
       "  </tbody>\n",
       "</table>\n",
       "</div>"
      ],
      "text/plain": [
       "           NOME ÓRGÃO SUPERIOR  \\\n",
       "count                   892276   \n",
       "unique                      26   \n",
       "top     Ministério da Educação   \n",
       "freq                    304912   \n",
       "\n",
       "                                               NOME ÓRGÃO  \\\n",
       "count                                              892276   \n",
       "unique                                                288   \n",
       "top     Ministério da Economia - Unidades com vínculo ...   \n",
       "freq                                               101192   \n",
       "\n",
       "                           NOME UNIDADE GESTORA CATEGORIA ECONÔMICA  \\\n",
       "count                                    892276              892276   \n",
       "unique                                      357                   5   \n",
       "top     SETORIAL ORCAMENTARIA E FINANCEIRA / ME  Receitas Correntes   \n",
       "freq                                      92616              835888   \n",
       "\n",
       "                   ORIGEM RECEITA  \\\n",
       "count                      892276   \n",
       "unique                         15   \n",
       "top     Outras Receitas Correntes   \n",
       "freq                       270138   \n",
       "\n",
       "                                     ESPÉCIE RECEITA  \\\n",
       "count                                         892276   \n",
       "unique                                            62   \n",
       "top     Serviços Administrativos e Comerciais Gerais   \n",
       "freq                                          234291   \n",
       "\n",
       "                                       DETALHAMENTO  \n",
       "count                                        892276  \n",
       "unique                                         1865  \n",
       "top     SERV.ADMINISTRAT.E COMERCIAIS GERAIS-PRINC.  \n",
       "freq                                         134279  "
      ]
     },
     "execution_count": 82,
     "metadata": {},
     "output_type": "execute_result"
    }
   ],
   "source": [
    "df_llena_sinnull.describe(include=\"O\")"
   ]
  },
  {
   "cell_type": "code",
   "execution_count": 83,
   "metadata": {},
   "outputs": [
    {
     "data": {
      "text/plain": [
       "CATEGORIA ECONÔMICA\n",
       "Receitas Correntes                           93.680431\n",
       "Receitas de Capital                           2.871645\n",
       "Sem informação                                1.885291\n",
       "Receitas Correntes - intra-orçamentárias      1.553331\n",
       "Receitas de Capital - intra-orçamentárias     0.009302\n",
       "Name: proportion, dtype: float64"
      ]
     },
     "execution_count": 83,
     "metadata": {},
     "output_type": "execute_result"
    }
   ],
   "source": [
    "df_llena_sinnull['CATEGORIA ECONÔMICA'].value_counts(normalize=True) * 100"
   ]
  },
  {
   "cell_type": "code",
   "execution_count": 84,
   "metadata": {},
   "outputs": [
    {
     "data": {
      "text/plain": [
       "ANO EXERCÍCIO\n",
       "2016    172018\n",
       "2017    159956\n",
       "2019    153918\n",
       "2018    149878\n",
       "2020    127093\n",
       "2021    117892\n",
       "2015      3895\n",
       "2014      3824\n",
       "2013      3802\n",
       "Name: count, dtype: int64"
      ]
     },
     "execution_count": 84,
     "metadata": {},
     "output_type": "execute_result"
    }
   ],
   "source": [
    "df_llena_sinnull['ANO EXERCÍCIO'].value_counts().sort_values(ascending=False)"
   ]
  },
  {
   "cell_type": "code",
   "execution_count": 85,
   "metadata": {},
   "outputs": [
    {
     "data": {
      "text/plain": [
       "ANO EXERCÍCIO\n",
       "2016    19.278564\n",
       "2017    17.926740\n",
       "2019    17.250044\n",
       "2018    16.797269\n",
       "2020    14.243687\n",
       "2021    13.212504\n",
       "2015     0.436524\n",
       "2014     0.428567\n",
       "2013     0.426101\n",
       "Name: proportion, dtype: float64"
      ]
     },
     "execution_count": 85,
     "metadata": {},
     "output_type": "execute_result"
    }
   ],
   "source": [
    "df_llena_sinnull['ANO EXERCÍCIO'].value_counts(normalize=True) * 100"
   ]
  },
  {
   "cell_type": "code",
   "execution_count": 86,
   "metadata": {},
   "outputs": [
    {
     "data": {
      "text/plain": [
       "count    8.922760e+05\n",
       "mean     9.123469e+00\n",
       "std      2.734096e+03\n",
       "min     -1.145519e+05\n",
       "25%      0.000000e+00\n",
       "50%      0.000000e+00\n",
       "75%      0.000000e+00\n",
       "max      1.873159e+06\n",
       "Name: PORCENTAJE EJECUTADO, dtype: float64"
      ]
     },
     "execution_count": 86,
     "metadata": {},
     "output_type": "execute_result"
    }
   ],
   "source": [
    "df_llena_sinnull['PORCENTAJE EJECUTADO'].describe().T"
   ]
  },
  {
   "cell_type": "markdown",
   "metadata": {},
   "source": [
    "*** data frame corrupción ***\n",
    "* Aquí tenemos el funcionamiento de latinoamérica, distribuido en 3 momentos:\n",
    "- Valor Previsto Actualizado es lo que el gobierno prevee como ingreso\n",
    "- Valor Lanzado es lo que se presenta en los libros, lo que se contabiliza como esperado.\n",
    "- Valor Realizado fue lo que realmente se consiguió como ingresos.\n",
    "\n",
    "* Esto quiere decir que el gobierno apuntaba a una recolección de ingresos alta, sin embargo hizo una declaración baja sobre lo esperado (incluso blaqueó algunas cifras) y se consiguió que la realidad de ingresos fuese cercana a esa primera estimación.\n",
    "\n",
    "* Valor Realizado - valor Lanzado es la corrupción."
   ]
  },
  {
   "cell_type": "code",
   "execution_count": 87,
   "metadata": {},
   "outputs": [
    {
     "data": {
      "text/html": [
       "<div>\n",
       "<style scoped>\n",
       "    .dataframe tbody tr th:only-of-type {\n",
       "        vertical-align: middle;\n",
       "    }\n",
       "\n",
       "    .dataframe tbody tr th {\n",
       "        vertical-align: top;\n",
       "    }\n",
       "\n",
       "    .dataframe thead th {\n",
       "        text-align: right;\n",
       "    }\n",
       "</style>\n",
       "<table border=\"1\" class=\"dataframe\">\n",
       "  <thead>\n",
       "    <tr style=\"text-align: right;\">\n",
       "      <th></th>\n",
       "      <th>VALOR PREVISTO ATUALIZADO</th>\n",
       "      <th>VALOR LANÇADO</th>\n",
       "      <th>VALOR REALIZADO</th>\n",
       "    </tr>\n",
       "    <tr>\n",
       "      <th>CATEGORIA ECONÔMICA</th>\n",
       "      <th></th>\n",
       "      <th></th>\n",
       "      <th></th>\n",
       "    </tr>\n",
       "  </thead>\n",
       "  <tbody>\n",
       "    <tr>\n",
       "      <th>Receitas Correntes</th>\n",
       "      <td>1.120166e+13</td>\n",
       "      <td>2.409271e+12</td>\n",
       "      <td>1.070988e+13</td>\n",
       "    </tr>\n",
       "    <tr>\n",
       "      <th>Receitas Correntes - intra-orçamentárias</th>\n",
       "      <td>2.462382e+11</td>\n",
       "      <td>0.000000e+00</td>\n",
       "      <td>2.647091e+11</td>\n",
       "    </tr>\n",
       "    <tr>\n",
       "      <th>Receitas de Capital</th>\n",
       "      <td>1.313770e+13</td>\n",
       "      <td>2.513003e+05</td>\n",
       "      <td>1.104892e+13</td>\n",
       "    </tr>\n",
       "    <tr>\n",
       "      <th>Receitas de Capital - intra-orçamentárias</th>\n",
       "      <td>1.080841e+10</td>\n",
       "      <td>0.000000e+00</td>\n",
       "      <td>2.009650e+10</td>\n",
       "    </tr>\n",
       "    <tr>\n",
       "      <th>Sem informação</th>\n",
       "      <td>1.011239e+12</td>\n",
       "      <td>1.665599e+11</td>\n",
       "      <td>2.934494e+11</td>\n",
       "    </tr>\n",
       "  </tbody>\n",
       "</table>\n",
       "</div>"
      ],
      "text/plain": [
       "                                           VALOR PREVISTO ATUALIZADO  \\\n",
       "CATEGORIA ECONÔMICA                                                    \n",
       "Receitas Correntes                                      1.120166e+13   \n",
       "Receitas Correntes - intra-orçamentárias                2.462382e+11   \n",
       "Receitas de Capital                                     1.313770e+13   \n",
       "Receitas de Capital - intra-orçamentárias               1.080841e+10   \n",
       "Sem informação                                          1.011239e+12   \n",
       "\n",
       "                                           VALOR LANÇADO  VALOR REALIZADO  \n",
       "CATEGORIA ECONÔMICA                                                        \n",
       "Receitas Correntes                          2.409271e+12     1.070988e+13  \n",
       "Receitas Correntes - intra-orçamentárias    0.000000e+00     2.647091e+11  \n",
       "Receitas de Capital                         2.513003e+05     1.104892e+13  \n",
       "Receitas de Capital - intra-orçamentárias   0.000000e+00     2.009650e+10  \n",
       "Sem informação                              1.665599e+11     2.934494e+11  "
      ]
     },
     "execution_count": 87,
     "metadata": {},
     "output_type": "execute_result"
    }
   ],
   "source": [
    "df_prueba = df_llena_sinnull.groupby('CATEGORIA ECONÔMICA')[['VALOR PREVISTO ATUALIZADO', 'VALOR LANÇADO', 'VALOR REALIZADO']].sum()\n",
    "df_prueba\n"
   ]
  },
  {
   "cell_type": "code",
   "execution_count": 88,
   "metadata": {},
   "outputs": [
    {
     "data": {
      "text/html": [
       "<div>\n",
       "<style scoped>\n",
       "    .dataframe tbody tr th:only-of-type {\n",
       "        vertical-align: middle;\n",
       "    }\n",
       "\n",
       "    .dataframe tbody tr th {\n",
       "        vertical-align: top;\n",
       "    }\n",
       "\n",
       "    .dataframe thead th {\n",
       "        text-align: right;\n",
       "    }\n",
       "</style>\n",
       "<table border=\"1\" class=\"dataframe\">\n",
       "  <thead>\n",
       "    <tr style=\"text-align: right;\">\n",
       "      <th></th>\n",
       "      <th>VALOR LANÇADO</th>\n",
       "    </tr>\n",
       "    <tr>\n",
       "      <th>CATEGORIA ECONÔMICA</th>\n",
       "      <th></th>\n",
       "    </tr>\n",
       "  </thead>\n",
       "  <tbody>\n",
       "    <tr>\n",
       "      <th>Receitas Correntes</th>\n",
       "      <td>2409270503205.02</td>\n",
       "    </tr>\n",
       "    <tr>\n",
       "      <th>Receitas Correntes - intra-orçamentárias</th>\n",
       "      <td>0.00</td>\n",
       "    </tr>\n",
       "    <tr>\n",
       "      <th>Receitas de Capital</th>\n",
       "      <td>251300.27</td>\n",
       "    </tr>\n",
       "    <tr>\n",
       "      <th>Receitas de Capital - intra-orçamentárias</th>\n",
       "      <td>0.00</td>\n",
       "    </tr>\n",
       "    <tr>\n",
       "      <th>Sem informação</th>\n",
       "      <td>166559932471.19</td>\n",
       "    </tr>\n",
       "  </tbody>\n",
       "</table>\n",
       "</div>"
      ],
      "text/plain": [
       "                                              VALOR LANÇADO\n",
       "CATEGORIA ECONÔMICA                                        \n",
       "Receitas Correntes                         2409270503205.02\n",
       "Receitas Correntes - intra-orçamentárias               0.00\n",
       "Receitas de Capital                               251300.27\n",
       "Receitas de Capital - intra-orçamentárias              0.00\n",
       "Sem informação                              166559932471.19"
      ]
     },
     "execution_count": 88,
     "metadata": {},
     "output_type": "execute_result"
    }
   ],
   "source": [
    "df_prueba2 = df_llena_sinnull.groupby('CATEGORIA ECONÔMICA')[['VALOR LANÇADO']].sum()\n",
    "\n",
    "df_prueba2['VALOR LANÇADO'] = df_prueba2['VALOR LANÇADO'].apply(lambda x: '{:.2f}'.format(x))\n",
    "\n",
    "df_prueba2"
   ]
  },
  {
   "cell_type": "code",
   "execution_count": 89,
   "metadata": {},
   "outputs": [
    {
     "data": {
      "text/html": [
       "<div>\n",
       "<style scoped>\n",
       "    .dataframe tbody tr th:only-of-type {\n",
       "        vertical-align: middle;\n",
       "    }\n",
       "\n",
       "    .dataframe tbody tr th {\n",
       "        vertical-align: top;\n",
       "    }\n",
       "\n",
       "    .dataframe thead th {\n",
       "        text-align: right;\n",
       "    }\n",
       "</style>\n",
       "<table border=\"1\" class=\"dataframe\">\n",
       "  <thead>\n",
       "    <tr style=\"text-align: right;\">\n",
       "      <th></th>\n",
       "      <th>VALOR PREVISTO ATUALIZADO</th>\n",
       "    </tr>\n",
       "    <tr>\n",
       "      <th>CATEGORIA ECONÔMICA</th>\n",
       "      <th></th>\n",
       "    </tr>\n",
       "  </thead>\n",
       "  <tbody>\n",
       "    <tr>\n",
       "      <th>Receitas Correntes</th>\n",
       "      <td>11201661418830.69</td>\n",
       "    </tr>\n",
       "    <tr>\n",
       "      <th>Receitas Correntes - intra-orçamentárias</th>\n",
       "      <td>246238213712.00</td>\n",
       "    </tr>\n",
       "    <tr>\n",
       "      <th>Receitas de Capital</th>\n",
       "      <td>13137699512541.40</td>\n",
       "    </tr>\n",
       "    <tr>\n",
       "      <th>Receitas de Capital - intra-orçamentárias</th>\n",
       "      <td>10808411537.00</td>\n",
       "    </tr>\n",
       "    <tr>\n",
       "      <th>Sem informação</th>\n",
       "      <td>1011238761002.19</td>\n",
       "    </tr>\n",
       "  </tbody>\n",
       "</table>\n",
       "</div>"
      ],
      "text/plain": [
       "                                          VALOR PREVISTO ATUALIZADO\n",
       "CATEGORIA ECONÔMICA                                                \n",
       "Receitas Correntes                                11201661418830.69\n",
       "Receitas Correntes - intra-orçamentárias            246238213712.00\n",
       "Receitas de Capital                               13137699512541.40\n",
       "Receitas de Capital - intra-orçamentárias            10808411537.00\n",
       "Sem informação                                     1011238761002.19"
      ]
     },
     "execution_count": 89,
     "metadata": {},
     "output_type": "execute_result"
    }
   ],
   "source": [
    "df_prueba1 = df_llena_sinnull.groupby('CATEGORIA ECONÔMICA')[['VALOR PREVISTO ATUALIZADO']].sum()\n",
    "\n",
    "df_prueba1['VALOR PREVISTO ATUALIZADO'] = df_prueba1['VALOR PREVISTO ATUALIZADO'].apply(lambda x: '{:.2f}'.format(x))\n",
    "\n",
    "df_prueba1"
   ]
  },
  {
   "cell_type": "code",
   "execution_count": 90,
   "metadata": {},
   "outputs": [
    {
     "data": {
      "text/html": [
       "<div>\n",
       "<style scoped>\n",
       "    .dataframe tbody tr th:only-of-type {\n",
       "        vertical-align: middle;\n",
       "    }\n",
       "\n",
       "    .dataframe tbody tr th {\n",
       "        vertical-align: top;\n",
       "    }\n",
       "\n",
       "    .dataframe thead th {\n",
       "        text-align: right;\n",
       "    }\n",
       "</style>\n",
       "<table border=\"1\" class=\"dataframe\">\n",
       "  <thead>\n",
       "    <tr style=\"text-align: right;\">\n",
       "      <th></th>\n",
       "      <th>VALOR REALIZADO</th>\n",
       "    </tr>\n",
       "    <tr>\n",
       "      <th>CATEGORIA ECONÔMICA</th>\n",
       "      <th></th>\n",
       "    </tr>\n",
       "  </thead>\n",
       "  <tbody>\n",
       "    <tr>\n",
       "      <th>Receitas Correntes</th>\n",
       "      <td>10709876136199.71</td>\n",
       "    </tr>\n",
       "    <tr>\n",
       "      <th>Receitas Correntes - intra-orçamentárias</th>\n",
       "      <td>264709125592.66</td>\n",
       "    </tr>\n",
       "    <tr>\n",
       "      <th>Receitas de Capital</th>\n",
       "      <td>11048919012876.93</td>\n",
       "    </tr>\n",
       "    <tr>\n",
       "      <th>Receitas de Capital - intra-orçamentárias</th>\n",
       "      <td>20096501112.78</td>\n",
       "    </tr>\n",
       "    <tr>\n",
       "      <th>Sem informação</th>\n",
       "      <td>293449378625.07</td>\n",
       "    </tr>\n",
       "  </tbody>\n",
       "</table>\n",
       "</div>"
      ],
      "text/plain": [
       "                                             VALOR REALIZADO\n",
       "CATEGORIA ECONÔMICA                                         \n",
       "Receitas Correntes                         10709876136199.71\n",
       "Receitas Correntes - intra-orçamentárias     264709125592.66\n",
       "Receitas de Capital                        11048919012876.93\n",
       "Receitas de Capital - intra-orçamentárias     20096501112.78\n",
       "Sem informação                               293449378625.07"
      ]
     },
     "execution_count": 90,
     "metadata": {},
     "output_type": "execute_result"
    }
   ],
   "source": [
    "df_prueba3 = df_llena_sinnull.groupby('CATEGORIA ECONÔMICA')[['VALOR REALIZADO']].sum()\n",
    "\n",
    "df_prueba3['VALOR REALIZADO'] = df_prueba3['VALOR REALIZADO'].apply(lambda x: '{:.2f}'.format(x))\n",
    "\n",
    "df_prueba3"
   ]
  }
 ],
 "metadata": {
  "kernelspec": {
   "display_name": "Python 3",
   "language": "python",
   "name": "python3"
  },
  "language_info": {
   "codemirror_mode": {
    "name": "ipython",
    "version": 3
   },
   "file_extension": ".py",
   "mimetype": "text/x-python",
   "name": "python",
   "nbconvert_exporter": "python",
   "pygments_lexer": "ipython3",
   "version": "3.11.9"
  }
 },
 "nbformat": 4,
 "nbformat_minor": 2
}
